{
 "cells": [
  {
   "cell_type": "markdown",
   "id": "b385e9aa",
   "metadata": {},
   "source": [
    "# Strings in python"
   ]
  },
  {
   "cell_type": "code",
   "execution_count": 2,
   "id": "44a9c4fa",
   "metadata": {},
   "outputs": [],
   "source": [
    "a = \"Chirag\""
   ]
  },
  {
   "cell_type": "code",
   "execution_count": 3,
   "id": "6809fdff",
   "metadata": {},
   "outputs": [
    {
     "data": {
      "text/plain": [
       "'Chirag'"
      ]
     },
     "execution_count": 3,
     "metadata": {},
     "output_type": "execute_result"
    }
   ],
   "source": [
    "a"
   ]
  },
  {
   "cell_type": "code",
   "execution_count": 5,
   "id": "ce8ce7d6",
   "metadata": {},
   "outputs": [],
   "source": [
    "a = \"\"\"my\n",
    "name is\n",
    "chirag.\"\"\""
   ]
  },
  {
   "cell_type": "code",
   "execution_count": 6,
   "id": "edd0011a",
   "metadata": {},
   "outputs": [
    {
     "data": {
      "text/plain": [
       "'my\\nname is\\nchirag.'"
      ]
     },
     "execution_count": 6,
     "metadata": {},
     "output_type": "execute_result"
    }
   ],
   "source": [
    "a"
   ]
  },
  {
   "cell_type": "code",
   "execution_count": 8,
   "id": "4667994a",
   "metadata": {},
   "outputs": [],
   "source": [
    "a=\"Chirag\""
   ]
  },
  {
   "cell_type": "code",
   "execution_count": 9,
   "id": "10b9030b",
   "metadata": {},
   "outputs": [
    {
     "data": {
      "text/plain": [
       "'r'"
      ]
     },
     "execution_count": 9,
     "metadata": {},
     "output_type": "execute_result"
    }
   ],
   "source": [
    "a[3]"
   ]
  },
  {
   "cell_type": "markdown",
   "id": "31e92192",
   "metadata": {},
   "source": [
    "### strings are inmutable"
   ]
  },
  {
   "cell_type": "code",
   "execution_count": 10,
   "id": "d10b789b",
   "metadata": {},
   "outputs": [
    {
     "ename": "TypeError",
     "evalue": "'str' object does not support item assignment",
     "output_type": "error",
     "traceback": [
      "\u001b[1;31m---------------------------------------------------------------------------\u001b[0m",
      "\u001b[1;31mTypeError\u001b[0m                                 Traceback (most recent call last)",
      "\u001b[1;32m~\\AppData\\Local\\Temp/ipykernel_24080/1808529596.py\u001b[0m in \u001b[0;36m<module>\u001b[1;34m\u001b[0m\n\u001b[1;32m----> 1\u001b[1;33m \u001b[0ma\u001b[0m\u001b[1;33m[\u001b[0m\u001b[1;36m3\u001b[0m\u001b[1;33m]\u001b[0m \u001b[1;33m=\u001b[0m \u001b[1;34m\"c\"\u001b[0m\u001b[1;33m\u001b[0m\u001b[1;33m\u001b[0m\u001b[0m\n\u001b[0m",
      "\u001b[1;31mTypeError\u001b[0m: 'str' object does not support item assignment"
     ]
    }
   ],
   "source": [
    "a[3] = \"c\""
   ]
  },
  {
   "cell_type": "markdown",
   "id": "8e7a0318",
   "metadata": {},
   "source": [
    "# concatination of string"
   ]
  },
  {
   "cell_type": "code",
   "execution_count": 14,
   "id": "378dc5d8",
   "metadata": {},
   "outputs": [
    {
     "data": {
      "text/plain": [
       "'redblue'"
      ]
     },
     "execution_count": 14,
     "metadata": {},
     "output_type": "execute_result"
    }
   ],
   "source": [
    "a = \"red\"\n",
    "a = a + \"blue\"\n",
    "a"
   ]
  },
  {
   "cell_type": "code",
   "execution_count": 16,
   "id": "9579ae25",
   "metadata": {},
   "outputs": [
    {
     "data": {
      "text/plain": [
       "'redblueredblueredblueredblue'"
      ]
     },
     "execution_count": 16,
     "metadata": {},
     "output_type": "execute_result"
    }
   ],
   "source": [
    "a = a * 2\n",
    "a"
   ]
  },
  {
   "cell_type": "code",
   "execution_count": 18,
   "id": "0b9d3cff",
   "metadata": {},
   "outputs": [
    {
     "data": {
      "text/plain": [
       "'redblueredblueredblueredbluegreengreen'"
      ]
     },
     "execution_count": 18,
     "metadata": {},
     "output_type": "execute_result"
    }
   ],
   "source": [
    "a += \"green\"\n",
    "a"
   ]
  },
  {
   "cell_type": "code",
   "execution_count": 19,
   "id": "8209730a",
   "metadata": {},
   "outputs": [
    {
     "ename": "TypeError",
     "evalue": "can only concatenate str (not \"int\") to str",
     "output_type": "error",
     "traceback": [
      "\u001b[1;31m---------------------------------------------------------------------------\u001b[0m",
      "\u001b[1;31mTypeError\u001b[0m                                 Traceback (most recent call last)",
      "\u001b[1;32m~\\AppData\\Local\\Temp/ipykernel_24080/383131237.py\u001b[0m in \u001b[0;36m<module>\u001b[1;34m\u001b[0m\n\u001b[1;32m----> 1\u001b[1;33m \u001b[0ma\u001b[0m \u001b[1;33m+=\u001b[0m \u001b[1;36m2\u001b[0m\u001b[1;33m\u001b[0m\u001b[1;33m\u001b[0m\u001b[0m\n\u001b[0m",
      "\u001b[1;31mTypeError\u001b[0m: can only concatenate str (not \"int\") to str"
     ]
    }
   ],
   "source": [
    "a += 2"
   ]
  },
  {
   "cell_type": "code",
   "execution_count": 41,
   "id": "1ca32bfb",
   "metadata": {},
   "outputs": [
    {
     "data": {
      "text/plain": [
       "321"
      ]
     },
     "execution_count": 41,
     "metadata": {},
     "output_type": "execute_result"
    }
   ],
   "source": [
    "a = 123\n",
    "temp = a\n",
    "rev = 0\n",
    "while temp != 0:\n",
    "    rev = (rev * 10) + (temp % 10)\n",
    "    temp = temp // 10\n",
    "rev"
   ]
  },
  {
   "cell_type": "code",
   "execution_count": 38,
   "id": "c1ce1fe6",
   "metadata": {},
   "outputs": [
    {
     "name": "stdout",
     "output_type": "stream",
     "text": [
      "3\n",
      "12\n"
     ]
    }
   ],
   "source": [
    "x = a % 10\n",
    "print(x)\n",
    "y = a // 10\n",
    "print(y)"
   ]
  },
  {
   "cell_type": "markdown",
   "id": "63084191",
   "metadata": {},
   "source": [
    "# Iterating in list"
   ]
  },
  {
   "cell_type": "code",
   "execution_count": 43,
   "id": "7e0fa4bf",
   "metadata": {},
   "outputs": [
    {
     "name": "stdout",
     "output_type": "stream",
     "text": [
      "h\n",
      "e\n",
      "l\n",
      "l\n",
      "o\n",
      " \n",
      "w\n",
      "o\n",
      "r\n",
      "l\n",
      "d\n"
     ]
    }
   ],
   "source": [
    "x = \"hello world\"\n",
    "for i in range(len(x)):\n",
    "    print(x[i])"
   ]
  },
  {
   "cell_type": "code",
   "execution_count": 46,
   "id": "1de8e443",
   "metadata": {},
   "outputs": [
    {
     "data": {
      "text/plain": [
       "3"
      ]
     },
     "execution_count": 46,
     "metadata": {},
     "output_type": "execute_result"
    }
   ],
   "source": [
    "count = 0\n",
    "for i in x:\n",
    "    if i == \"l\":\n",
    "        count = count + 1\n",
    "count"
   ]
  },
  {
   "cell_type": "code",
   "execution_count": 52,
   "id": "eb702e9f",
   "metadata": {},
   "outputs": [
    {
     "name": "stdout",
     "output_type": "stream",
     "text": [
      "no\n"
     ]
    }
   ],
   "source": [
    "for i in range(len(x)):\n",
    "    if \"lli\" in x:\n",
    "        print(\"yes\")\n",
    "        break\n",
    "    else:\n",
    "        print(\"no\")\n",
    "        break"
   ]
  },
  {
   "cell_type": "code",
   "execution_count": 53,
   "id": "c8b5b3bb",
   "metadata": {},
   "outputs": [
    {
     "data": {
      "text/plain": [
       "'hello world'"
      ]
     },
     "execution_count": 53,
     "metadata": {},
     "output_type": "execute_result"
    }
   ],
   "source": [
    "x"
   ]
  },
  {
   "cell_type": "markdown",
   "id": "e4baa61c",
   "metadata": {},
   "source": [
    "# pallindrume in string"
   ]
  },
  {
   "cell_type": "code",
   "execution_count": 61,
   "id": "75ee9951",
   "metadata": {},
   "outputs": [
    {
     "name": "stdout",
     "output_type": "stream",
     "text": [
      "true\n"
     ]
    }
   ],
   "source": [
    "x = \"abcdcba\"\n",
    "left = 0\n",
    "right = len(x) - 1\n",
    "while left < right:\n",
    "    if x[left] != x[right]:\n",
    "        print(\"false\")\n",
    "        left +=1\n",
    "        right -=1\n",
    "        break\n",
    "    else:\n",
    "        print(\"true\")\n",
    "        break"
   ]
  },
  {
   "cell_type": "code",
   "execution_count": 1,
   "id": "1f757a84",
   "metadata": {},
   "outputs": [
    {
     "name": "stdout",
     "output_type": "stream",
     "text": [
      "321\n"
     ]
    }
   ],
   "source": [
    "x = 123\n",
    "rev = 0 \n",
    "temp = x\n",
    "while temp !=0:\n",
    "    rev = (rev * 10) + (temp % 10)\n",
    "    temp = temp // 10\n",
    "print(rev)"
   ]
  },
  {
   "cell_type": "markdown",
   "id": "f042e2fe",
   "metadata": {},
   "source": [
    "# Replase The caractor in string"
   ]
  },
  {
   "cell_type": "code",
   "execution_count": 3,
   "id": "024585f3",
   "metadata": {},
   "outputs": [
    {
     "name": "stdout",
     "output_type": "stream",
     "text": [
      "eebcdeee\n"
     ]
    }
   ],
   "source": [
    "str1 = \"aabcdaea\"\n",
    "change = \"e\"\n",
    "match = \"a\"\n",
    "str2 = \"\"\n",
    "for i in range(len(str1)):\n",
    "    if str1[i] == match:\n",
    "        str2 = str2 + change\n",
    "    else:\n",
    "        str2 = str2 + str1[i]\n",
    "print(str2)"
   ]
  },
  {
   "cell_type": "code",
   "execution_count": 4,
   "id": "deb41e6b",
   "metadata": {},
   "outputs": [],
   "source": [
    "def replaseCharector(str1,match,change):\n",
    "    str2 = \"\"\n",
    "    for i in range(len(str1)):\n",
    "        if str1[i] == match:\n",
    "            str2 += change\n",
    "        else:\n",
    "            str2 += str1[i]\n",
    "    return str2"
   ]
  },
  {
   "cell_type": "code",
   "execution_count": 6,
   "id": "7bf9464e",
   "metadata": {},
   "outputs": [
    {
     "name": "stdout",
     "output_type": "stream",
     "text": [
      "eebcdeee\n"
     ]
    }
   ],
   "source": [
    "str1 = \"aabcdaea\"\n",
    "change = \"e\"\n",
    "match = \"a\"\n",
    "ans = replaseCharector(str1,match,change)\n",
    "print(ans)"
   ]
  },
  {
   "cell_type": "markdown",
   "id": "a85a841c",
   "metadata": {},
   "source": [
    "# count vovels, Continants, spacial caractors, numbers"
   ]
  },
  {
   "cell_type": "code",
   "execution_count": 32,
   "id": "f5a0bce7",
   "metadata": {},
   "outputs": [
    {
     "name": "stdout",
     "output_type": "stream",
     "text": [
      "8 11 5 8\n"
     ]
    }
   ],
   "source": [
    "str1 = \"acddAvbUfasduxziroe 12353312 @!$\"\n",
    "v,c,s,n = 0,0,0,0\n",
    "for i in str1:\n",
    "    if ((i>=\"a\" and i<=\"z\") or (i>=\"A\" and i <=\"Z\")):\n",
    "        i = i.lower()\n",
    "        if (i == \"a\" or i == \"e\" or i == \"i\" or i == \"o\" or i == \"u\"):\n",
    "            v +=1\n",
    "        else:\n",
    "            c +=1\n",
    "    elif (i>=\"0\" and i<=\"9\"):\n",
    "        n += 1\n",
    "    else:\n",
    "        s += 1\n",
    "print(v,c,s,n)\n",
    "        "
   ]
  },
  {
   "cell_type": "markdown",
   "id": "df91f174",
   "metadata": {},
   "source": [
    "# Check Permutation"
   ]
  },
  {
   "cell_type": "code",
   "execution_count": 39,
   "id": "1b92a1fe",
   "metadata": {},
   "outputs": [
    {
     "name": "stdout",
     "output_type": "stream",
     "text": [
      "['c', 'e', 'i', 'l', 'n', 's']\n",
      "['c', 'e', 'i', 'l', 'n', 's']\n",
      "true\n"
     ]
    }
   ],
   "source": [
    "a = \"silenc\"\n",
    "b = \"liescn\"\n",
    "if len(a) != len(b):\n",
    "    print(\"false1\")\n",
    "elif sorted(a) == sorted(b):\n",
    "    print(sorted(a))\n",
    "    print(sorted(b))\n",
    "    print(\"true\")\n",
    "else:\n",
    "    print(\"false\")"
   ]
  },
  {
   "cell_type": "markdown",
   "id": "6fbc65e9",
   "metadata": {},
   "source": [
    "# Remove Consecutive Duplicates"
   ]
  },
  {
   "cell_type": "code",
   "execution_count": 58,
   "id": "87632ca8",
   "metadata": {},
   "outputs": [
    {
     "name": "stdout",
     "output_type": "stream",
     "text": [
      "aabccbaa \n",
      "abcba \n"
     ]
    }
   ],
   "source": [
    "a = \"aabccbaa\"\n",
    "a = a+\" \"\n",
    "b = \"\"\n",
    "for i in range(len(a)):\n",
    "    if i == 0 or a[i] != a[i-1]:\n",
    "        b = b+a[i]\n",
    "print(a)\n",
    "print(b)"
   ]
  },
  {
   "cell_type": "code",
   "execution_count": 60,
   "id": "36fdad9f",
   "metadata": {},
   "outputs": [
    {
     "name": "stdout",
     "output_type": "stream",
     "text": [
      "abcba \n"
     ]
    }
   ],
   "source": [
    "result = \"\"\n",
    "for i in range(len(a)):\n",
    "    if i == 0 or a[i] != a[i-1]:\n",
    "        result += a[i]\n",
    "print(result)"
   ]
  },
  {
   "cell_type": "markdown",
   "id": "dea1ef76",
   "metadata": {},
   "source": [
    "# Reverse Each Word"
   ]
  },
  {
   "cell_type": "code",
   "execution_count": 71,
   "id": "ce5d91a8",
   "metadata": {},
   "outputs": [
    {
     "name": "stdout",
     "output_type": "stream",
     "text": [
      "emocleW ot gnidoC sajniN "
     ]
    }
   ],
   "source": [
    "a = \"Welcome to Coding Ninjas\"\n",
    "b = a.split()\n",
    "for i in range(len(b)):\n",
    "    c = b[i][::-1]\n",
    "    print(c ,end=\" \")"
   ]
  },
  {
   "cell_type": "markdown",
   "id": "ac4a23d9",
   "metadata": {},
   "source": [
    "# Remove character"
   ]
  },
  {
   "cell_type": "code",
   "execution_count": 73,
   "id": "4fb73cf2",
   "metadata": {},
   "outputs": [
    {
     "name": "stdout",
     "output_type": "stream",
     "text": [
      "zzzaaabb\n"
     ]
    }
   ],
   "source": [
    "a = \"zzzyyaaabb\"\n",
    "rem = \"y\"\n",
    "b = \"\"\n",
    "for i in range(len(a)):\n",
    "    if a[i] != \"y\":\n",
    "        b += a[i]\n",
    "print(b)\n",
    "        "
   ]
  },
  {
   "cell_type": "markdown",
   "id": "bb920851",
   "metadata": {},
   "source": [
    "# Highest Occuring Character"
   ]
  },
  {
   "cell_type": "code",
   "execution_count": 79,
   "id": "7bc4e5c1",
   "metadata": {},
   "outputs": [
    {
     "name": "stdout",
     "output_type": "stream",
     "text": [
      "b\n"
     ]
    }
   ],
   "source": [
    "a = \"abdefgbabfba\"\n",
    "cou = {}\n",
    "for i in a:\n",
    "    if i in cou:\n",
    "        cou[i] +=1\n",
    "    else:\n",
    "        cou[i] = 1\n",
    "ans = max(cou, key=cou.get)\n",
    "print(max(cou,key = cou.get))"
   ]
  },
  {
   "cell_type": "code",
   "execution_count": null,
   "id": "f0604a6d",
   "metadata": {},
   "outputs": [],
   "source": []
  }
 ],
 "metadata": {
  "kernelspec": {
   "display_name": "Python 3 (ipykernel)",
   "language": "python",
   "name": "python3"
  },
  "language_info": {
   "codemirror_mode": {
    "name": "ipython",
    "version": 3
   },
   "file_extension": ".py",
   "mimetype": "text/x-python",
   "name": "python",
   "nbconvert_exporter": "python",
   "pygments_lexer": "ipython3",
   "version": "3.8.1"
  }
 },
 "nbformat": 4,
 "nbformat_minor": 5
}
