{
 "cells": [
  {
   "cell_type": "markdown",
   "id": "dafcb8dd",
   "metadata": {},
   "source": [
    "# Experimental analysis"
   ]
  },
  {
   "cell_type": "markdown",
   "id": "e40dee83",
   "metadata": {},
   "source": [
    "# using Time complaxity"
   ]
  },
  {
   "cell_type": "code",
   "execution_count": 7,
   "id": "3a33f4b9",
   "metadata": {},
   "outputs": [],
   "source": [
    "# merg short\n",
    "\n",
    "def short(l1,l2,l):\n",
    "    i = 0\n",
    "    j = 0\n",
    "    k = 0\n",
    "    while i < len(l1) and j < len(l2):\n",
    "        if l1[i] < l2[j]:\n",
    "            l[k] = l1[i]\n",
    "            k = k + 1\n",
    "            i = i + 1\n",
    "        else:\n",
    "            l[k] = l2[j]\n",
    "            k = k + 1\n",
    "            j = j + 1\n",
    "    while i < len(l1):\n",
    "        l[k] = l1[i]\n",
    "        k = k + 1\n",
    "        i = i + 1\n",
    "    while j < len(l2):\n",
    "        l[k] = l2[j]\n",
    "        k = k + 1\n",
    "        j = j + 1\n",
    "\n",
    "def mearg_short(l):\n",
    "    if len(l) == 0 or len(l) == 1:\n",
    "        return\n",
    "    mid = len(l)//2\n",
    "    \n",
    "    l1 = l[0:mid]\n",
    "    l2 = l[mid:]\n",
    "    \n",
    "    mearg_short(l1)\n",
    "    mearg_short(l2)\n",
    "    \n",
    "    short(l1,l2,l)"
   ]
  },
  {
   "cell_type": "code",
   "execution_count": 11,
   "id": "d799f7ed",
   "metadata": {},
   "outputs": [],
   "source": [
    "# selection Short\n",
    "def selection_short(l):\n",
    "    for i in range(len(l)):\n",
    "        mid_ind = i\n",
    "        for j in range(i+1,len(l)):\n",
    "            if l[mid_ind] > l[j]:\n",
    "                mid_ind = j\n",
    "                a[i],a[mid_ind] = a[mid_ind],a[i]"
   ]
  },
  {
   "cell_type": "code",
   "execution_count": 15,
   "id": "31c50e36",
   "metadata": {},
   "outputs": [],
   "source": [
    "def reverse_array(n):\n",
    "    a = [] \n",
    "    for i in range(n,0,-1):\n",
    "        a.append(i)\n",
    "    return a\n",
    "        "
   ]
  },
  {
   "cell_type": "code",
   "execution_count": 32,
   "id": "dededcaa",
   "metadata": {},
   "outputs": [
    {
     "data": {
      "text/plain": [
       "1681963657.9411533"
      ]
     },
     "execution_count": 32,
     "metadata": {},
     "output_type": "execute_result"
    }
   ],
   "source": [
    "import time"
   ]
  },
  {
   "cell_type": "code",
   "execution_count": 63,
   "id": "491c3874",
   "metadata": {},
   "outputs": [],
   "source": [
    "n = 10000"
   ]
  },
  {
   "cell_type": "code",
   "execution_count": 64,
   "id": "a2794e73",
   "metadata": {},
   "outputs": [
    {
     "name": "stdout",
     "output_type": "stream",
     "text": [
      "10000 0.09898591041564941\n"
     ]
    }
   ],
   "source": [
    "a = reverse_array(n)\n",
    "start = time.time()\n",
    "mearg_short(a)\n",
    "end  = time.time()\n",
    "print(n ,end - start)"
   ]
  },
  {
   "cell_type": "code",
   "execution_count": 65,
   "id": "825e5f78",
   "metadata": {},
   "outputs": [
    {
     "name": "stdout",
     "output_type": "stream",
     "text": [
      "10000 25.42082977294922\n"
     ]
    }
   ],
   "source": [
    "a = reverse_array(n)\n",
    "start = time.time()\n",
    "selection_short(a)\n",
    "end  = time.time()\n",
    "print(n ,end - start)"
   ]
  },
  {
   "cell_type": "code",
   "execution_count": null,
   "id": "44efd5df",
   "metadata": {},
   "outputs": [],
   "source": []
  }
 ],
 "metadata": {
  "kernelspec": {
   "display_name": "Python 3 (ipykernel)",
   "language": "python",
   "name": "python3"
  },
  "language_info": {
   "codemirror_mode": {
    "name": "ipython",
    "version": 3
   },
   "file_extension": ".py",
   "mimetype": "text/x-python",
   "name": "python",
   "nbconvert_exporter": "python",
   "pygments_lexer": "ipython3",
   "version": "3.8.1"
  }
 },
 "nbformat": 4,
 "nbformat_minor": 5
}
