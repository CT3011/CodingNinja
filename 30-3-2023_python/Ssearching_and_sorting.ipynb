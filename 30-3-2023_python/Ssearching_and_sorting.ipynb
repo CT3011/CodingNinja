{
 "cells": [
  {
   "cell_type": "markdown",
   "id": "7be24425",
   "metadata": {},
   "source": [
    "# binary search on sorted array"
   ]
  },
  {
   "cell_type": "code",
   "execution_count": 48,
   "id": "69017083",
   "metadata": {},
   "outputs": [
    {
     "name": "stdout",
     "output_type": "stream",
     "text": [
      "3\n"
     ]
    }
   ],
   "source": [
    "a = [12,34,45,56,67,89]\n",
    "x = 56\n",
    "lower = 0\n",
    "upper = len(a) - 1\n",
    "\n",
    "while lower <= upper:\n",
    "    # make shore to have () for mid\n",
    "    mid = (lower + upper) // 2\n",
    "    if x == a[mid]:\n",
    "        print(mid)\n",
    "        break\n",
    "    elif x < a[mid]:\n",
    "        upper = mid - 1\n",
    "    else:\n",
    "        lower = mid + 1\n",
    "else:\n",
    "    print(-1)"
   ]
  },
  {
   "cell_type": "code",
   "execution_count": null,
   "id": "f6c79f4f",
   "metadata": {},
   "outputs": [],
   "source": [
    "a = [12,34,45,56,67,89]\n",
    "x = 56\n",
    "lower = 0\n",
    "upper = len(a) -1\n",
    "    \n",
    "while lower <= upper:\n",
    "    mid = (lower+upper)//2\n",
    "    if x == a[mid]:\n",
    "        print(mid)\n",
    "        break\n",
    "    elif x < a[mid]:\n",
    "        upper = mid -1\n",
    "    else:\n",
    "        lower = mid + 1\n",
    "else:\n",
    "    print(-1)"
   ]
  },
  {
   "cell_type": "code",
   "execution_count": 52,
   "id": "76d24757",
   "metadata": {},
   "outputs": [],
   "source": [
    "def binary_search(arr,ele,flag = False):\n",
    "    lower = 0\n",
    "    upper = len(arr)-1\n",
    "    while lower <= upper:\n",
    "        mid = (lower + upper)//2 \n",
    "        if flag:\n",
    "            print(\"lower bound is \", lower)\n",
    "            print(\"upper bound is \", upper)\n",
    "            print(\"mid num is \", mid)\n",
    "        if ele == arr[mid]:\n",
    "            return mid\n",
    "        elif ele < arr[mid]:\n",
    "            upper = mid -1\n",
    "        else:\n",
    "            lower = mid +1\n",
    "    return -1"
   ]
  },
  {
   "cell_type": "code",
   "execution_count": 55,
   "id": "eb11bf8f",
   "metadata": {},
   "outputs": [
    {
     "name": "stdout",
     "output_type": "stream",
     "text": [
      "lower bound is  0\n",
      "upper bound is  5\n",
      "mid num is  2\n",
      "lower bound is  0\n",
      "upper bound is  1\n",
      "mid num is  0\n"
     ]
    },
    {
     "data": {
      "text/plain": [
       "0"
      ]
     },
     "execution_count": 55,
     "metadata": {},
     "output_type": "execute_result"
    }
   ],
   "source": [
    "l=[12, 34, 45, 54, 65, 87]\n",
    "x = 34\n",
    "z = 12\n",
    "binary_search(l,z,flag=True)"
   ]
  },
  {
   "cell_type": "code",
   "execution_count": 80,
   "id": "fb31c26a",
   "metadata": {},
   "outputs": [
    {
     "name": "stdout",
     "output_type": "stream",
     "text": [
      "9\n",
      "11\n"
     ]
    }
   ],
   "source": [
    "# Finding first occurrence of the given number.\n",
    "# Finding the last occurrence of the given number.\n",
    "a = [1, 2, 2, 3, 3, 3, 4, 8, 9, 19, 19, 19]\n",
    "x = 19\n",
    "f = -1\n",
    "l = -1\n",
    "for i in range(len(a)):\n",
    "    if x != a[i]:\n",
    "        continue\n",
    "    if f == -1:\n",
    "        f = i\n",
    "    l = i\n",
    "    \n",
    "if (f != -1):\n",
    "    print(f)\n",
    "    print(l)\n",
    "else:\n",
    "    print(-1)"
   ]
  },
  {
   "cell_type": "markdown",
   "id": "047c1e27",
   "metadata": {},
   "source": [
    "# Selection sort"
   ]
  },
  {
   "cell_type": "code",
   "execution_count": 96,
   "id": "4c16d1fe",
   "metadata": {},
   "outputs": [
    {
     "name": "stdout",
     "output_type": "stream",
     "text": [
      "[3, 4, 5, 9, 13]\n"
     ]
    }
   ],
   "source": [
    "a = [13,4,9,5,3]\n",
    "\n",
    "for i in range(len(a)):\n",
    "    main_index = i\n",
    "    for j in range(i+1,len(a)):\n",
    "        if a[j] < a[main_index]:\n",
    "            main_index = j\n",
    "        a[i],a[main_index] = a[main_index],a[i]\n",
    "print(a)\n",
    "    "
   ]
  },
  {
   "cell_type": "code",
   "execution_count": 95,
   "id": "678b5518",
   "metadata": {},
   "outputs": [
    {
     "name": "stdout",
     "output_type": "stream",
     "text": [
      "[3, 4, 5, 9, 13]\n"
     ]
    }
   ],
   "source": [
    "a = [13,4,9,5,3]\n",
    "a.sort()\n",
    "print(a)"
   ]
  },
  {
   "cell_type": "code",
   "execution_count": 99,
   "id": "f8f86af5",
   "metadata": {},
   "outputs": [
    {
     "data": {
      "text/plain": [
       "[12, 22, 23, 32, 34, 54, 65]"
      ]
     },
     "execution_count": 99,
     "metadata": {},
     "output_type": "execute_result"
    }
   ],
   "source": [
    "a = [12,32,22,65,23,54,34]\n",
    "\n",
    "for i in range(len(a)):\n",
    "    min = i\n",
    "    for j in range(i+1,len(a)):\n",
    "        if a[j] < a[min]:\n",
    "            min = j\n",
    "        a[i],a[min] = a[min],a[i] \n",
    "a"
   ]
  },
  {
   "cell_type": "markdown",
   "id": "99c9eeb9",
   "metadata": {},
   "source": [
    "# bubble short"
   ]
  },
  {
   "cell_type": "code",
   "execution_count": 108,
   "id": "39511b6e",
   "metadata": {},
   "outputs": [
    {
     "data": {
      "text/plain": [
       "[6, 8, 9, 12, 21, 23]"
      ]
     },
     "execution_count": 108,
     "metadata": {},
     "output_type": "execute_result"
    }
   ],
   "source": [
    "a=[9,21,6,23,8,12]\n",
    "for i in range(len(a)):\n",
    "    for j in range(len(a)-1):\n",
    "        if a[j]>a[j+1]:\n",
    "            a[j],a[j+1]=a[j+1],a[j]\n",
    "a"
   ]
  },
  {
   "cell_type": "markdown",
   "id": "079aa8af",
   "metadata": {},
   "source": [
    "# bubble sort and binary search all at one code"
   ]
  },
  {
   "cell_type": "code",
   "execution_count": 7,
   "id": "f5826fba",
   "metadata": {},
   "outputs": [
    {
     "name": "stdout",
     "output_type": "stream",
     "text": [
      "the stape is = 0\n",
      "the pair is 12 > 9\n",
      "the pair is 12 > 3\n",
      "the pair is 12 > 5\n",
      "the pair is 23 > 19\n",
      "the pair is 23 > 2\n",
      "the pair is 23 > 21\n",
      "the stape is = 1\n",
      "the pair is 9 > 3\n",
      "the pair is 9 > 5\n",
      "the pair is 19 > 2\n",
      "the stape is = 2\n",
      "the pair is 12 > 2\n",
      "the stape is = 3\n",
      "the pair is 9 > 2\n",
      "the stape is = 4\n",
      "the pair is 5 > 2\n",
      "the stape is = 5\n",
      "the pair is 3 > 2\n",
      "the stape is = 6\n",
      "the stape is = 7\n",
      "[2, 3, 5, 9, 12, 19, 21, 23]\n",
      "5\n"
     ]
    }
   ],
   "source": [
    "a = [12,9,3,5,23,19,2,21]\n",
    "x = 19\n",
    "for i in range(len(a)):\n",
    "    print(\"the stape is =\", i)\n",
    "    for j in range(len(a)-1):\n",
    "        if a[j] > a[j+1]:\n",
    "            print(\"the pair is\", a[j], \">\", a[j+1])\n",
    "            a[j],a[j+1]=a[j+1],a[j]\n",
    "b = a\n",
    "print(b)\n",
    "start = 0\n",
    "end = len(b)-1\n",
    "while start <= end:\n",
    "    mid = (start + end)//2\n",
    "    if x == b[mid]:\n",
    "        print(mid)\n",
    "        break\n",
    "    if x < b[mid]:\n",
    "        end = mid - 1\n",
    "    else:\n",
    "        start = mid + 1\n",
    "else:\n",
    "    print(-1)"
   ]
  },
  {
   "cell_type": "markdown",
   "id": "f6007034",
   "metadata": {},
   "source": [
    "# opetimize bubble short"
   ]
  },
  {
   "cell_type": "code",
   "execution_count": 8,
   "id": "86db47ae",
   "metadata": {},
   "outputs": [
    {
     "name": "stdout",
     "output_type": "stream",
     "text": [
      "the stape is = 0\n",
      "the pair is 12 > 9\n",
      "the pair is 12 > 3\n",
      "the pair is 12 > 5\n",
      "the pair is 23 > 19\n",
      "the pair is 23 > 2\n",
      "the pair is 23 > 21\n",
      "the stape is = 1\n",
      "the pair is 9 > 3\n",
      "the pair is 9 > 5\n",
      "the pair is 19 > 2\n",
      "the stape is = 2\n",
      "the pair is 12 > 2\n",
      "the stape is = 3\n",
      "the pair is 9 > 2\n",
      "the stape is = 4\n",
      "the pair is 5 > 2\n",
      "the stape is = 5\n",
      "the pair is 3 > 2\n",
      "the stape is = 6\n"
     ]
    },
    {
     "data": {
      "text/plain": [
       "[2, 3, 5, 9, 12, 19, 21, 23]"
      ]
     },
     "execution_count": 8,
     "metadata": {},
     "output_type": "execute_result"
    }
   ],
   "source": [
    "a = [12,9,3,5,23,19,2,21]\n",
    "for i in range(len(a)-1):\n",
    "    print(\"the stape is =\", i)\n",
    "    for j in range(len(a)-1-i):\n",
    "        if a[j]>a[j+1]:\n",
    "            print(\"the pair is\", a[j], \">\", a[j+1])\n",
    "            a[j],a[j+1] = a[j+1],a[j]\n",
    "a"
   ]
  },
  {
   "cell_type": "markdown",
   "id": "dd4fd7fd",
   "metadata": {},
   "source": [
    "# insertion sort"
   ]
  },
  {
   "cell_type": "code",
   "execution_count": 19,
   "id": "a134a9e3",
   "metadata": {},
   "outputs": [
    {
     "data": {
      "text/plain": [
       "[2, 3, 5, 9, 12, 19, 21, 23]"
      ]
     },
     "execution_count": 19,
     "metadata": {},
     "output_type": "execute_result"
    }
   ],
   "source": [
    "a = [12,9,3,5,23,19,2,21]\n",
    "for i in range(1,len(a)):\n",
    "    j = i - 1\n",
    "    temp = a[i]\n",
    "#     print(\"temp is =\",temp,\"end j is \",j)\n",
    "    while j >= 0 and a[j] > temp:\n",
    "#         print(\"j > temp value is\", a[j+1],\" and \", a[j])\n",
    "        a[j+1] = a[j]\n",
    "#         print(\"change is\", a[j+1],\"and \",a[j])\n",
    "        j = j - 1\n",
    "    \n",
    "    a[j+1] = temp\n",
    "a"
   ]
  },
  {
   "cell_type": "markdown",
   "id": "3b07882a",
   "metadata": {},
   "source": [
    "# mearg two sorted array"
   ]
  },
  {
   "cell_type": "code",
   "execution_count": 26,
   "id": "31d231bf",
   "metadata": {},
   "outputs": [
    {
     "data": {
      "text/plain": [
       "[2, 3, 4, 4, 6, 7, 11, 11, 13]"
      ]
     },
     "execution_count": 26,
     "metadata": {},
     "output_type": "execute_result"
    }
   ],
   "source": [
    "a = [3,4,6,11,13]\n",
    "b = [2,4,7,11]\n",
    "c = []\n",
    "\n",
    "i,j = 0,0\n",
    "len1,len2 = len(a),len(b)\n",
    "\n",
    "while(i<len1 and j<len2):\n",
    "    if a[i] < b[j]:\n",
    "        c.append(a[i])\n",
    "        i = i + 1\n",
    "    else:\n",
    "        c.append(b[j])\n",
    "        j = j + 1\n",
    "while(i < len1):\n",
    "    c.append(a[i])\n",
    "    i = i + 1\n",
    "while( j < len2):\n",
    "    c.append(b[j])\n",
    "    j = j + 1\n",
    "c"
   ]
  },
  {
   "cell_type": "code",
   "execution_count": null,
   "id": "7082cd99",
   "metadata": {},
   "outputs": [],
   "source": []
  }
 ],
 "metadata": {
  "kernelspec": {
   "display_name": "Python 3 (ipykernel)",
   "language": "python",
   "name": "python3"
  },
  "language_info": {
   "codemirror_mode": {
    "name": "ipython",
    "version": 3
   },
   "file_extension": ".py",
   "mimetype": "text/x-python",
   "name": "python",
   "nbconvert_exporter": "python",
   "pygments_lexer": "ipython3",
   "version": "3.8.1"
  }
 },
 "nbformat": 4,
 "nbformat_minor": 5
}
