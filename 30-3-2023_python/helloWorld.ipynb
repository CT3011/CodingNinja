{
 "cells": [
  {
   "cell_type": "code",
   "execution_count": 1,
   "id": "e5f15fc3",
   "metadata": {},
   "outputs": [
    {
     "name": "stdout",
     "output_type": "stream",
     "text": [
      "helloWorld!\n"
     ]
    }
   ],
   "source": [
    "print(\"helloWorld!\")"
   ]
  },
  {
   "cell_type": "code",
   "execution_count": 14,
   "id": "17380daa",
   "metadata": {},
   "outputs": [],
   "source": [
    "a = 10\n",
    "a = 20\n",
    "a = 2.2\n",
    "a = \"sert\""
   ]
  },
  {
   "cell_type": "code",
   "execution_count": 15,
   "id": "b8fd24b4",
   "metadata": {},
   "outputs": [
    {
     "data": {
      "text/plain": [
       "str"
      ]
     },
     "execution_count": 15,
     "metadata": {},
     "output_type": "execute_result"
    }
   ],
   "source": [
    "type(a)"
   ]
  },
  {
   "cell_type": "code",
   "execution_count": 17,
   "id": "c8c9c6c3",
   "metadata": {},
   "outputs": [
    {
     "name": "stdout",
     "output_type": "stream",
     "text": [
      "140709237737408\n",
      "140709237737408\n"
     ]
    }
   ],
   "source": [
    "a = 10\n",
    "id1 = id(a)\n",
    "b = a +2-2\n",
    "id2 = id(b)\n",
    "print(id1)\n",
    "print(id2)"
   ]
  },
  {
   "cell_type": "code",
   "execution_count": 20,
   "id": "45dce185",
   "metadata": {},
   "outputs": [
    {
     "name": "stdout",
     "output_type": "stream",
     "text": [
      "140709237737408\n",
      "140709237737376\n",
      "140709237737408\n"
     ]
    }
   ],
   "source": [
    "a  = 10\n",
    "print(id(a))\n",
    "a = a -1\n",
    "print(id(a))\n",
    "a = a + 1 \n",
    "print(id(a))"
   ]
  },
  {
   "cell_type": "code",
   "execution_count": 31,
   "id": "a2246d56",
   "metadata": {},
   "outputs": [
    {
     "name": "stdout",
     "output_type": "stream",
     "text": [
      "24\n"
     ]
    }
   ],
   "source": [
    "# simple intrest using integer\n",
    "p = 100\n",
    "r = 12\n",
    "t = 2\n",
    "si = (p*r*t)//100\n",
    "print(si)"
   ]
  },
  {
   "cell_type": "code",
   "execution_count": 37,
   "id": "a13e253c",
   "metadata": {},
   "outputs": [
    {
     "name": "stdout",
     "output_type": "stream",
     "text": [
      "37.77777777777778\n",
      "37\n"
     ]
    }
   ],
   "source": [
    "# convert feranhite to celsius\n",
    "f = 100\n",
    "c = (f - 32)*5/9\n",
    "print(c)\n",
    "c = (f-32)*5//9\n",
    "print(c)"
   ]
  },
  {
   "cell_type": "code",
   "execution_count": 38,
   "id": "3ff1500d",
   "metadata": {},
   "outputs": [
    {
     "name": "stdout",
     "output_type": "stream",
     "text": [
      "1200\n",
      "10\n",
      "3\n",
      "360\n"
     ]
    }
   ],
   "source": [
    "# simple intrest usning int function and tack input from user using input function\n",
    "p = int(input())\n",
    "r = int(input())\n",
    "t = int(input())\n",
    "si = (p*r*t)//100\n",
    "print(si)"
   ]
  },
  {
   "cell_type": "code",
   "execution_count": 2,
   "id": "0dbe211b",
   "metadata": {},
   "outputs": [
    {
     "name": "stdout",
     "output_type": "stream",
     "text": [
      "2\n",
      "-17\n"
     ]
    }
   ],
   "source": [
    "# convert feranhite to celsius usning int function and tack input from user using input function\n",
    "f = int(input())\n",
    "c = (f - 32) * 5//9\n",
    "print(c)\n"
   ]
  },
  {
   "cell_type": "markdown",
   "id": "05bd6af6",
   "metadata": {},
   "source": [
    "### Bollion data type Logical operator and Relational operator"
   ]
  },
  {
   "cell_type": "code",
   "execution_count": 4,
   "id": "7fed1405",
   "metadata": {},
   "outputs": [
    {
     "name": "stdout",
     "output_type": "stream",
     "text": [
      "21\n",
      "10\n",
      "True\n",
      "False\n",
      "True\n",
      "False\n",
      "False\n",
      "True\n"
     ]
    }
   ],
   "source": [
    "# Relational operators\n",
    "a = int(input())\n",
    "b = int(input())\n",
    "print(a > b)\n",
    "print(a < b)\n",
    "print(a >= b)\n",
    "print(a <= b)\n",
    "print(a == b)\n",
    "print(a != b)"
   ]
  },
  {
   "cell_type": "code",
   "execution_count": 8,
   "id": "c59ad56d",
   "metadata": {},
   "outputs": [
    {
     "name": "stdout",
     "output_type": "stream",
     "text": [
      "False\n",
      "True\n",
      "True\n"
     ]
    }
   ],
   "source": [
    "# Logical Operators\n",
    "c1 = a > 10\n",
    "c2 = b > 10\n",
    "r1 = c1\n",
    "r2 = c2\n",
    "print(c1 and c2)\n",
    "print(c1 or c2)\n",
    "print(not(r2))"
   ]
  },
  {
   "cell_type": "markdown",
   "id": "347247dc",
   "metadata": {},
   "source": [
    "### if else condition"
   ]
  },
  {
   "cell_type": "code",
   "execution_count": 18,
   "id": "5b24221d",
   "metadata": {},
   "outputs": [
    {
     "name": "stdout",
     "output_type": "stream",
     "text": [
      "false\n"
     ]
    }
   ],
   "source": [
    "a = 5\n",
    "if a >= 6:\n",
    "    print(\"true\")\n",
    "else: \n",
    "    print(\"false\")"
   ]
  },
  {
   "cell_type": "code",
   "execution_count": 22,
   "id": "1dc6a99d",
   "metadata": {},
   "outputs": [
    {
     "name": "stdout",
     "output_type": "stream",
     "text": [
      "2\n",
      "this num is even\n"
     ]
    }
   ],
   "source": [
    "a = int(input())\n",
    "if a % 2 == 0:\n",
    "    print(\"this num is even\")\n",
    "else:\n",
    "    print(\"this number is odd\")"
   ]
  },
  {
   "cell_type": "code",
   "execution_count": 23,
   "id": "6652d0c5",
   "metadata": {},
   "outputs": [
    {
     "name": "stdout",
     "output_type": "stream",
     "text": [
      "This is an equilateral triangle\n"
     ]
    }
   ],
   "source": [
    "a = 5\n",
    "b = 5\n",
    "c = 5\n",
    "\n",
    "if (a != b) and (b != c) and (a != c):\n",
    "    print('This is a scalene triangle')\n",
    "\n",
    "elif (a == b) and (b == c):\n",
    "    print('This is an equilateral triangle')\n",
    "\n",
    "else:\n",
    "    print('This is an isosceles triangle')"
   ]
  },
  {
   "cell_type": "code",
   "execution_count": 24,
   "id": "81ae7006",
   "metadata": {},
   "outputs": [
    {
     "name": "stdout",
     "output_type": "stream",
     "text": [
      "too low\n"
     ]
    }
   ],
   "source": [
    "n = 10\n",
    "\n",
    "\n",
    "if n>0 and n<=10:\n",
    "    print(\"too low\")\n",
    "\n",
    "elif n>10 and n<=20:\n",
    "    print(\"medium\")\n",
    "\n",
    "elif n>20 and n<=30:\n",
    "    print(\"large\")\n",
    "\n",
    "else:\n",
    "    print(\"too large\")"
   ]
  },
  {
   "cell_type": "code",
   "execution_count": 25,
   "id": "c4813027",
   "metadata": {},
   "outputs": [
    {
     "name": "stdout",
     "output_type": "stream",
     "text": [
      "Inside if\n"
     ]
    }
   ],
   "source": [
    "x = 15\n",
    "if x <= 15:\n",
    "    print(\"Inside if\")\n",
    "else:\n",
    "    print(\"Inside else\")"
   ]
  },
  {
   "cell_type": "code",
   "execution_count": 26,
   "id": "9da58dea",
   "metadata": {},
   "outputs": [
    {
     "name": "stdout",
     "output_type": "stream",
     "text": [
      "Hello\n",
      "Hi\n"
     ]
    }
   ],
   "source": [
    "x = 5\n",
    "if x < 6:\n",
    "    print(\"Hello\")\n",
    "if x == 5:\n",
    "    print(\"Hi\")\n",
    "else:\n",
    "    print(\"Hey\")"
   ]
  },
  {
   "cell_type": "code",
   "execution_count": 33,
   "id": "4dc2b18c",
   "metadata": {},
   "outputs": [
    {
     "name": "stdout",
     "output_type": "stream",
     "text": [
      "1\n",
      "2\n",
      "10\n",
      "c is the largest number\n"
     ]
    }
   ],
   "source": [
    "a = int(input())\n",
    "b = int(input())\n",
    "c = int(input())\n",
    "\n",
    "if a > b and a > c:\n",
    "    print(\"a is the largest number\")\n",
    "elif b > a and b > c:\n",
    "    print('b is the largest number')\n",
    "else:\n",
    "    print('c is the largest number')"
   ]
  },
  {
   "cell_type": "code",
   "execution_count": 37,
   "id": "0d7c40d2",
   "metadata": {},
   "outputs": [
    {
     "name": "stdout",
     "output_type": "stream",
     "text": [
      "15\n",
      "red\n"
     ]
    }
   ],
   "source": [
    "a = int(input())\n",
    "\n",
    "if a > 10:\n",
    "    print(\"red\")\n",
    "elif a >= 5:\n",
    "    print(\"green\")\n",
    "elif a > 0:\n",
    "    print(\"yellow\")"
   ]
  },
  {
   "cell_type": "code",
   "execution_count": 40,
   "id": "fe840e95",
   "metadata": {},
   "outputs": [
    {
     "name": "stdout",
     "output_type": "stream",
     "text": [
      "14\n",
      "3\n",
      "2\n"
     ]
    }
   ],
   "source": [
    "# nested if else condition\n",
    "n = int(input())\n",
    "\n",
    "if n % 2 == 0:\n",
    "    m = int(input())\n",
    "    if m % 2 == 0:\n",
    "        print(1)\n",
    "    else:\n",
    "        print(2)\n",
    "else:\n",
    "    print(3)"
   ]
  },
  {
   "cell_type": "code",
   "execution_count": 42,
   "id": "f71d2b7c",
   "metadata": {},
   "outputs": [
    {
     "name": "stdout",
     "output_type": "stream",
     "text": [
      "B\n"
     ]
    }
   ],
   "source": [
    " if (10 < 0) and (0 < -10):\n",
    "     print(\"A\")\n",
    "\n",
    " elif (10 > 0) or False:\n",
    "     print(\"B\")\n",
    "\n",
    " else:\n",
    "     print(\"C\")"
   ]
  },
  {
   "cell_type": "code",
   "execution_count": 44,
   "id": "54454fd9",
   "metadata": {},
   "outputs": [
    {
     "name": "stdout",
     "output_type": "stream",
     "text": [
      "B\n"
     ]
    }
   ],
   "source": [
    "if True or True:\n",
    "    if False and True or False:\n",
    "        print('A')\n",
    "    elif False and False or True and True:\n",
    "       print('B')\n",
    "    else:\n",
    "      print('C')\n",
    "else:\n",
    "     print('D')"
   ]
  },
  {
   "cell_type": "code",
   "execution_count": 59,
   "id": "b2cdb3af",
   "metadata": {},
   "outputs": [
    {
     "name": "stdout",
     "output_type": "stream",
     "text": [
      "hii\n"
     ]
    }
   ],
   "source": [
    "a = -1\n",
    "if a >= 10:\n",
    "    print(\"hello\")\n",
    "elif a <= 15:\n",
    "    print(\"hii\")"
   ]
  },
  {
   "cell_type": "code",
   "execution_count": 61,
   "id": "4de14dd1",
   "metadata": {},
   "outputs": [
    {
     "name": "stdout",
     "output_type": "stream",
     "text": [
      "1\n",
      "2\n",
      "3\n",
      "4\n",
      "5\n",
      "6\n",
      "7\n",
      "8\n",
      "9\n",
      "10\n"
     ]
    }
   ],
   "source": [
    "n = 10\n",
    "i = 1\n",
    "while i <= n:\n",
    "    print(i)\n",
    "    i = i + 1"
   ]
  },
  {
   "cell_type": "code",
   "execution_count": 63,
   "id": "c393d967",
   "metadata": {},
   "outputs": [
    {
     "name": "stdout",
     "output_type": "stream",
     "text": [
      "10\n",
      "55\n"
     ]
    }
   ],
   "source": [
    "# calculer the totle of n numbers\n",
    "# ex: n = 10 / -- 1+2+3+4+5+6+7+8+9+10=55\n",
    "n = int(input())\n",
    "totel = 0\n",
    "while (n > 0):\n",
    "    totel = totel+n\n",
    "    n = n-1\n",
    "print(totel)"
   ]
  },
  {
   "cell_type": "code",
   "execution_count": 71,
   "id": "a335ec00",
   "metadata": {},
   "outputs": [
    {
     "name": "stdout",
     "output_type": "stream",
     "text": [
      "6\n",
      "12\n"
     ]
    }
   ],
   "source": [
    "n = int(input())\n",
    "som = 0\n",
    "while n > 0:\n",
    "    if n % 2 == 0:\n",
    "        som = som + n\n",
    "    n = n -1\n",
    "print(som)\n"
   ]
  },
  {
   "cell_type": "code",
   "execution_count": 73,
   "id": "d1d589c2",
   "metadata": {},
   "outputs": [
    {
     "name": "stdout",
     "output_type": "stream",
     "text": [
      "6\n",
      "12\n"
     ]
    }
   ],
   "source": [
    "# solution from coding ninja\n",
    "n = int(input())\n",
    "sum = 0\n",
    "i = 2\n",
    "while i <= n:\n",
    "    sum = sum + i\n",
    "    i = i + 2\n",
    "print(sum)"
   ]
  },
  {
   "cell_type": "code",
   "execution_count": 6,
   "id": "bfe20d1d",
   "metadata": {},
   "outputs": [
    {
     "name": "stdout",
     "output_type": "stream",
     "text": [
      "19\n",
      "prime\n"
     ]
    }
   ],
   "source": [
    "# prime numbers\n",
    "n = int(input())\n",
    "d = 2\n",
    "flag = False\n",
    "\n",
    "while d < n:\n",
    "    if n % d == 0:\n",
    "        flag = True\n",
    "    d = d + 1\n",
    "\n",
    "if flag == True:\n",
    "    print(\"not prime\")\n",
    "else:\n",
    "    print(\"prime\")"
   ]
  },
  {
   "cell_type": "code",
   "execution_count": 7,
   "id": "12c89602",
   "metadata": {},
   "outputs": [
    {
     "name": "stdout",
     "output_type": "stream",
     "text": [
      "19\n",
      "2\n",
      "3\n",
      "5\n",
      "7\n",
      "11\n",
      "13\n",
      "17\n",
      "19\n"
     ]
    }
   ],
   "source": [
    "n = int(input())\n",
    "k = 2\n",
    "\n",
    "while (k <= n):\n",
    "    d = 2 \n",
    "    flag = False\n",
    "    while (d < k):\n",
    "        if k % d == 0:\n",
    "            flag = True\n",
    "        d = d + 1\n",
    "    if not(flag):\n",
    "        print(k)\n",
    "    k = k + 1"
   ]
  },
  {
   "cell_type": "code",
   "execution_count": null,
   "id": "c754aacd",
   "metadata": {},
   "outputs": [],
   "source": []
  }
 ],
 "metadata": {
  "kernelspec": {
   "display_name": "Python 3 (ipykernel)",
   "language": "python",
   "name": "python3"
  },
  "language_info": {
   "codemirror_mode": {
    "name": "ipython",
    "version": 3
   },
   "file_extension": ".py",
   "mimetype": "text/x-python",
   "name": "python",
   "nbconvert_exporter": "python",
   "pygments_lexer": "ipython3",
   "version": "3.8.1"
  }
 },
 "nbformat": 4,
 "nbformat_minor": 5
}
