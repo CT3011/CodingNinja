{
 "cells": [
  {
   "cell_type": "code",
   "execution_count": 23,
   "id": "c14b1681",
   "metadata": {},
   "outputs": [],
   "source": [
    "\"\"\"\n",
    "basic class to create the linked list\n",
    "data is store the ele of data\n",
    "next is store the ref. of other data linked with\n",
    "\"\"\"\n",
    "\n",
    "class node:\n",
    "    def __init__(self,data):\n",
    "        self.data = data\n",
    "        self.next = None"
   ]
  },
  {
   "cell_type": "code",
   "execution_count": 24,
   "id": "91c3a899",
   "metadata": {},
   "outputs": [],
   "source": [
    "\"\"\"\n",
    "Take the input for the linked list spase seperated\n",
    "\"\"\"\n",
    "\n",
    "def takinput():\n",
    "    InputData = [int(i) for i in input().split()]\n",
    "    head = None\n",
    "    tail = None\n",
    "    \n",
    "    for currData in InputData:\n",
    "        if currData == -1:\n",
    "            break\n",
    "        \n",
    "        NewNoad = node(currData)\n",
    "        if head is None:\n",
    "            head = NewNoad\n",
    "            tail = NewNoad\n",
    "        else:\n",
    "            tail.next = NewNoad\n",
    "            tail = NewNoad\n",
    "    return head\n",
    "        "
   ]
  },
  {
   "cell_type": "code",
   "execution_count": 25,
   "id": "32f076cc",
   "metadata": {},
   "outputs": [],
   "source": [
    "\"\"\"\n",
    "Print The linked List with -> \n",
    "\"\"\"\n",
    "def printLL(head):\n",
    "    while head is not None:\n",
    "        print(str(head.data)+\"->\",end=\" \")\n",
    "        head = head.next\n",
    "    print(\"None\")\n",
    "    return"
   ]
  },
  {
   "cell_type": "markdown",
   "id": "45404470",
   "metadata": {},
   "source": [
    "# Reverce The Linked List"
   ]
  },
  {
   "cell_type": "code",
   "execution_count": 34,
   "id": "4ebce515",
   "metadata": {},
   "outputs": [],
   "source": [
    "def reverceTheLL(head):\n",
    "    if head is None or head.next is None:\n",
    "        return head\n",
    "    \n",
    "    smallHead = reverceTheLL(head.next)\n",
    "    curr = smallHead\n",
    "    while curr.next is not None:\n",
    "        curr = curr.next\n",
    "    curr.next = head\n",
    "    head.next = None\n",
    "    return smallHead"
   ]
  },
  {
   "cell_type": "code",
   "execution_count": 52,
   "id": "b5a17e9c",
   "metadata": {},
   "outputs": [
    {
     "name": "stdout",
     "output_type": "stream",
     "text": [
      "1 2 3 4 5 -1\n"
     ]
    }
   ],
   "source": [
    "h1 = takinput()"
   ]
  },
  {
   "cell_type": "code",
   "execution_count": 46,
   "id": "f8f1ec2f",
   "metadata": {},
   "outputs": [
    {
     "name": "stdout",
     "output_type": "stream",
     "text": [
      "1-> 2-> 3-> 4-> 5-> None\n",
      "5-> 4-> 3-> 2-> 1-> None\n"
     ]
    }
   ],
   "source": [
    "printLL(h1)\n",
    "h1 = reverceTheLL(h1)\n",
    "printLL(h1)"
   ]
  },
  {
   "cell_type": "markdown",
   "id": "36343835",
   "metadata": {},
   "source": [
    "# * optimizing the reverce LL "
   ]
  },
  {
   "cell_type": "code",
   "execution_count": 47,
   "id": "f690ffc6",
   "metadata": {},
   "outputs": [],
   "source": [
    "def optreverceLL(head):\n",
    "    if head is None or head.next is None:\n",
    "        return head,head\n",
    "    \n",
    "    smallHead,smallTail = optreverceLL(head.next)\n",
    "    smallTail.next = head\n",
    "    head.next = None\n",
    "    return smallHead, head"
   ]
  },
  {
   "cell_type": "code",
   "execution_count": 53,
   "id": "3f2355de",
   "metadata": {},
   "outputs": [
    {
     "name": "stdout",
     "output_type": "stream",
     "text": [
      "1-> 2-> 3-> 4-> 5-> None\n",
      "5-> 4-> 3-> 2-> 1-> None\n"
     ]
    }
   ],
   "source": [
    "printLL(h1)\n",
    "h1,h2 = optreverceLL(h1)\n",
    "printLL(h1)"
   ]
  },
  {
   "cell_type": "markdown",
   "id": "73e92fc2",
   "metadata": {},
   "source": [
    "* best way To impelment Reverse Linked List"
   ]
  },
  {
   "cell_type": "code",
   "execution_count": 64,
   "id": "d39d0f4e",
   "metadata": {},
   "outputs": [],
   "source": [
    "def bestReverseLL(head):\n",
    "    if head is None or head.next is None:\n",
    "        return head\n",
    "    \n",
    "    smallHead = bestReverseLL(head.next)\n",
    "    tail = head.next\n",
    "    tail.next = head\n",
    "    head.next = None\n",
    "    return smallHead"
   ]
  },
  {
   "cell_type": "code",
   "execution_count": 80,
   "id": "f6c73fc6",
   "metadata": {},
   "outputs": [
    {
     "name": "stdout",
     "output_type": "stream",
     "text": [
      "1 2 3 4 5 -1\n"
     ]
    }
   ],
   "source": [
    "h1 = takinput()"
   ]
  },
  {
   "cell_type": "code",
   "execution_count": 66,
   "id": "7a36b753",
   "metadata": {},
   "outputs": [
    {
     "name": "stdout",
     "output_type": "stream",
     "text": [
      "1-> 2-> 3-> 4-> 5-> None\n",
      "5-> 4-> 3-> 2-> 1-> None\n"
     ]
    }
   ],
   "source": [
    "printLL(h1)\n",
    "h1 = bestReverseLL(h1)\n",
    "printLL(h1)"
   ]
  },
  {
   "cell_type": "markdown",
   "id": "30d236a6",
   "metadata": {},
   "source": [
    "* reverse LL iterativly"
   ]
  },
  {
   "cell_type": "code",
   "execution_count": 70,
   "id": "0efbf0cf",
   "metadata": {},
   "outputs": [],
   "source": [
    "def reverse(head):\n",
    "    curr = head\n",
    "    prev = None\n",
    "    while curr is not None:\n",
    "        ne = curr.next\n",
    "        curr.next = prev\n",
    "        prev = curr\n",
    "        curr = ne\n",
    "    head = prev\n",
    "    return head\n",
    "        "
   ]
  },
  {
   "cell_type": "code",
   "execution_count": 71,
   "id": "4cb781a3",
   "metadata": {},
   "outputs": [
    {
     "name": "stdout",
     "output_type": "stream",
     "text": [
      "1-> 2-> 3-> 4-> 5-> None\n",
      "5-> 4-> 3-> 2-> 1-> None\n"
     ]
    }
   ],
   "source": [
    "printLL(h1)\n",
    "h1 = reverse(h1)\n",
    "printLL(h1)"
   ]
  },
  {
   "cell_type": "markdown",
   "id": "90147473",
   "metadata": {},
   "source": [
    "* Mid Point Of Linked List"
   ]
  },
  {
   "cell_type": "code",
   "execution_count": 91,
   "id": "9b5078a5",
   "metadata": {},
   "outputs": [],
   "source": [
    "def midPoint(head):\n",
    "    if head is None or head.next is None:\n",
    "        return head\n",
    "    \n",
    "    slow = head\n",
    "    fast = head\n",
    "    while fast.next != None and fast.next.next != None:\n",
    "        slow = slow.next\n",
    "        fast = fast.next.next\n",
    "    return slow.data"
   ]
  },
  {
   "cell_type": "code",
   "execution_count": 92,
   "id": "e5707189",
   "metadata": {},
   "outputs": [
    {
     "name": "stdout",
     "output_type": "stream",
     "text": [
      "1-> 2-> 3-> 4-> 5-> None\n"
     ]
    },
    {
     "data": {
      "text/plain": [
       "3"
      ]
     },
     "execution_count": 92,
     "metadata": {},
     "output_type": "execute_result"
    }
   ],
   "source": [
    "printLL(h1)\n",
    "midPoint(h1)"
   ]
  },
  {
   "cell_type": "markdown",
   "id": "d7249ade",
   "metadata": {},
   "source": [
    "* Mearge Two Shorted LL "
   ]
  },
  {
   "cell_type": "code",
   "execution_count": 109,
   "id": "36175e19",
   "metadata": {},
   "outputs": [],
   "source": [
    "def meargeShortedLL(head1,head2):\n",
    "    dummy_node = node(-1)\n",
    "    finalTail = dummy_node\n",
    "    while (head1 != None) and (head2 != None):\n",
    "        if head1.data <= head2.data:\n",
    "            finalTail.next = head1\n",
    "            head1 = head1.next\n",
    "        else:\n",
    "            finalTail.next = head2\n",
    "            head2 = head2.next\n",
    "        finalTail = finalTail.next\n",
    "            \n",
    "    if head1 is not None:\n",
    "        finalTail.next = head1\n",
    "    elif head2 is not None:\n",
    "        finalTail.next = head2\n",
    "        \n",
    "    return dummy_node.next\n",
    "    "
   ]
  },
  {
   "cell_type": "code",
   "execution_count": 105,
   "id": "a1abab6a",
   "metadata": {},
   "outputs": [
    {
     "name": "stdout",
     "output_type": "stream",
     "text": [
      "1 5 20 22 30 -1\n",
      "2 3 6 11 -1\n"
     ]
    }
   ],
   "source": [
    "h1 = takinput()\n",
    "h2 = takinput()"
   ]
  },
  {
   "cell_type": "code",
   "execution_count": 110,
   "id": "080d7405",
   "metadata": {},
   "outputs": [
    {
     "name": "stdout",
     "output_type": "stream",
     "text": [
      "1-> 2-> 3-> 5-> 6-> 11-> 20-> 22-> 30-> None\n"
     ]
    }
   ],
   "source": [
    "ans =  meargeShortedLL(h1,h2)\n",
    "printLL(ans)"
   ]
  },
  {
   "cell_type": "code",
   "execution_count": null,
   "id": "e9075ab5",
   "metadata": {},
   "outputs": [],
   "source": []
  }
 ],
 "metadata": {
  "kernelspec": {
   "display_name": "Python 3 (ipykernel)",
   "language": "python",
   "name": "python3"
  },
  "language_info": {
   "codemirror_mode": {
    "name": "ipython",
    "version": 3
   },
   "file_extension": ".py",
   "mimetype": "text/x-python",
   "name": "python",
   "nbconvert_exporter": "python",
   "pygments_lexer": "ipython3",
   "version": "3.8.1"
  }
 },
 "nbformat": 4,
 "nbformat_minor": 5
}
