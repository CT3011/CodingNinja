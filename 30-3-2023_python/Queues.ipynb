{
 "cells": [
  {
   "cell_type": "markdown",
   "id": "c2878d81",
   "metadata": {},
   "source": [
    "# emplementing The queue using array"
   ]
  },
  {
   "cell_type": "code",
   "execution_count": 7,
   "id": "4274143f",
   "metadata": {},
   "outputs": [],
   "source": [
    "class queueUsingArray():\n",
    "    def __init__(self):\n",
    "        self.__array = []\n",
    "        self.__front = 0\n",
    "        self.__count = 0\n",
    "        \n",
    "    def inQueue(self,data):\n",
    "        self.__array.append(data)\n",
    "        self.__count += 1\n",
    "        \n",
    "    def deQueue(self):\n",
    "        if self.__count == 0:\n",
    "            return -1\n",
    "        element = self.__array[self.__front]\n",
    "        self.__front += 1\n",
    "        self.__count -= 1\n",
    "        return element\n",
    "    \n",
    "    def front(self):\n",
    "        if self.__count == 0:\n",
    "            return -1\n",
    "        return self.__array[self.__front]\n",
    "    \n",
    "    def size(self):\n",
    "        return self.__count\n",
    "        \n",
    "    def isEmpty(self):\n",
    "        return self.size() == 0\n",
    "    "
   ]
  },
  {
   "cell_type": "code",
   "execution_count": 8,
   "id": "1f442e44",
   "metadata": {},
   "outputs": [
    {
     "name": "stdout",
     "output_type": "stream",
     "text": [
      "10\n",
      "20\n",
      "30\n",
      "40\n",
      "-1\n"
     ]
    }
   ],
   "source": [
    "q = queueUsingArray()\n",
    "q.inQueue(10)\n",
    "q.inQueue(20)\n",
    "q.inQueue(30)\n",
    "q.inQueue(40)\n",
    "\n",
    "while q.isEmpty() is False:\n",
    "    print(q.front())\n",
    "    q.deQueue()\n",
    "print(q.front())"
   ]
  },
  {
   "cell_type": "markdown",
   "id": "7007cd5c",
   "metadata": {},
   "source": [
    "# implementing Queue using Linked List"
   ]
  },
  {
   "cell_type": "code",
   "execution_count": 9,
   "id": "efeac3d9",
   "metadata": {},
   "outputs": [],
   "source": [
    "class Node():\n",
    "    def __init__(self,data):\n",
    "        self.data = data\n",
    "        self.next = None"
   ]
  },
  {
   "cell_type": "code",
   "execution_count": 10,
   "id": "081352d2",
   "metadata": {},
   "outputs": [],
   "source": [
    "class QueueusingLink():\n",
    "    def __init__(self):\n",
    "        self.__head = None\n",
    "        self.__tail = None\n",
    "        self.__count = 0\n",
    "        \n",
    "    def enqueue(self,data):\n",
    "        newNoad = Node(data)\n",
    "        if self.__head is None:\n",
    "            self.__head = newNoad\n",
    "        else:\n",
    "            self.__tail.next = newNoad\n",
    "        self.__tail = newNoad\n",
    "        self.__count += 1\n",
    "    \n",
    "    def dequeue(self):\n",
    "        if self.__head is None:\n",
    "            return -1\n",
    "        \n",
    "        data = self.__head.data\n",
    "        self.__head = self.__head.next\n",
    "        self.__count -= 1\n",
    "        return data\n",
    "        \n",
    "    def front(self):\n",
    "        if self.__head is None:\n",
    "            return -1\n",
    "        return self.__head.data\n",
    "        \n",
    "    def size(self):\n",
    "        return self.__count\n",
    "        \n",
    "    def isEmpty(self):\n",
    "        return self.size() == 0"
   ]
  },
  {
   "cell_type": "code",
   "execution_count": 11,
   "id": "c5b39768",
   "metadata": {},
   "outputs": [
    {
     "name": "stdout",
     "output_type": "stream",
     "text": [
      "100\n",
      "200\n",
      "300\n",
      "400\n",
      "-1\n"
     ]
    }
   ],
   "source": [
    "q1 = QueueusingLink()\n",
    "q1.enqueue(100)\n",
    "q1.enqueue(200)\n",
    "q1.enqueue(300)\n",
    "q1.enqueue(400)\n",
    "\n",
    "while q1.isEmpty() is False:\n",
    "    print(q1.front())\n",
    "    q1.dequeue()\n",
    "print(q1.dequeue())"
   ]
  },
  {
   "cell_type": "code",
   "execution_count": 1,
   "id": "8eee1121",
   "metadata": {},
   "outputs": [],
   "source": [
    "# implement Queue using Two stack"
   ]
  },
  {
   "cell_type": "code",
   "execution_count": 5,
   "id": "408aa131",
   "metadata": {},
   "outputs": [],
   "source": [
    "class QueueusingTwoStack():\n",
    "    def __init__(self):\n",
    "        self.__s1 = []\n",
    "        self.__s2 = []\n",
    "        \n",
    "    def enqueue(self,data):\n",
    "        while (len(self.__s1) != 0):\n",
    "            self.__s2.append(self.__s1.pop())\n",
    "        self.__s1.append(data)\n",
    "        \n",
    "        while (len(self.__s2) != 0):\n",
    "            self.__s1.append(self.__s2.pop())\n",
    "            \n",
    "        return\n",
    "        \n",
    "    def dequeue(self):\n",
    "        if len(self.__s1) ==0:\n",
    "            return -1\n",
    "        return self.__s1.pop()\n",
    "        \n",
    "    def front(self):\n",
    "        if len(self.__s1) ==0:\n",
    "            return -1\n",
    "        return self.__s1[-1]\n",
    "        \n",
    "    def size(self):\n",
    "        return (len(self.__s1))\n",
    "        \n",
    "    def isEmpty(self):\n",
    "        return self.size() == 0\n",
    "        "
   ]
  },
  {
   "cell_type": "code",
   "execution_count": 7,
   "id": "df62cca2",
   "metadata": {},
   "outputs": [
    {
     "name": "stdout",
     "output_type": "stream",
     "text": [
      "10\n",
      "20\n",
      "30\n",
      "40\n",
      "-1\n"
     ]
    }
   ],
   "source": [
    "q = QueueusingTwoStack()\n",
    "q.enqueue(10)\n",
    "q.enqueue(20)\n",
    "q.enqueue(30)\n",
    "q.enqueue(40)\n",
    "\n",
    "while q.isEmpty() is False:\n",
    "    print(q.front())\n",
    "    q.dequeue()\n",
    "print(q.dequeue())"
   ]
  },
  {
   "cell_type": "code",
   "execution_count": null,
   "id": "57d04992",
   "metadata": {},
   "outputs": [],
   "source": []
  }
 ],
 "metadata": {
  "kernelspec": {
   "display_name": "Python 3 (ipykernel)",
   "language": "python",
   "name": "python3"
  },
  "language_info": {
   "codemirror_mode": {
    "name": "ipython",
    "version": 3
   },
   "file_extension": ".py",
   "mimetype": "text/x-python",
   "name": "python",
   "nbconvert_exporter": "python",
   "pygments_lexer": "ipython3",
   "version": "3.8.1"
  }
 },
 "nbformat": 4,
 "nbformat_minor": 5
}
