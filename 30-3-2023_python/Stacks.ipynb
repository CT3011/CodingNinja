{
 "cells": [
  {
   "cell_type": "markdown",
   "id": "53ee867c",
   "metadata": {},
   "source": [
    "# Implementing Stack using Array"
   ]
  },
  {
   "cell_type": "code",
   "execution_count": 14,
   "id": "bc7ba9c2",
   "metadata": {},
   "outputs": [],
   "source": [
    "class stack():\n",
    "    \"\"\"\n",
    "    Implementing stack using List\n",
    "    \"\"\"\n",
    "    def __init__(self):\n",
    "        self.__data = []\n",
    "        \n",
    "    def push(self,item):\n",
    "        self.__data.append(item)\n",
    "        \n",
    "    def pop(self):\n",
    "        if self.isEmpty():\n",
    "            print(\"hay, your Stack is Empty!!\")\n",
    "            return\n",
    "        return self.__data.pop()\n",
    "    \n",
    "    def top(self):\n",
    "        if self.isEmpty():\n",
    "            print(\"hay, your Stack is Empty!!\")\n",
    "            return\n",
    "        return self.__data[len(self.__data)- 1]\n",
    "    \n",
    "    def size(self):\n",
    "        return len(self.__data)\n",
    "    \n",
    "    def isEmpty(self):\n",
    "        return self.size() == 0"
   ]
  },
  {
   "cell_type": "code",
   "execution_count": 17,
   "id": "60fb2a66",
   "metadata": {},
   "outputs": [
    {
     "name": "stdout",
     "output_type": "stream",
     "text": [
      "30\n",
      "20\n",
      "10\n",
      "hay, your Stack is Empty!!\n"
     ]
    }
   ],
   "source": [
    "s = stack()\n",
    "s.push(10)\n",
    "s.push(20)\n",
    "s.push(30)\n",
    "\n",
    "while s.isEmpty() is False:\n",
    "    print(s.pop())\n",
    "    \n",
    "s.top()    \n",
    "\n"
   ]
  },
  {
   "cell_type": "markdown",
   "id": "76f92742",
   "metadata": {},
   "source": [
    "# Implementing Stack using Linked List"
   ]
  },
  {
   "cell_type": "code",
   "execution_count": 19,
   "id": "a1701066",
   "metadata": {},
   "outputs": [],
   "source": [
    "class Noad():\n",
    "    \"\"\"\n",
    "    Implementing Linked List\n",
    "    \"\"\"\n",
    "    def __init__(self,data):\n",
    "        self.data = data\n",
    "        self.next = None"
   ]
  },
  {
   "cell_type": "code",
   "execution_count": 45,
   "id": "8a639edd",
   "metadata": {},
   "outputs": [],
   "source": [
    "class stack1():\n",
    "    \"\"\"\n",
    "    implementing Stack using Linked List\n",
    "    \"\"\"\n",
    "    \n",
    "    def __init__(self):\n",
    "        self.__head = None\n",
    "        self.__count = 0\n",
    "    def push(self,item):\n",
    "        newNoad = Noad(item)\n",
    "        newNoad.next = self.__head\n",
    "        self.__head = newNoad\n",
    "        self.__count = self.__count + 1\n",
    "    \n",
    "    def pop(self):\n",
    "        if self.isEmpty():\n",
    "            return -1\n",
    "        data = self.__head.data\n",
    "        self.__head = self.__head.next\n",
    "        self.__count = self.__count -1\n",
    "        return data\n",
    "        \n",
    "        \n",
    "    def top(self):\n",
    "        if self.isEmpty():\n",
    "            return -1\n",
    "        return self.__head.data\n",
    "    \n",
    "    def size(self):\n",
    "        return self.__count\n",
    "    \n",
    "    def isEmpty(self):\n",
    "        return self.size() == 0"
   ]
  },
  {
   "cell_type": "code",
   "execution_count": 49,
   "id": "a4a13e28",
   "metadata": {},
   "outputs": [
    {
     "data": {
      "text/plain": [
       "30"
      ]
     },
     "execution_count": 49,
     "metadata": {},
     "output_type": "execute_result"
    }
   ],
   "source": [
    "s1 = stack1()\n",
    "s1.push(10)\n",
    "s1.push(20)\n",
    "s1.push(30)\n",
    "s1.pop()\n",
    "\n",
    "\n"
   ]
  },
  {
   "cell_type": "markdown",
   "id": "4fe8041f",
   "metadata": {},
   "source": [
    "# balance peranthisis"
   ]
  },
  {
   "cell_type": "code",
   "execution_count": 55,
   "id": "5bcf7f85",
   "metadata": {},
   "outputs": [
    {
     "name": "stderr",
     "output_type": "stream",
     "text": [
      "<>:6: SyntaxWarning: \"is\" with a literal. Did you mean \"==\"?\n",
      "<>:11: SyntaxWarning: \"is\" with a literal. Did you mean \"==\"?\n",
      "<>:15: SyntaxWarning: \"is\" with a literal. Did you mean \"==\"?\n",
      "<>:6: SyntaxWarning: \"is\" with a literal. Did you mean \"==\"?\n",
      "<>:11: SyntaxWarning: \"is\" with a literal. Did you mean \"==\"?\n",
      "<>:15: SyntaxWarning: \"is\" with a literal. Did you mean \"==\"?\n",
      "C:\\Users\\chira\\AppData\\Local\\Temp/ipykernel_37672/4115037710.py:6: SyntaxWarning: \"is\" with a literal. Did you mean \"==\"?\n",
      "  elif char is ')':\n",
      "C:\\Users\\chira\\AppData\\Local\\Temp/ipykernel_37672/4115037710.py:11: SyntaxWarning: \"is\" with a literal. Did you mean \"==\"?\n",
      "  elif char is '}':\n",
      "C:\\Users\\chira\\AppData\\Local\\Temp/ipykernel_37672/4115037710.py:15: SyntaxWarning: \"is\" with a literal. Did you mean \"==\"?\n",
      "  elif char is ']':\n"
     ]
    },
    {
     "name": "stdout",
     "output_type": "stream",
     "text": [
      "(a+b()\n",
      "False\n"
     ]
    }
   ],
   "source": [
    "def isBalanced(string):\n",
    "    s=[]\n",
    "    for char in string:\n",
    "        if char in '({[':\n",
    "            s.append(char)\n",
    "        elif char is ')':\n",
    "            if(not s or s[-1]!='('):\n",
    "                return False\n",
    "            s.pop()\n",
    "            \n",
    "        elif char is '}':\n",
    "            if(not s or s[-1]!='{'):\n",
    "                return False\n",
    "            s.pop()\n",
    "        elif char is ']':\n",
    "            if(not s or s[-1]!='['):\n",
    "                return False\n",
    "            s.pop()\n",
    "    if(not s):\n",
    "        return True\n",
    "    return False\n",
    "            \n",
    "string=input()\n",
    "ans=isBalanced(string)\n",
    "print(ans)\n"
   ]
  },
  {
   "cell_type": "code",
   "execution_count": null,
   "id": "accac311",
   "metadata": {},
   "outputs": [],
   "source": []
  }
 ],
 "metadata": {
  "kernelspec": {
   "display_name": "Python 3 (ipykernel)",
   "language": "python",
   "name": "python3"
  },
  "language_info": {
   "codemirror_mode": {
    "name": "ipython",
    "version": 3
   },
   "file_extension": ".py",
   "mimetype": "text/x-python",
   "name": "python",
   "nbconvert_exporter": "python",
   "pygments_lexer": "ipython3",
   "version": "3.8.1"
  }
 },
 "nbformat": 4,
 "nbformat_minor": 5
}
