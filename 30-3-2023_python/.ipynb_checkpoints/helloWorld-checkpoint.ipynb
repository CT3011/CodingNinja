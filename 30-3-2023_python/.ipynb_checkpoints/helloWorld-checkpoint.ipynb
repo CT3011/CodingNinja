{
 "cells": [
  {
   "cell_type": "code",
   "execution_count": 1,
   "id": "e5f15fc3",
   "metadata": {},
   "outputs": [
    {
     "name": "stdout",
     "output_type": "stream",
     "text": [
      "helloWorld!\n"
     ]
    }
   ],
   "source": [
    "print(\"helloWorld!\")"
   ]
  },
  {
   "cell_type": "code",
   "execution_count": 14,
   "id": "17380daa",
   "metadata": {},
   "outputs": [],
   "source": [
    "a = 10\n",
    "a = 20\n",
    "a = 2.2\n",
    "a = \"sert\""
   ]
  },
  {
   "cell_type": "code",
   "execution_count": 15,
   "id": "b8fd24b4",
   "metadata": {},
   "outputs": [
    {
     "data": {
      "text/plain": [
       "str"
      ]
     },
     "execution_count": 15,
     "metadata": {},
     "output_type": "execute_result"
    }
   ],
   "source": [
    "type(a)"
   ]
  },
  {
   "cell_type": "code",
   "execution_count": 17,
   "id": "c8c9c6c3",
   "metadata": {},
   "outputs": [
    {
     "name": "stdout",
     "output_type": "stream",
     "text": [
      "140709237737408\n",
      "140709237737408\n"
     ]
    }
   ],
   "source": [
    "a = 10\n",
    "id1 = id(a)\n",
    "b = a +2-2\n",
    "id2 = id(b)\n",
    "print(id1)\n",
    "print(id2)"
   ]
  },
  {
   "cell_type": "code",
   "execution_count": 20,
   "id": "45dce185",
   "metadata": {},
   "outputs": [
    {
     "name": "stdout",
     "output_type": "stream",
     "text": [
      "140709237737408\n",
      "140709237737376\n",
      "140709237737408\n"
     ]
    }
   ],
   "source": [
    "a  = 10\n",
    "print(id(a))\n",
    "a = a -1\n",
    "print(id(a))\n",
    "a = a + 1 \n",
    "print(id(a))"
   ]
  },
  {
   "cell_type": "code",
   "execution_count": 31,
   "id": "a2246d56",
   "metadata": {},
   "outputs": [
    {
     "name": "stdout",
     "output_type": "stream",
     "text": [
      "24\n"
     ]
    }
   ],
   "source": [
    "# simple intrest using integer\n",
    "p = 100\n",
    "r = 12\n",
    "t = 2\n",
    "si = (p*r*t)//100\n",
    "print(si)"
   ]
  },
  {
   "cell_type": "code",
   "execution_count": 37,
   "id": "a13e253c",
   "metadata": {},
   "outputs": [
    {
     "name": "stdout",
     "output_type": "stream",
     "text": [
      "37.77777777777778\n",
      "37\n"
     ]
    }
   ],
   "source": [
    "# convert feranhite to celsius\n",
    "f = 100\n",
    "c = (f - 32)*5/9\n",
    "print(c)\n",
    "c = (f-32)*5//9\n",
    "print(c)"
   ]
  },
  {
   "cell_type": "code",
   "execution_count": 38,
   "id": "3ff1500d",
   "metadata": {},
   "outputs": [
    {
     "name": "stdout",
     "output_type": "stream",
     "text": [
      "1200\n",
      "10\n",
      "3\n",
      "360\n"
     ]
    }
   ],
   "source": [
    "# simple intrest usning int function and tack input from user using input function\n",
    "p = int(input())\n",
    "r = int(input())\n",
    "t = int(input())\n",
    "si = (p*r*t)//100\n",
    "print(si)"
   ]
  },
  {
   "cell_type": "code",
   "execution_count": 2,
   "id": "0dbe211b",
   "metadata": {},
   "outputs": [
    {
     "name": "stdout",
     "output_type": "stream",
     "text": [
      "2\n",
      "-17\n"
     ]
    }
   ],
   "source": [
    "# convert feranhite to celsius usning int function and tack input from user using input function\n",
    "f = int(input())\n",
    "c = (f - 32) * 5//9\n",
    "print(c)\n"
   ]
  },
  {
   "cell_type": "markdown",
   "id": "63b78576",
   "metadata": {},
   "source": [
    "### Bollion data type Logical operator and Relational operator"
   ]
  },
  {
   "cell_type": "code",
   "execution_count": 4,
   "id": "74e96e40",
   "metadata": {},
   "outputs": [
    {
     "name": "stdout",
     "output_type": "stream",
     "text": [
      "21\n",
      "10\n",
      "True\n",
      "False\n",
      "True\n",
      "False\n",
      "False\n",
      "True\n"
     ]
    }
   ],
   "source": [
    "# Relational operators\n",
    "a = int(input())\n",
    "b = int(input())\n",
    "print(a > b)\n",
    "print(a < b)\n",
    "print(a >= b)\n",
    "print(a <= b)\n",
    "print(a == b)\n",
    "print(a != b)"
   ]
  },
  {
   "cell_type": "code",
   "execution_count": 8,
   "id": "f8083f8c",
   "metadata": {},
   "outputs": [
    {
     "name": "stdout",
     "output_type": "stream",
     "text": [
      "False\n",
      "True\n",
      "True\n"
     ]
    }
   ],
   "source": [
    "# Logical Operators\n",
    "c1 = a > 10\n",
    "c2 = b > 10\n",
    "r1 = c1\n",
    "r2 = c2\n",
    "print(c1 and c2)\n",
    "print(c1 or c2)\n",
    "print(not(r2))"
   ]
  },
  {
   "cell_type": "markdown",
   "id": "4f8d0329",
   "metadata": {},
   "source": [
    "### if else condition"
   ]
  },
  {
   "cell_type": "code",
   "execution_count": 18,
   "id": "7ad0963d",
   "metadata": {},
   "outputs": [
    {
     "name": "stdout",
     "output_type": "stream",
     "text": [
      "false\n"
     ]
    }
   ],
   "source": [
    "a = 5\n",
    "if a >= 6:\n",
    "    print(\"true\")\n",
    "else: \n",
    "    print(\"false\")"
   ]
  },
  {
   "cell_type": "code",
   "execution_count": 22,
   "id": "0089bfd2",
   "metadata": {},
   "outputs": [
    {
     "name": "stdout",
     "output_type": "stream",
     "text": [
      "2\n",
      "this num is even\n"
     ]
    }
   ],
   "source": [
    "a = int(input())\n",
    "if a % 2 == 0:\n",
    "    print(\"this num is even\")\n",
    "else:\n",
    "    print(\"this number is odd\")"
   ]
  },
  {
   "cell_type": "code",
   "execution_count": 23,
   "id": "f3b6cba9",
   "metadata": {},
   "outputs": [
    {
     "name": "stdout",
     "output_type": "stream",
     "text": [
      "This is an equilateral triangle\n"
     ]
    }
   ],
   "source": [
    "a = 5\n",
    "b = 5\n",
    "c = 5\n",
    "\n",
    "if (a != b) and (b != c) and (a != c):\n",
    "    print('This is a scalene triangle')\n",
    "\n",
    "elif (a == b) and (b == c):\n",
    "    print('This is an equilateral triangle')\n",
    "\n",
    "else:\n",
    "    print('This is an isosceles triangle')"
   ]
  },
  {
   "cell_type": "code",
   "execution_count": 24,
   "id": "7ddf2345",
   "metadata": {},
   "outputs": [
    {
     "name": "stdout",
     "output_type": "stream",
     "text": [
      "too low\n"
     ]
    }
   ],
   "source": [
    "n = 10\n",
    "\n",
    "\n",
    "if n>0 and n<=10:\n",
    "    print(\"too low\")\n",
    "\n",
    "elif n>10 and n<=20:\n",
    "    print(\"medium\")\n",
    "\n",
    "elif n>20 and n<=30:\n",
    "    print(\"large\")\n",
    "\n",
    "else:\n",
    "    print(\"too large\")"
   ]
  },
  {
   "cell_type": "code",
   "execution_count": 25,
   "id": "100b46cc",
   "metadata": {},
   "outputs": [
    {
     "name": "stdout",
     "output_type": "stream",
     "text": [
      "Inside if\n"
     ]
    }
   ],
   "source": [
    "x = 15\n",
    "if x <= 15:\n",
    "    print(\"Inside if\")\n",
    "else:\n",
    "    print(\"Inside else\")"
   ]
  },
  {
   "cell_type": "code",
   "execution_count": 26,
   "id": "69d87c22",
   "metadata": {},
   "outputs": [
    {
     "name": "stdout",
     "output_type": "stream",
     "text": [
      "Hello\n",
      "Hi\n"
     ]
    }
   ],
   "source": [
    "x = 5\n",
    "if x < 6:\n",
    "    print(\"Hello\")\n",
    "if x == 5:\n",
    "    print(\"Hi\")\n",
    "else:\n",
    "    print(\"Hey\")"
   ]
  },
  {
   "cell_type": "code",
   "execution_count": 33,
   "id": "373c4c7d",
   "metadata": {},
   "outputs": [
    {
     "name": "stdout",
     "output_type": "stream",
     "text": [
      "1\n",
      "2\n",
      "10\n",
      "c is the largest number\n"
     ]
    }
   ],
   "source": [
    "a = int(input())\n",
    "b = int(input())\n",
    "c = int(input())\n",
    "\n",
    "if a > b and a > c:\n",
    "    print(\"a is the largest number\")\n",
    "elif b > a and b > c:\n",
    "    print('b is the largest number')\n",
    "else:\n",
    "    print('c is the largest number')"
   ]
  },
  {
   "cell_type": "code",
   "execution_count": 37,
   "id": "6f8eb20e",
   "metadata": {},
   "outputs": [
    {
     "name": "stdout",
     "output_type": "stream",
     "text": [
      "15\n",
      "red\n"
     ]
    }
   ],
   "source": [
    "a = int(input())\n",
    "\n",
    "if a > 10:\n",
    "    print(\"red\")\n",
    "elif a >= 5:\n",
    "    print(\"green\")\n",
    "elif a > 0:\n",
    "    print(\"yellow\")"
   ]
  },
  {
   "cell_type": "code",
   "execution_count": 40,
   "id": "cc0f3ff8",
   "metadata": {},
   "outputs": [
    {
     "name": "stdout",
     "output_type": "stream",
     "text": [
      "14\n",
      "3\n",
      "2\n"
     ]
    }
   ],
   "source": [
    "# nested if else condition\n",
    "n = int(input())\n",
    "\n",
    "if n % 2 == 0:\n",
    "    m = int(input())\n",
    "    if m % 2 == 0:\n",
    "        print(1)\n",
    "    else:\n",
    "        print(2)\n",
    "else:\n",
    "    print(3)"
   ]
  },
  {
   "cell_type": "code",
   "execution_count": 42,
   "id": "a6f4dddf",
   "metadata": {},
   "outputs": [
    {
     "name": "stdout",
     "output_type": "stream",
     "text": [
      "B\n"
     ]
    }
   ],
   "source": [
    " if (10 < 0) and (0 < -10):\n",
    "     print(\"A\")\n",
    "\n",
    " elif (10 > 0) or False:\n",
    "     print(\"B\")\n",
    "\n",
    " else:\n",
    "     print(\"C\")"
   ]
  },
  {
   "cell_type": "code",
   "execution_count": 44,
   "id": "4810b4c3",
   "metadata": {},
   "outputs": [
    {
     "name": "stdout",
     "output_type": "stream",
     "text": [
      "B\n"
     ]
    }
   ],
   "source": [
    "if True or True:\n",
    "    if False and True or False:\n",
    "        print('A')\n",
    "    elif False and False or True and True:\n",
    "       print('B')\n",
    "    else:\n",
    "      print('C')\n",
    "else:\n",
    "     print('D')"
   ]
  },
  {
   "cell_type": "code",
   "execution_count": 58,
   "id": "c5d4e62e",
   "metadata": {},
   "outputs": [
    {
     "name": "stdout",
     "output_type": "stream",
     "text": [
      "hii\n"
     ]
    }
   ],
   "source": [
    "a = -1\n",
    "if a >= 10:\n",
    "    print(\"hello\")\n",
    "elif a <= 15:\n",
    "    print(\"hii\")"
   ]
  }
 ],
 "metadata": {
  "kernelspec": {
   "display_name": "Python 3 (ipykernel)",
   "language": "python",
   "name": "python3"
  },
  "language_info": {
   "codemirror_mode": {
    "name": "ipython",
    "version": 3
   },
   "file_extension": ".py",
   "mimetype": "text/x-python",
   "name": "python",
   "nbconvert_exporter": "python",
   "pygments_lexer": "ipython3",
   "version": "3.8.1"
  }
 },
 "nbformat": 4,
 "nbformat_minor": 5
}
