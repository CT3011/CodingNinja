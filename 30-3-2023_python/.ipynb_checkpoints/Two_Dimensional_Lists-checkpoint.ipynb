{
 "cells": [
  {
   "cell_type": "markdown",
   "id": "840ba1c4",
   "metadata": {},
   "source": [
    "# intro to 2D list"
   ]
  },
  {
   "cell_type": "code",
   "execution_count": 1,
   "id": "7a2b796d",
   "metadata": {},
   "outputs": [],
   "source": [
    "li = [[1,2,3,4],[5,6,7,8],[9,10,11,12],[13,14,15,16]]\n"
   ]
  },
  {
   "cell_type": "code",
   "execution_count": 2,
   "id": "2529605b",
   "metadata": {},
   "outputs": [
    {
     "data": {
      "text/plain": [
       "11"
      ]
     },
     "execution_count": 2,
     "metadata": {},
     "output_type": "execute_result"
    }
   ],
   "source": [
    "li[2][2]"
   ]
  },
  {
   "cell_type": "code",
   "execution_count": 4,
   "id": "8d5d5692",
   "metadata": {},
   "outputs": [
    {
     "data": {
      "text/plain": [
       "[[1, 2, 3, 4], [5, 6, 20, 8], [9, 10, 11, 12], [13, 14, 15, 16]]"
      ]
     },
     "execution_count": 4,
     "metadata": {},
     "output_type": "execute_result"
    }
   ],
   "source": [
    "li[1][2]=20\n",
    "li"
   ]
  },
  {
   "cell_type": "markdown",
   "id": "bc2b5293",
   "metadata": {},
   "source": [
    "# List Comprehension"
   ]
  },
  {
   "cell_type": "code",
   "execution_count": 5,
   "id": "0ffd3d41",
   "metadata": {},
   "outputs": [
    {
     "name": "stdout",
     "output_type": "stream",
     "text": [
      "[1, 4, 9, 16]\n",
      "[6]\n",
      "[6]\n",
      "[2, 4]\n",
      "[2, 4]\n"
     ]
    },
    {
     "data": {
      "text/plain": [
       "[['P', 'a', 'r', 'i', 'k', 'h'],\n",
       " ['R', 'o', 'h', 'a', 'n'],\n",
       " ['A', 'n', 'k', 'u', 's', 'h']]"
      ]
     },
     "execution_count": 5,
     "metadata": {},
     "output_type": "execute_result"
    }
   ],
   "source": [
    "li=[1,2,3,4]\n",
    "li_new=[]\n",
    "for ele in li:\n",
    "    li_new.append(ele**2)\n",
    "print(li_new)\n",
    "\n",
    "li_new_c=[ele**2 for ele in li]\n",
    "\n",
    "li_new_c\n",
    "\n",
    "li_even_square=[ele**2 for ele in li if ele%2==0]\n",
    "\n",
    "li_even_square\n",
    "\n",
    "li_even_square=[]\n",
    "for ele in li:\n",
    "    if ele %2==0:\n",
    "        li_even_square.append(ele)\n",
    "\n",
    "li_even_square\n",
    "\n",
    "li=[1,2,3,4,5,6,7,8,9]\n",
    "li_new=[]\n",
    "for ele in li:\n",
    "    if ele%2==0:\n",
    "        if ele %3==0:\n",
    "            li_new.append(ele)\n",
    "print(li_new)\n",
    "\n",
    "li_new_2=[ele  for ele in li if ele%2==0 if ele%3==0]\n",
    "\n",
    "print(li_new_2)\n",
    "\n",
    "li_1=[1,2,3,4,5]\n",
    "li_2=[2,4,6,7]\n",
    "li_inter=[]\n",
    "for ele in li_1:\n",
    "    for ele_2 in li_2:\n",
    "        if ele==ele_2:\n",
    "            li_inter.append(ele)\n",
    "print(li_inter)\n",
    "\n",
    "li_1=[1,2,3,4,5]\n",
    "li_2=[2,4,6,7]\n",
    "li_inter=[ele for ele in li_1 for ele2 in li_2 if ele==ele2]\n",
    "\n",
    "print(li_inter)\n",
    "\n",
    "li=[1,2,3,4,5]\n",
    "li_inter=[ele**2 if ele%2==0 else ele for ele in li]\n",
    "\n",
    "li_inter\n",
    "\n",
    "s=\"Parikh\"\n",
    "li=[ele for ele in s]\n",
    "\n",
    "li\n",
    "\n",
    "li=[\"Parikh\",\"Rohan\",\"Ankush\"]\n",
    "l1_2d=[[s for s in ele]for ele in li]\n",
    "\n",
    "l1_2d"
   ]
  },
  {
   "cell_type": "markdown",
   "id": "cb62155d",
   "metadata": {},
   "source": [
    "# input of the 2D list"
   ]
  },
  {
   "cell_type": "code",
   "execution_count": 31,
   "id": "f5e26320",
   "metadata": {},
   "outputs": [
    {
     "name": "stdout",
     "output_type": "stream",
     "text": [
      "3 4\n",
      "1 2 3 4\n",
      "5 6 7 8\n",
      "1 2 3 4\n"
     ]
    }
   ],
   "source": [
    "sr = input().split()\n",
    "n,m = int(sr[0]),int(sr[1])\n",
    "li = [[int(j) for j in input().split()] for i in range(n)]\n"
   ]
  },
  {
   "cell_type": "code",
   "execution_count": 4,
   "id": "2e8ea325",
   "metadata": {},
   "outputs": [
    {
     "data": {
      "text/plain": [
       "[[1, 2, 3, 4, 5], [6, 7, 8, 9], [10, 11, 12, 13, 14]]"
      ]
     },
     "execution_count": 4,
     "metadata": {},
     "output_type": "execute_result"
    }
   ],
   "source": [
    "li"
   ]
  },
  {
   "cell_type": "markdown",
   "id": "0b503f1b",
   "metadata": {},
   "source": [
    "# using single line input space seperated"
   ]
  },
  {
   "cell_type": "code",
   "execution_count": 7,
   "id": "9abefe69",
   "metadata": {},
   "outputs": [
    {
     "name": "stdout",
     "output_type": "stream",
     "text": [
      "3 4\n",
      "1 2 3 4 5 6 7 8 9 10 11 12\n"
     ]
    }
   ],
   "source": [
    "str = input().split()\n",
    "n,m = int(str[0]),int(str[1])\n",
    "b = input().split()\n",
    "li = [[int(b[m * i + j]) for j in range(m)] for i in range(n)]"
   ]
  },
  {
   "cell_type": "code",
   "execution_count": 9,
   "id": "34ca169f",
   "metadata": {},
   "outputs": [
    {
     "data": {
      "text/plain": [
       "[[1, 2, 3, 4], [5, 6, 7, 8], [9, 10, 11, 12]]"
      ]
     },
     "execution_count": 9,
     "metadata": {},
     "output_type": "execute_result"
    }
   ],
   "source": [
    "li"
   ]
  },
  {
   "cell_type": "code",
   "execution_count": 16,
   "id": "ee04d7e9",
   "metadata": {},
   "outputs": [
    {
     "name": "stdout",
     "output_type": "stream",
     "text": [
      "3 4 1 2 3 4 5 6 7 8 9 10 11 12 13 14\n"
     ]
    }
   ],
   "source": [
    "str = input().split()\n",
    "n,m = int(str[0]),int(str[1])\n",
    "b = str[2:]\n",
    "li2 = [[int(b[m * i + j]) for j in range(m)] for i in range(n)]"
   ]
  },
  {
   "cell_type": "code",
   "execution_count": 17,
   "id": "a4df6051",
   "metadata": {},
   "outputs": [
    {
     "data": {
      "text/plain": [
       "[[1, 2, 3, 4], [5, 6, 7, 8], [9, 10, 11, 12]]"
      ]
     },
     "execution_count": 17,
     "metadata": {},
     "output_type": "execute_result"
    }
   ],
   "source": [
    "li2"
   ]
  },
  {
   "cell_type": "markdown",
   "id": "2b305911",
   "metadata": {},
   "source": [
    "# print The 2D array "
   ]
  },
  {
   "cell_type": "code",
   "execution_count": 27,
   "id": "979ab7bb",
   "metadata": {},
   "outputs": [
    {
     "name": "stdout",
     "output_type": "stream",
     "text": [
      "1 2 3 4 \n",
      "5 6 7 \n",
      "9 10 11 12 \n"
     ]
    }
   ],
   "source": [
    "a = [[1, 2, 3, 4], [5, 6, 7], [9, 10, 11, 12]]\n",
    "n = len(a)\n",
    "for i in range(n):\n",
    "    m = len(a[i])\n",
    "    for j in range(m):\n",
    "        print(a[i][j],end=\" \")\n",
    "    print()"
   ]
  },
  {
   "cell_type": "code",
   "execution_count": 30,
   "id": "e68b07dc",
   "metadata": {},
   "outputs": [
    {
     "name": "stdout",
     "output_type": "stream",
     "text": [
      "1 2 3 4 \n",
      "5 6 7 \n",
      "9 10 11 12 \n"
     ]
    }
   ],
   "source": [
    "for row in a:\n",
    "    for ele in row:\n",
    "        print(ele,end=\" \")\n",
    "    print()"
   ]
  },
  {
   "cell_type": "markdown",
   "id": "2efb9de6",
   "metadata": {},
   "source": [
    "# Row Wise Sum"
   ]
  },
  {
   "cell_type": "code",
   "execution_count": 43,
   "id": "a7cd4418",
   "metadata": {},
   "outputs": [
    {
     "name": "stdout",
     "output_type": "stream",
     "text": [
      "how many rows? 4\n",
      "how many colums? 2\n",
      "1 2\n",
      "3 4\n",
      "5 6\n",
      "7 8\n",
      "3 7 11 15 "
     ]
    }
   ],
   "source": [
    "row = int(input(\"how many rows? \"))\n",
    "colums = int(input(\"how many colums? \"))\n",
    "\n",
    "li = [[int(j) for j in input().split()] for i in range(row)]\n",
    "for i in li:\n",
    "    c = 0\n",
    "    for j in i:\n",
    "        c = c + j\n",
    "    print(c,end=\" \")\n",
    "    "
   ]
  },
  {
   "cell_type": "markdown",
   "id": "3abc246b",
   "metadata": {},
   "source": [
    "# Largest column sum in 2D list"
   ]
  },
  {
   "cell_type": "code",
   "execution_count": 57,
   "id": "88ff477c",
   "metadata": {},
   "outputs": [
    {
     "name": "stdout",
     "output_type": "stream",
     "text": [
      "20 2\n"
     ]
    }
   ],
   "source": [
    "li = [[1,2,3,4],[8,7,6,5],[9,10,11,5]]\n",
    "row = len(li)\n",
    "column = len(li[0])\n",
    "max_sum = -1\n",
    "index = -1\n",
    "for j in range(column):\n",
    "    sum = 0\n",
    "    \n",
    "    for i in range(row):\n",
    "        sum = sum + li[i][j]\n",
    "    if sum > max_sum:\n",
    "        max_sum = sum\n",
    "        index = j\n",
    "print(max_sum, index)\n",
    "        "
   ]
  },
  {
   "cell_type": "markdown",
   "id": "45b8057c",
   "metadata": {},
   "source": [
    "# largest row or column in 2D list"
   ]
  },
  {
   "cell_type": "code",
   "execution_count": 92,
   "id": "272643f1",
   "metadata": {},
   "outputs": [
    {
     "name": "stdout",
     "output_type": "stream",
     "text": [
      "column  20\n"
     ]
    }
   ],
   "source": [
    "li = [[10,5],[10,4]]\n",
    "row = len(li)\n",
    "column = len(li[0])\n",
    "large1 = -1\n",
    "for i in range(row):\n",
    "    sum = 0\n",
    "    for j in range(column):\n",
    "        sum = sum + li[i][j]\n",
    "    if sum > large1:\n",
    "        large1 = sum \n",
    "\n",
    "large2 = -1\n",
    "for j in range(column):\n",
    "    sum1 = 0\n",
    "    for i in range(row):\n",
    "        sum1 = sum1 + li[i][j]\n",
    "    if sum1 > large2:\n",
    "        large2 = sum1\n",
    "\n",
    "if large1 >= large2:\n",
    "    print(\"row \",large1)\n",
    "else:\n",
    "    print(\"column \" ,large2)\n",
    "    "
   ]
  },
  {
   "cell_type": "code",
   "execution_count": null,
   "id": "657760c4",
   "metadata": {},
   "outputs": [],
   "source": []
  }
 ],
 "metadata": {
  "kernelspec": {
   "display_name": "Python 3 (ipykernel)",
   "language": "python",
   "name": "python3"
  },
  "language_info": {
   "codemirror_mode": {
    "name": "ipython",
    "version": 3
   },
   "file_extension": ".py",
   "mimetype": "text/x-python",
   "name": "python",
   "nbconvert_exporter": "python",
   "pygments_lexer": "ipython3",
   "version": "3.8.1"
  }
 },
 "nbformat": 4,
 "nbformat_minor": 5
}
