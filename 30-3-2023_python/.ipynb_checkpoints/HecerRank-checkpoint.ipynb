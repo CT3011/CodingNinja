{
 "cells": [
  {
   "cell_type": "code",
   "execution_count": 1,
   "id": "a1437572",
   "metadata": {},
   "outputs": [
    {
     "name": "stdout",
     "output_type": "stream",
     "text": [
      "0.4 0.4 0.2\n"
     ]
    }
   ],
   "source": [
    "a = [1,1,0,-1,-1]\n",
    "po = 0\n",
    "na = 0\n",
    "ze = 0\n",
    "for i in range(len(a)):\n",
    "    if a[i] > 0:\n",
    "        po = po + 1\n",
    "    elif a[i] < 0:\n",
    "        na = na + 1\n",
    "    else:\n",
    "        ze = ze + 1\n",
    "po1 = po / len(a)\n",
    "na1 = na / len(a)\n",
    "ze1 = ze / len(a)\n",
    "print(po1,na1,ze1)"
   ]
  },
  {
   "cell_type": "code",
   "execution_count": 2,
   "id": "bc770b02",
   "metadata": {},
   "outputs": [
    {
     "name": "stdout",
     "output_type": "stream",
     "text": [
      "6\n",
      "1 1 1 0 0 -1 -1\n",
      "0.42857142857142855\n",
      "0.2857142857142857\n",
      "0.2857142857142857\n"
     ]
    }
   ],
   "source": [
    "import math\n",
    "import os\n",
    "import random\n",
    "import re\n",
    "import sys\n",
    "\n",
    "#\n",
    "# Complete the 'plusMinus' function below.\n",
    "#\n",
    "# The function accepts INTEGER_ARRAY arr as parameter.\n",
    "#\n",
    "\n",
    "def plusMinus(arr):\n",
    "    # Write your code here\n",
    "    positive = 0\n",
    "    negative = 0\n",
    "    zero = 0\n",
    "    for i in range(len(arr)):\n",
    "        if arr[i] > 0:\n",
    "            positive += 1\n",
    "        elif arr[i] < 0:\n",
    "            negative += 1\n",
    "        else:\n",
    "            zero += 1\n",
    "    p = positive / len(arr)\n",
    "    n = negative / len(arr)\n",
    "    z = zero / len(arr)\n",
    "    print(p)\n",
    "    print(n)\n",
    "    print(z)\n",
    "if __name__ == '__main__':\n",
    "    n = int(input().strip())\n",
    "\n",
    "    arr = list(map(int, input().rstrip().split()))\n",
    "\n",
    "    plusMinus(arr)\n"
   ]
  },
  {
   "cell_type": "code",
   "execution_count": 5,
   "id": "4ea19a46",
   "metadata": {},
   "outputs": [
    {
     "name": "stdout",
     "output_type": "stream",
     "text": [
      "299 9271\n"
     ]
    }
   ],
   "source": [
    "\"\"\"\n",
    " Min-max sum\n",
    " min 'without min value in list'\n",
    " max 'without max value in list'\n",
    " arr = [7, 69, 2, 221, 8974]\n",
    " in this array min=2 and max=8974\n",
    "\"\"\"\n",
    "arr = [7, 69, 2, 221, 8974]\n",
    "small = 0\n",
    "large = 0\n",
    "temp = 0\n",
    "arr.sort()\n",
    "for i in range(1,len(arr)):\n",
    "    large += arr[i]\n",
    "for i in range(len(arr)-1):\n",
    "    small += arr[i]\n",
    "print(small, large)"
   ]
  },
  {
   "cell_type": "code",
   "execution_count": 99,
   "id": "a40d5d81",
   "metadata": {},
   "outputs": [
    {
     "name": "stdout",
     "output_type": "stream",
     "text": [
      "19\n"
     ]
    }
   ],
   "source": [
    "\"\"\"\n",
    "Time Conversion\n",
    "convert time in 12 hour ap,pm to 24 hour \n",
    "ex: 07:05:45PM\n",
    "return : 19:05:45\n",
    "\"\"\"\n",
    "hour = \"07:05:45PM\"\n",
    "convert = 0\n",
    "time = 12\n",
    "new_hour = \"\"\n",
    "s = hour.split(\":\")\n",
    "for i in range(len(s)):\n",
    "#     print(\"time\",s[0][1])\n",
    "    if s[2][2] == \"P\":\n",
    "        time = time + int(s[i][1])        \n",
    "    break\n",
    "print(time)"
   ]
  },
  {
   "cell_type": "code",
   "execution_count": 104,
   "id": "77cca3b2",
   "metadata": {},
   "outputs": [
    {
     "ename": "KeyError",
     "evalue": "'OUTPUT_PATH'",
     "output_type": "error",
     "traceback": [
      "\u001b[1;31m---------------------------------------------------------------------------\u001b[0m",
      "\u001b[1;31mKeyError\u001b[0m                                  Traceback (most recent call last)",
      "\u001b[1;32m~\\AppData\\Local\\Temp/ipykernel_18924/117859119.py\u001b[0m in \u001b[0;36m<module>\u001b[1;34m\u001b[0m\n\u001b[0;32m     26\u001b[0m \u001b[1;33m\u001b[0m\u001b[0m\n\u001b[0;32m     27\u001b[0m \u001b[1;32mif\u001b[0m \u001b[0m__name__\u001b[0m \u001b[1;33m==\u001b[0m \u001b[1;34m'__main__'\u001b[0m\u001b[1;33m:\u001b[0m\u001b[1;33m\u001b[0m\u001b[1;33m\u001b[0m\u001b[0m\n\u001b[1;32m---> 28\u001b[1;33m     \u001b[0mfptr\u001b[0m \u001b[1;33m=\u001b[0m \u001b[0mopen\u001b[0m\u001b[1;33m(\u001b[0m\u001b[0mos\u001b[0m\u001b[1;33m.\u001b[0m\u001b[0menviron\u001b[0m\u001b[1;33m[\u001b[0m\u001b[1;34m'OUTPUT_PATH'\u001b[0m\u001b[1;33m]\u001b[0m\u001b[1;33m,\u001b[0m \u001b[1;34m'w'\u001b[0m\u001b[1;33m)\u001b[0m\u001b[1;33m\u001b[0m\u001b[1;33m\u001b[0m\u001b[0m\n\u001b[0m\u001b[0;32m     29\u001b[0m \u001b[1;33m\u001b[0m\u001b[0m\n\u001b[0;32m     30\u001b[0m     \u001b[0ms\u001b[0m \u001b[1;33m=\u001b[0m \u001b[0minput\u001b[0m\u001b[1;33m(\u001b[0m\u001b[1;33m)\u001b[0m\u001b[1;33m\u001b[0m\u001b[1;33m\u001b[0m\u001b[0m\n",
      "\u001b[1;32mc:\\users\\chira\\appdata\\local\\programs\\python\\python38\\lib\\os.py\u001b[0m in \u001b[0;36m__getitem__\u001b[1;34m(self, key)\u001b[0m\n\u001b[0;32m    671\u001b[0m         \u001b[1;32mexcept\u001b[0m \u001b[0mKeyError\u001b[0m\u001b[1;33m:\u001b[0m\u001b[1;33m\u001b[0m\u001b[1;33m\u001b[0m\u001b[0m\n\u001b[0;32m    672\u001b[0m             \u001b[1;31m# raise KeyError with the original key value\u001b[0m\u001b[1;33m\u001b[0m\u001b[1;33m\u001b[0m\u001b[1;33m\u001b[0m\u001b[0m\n\u001b[1;32m--> 673\u001b[1;33m             \u001b[1;32mraise\u001b[0m \u001b[0mKeyError\u001b[0m\u001b[1;33m(\u001b[0m\u001b[0mkey\u001b[0m\u001b[1;33m)\u001b[0m \u001b[1;32mfrom\u001b[0m \u001b[1;32mNone\u001b[0m\u001b[1;33m\u001b[0m\u001b[1;33m\u001b[0m\u001b[0m\n\u001b[0m\u001b[0;32m    674\u001b[0m         \u001b[1;32mreturn\u001b[0m \u001b[0mself\u001b[0m\u001b[1;33m.\u001b[0m\u001b[0mdecodevalue\u001b[0m\u001b[1;33m(\u001b[0m\u001b[0mvalue\u001b[0m\u001b[1;33m)\u001b[0m\u001b[1;33m\u001b[0m\u001b[1;33m\u001b[0m\u001b[0m\n\u001b[0;32m    675\u001b[0m \u001b[1;33m\u001b[0m\u001b[0m\n",
      "\u001b[1;31mKeyError\u001b[0m: 'OUTPUT_PATH'"
     ]
    }
   ],
   "source": [
    "#!/bin/python3\n",
    "\n",
    "import math\n",
    "import os\n",
    "import random\n",
    "import re\n",
    "import sys\n",
    "\n",
    "#\n",
    "# Complete the 'timeConversion' function below.\n",
    "#\n",
    "# The function is expected to return a STRING.\n",
    "# The function accepts STRING s as parameter.\n",
    "#\n",
    "\n",
    "def timeConversion(time_str):\n",
    "    hour, minute, period = time_str.split(':')\n",
    "    if period == 'AM':\n",
    "        if hour == '12':\n",
    "            hour = '00'\n",
    "        return f\"{hour}:{minute}\"\n",
    "    else:\n",
    "        if hour != '12':\n",
    "            hour = str(int(hour) + 12)\n",
    "        return f\"{hour}:{minute}\"\n",
    "\n",
    "if __name__ == '__main__':\n",
    "    fptr = open(os.environ['OUTPUT_PATH'], 'w')\n",
    "\n",
    "    s = input()\n",
    "\n",
    "    result = timeConversion(s)\n",
    "\n",
    "    fptr.write(result + '\\n')\n",
    "\n",
    "    \n",
    "    fptr.close()"
   ]
  },
  {
   "cell_type": "markdown",
   "id": "2776377b",
   "metadata": {},
   "source": [
    "# Breaking the Records "
   ]
  },
  {
   "cell_type": "code",
   "execution_count": 3,
   "id": "e8f89f4a",
   "metadata": {},
   "outputs": [
    {
     "name": "stdout",
     "output_type": "stream",
     "text": [
      "2 4\n"
     ]
    }
   ],
   "source": [
    "scores = [10, 5, 20, 20, 4, 5, 2, 25, 1]\n",
    "high_s = scores[0]\n",
    "low_s = scores[0]\n",
    "high_c = 0\n",
    "low_c = 0\n",
    "for i in scores:\n",
    "    if i > high_s:\n",
    "        high_s = i\n",
    "        high_c += 1\n",
    "    elif i < low_s:\n",
    "        low_s = i\n",
    "        low_c += 1\n",
    "print(high_c, low_c)\n",
    "        "
   ]
  },
  {
   "cell_type": "code",
   "execution_count": 4,
   "id": "6cddcdbf",
   "metadata": {},
   "outputs": [
    {
     "name": "stdout",
     "output_type": "stream",
     "text": [
      "2 4\n"
     ]
    }
   ],
   "source": [
    "highest_score = scores[0]\n",
    "lowest_score = scores[0]\n",
    "highest_count = 0\n",
    "lowest_count = 0\n",
    "for score in scores:\n",
    "    if score > highest_score:\n",
    "        highest_score = score\n",
    "        highest_count += 1\n",
    "    elif score < lowest_score:\n",
    "        lowest_score = score\n",
    "        lowest_count += 1\n",
    "print(highest_count,lowest_count)"
   ]
  },
  {
   "cell_type": "markdown",
   "id": "62e5a45e",
   "metadata": {},
   "source": [
    "# Devesibal sum pair"
   ]
  },
  {
   "cell_type": "code",
   "execution_count": 84,
   "id": "fd8e0724",
   "metadata": {},
   "outputs": [
    {
     "name": "stdout",
     "output_type": "stream",
     "text": [
      "[(1, 2), (1, 3), (1, 4), (1, 5), (1, 6), (2, 1), (2, 3), (2, 4), (2, 5), (2, 6), (3, 1), (3, 2), (3, 4), (3, 5), (3, 6), (4, 1), (4, 2), (4, 3), (4, 5), (4, 6), (5, 1), (5, 2), (5, 3), (5, 4), (5, 6), (6, 1), (6, 2), (6, 3), (6, 4), (6, 5)]\n",
      "________________\n",
      "[3, 4, 5, 6, 7, 3, 5, 6, 7, 8, 4, 5, 7, 8, 9, 5, 6, 7, 9, 10, 6, 7, 8, 9, 11, 7, 8, 9, 10, 11]\n",
      "ans 6\n"
     ]
    }
   ],
   "source": [
    "ar = [1,2,3,4,5,6]\n",
    "k = 5\n",
    "li = []\n",
    "sumList = []\n",
    "count = 0\n",
    "for i in ar:\n",
    "    c = 0\n",
    "    for j in ar:\n",
    "        if i == j:\n",
    "            continue\n",
    "        c = i,j\n",
    "        li.append(c)\n",
    "print(li)\n",
    "for i in range(len(li)):\n",
    "    ans = li[i]\n",
    "    sum = ans[0] + ans[1]\n",
    "    sumList.append(sum)\n",
    "print(\"________________\")\n",
    "print(sumList)\n",
    "for i in sumList:\n",
    "    if i % k == 0:\n",
    "        count = count + 1\n",
    "#         print(\"sums\",i)\n",
    "print(\"ans\",count)"
   ]
  },
  {
   "cell_type": "code",
   "execution_count": 94,
   "id": "9f1b5836",
   "metadata": {},
   "outputs": [
    {
     "name": "stdout",
     "output_type": "stream",
     "text": [
      "3\n"
     ]
    }
   ],
   "source": [
    "arr = [5,3,1,2,4]\n",
    "arr.sort()\n",
    "for i in range(len(arr)):\n",
    "    c = i // 2\n",
    "print(arr[c])"
   ]
  },
  {
   "cell_type": "markdown",
   "id": "679b5ec7",
   "metadata": {},
   "source": [
    "# find unique element in list"
   ]
  },
  {
   "cell_type": "code",
   "execution_count": 104,
   "id": "ef65afdd",
   "metadata": {},
   "outputs": [
    {
     "name": "stdout",
     "output_type": "stream",
     "text": [
      "4\n"
     ]
    }
   ],
   "source": [
    "a = [1,2,3,4,3,2,1]\n",
    "count = 0\n",
    "lon = 0\n",
    "for i in a:\n",
    "    if a.count(i)==1:\n",
    "        print(i)"
   ]
  }
 ],
 "metadata": {
  "kernelspec": {
   "display_name": "Python 3 (ipykernel)",
   "language": "python",
   "name": "python3"
  },
  "language_info": {
   "codemirror_mode": {
    "name": "ipython",
    "version": 3
   },
   "file_extension": ".py",
   "mimetype": "text/x-python",
   "name": "python",
   "nbconvert_exporter": "python",
   "pygments_lexer": "ipython3",
   "version": "3.8.1"
  }
 },
 "nbformat": 4,
 "nbformat_minor": 5
}
