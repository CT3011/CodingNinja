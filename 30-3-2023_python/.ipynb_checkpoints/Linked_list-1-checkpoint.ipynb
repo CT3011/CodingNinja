{
 "cells": [
  {
   "cell_type": "markdown",
   "id": "fdebdfff",
   "metadata": {},
   "source": [
    "# linked List -1"
   ]
  },
  {
   "cell_type": "code",
   "execution_count": 3,
   "id": "4ca27551",
   "metadata": {},
   "outputs": [],
   "source": [
    "class linked_list:\n",
    "    \n",
    "    def __init__(self,data):\n",
    "        self.data = data\n",
    "        self.next = next"
   ]
  },
  {
   "cell_type": "code",
   "execution_count": 5,
   "id": "aaf0a4de",
   "metadata": {},
   "outputs": [
    {
     "name": "stdout",
     "output_type": "stream",
     "text": [
      "15\n",
      "20\n",
      "20\n",
      "<__main__.linked_list object at 0x0000024B8A370D00>\n",
      "<__main__.linked_list object at 0x0000024B89E69670>\n",
      "<__main__.linked_list object at 0x0000024B89E69670>\n"
     ]
    }
   ],
   "source": [
    "a = linked_list(15)\n",
    "b = linked_list(20)\n",
    "a.next = b\n",
    "print(a.data)\n",
    "print(b.data)\n",
    "print(a.next.data)\n",
    "print(a)\n",
    "print(a.next)\n",
    "print(b)"
   ]
  },
  {
   "cell_type": "code",
   "execution_count": 6,
   "id": "253d2329",
   "metadata": {},
   "outputs": [],
   "source": [
    "class Node:\n",
    "    def __init__(self, data):\n",
    "        self.data = data\n",
    "        self.next = None\n",
    "        \n",
    "def printLL(head):\n",
    "    while head is not None:\n",
    "        print(head.data,end=\" \")\n",
    "        head = head.next"
   ]
  },
  {
   "cell_type": "code",
   "execution_count": 7,
   "id": "6cddafc9",
   "metadata": {},
   "outputs": [
    {
     "name": "stdout",
     "output_type": "stream",
     "text": [
      "20 10 "
     ]
    }
   ],
   "source": [
    "a = Node(10)\n",
    "b = Node(20)\n",
    "b.next = a\n",
    "printLL(b)"
   ]
  },
  {
   "cell_type": "code",
   "execution_count": 9,
   "id": "d90d41b0",
   "metadata": {},
   "outputs": [],
   "source": [
    "class Node:\n",
    "    def __init__(self, data):\n",
    "        self.data = data\n",
    "        self.next = None\n",
    "        \n",
    "def printLL(head):\n",
    "    while head is not None:\n",
    "        print(head.data,end=\" \")\n",
    "        head = head.next"
   ]
  },
  {
   "cell_type": "code",
   "execution_count": 10,
   "id": "74d92988",
   "metadata": {},
   "outputs": [
    {
     "name": "stdout",
     "output_type": "stream",
     "text": [
      "20 30 40 "
     ]
    }
   ],
   "source": [
    "node1 = Node(10)\n",
    "node2 = Node(20)\n",
    "node3 = Node(30)\n",
    "node4 = Node(40)\n",
    "node1.next = node2\n",
    "node2.next = node3\n",
    "node3.next = node4\n",
    "printLL(node2)"
   ]
  },
  {
   "cell_type": "markdown",
   "id": "bb8e9f46",
   "metadata": {},
   "source": [
    "# Take input for the linked list"
   ]
  },
  {
   "cell_type": "code",
   "execution_count": 24,
   "id": "9d8bcd10",
   "metadata": {},
   "outputs": [],
   "source": [
    "class noad:\n",
    "    def __init__(self,data):\n",
    "        self.data = data\n",
    "        self.next = None"
   ]
  },
  {
   "cell_type": "code",
   "execution_count": 25,
   "id": "84d45ed1",
   "metadata": {},
   "outputs": [
    {
     "name": "stdout",
     "output_type": "stream",
     "text": [
      "1 2 3 4 5 -1\n"
     ]
    }
   ],
   "source": [
    "def takeInput():\n",
    "    \n",
    "    inputList = [int(ele) for ele in input().split(\" \")]\n",
    "    head = None\n",
    "    \n",
    "    for currData in inputList:\n",
    "        if currData == -1:\n",
    "            break\n",
    "        \n",
    "        newNode = noad(currData)\n",
    "        \n",
    "        if head is None:\n",
    "            head = newNode\n",
    "        else:\n",
    "            curr = head\n",
    "            while curr.next is not None:\n",
    "                curr = curr.next\n",
    "            curr.next = newNode\n",
    "    return head\n",
    "\n",
    "h1 = takeInput()"
   ]
  },
  {
   "cell_type": "code",
   "execution_count": 26,
   "id": "1aa1438d",
   "metadata": {},
   "outputs": [
    {
     "name": "stdout",
     "output_type": "stream",
     "text": [
      "2\n"
     ]
    }
   ],
   "source": [
    "print(h1.next.data)"
   ]
  },
  {
   "cell_type": "code",
   "execution_count": null,
   "id": "e09b8c7e",
   "metadata": {},
   "outputs": [],
   "source": []
  },
  {
   "cell_type": "code",
   "execution_count": null,
   "id": "074d84a4",
   "metadata": {},
   "outputs": [],
   "source": []
  },
  {
   "cell_type": "code",
   "execution_count": 31,
   "id": "45fd98af",
   "metadata": {},
   "outputs": [
    {
     "name": "stdout",
     "output_type": "stream",
     "text": [
      "1 2 3 4 5 -1\n"
     ]
    }
   ],
   "source": [
    "def getInput():\n",
    "    \n",
    "    takeInput = [int(i) for i in input().split()]\n",
    "    head = None\n",
    "    \n",
    "    for crrdata in takeInput:\n",
    "        if crrdata == -1:\n",
    "            break\n",
    "        \n",
    "        newNod = noad(crrdata)\n",
    "        \n",
    "        if head is None:\n",
    "            head = newNod\n",
    "        else:\n",
    "            crr = head\n",
    "            while crr.next is not None:\n",
    "                crr = crr.next\n",
    "            crr.next = newNod\n",
    "    \n",
    "    return head\n",
    "\n",
    "h2 = getInput()"
   ]
  },
  {
   "cell_type": "code",
   "execution_count": 37,
   "id": "ae4f43ee",
   "metadata": {},
   "outputs": [
    {
     "name": "stdout",
     "output_type": "stream",
     "text": [
      "1\n",
      "2\n",
      "<__main__.noad object at 0x00000216F93170D0>\n"
     ]
    }
   ],
   "source": [
    "print(h2.data)\n",
    "print(h2.next.data)\n",
    "print(h2.next)"
   ]
  },
  {
   "cell_type": "code",
   "execution_count": null,
   "id": "6edc8820",
   "metadata": {},
   "outputs": [],
   "source": []
  }
 ],
 "metadata": {
  "kernelspec": {
   "display_name": "Python 3 (ipykernel)",
   "language": "python",
   "name": "python3"
  },
  "language_info": {
   "codemirror_mode": {
    "name": "ipython",
    "version": 3
   },
   "file_extension": ".py",
   "mimetype": "text/x-python",
   "name": "python",
   "nbconvert_exporter": "python",
   "pygments_lexer": "ipython3",
   "version": "3.8.1"
  }
 },
 "nbformat": 4,
 "nbformat_minor": 5
}
