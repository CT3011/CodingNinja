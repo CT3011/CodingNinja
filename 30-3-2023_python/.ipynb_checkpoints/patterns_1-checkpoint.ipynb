{
 "cells": [
  {
   "cell_type": "code",
   "execution_count": null,
   "id": "9d5cb959",
   "metadata": {},
   "outputs": [],
   "source": [
    "### print pattern\n",
    "n = 4\n",
    "****\n",
    "****\n",
    "****\n",
    "****"
   ]
  },
  {
   "cell_type": "code",
   "execution_count": 6,
   "id": "b466694e",
   "metadata": {},
   "outputs": [
    {
     "name": "stdout",
     "output_type": "stream",
     "text": [
      "4\n",
      "****\n",
      "****\n",
      "****\n",
      "****\n"
     ]
    }
   ],
   "source": [
    "n = int(input())\n",
    "# first question is how many rows?\n",
    "# ans is i th row\n",
    "i = 1\n",
    "\n",
    "while i <= n:\n",
    "    # Qoestion How many collums?\n",
    "    # ans is j th collum\n",
    "    j = 1\n",
    "    while j <= n:\n",
    "        # what to print?\n",
    "        # print *\n",
    "        print('*',end='')\n",
    "        j = j + 1\n",
    "    print()\n",
    "    i = i + 1"
   ]
  },
  {
   "cell_type": "code",
   "execution_count": null,
   "id": "61b67528",
   "metadata": {},
   "outputs": [],
   "source": [
    "# pattern\n",
    "1111\n",
    "2222\n",
    "3333\n",
    "4444"
   ]
  },
  {
   "cell_type": "code",
   "execution_count": 12,
   "id": "dd7f6426",
   "metadata": {},
   "outputs": [
    {
     "name": "stdout",
     "output_type": "stream",
     "text": [
      "4\n",
      "1111\n",
      "2222\n",
      "3333\n",
      "4444\n"
     ]
    }
   ],
   "source": [
    "n = int(input())\n",
    "i = 1\n",
    "\n",
    "while i <= n:\n",
    "    j = 1\n",
    "    while j <= n:\n",
    "        print(i,end='')\n",
    "        j = j + 1\n",
    "    print()\n",
    "    i = i + 1"
   ]
  },
  {
   "cell_type": "code",
   "execution_count": null,
   "id": "190f7a3c",
   "metadata": {},
   "outputs": [],
   "source": [
    "# paterns\n",
    "1234\n",
    "1234\n",
    "1234\n",
    "1234"
   ]
  },
  {
   "cell_type": "code",
   "execution_count": 13,
   "id": "0072170a",
   "metadata": {},
   "outputs": [
    {
     "name": "stdout",
     "output_type": "stream",
     "text": [
      "4\n",
      "1234\n",
      "1234\n",
      "1234\n",
      "1234\n"
     ]
    }
   ],
   "source": [
    "n = int(input())\n",
    "i = 1\n",
    "\n",
    "while i <= n:\n",
    "    j = 1\n",
    "    while j <= n:\n",
    "        print(j,end='')\n",
    "        j = j + 1\n",
    "    print()\n",
    "    i = i + 1"
   ]
  },
  {
   "cell_type": "code",
   "execution_count": null,
   "id": "9fb7951f",
   "metadata": {},
   "outputs": [],
   "source": [
    "#patterns\n",
    "4321\n",
    "4321\n",
    "4321\n",
    "4321"
   ]
  },
  {
   "cell_type": "code",
   "execution_count": 24,
   "id": "134aaa9d",
   "metadata": {},
   "outputs": [
    {
     "name": "stdout",
     "output_type": "stream",
     "text": [
      "4\n",
      "4321\n",
      "4321\n",
      "4321\n",
      "4321\n"
     ]
    }
   ],
   "source": [
    "n = int(input())\n",
    "i = 1\n",
    "\n",
    "while i<=n:\n",
    "    j = 1\n",
    "    while j <= n:\n",
    "        print( n+1 - j, end='')\n",
    "        j = j + 1\n",
    "    print()\n",
    "    i = i + 1"
   ]
  },
  {
   "cell_type": "code",
   "execution_count": null,
   "id": "beb62645",
   "metadata": {},
   "outputs": [],
   "source": [
    "# print Triangual Patterns\n",
    "1\n",
    "12\n",
    "123\n",
    "1234"
   ]
  },
  {
   "cell_type": "code",
   "execution_count": 25,
   "id": "a4aa0f39",
   "metadata": {},
   "outputs": [
    {
     "name": "stdout",
     "output_type": "stream",
     "text": [
      "4\n",
      "1\n",
      "12\n",
      "123\n",
      "1234\n"
     ]
    }
   ],
   "source": [
    "n = int(input())\n",
    "i = 1\n",
    "\n",
    "while i<=n:\n",
    "    j = 1\n",
    "    while j <= i:\n",
    "        print(j, end='')\n",
    "        j = j + 1\n",
    "    print()\n",
    "    i = i + 1"
   ]
  },
  {
   "cell_type": "code",
   "execution_count": null,
   "id": "cbc10da2",
   "metadata": {},
   "outputs": [],
   "source": [
    "# print Triangual Patterns\n",
    "1\n",
    "23\n",
    "345\n",
    "4567"
   ]
  },
  {
   "cell_type": "code",
   "execution_count": 32,
   "id": "a2ece975",
   "metadata": {},
   "outputs": [
    {
     "name": "stdout",
     "output_type": "stream",
     "text": [
      "4\n",
      "1\n",
      "23\n",
      "345\n",
      "4567\n"
     ]
    }
   ],
   "source": [
    "n = int(input())\n",
    "i = 1\n",
    "\n",
    "while i<=n:\n",
    "    j = 1\n",
    "    while j <= i:\n",
    "        print(i + j - 1, end='')\n",
    "        j = j + 1\n",
    "    print()\n",
    "    i = i + 1"
   ]
  },
  {
   "cell_type": "code",
   "execution_count": null,
   "id": "2b3ca584",
   "metadata": {},
   "outputs": [],
   "source": [
    "# print Triangual Patterns\n",
    "1\n",
    "23\n",
    "456\n",
    "78910"
   ]
  },
  {
   "cell_type": "code",
   "execution_count": 35,
   "id": "1c6a8006",
   "metadata": {},
   "outputs": [
    {
     "name": "stdout",
     "output_type": "stream",
     "text": [
      "4\n",
      "1\n",
      "23\n",
      "456\n",
      "78910\n"
     ]
    }
   ],
   "source": [
    "n = int(input())\n",
    "i = 1\n",
    "p =1\n",
    "while i<=n:\n",
    "    j = 1\n",
    "    while j <= i:\n",
    "        print(p, end='')\n",
    "        j = j + 1\n",
    "        p = p + 1\n",
    "    print()\n",
    "    i = i + 1"
   ]
  },
  {
   "cell_type": "code",
   "execution_count": null,
   "id": "32886d57",
   "metadata": {},
   "outputs": [],
   "source": [
    "assignment pattern\n",
    "1\n",
    "11\n",
    "202\n",
    "3003"
   ]
  },
  {
   "cell_type": "code",
   "execution_count": 37,
   "id": "0ff76808",
   "metadata": {},
   "outputs": [
    {
     "name": "stdout",
     "output_type": "stream",
     "text": [
      "4\n",
      "1\n",
      "11\n",
      "202\n",
      "3003\n"
     ]
    }
   ],
   "source": [
    "n = int(input())\n",
    "i = 1\n",
    "while i<=n:\n",
    "    j = 1\n",
    "    while j <= i:\n",
    "        if i == 1:\n",
    "            print(1, end=\"\")\n",
    "        elif j == 1 or j == i:\n",
    "            print(i -1, end=\"\")\n",
    "        else:\n",
    "            print(0, end=\"\")\n",
    "        j = j + 1\n",
    "    print()\n",
    "    i = i + 1"
   ]
  },
  {
   "cell_type": "code",
   "execution_count": null,
   "id": "e287f2a2",
   "metadata": {},
   "outputs": [],
   "source": [
    "1234\n",
    "123\n",
    "12\n",
    "1"
   ]
  },
  {
   "cell_type": "code",
   "execution_count": 67,
   "id": "b4f242b0",
   "metadata": {},
   "outputs": [
    {
     "name": "stdout",
     "output_type": "stream",
     "text": [
      "3\n",
      "***\n",
      "**\n",
      "*\n"
     ]
    }
   ],
   "source": [
    "n = int(input())\n",
    "i = 1\n",
    "while i < n:\n",
    "    j = 1\n",
    "    while j <= n-i+1:\n",
    "        print(\"*\",end=\"\")\n",
    "        j = j + 1\n",
    "    print()\n",
    "    i = i + 1"
   ]
  },
  {
   "cell_type": "code",
   "execution_count": 70,
   "id": "d63a6fbd",
   "metadata": {},
   "outputs": [
    {
     "name": "stdout",
     "output_type": "stream",
     "text": [
      "3\n",
      "123\n",
      "12\n",
      "1\n"
     ]
    }
   ],
   "source": [
    "n = int(input())\n",
    "i = 1\n",
    "\n",
    "while(i <=n):\n",
    "    j = 1\n",
    "    while(j <= n-i + 1):\n",
    "        print(j,end=\"\")\n",
    "        j = j+1\n",
    "    print()\n",
    "    i = i + 1"
   ]
  },
  {
   "cell_type": "code",
   "execution_count": null,
   "id": "7f81dc32",
   "metadata": {},
   "outputs": [],
   "source": [
    "4444\n",
    "333\n",
    "22\n",
    "1"
   ]
  },
  {
   "cell_type": "code",
   "execution_count": 72,
   "id": "07fb6713",
   "metadata": {},
   "outputs": [
    {
     "name": "stdout",
     "output_type": "stream",
     "text": [
      "4\n",
      "4444\n",
      "333\n",
      "22\n",
      "1\n"
     ]
    }
   ],
   "source": [
    "n = int(input())\n",
    "i = 1\n",
    "while i <= n:\n",
    "    j = 1\n",
    "    while j <= n - i + 1:\n",
    "        print(n - i +1,end=\"\")\n",
    "        j = j +1\n",
    "    print()\n",
    "    i = i + 1\n",
    "        "
   ]
  },
  {
   "cell_type": "code",
   "execution_count": 22,
   "id": "646ba7ec",
   "metadata": {},
   "outputs": [
    {
     "name": "stdout",
     "output_type": "stream",
     "text": [
      "1234\n",
      "6  4\n"
     ]
    }
   ],
   "source": [
    "# sum of even and odd numbers\n",
    "# ex: n = 1234 even 6 odd 4\n",
    "n = int(input())\n",
    "even = 0\n",
    "odd = 0\n",
    "while n > 0:\n",
    "    list = n % 10\n",
    "    if list % 2 == 0:\n",
    "        even = even + list\n",
    "    else:\n",
    "        odd  = odd + list\n",
    "    n = n // 10\n",
    "print(even,\"\",odd)\n"
   ]
  },
  {
   "cell_type": "code",
   "execution_count": 15,
   "id": "be44f3e3",
   "metadata": {},
   "outputs": [
    {
     "name": "stdout",
     "output_type": "stream",
     "text": [
      "12\n",
      "1\n"
     ]
    }
   ],
   "source": [
    "n = int(input())\n",
    "sum = n // 10\n",
    "print(sum)"
   ]
  },
  {
   "cell_type": "code",
   "execution_count": 18,
   "id": "b43bda60",
   "metadata": {},
   "outputs": [
    {
     "name": "stdout",
     "output_type": "stream",
     "text": [
      "123\n",
      "3\n"
     ]
    }
   ],
   "source": [
    "n = int(input())\n",
    "n = n % 10\n",
    "print(n)"
   ]
  },
  {
   "cell_type": "code",
   "execution_count": 31,
   "id": "550c4fb5",
   "metadata": {},
   "outputs": [
    {
     "name": "stdout",
     "output_type": "stream",
     "text": [
      "6\n",
      "8\n"
     ]
    }
   ],
   "source": [
    "n = int(input())\n",
    "a = 0\n",
    "b = 1 \n",
    "c = 0\n",
    "while n > 0:\n",
    "    a = b\n",
    "    b = c\n",
    "    c = a + b\n",
    "    n = n -1\n",
    "print(c)"
   ]
  },
  {
   "cell_type": "raw",
   "id": "ae571558",
   "metadata": {},
   "source": [
    "   *\n",
    "  **\n",
    " ***\n",
    "****"
   ]
  },
  {
   "cell_type": "code",
   "execution_count": 33,
   "id": "0c36b643",
   "metadata": {},
   "outputs": [
    {
     "name": "stdout",
     "output_type": "stream",
     "text": [
      "4\n",
      "   *\n",
      "  **\n",
      " ***\n",
      "****\n"
     ]
    }
   ],
   "source": [
    "n = int(input())\n",
    "i = 1\n",
    "while i <=n:\n",
    "    spaces = 1\n",
    "    while spaces <= n-i:\n",
    "        print(\" \",end=\"\")\n",
    "        spaces = spaces + 1\n",
    "    star = 1\n",
    "    while star <= i:\n",
    "        print(\"*\",end=\"\")\n",
    "        star = star + 1\n",
    "    print()\n",
    "    i = i + 1"
   ]
  },
  {
   "cell_type": "raw",
   "id": "3cb8ef8e",
   "metadata": {},
   "source": [
    "   1\n",
    "  12\n",
    " 123\n",
    "1234"
   ]
  },
  {
   "cell_type": "code",
   "execution_count": 38,
   "id": "fedf91e1",
   "metadata": {},
   "outputs": [
    {
     "name": "stdout",
     "output_type": "stream",
     "text": [
      "4\n",
      "   1\n",
      "  12\n",
      " 123\n",
      "1234\n"
     ]
    }
   ],
   "source": [
    "n = int(input())\n",
    "i = 1\n",
    "while (i <= n):\n",
    "    space = 1\n",
    "    while space <= n-i:\n",
    "        print(\" \",end=\"\")\n",
    "        space = space + 1\n",
    "    p = 1\n",
    "    num = 1\n",
    "    while num <= i:\n",
    "        print(p,end=\"\")\n",
    "        num = num + 1\n",
    "        p = p + 1\n",
    "    print()\n",
    "    i = i + 1"
   ]
  },
  {
   "cell_type": "raw",
   "id": "4db54cad",
   "metadata": {},
   "source": [
    "   1\n",
    "  121\n",
    " 12321\n",
    "1234321"
   ]
  },
  {
   "cell_type": "code",
   "execution_count": 58,
   "id": "523a2b12",
   "metadata": {},
   "outputs": [
    {
     "name": "stdout",
     "output_type": "stream",
     "text": [
      "4\n",
      "   1\n",
      "  121\n",
      " 12321\n",
      "1234321\n"
     ]
    }
   ],
   "source": [
    "n = int(input())\n",
    "i = 1\n",
    "while (i <= n):\n",
    "    # space\n",
    "    space = 1\n",
    "    while space <= n - i:\n",
    "        print(' ',end=\"\")\n",
    "        space = space + 1\n",
    "    # incresing seq\n",
    "    p = 1\n",
    "    j = 1\n",
    "    while j <= i:\n",
    "        print(p,end=\"\")\n",
    "        p = p + 1\n",
    "        j = j + 1\n",
    "    # decrising seq\n",
    "    p = i - 1\n",
    "    while p >= 1:\n",
    "        print(p,end=\"\")\n",
    "        p = p - 1\n",
    "    print()\n",
    "    i = i + 1"
   ]
  },
  {
   "cell_type": "code",
   "execution_count": 67,
   "id": "a1e13c93",
   "metadata": {},
   "outputs": [
    {
     "name": "stdout",
     "output_type": "stream",
     "text": [
      "4\n",
      "1\n",
      "21\n",
      "321\n",
      "4321\n"
     ]
    }
   ],
   "source": [
    "n = int(input())\n",
    "i = 1\n",
    "while i <= n:\n",
    "    j = 1\n",
    "    while j <= i:\n",
    "        print(i-j+1,end=\"\")\n",
    "        j = j + 1\n",
    "    print()\n",
    "    i = i + 1"
   ]
  }
 ],
 "metadata": {
  "kernelspec": {
   "display_name": "Python 3 (ipykernel)",
   "language": "python",
   "name": "python3"
  },
  "language_info": {
   "codemirror_mode": {
    "name": "ipython",
    "version": 3
   },
   "file_extension": ".py",
   "mimetype": "text/x-python",
   "name": "python",
   "nbconvert_exporter": "python",
   "pygments_lexer": "ipython3",
   "version": "3.8.1"
  }
 },
 "nbformat": 4,
 "nbformat_minor": 5
}
