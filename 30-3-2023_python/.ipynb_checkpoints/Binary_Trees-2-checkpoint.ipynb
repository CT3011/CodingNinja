{
 "cells": [
  {
   "cell_type": "markdown",
   "id": "23af4aff",
   "metadata": {},
   "source": [
    "# Binary tree input and print"
   ]
  },
  {
   "cell_type": "code",
   "execution_count": 1,
   "id": "4b892b1e",
   "metadata": {},
   "outputs": [],
   "source": [
    "# Create The class of Binary tree\n",
    "class BinaryTree:\n",
    "    def __init__(self,data):\n",
    "        self.data = data\n",
    "        self.left = None\n",
    "        self.right = None\n",
    "        "
   ]
  },
  {
   "cell_type": "code",
   "execution_count": 2,
   "id": "7e5d81e1",
   "metadata": {},
   "outputs": [],
   "source": [
    "# take an input for binary tree\n",
    "def takeInput():\n",
    "    inputData = int(input())\n",
    "    \n",
    "    if inputData == -1:\n",
    "        return None\n",
    "    \n",
    "    root = BinaryTree(inputData)\n",
    "    \n",
    "    leftInput = takeInput()\n",
    "    rightInput = takeInput()\n",
    "    root.left = leftInput\n",
    "    root.right = rightInput\n",
    "    return root"
   ]
  },
  {
   "cell_type": "code",
   "execution_count": 6,
   "id": "4dec7424",
   "metadata": {},
   "outputs": [],
   "source": [
    "# Print The Detailed Binary Tree\n",
    "def PrintTree(root):\n",
    "    if root == None:\n",
    "        return\n",
    "    print(root.data,end=\":\")\n",
    "    if root.left != None:\n",
    "        print(\"L\", root.left.data,end=\",\")\n",
    "    if root.right != None:\n",
    "        print(\"R\", root.right.data,end=\"\")\n",
    "    print()\n",
    "    PrintTree(root.left)\n",
    "    PrintTree(root.right)"
   ]
  },
  {
   "cell_type": "markdown",
   "id": "705ca280",
   "metadata": {},
   "source": [
    "* remove Leaf node in binary tree"
   ]
  },
  {
   "cell_type": "code",
   "execution_count": 10,
   "id": "6f31e5ff",
   "metadata": {},
   "outputs": [],
   "source": [
    "# remove leaf node in tree\n",
    "def removeLeafNode(root):\n",
    "    if root == None:\n",
    "        return None\n",
    "    if root.left == None and root.right == None:\n",
    "        return None\n",
    "    root.left = removeLeafNode(root.left)\n",
    "    root.right = removeLeafNode(root.right)\n",
    "    return root"
   ]
  },
  {
   "cell_type": "code",
   "execution_count": 15,
   "id": "8614f9eb",
   "metadata": {},
   "outputs": [],
   "source": [
    "# merror Binary Tree\n",
    "def MerrorTree(root):\n",
    "    if root == None:\n",
    "        return \n",
    "    leftRoot = MerrorTree(root.right)\n",
    "    rightRoot = MerrorTree(root.left)\n",
    "    root.left = leftRoot\n",
    "    root.right = rightRoot\n",
    "    return root"
   ]
  },
  {
   "cell_type": "markdown",
   "id": "83164a98",
   "metadata": {},
   "source": [
    "* Check is tree balanced or not"
   ]
  },
  {
   "cell_type": "code",
   "execution_count": 38,
   "id": "2edfe57f",
   "metadata": {},
   "outputs": [],
   "source": [
    "def hight(root):\n",
    "    if root == None:\n",
    "        return 0\n",
    "    return 1 + max(hight(root.left),hight(root.right))"
   ]
  },
  {
   "cell_type": "code",
   "execution_count": 39,
   "id": "080a77c3",
   "metadata": {},
   "outputs": [],
   "source": [
    "def CheckTreeBalanced(root):\n",
    "    if root == None:\n",
    "        return True\n",
    "    lh = hight(root.left)\n",
    "    rh = hight(root.right)\n",
    "    \n",
    "    if lh - rh > 1 or rh - lh > 1:\n",
    "        return False\n",
    "    \n",
    "    isLeftBalanced = CheckTreeBalanced(root.left)\n",
    "    isRightBalanced = CheckTreeBalanced(root.right)\n",
    "    \n",
    "    if isLeftBalanced and isRightBalanced:\n",
    "        return True\n",
    "    else:\n",
    "        return False"
   ]
  },
  {
   "cell_type": "code",
   "execution_count": 40,
   "id": "c809ab9c",
   "metadata": {},
   "outputs": [
    {
     "name": "stdout",
     "output_type": "stream",
     "text": [
      "1\n",
      "2\n",
      "4\n",
      "6\n",
      "-1\n",
      "-1\n",
      "-1\n",
      "-1\n",
      "3\n",
      "-1\n",
      "5\n",
      "-1\n",
      "-1\n",
      "1:L 2,R 3\n",
      "2:L 4,\n",
      "4:L 6,\n",
      "6:\n",
      "3:R 5\n",
      "5:\n",
      "False\n"
     ]
    }
   ],
   "source": [
    "root = takeInput()\n",
    "PrintTree(root)\n",
    "print(CheckTreeBalanced(root))"
   ]
  },
  {
   "cell_type": "code",
   "execution_count": null,
   "id": "23209f33",
   "metadata": {},
   "outputs": [],
   "source": []
  }
 ],
 "metadata": {
  "kernelspec": {
   "display_name": "Python 3 (ipykernel)",
   "language": "python",
   "name": "python3"
  },
  "language_info": {
   "codemirror_mode": {
    "name": "ipython",
    "version": 3
   },
   "file_extension": ".py",
   "mimetype": "text/x-python",
   "name": "python",
   "nbconvert_exporter": "python",
   "pygments_lexer": "ipython3",
   "version": "3.8.1"
  }
 },
 "nbformat": 4,
 "nbformat_minor": 5
}
