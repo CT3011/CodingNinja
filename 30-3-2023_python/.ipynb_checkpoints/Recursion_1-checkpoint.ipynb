{
 "cells": [
  {
   "cell_type": "markdown",
   "id": "caa4a852",
   "metadata": {},
   "source": [
    "# Find the n! using Recursion"
   ]
  },
  {
   "cell_type": "code",
   "execution_count": 2,
   "id": "9104a1ac",
   "metadata": {},
   "outputs": [],
   "source": [
    "\n",
    "def recursion(n):\n",
    "    if n == 0:\n",
    "        return 1\n",
    "    return n * recursion(n-1)\n",
    "    "
   ]
  },
  {
   "cell_type": "code",
   "execution_count": 3,
   "id": "06c8b03d",
   "metadata": {},
   "outputs": [
    {
     "name": "stdout",
     "output_type": "stream",
     "text": [
      "5\n",
      "120\n"
     ]
    }
   ],
   "source": [
    "n = int(input())\n",
    "ans = recursion(n)\n",
    "print(ans)"
   ]
  },
  {
   "cell_type": "markdown",
   "id": "deddbec2",
   "metadata": {},
   "source": [
    "# sum of n natural numbers"
   ]
  },
  {
   "cell_type": "code",
   "execution_count": 4,
   "id": "9ae19586",
   "metadata": {},
   "outputs": [],
   "source": [
    "def sum_n(n):\n",
    "    if n == 0:\n",
    "        return 0\n",
    "    return n + sum_n(n - 1)"
   ]
  },
  {
   "cell_type": "code",
   "execution_count": 6,
   "id": "f017a540",
   "metadata": {},
   "outputs": [
    {
     "name": "stdout",
     "output_type": "stream",
     "text": [
      "5\n",
      "15\n"
     ]
    }
   ],
   "source": [
    "n = int(input())\n",
    "ans = sum_n(n)\n",
    "print(ans)"
   ]
  },
  {
   "cell_type": "markdown",
   "id": "e02bfabc",
   "metadata": {},
   "source": [
    "# Power Of A Number"
   ]
  },
  {
   "cell_type": "code",
   "execution_count": 7,
   "id": "96cc8eec",
   "metadata": {},
   "outputs": [],
   "source": [
    "def power_n(n,b):\n",
    "    if b == 0:\n",
    "        return 1\n",
    "    return n * power_n(n,b-1)"
   ]
  },
  {
   "cell_type": "code",
   "execution_count": 9,
   "id": "7961d695",
   "metadata": {},
   "outputs": [
    {
     "name": "stdout",
     "output_type": "stream",
     "text": [
      "5\n",
      "6\n",
      "15625\n"
     ]
    }
   ],
   "source": [
    "n = int(input())\n",
    "b = int(input())\n",
    "ans = power_n(n,b)\n",
    "print(ans)"
   ]
  },
  {
   "cell_type": "markdown",
   "id": "c0dcb86e",
   "metadata": {},
   "source": [
    "# Fibonacci sequence"
   ]
  },
  {
   "cell_type": "code",
   "execution_count": 51,
   "id": "aea4c694",
   "metadata": {},
   "outputs": [],
   "source": [
    "def fibo(n):\n",
    "    if n <= 1:\n",
    "        return n\n",
    "    return (fibo(n-1) + fibo(n-2))"
   ]
  },
  {
   "cell_type": "code",
   "execution_count": 53,
   "id": "10a007b2",
   "metadata": {},
   "outputs": [
    {
     "name": "stdout",
     "output_type": "stream",
     "text": [
      "10\n",
      "55\n"
     ]
    }
   ],
   "source": [
    "n = int(input())\n",
    "ans = fibo(n)\n",
    "print(ans)"
   ]
  },
  {
   "cell_type": "markdown",
   "id": "26ed99ff",
   "metadata": {},
   "source": [
    "# print first n natural numbers"
   ]
  },
  {
   "cell_type": "code",
   "execution_count": 22,
   "id": "1d6912c5",
   "metadata": {},
   "outputs": [],
   "source": [
    "def n_num(n):\n",
    "    if n == 0:\n",
    "        return 0\n",
    "    print(n)\n",
    "    ans =  n_num(n - 1)\n",
    "    print(n)\n",
    "    return "
   ]
  },
  {
   "cell_type": "code",
   "execution_count": 23,
   "id": "35c56495",
   "metadata": {},
   "outputs": [
    {
     "name": "stdout",
     "output_type": "stream",
     "text": [
      "5\n",
      "5\n",
      "4\n",
      "3\n",
      "2\n",
      "1\n",
      "1\n",
      "2\n",
      "3\n",
      "4\n",
      "5\n"
     ]
    }
   ],
   "source": [
    "n = int(input())\n",
    "ans = n_num(n)"
   ]
  },
  {
   "cell_type": "code",
   "execution_count": 56,
   "id": "dcd1cc68",
   "metadata": {},
   "outputs": [
    {
     "name": "stdout",
     "output_type": "stream",
     "text": [
      "10\n",
      "1\n",
      "2\n",
      "3\n",
      "5\n",
      "8\n",
      "13\n",
      "21\n",
      "34\n",
      "55\n"
     ]
    }
   ],
   "source": [
    "n = int(input())\n",
    "a = 0\n",
    "b = 0\n",
    "c = 1\n",
    "for i in range(n-1):\n",
    "    a = b\n",
    "    b = c\n",
    "    c = a + b\n",
    "    print(c)"
   ]
  },
  {
   "cell_type": "code",
   "execution_count": 71,
   "id": "6a366a2a",
   "metadata": {},
   "outputs": [],
   "source": [
    "def fibo_na(n):\n",
    "    if n == 1 or n == 2:\n",
    "        return 1\n",
    "    fibo_1 = fibo_na(n-1)\n",
    "    fibo_2 = fibo_na(n-2)\n",
    "    out = fibo_1 + fibo_2\n",
    "    return out"
   ]
  },
  {
   "cell_type": "code",
   "execution_count": 72,
   "id": "a2a2778c",
   "metadata": {},
   "outputs": [
    {
     "name": "stdout",
     "output_type": "stream",
     "text": [
      "5\n",
      "5\n"
     ]
    }
   ],
   "source": [
    "n = int(input())\n",
    "ans = fibo_na(n)\n",
    "print(ans)"
   ]
  },
  {
   "cell_type": "markdown",
   "id": "5e3b4888",
   "metadata": {},
   "source": [
    "# Check if list is sorted or not"
   ]
  },
  {
   "cell_type": "code",
   "execution_count": 5,
   "id": "e4e67c01",
   "metadata": {},
   "outputs": [],
   "source": [
    "def isSorted(a):\n",
    "    l = len(a)\n",
    "    if l == 0 or l ==1:\n",
    "        return True\n",
    "    \n",
    "    if a[0] > a[1]:\n",
    "        return False\n",
    "    else:\n",
    "        smalerList = a[1:]\n",
    "        sortedSmalerList = isSorted(smalerList)\n",
    "        return sortedSmalerList"
   ]
  },
  {
   "cell_type": "code",
   "execution_count": 8,
   "id": "19926c48",
   "metadata": {},
   "outputs": [
    {
     "name": "stdout",
     "output_type": "stream",
     "text": [
      "True\n"
     ]
    }
   ],
   "source": [
    "a = [1,2,3,4,5,6,7,8,9,10]\n",
    "ans = isSorted(a)\n",
    "print(ans)"
   ]
  },
  {
   "cell_type": "markdown",
   "id": "90a66444",
   "metadata": {},
   "source": [
    "# sum of array"
   ]
  },
  {
   "cell_type": "code",
   "execution_count": 15,
   "id": "2721e596",
   "metadata": {},
   "outputs": [],
   "source": [
    "def sumOfList(l):\n",
    "    le = len(l)\n",
    "    if le == 0 or le == 1:\n",
    "        return l[0]\n",
    "    else:\n",
    "        smallList = l[1:]\n",
    "        sumAns = l[0] + sumOfList(smallList)\n",
    "        return sumAns"
   ]
  },
  {
   "cell_type": "code",
   "execution_count": 16,
   "id": "d6512868",
   "metadata": {},
   "outputs": [
    {
     "name": "stdout",
     "output_type": "stream",
     "text": [
      "7\n"
     ]
    }
   ],
   "source": [
    "a = [4,2,1]\n",
    "ans = sumOfList(a)\n",
    "print(ans)"
   ]
  },
  {
   "cell_type": "markdown",
   "id": "f03308f6",
   "metadata": {},
   "source": [
    "# Check number is in array"
   ]
  },
  {
   "cell_type": "code",
   "execution_count": 19,
   "id": "a10ca9ea",
   "metadata": {},
   "outputs": [],
   "source": [
    "def checkNumber(l,n):\n",
    "    if len(l)==0:\n",
    "        return False\n",
    "    if l[0] == n:\n",
    "        return True\n",
    "    else:\n",
    "        small = checkNumber(l[1:],x)\n",
    "        return small\n",
    "    \n",
    "    "
   ]
  },
  {
   "cell_type": "code",
   "execution_count": 22,
   "id": "b45f5c98",
   "metadata": {},
   "outputs": [
    {
     "name": "stdout",
     "output_type": "stream",
     "text": [
      "True\n"
     ]
    }
   ],
   "source": [
    "a = [1,2,3,4,5]\n",
    "x = 1\n",
    "ans = checkNumber(a,x)\n",
    "print(ans)"
   ]
  },
  {
   "cell_type": "markdown",
   "id": "831fa9fe",
   "metadata": {},
   "source": [
    "# Check if list is sorted or not batter way"
   ]
  },
  {
   "cell_type": "code",
   "execution_count": 24,
   "id": "a26d677b",
   "metadata": {},
   "outputs": [],
   "source": [
    "def isSortedBatter(l,si):\n",
    "    a = len(l)\n",
    "    if si == a or si == a-1:\n",
    "        return True\n",
    "    if l[si] > l[si + 1]:\n",
    "        return False\n",
    "    else:\n",
    "        small = isSortedBatter(l,si + 1)\n",
    "        return small"
   ]
  },
  {
   "cell_type": "code",
   "execution_count": 26,
   "id": "2ec71b03",
   "metadata": {},
   "outputs": [
    {
     "name": "stdout",
     "output_type": "stream",
     "text": [
      "False\n"
     ]
    }
   ],
   "source": [
    "a = [1,2,30,4,5]\n",
    "x = 0\n",
    "ans = isSortedBatter(a,x)\n",
    "print(ans)"
   ]
  },
  {
   "cell_type": "markdown",
   "id": "b94e20ad",
   "metadata": {},
   "source": [
    "# sum of array batter"
   ]
  },
  {
   "cell_type": "code",
   "execution_count": 33,
   "id": "fee9e19e",
   "metadata": {},
   "outputs": [],
   "source": [
    "def array_sum_recursive(arr, index, current_sum):\n",
    "    if index == len(arr):\n",
    "        return current_sum\n",
    "    else:\n",
    "        return array_sum_recursive(arr, index+1, current_sum+arr[index])"
   ]
  },
  {
   "cell_type": "code",
   "execution_count": 35,
   "id": "3d667d6a",
   "metadata": {},
   "outputs": [
    {
     "name": "stdout",
     "output_type": "stream",
     "text": [
      "42\n"
     ]
    }
   ],
   "source": [
    "a = [1,2,30,4,5]\n",
    "x = 0\n",
    "ans = array_sum_recursive(a,x,0)\n",
    "print(ans)"
   ]
  },
  {
   "cell_type": "markdown",
   "id": "e1a3bff5",
   "metadata": {},
   "source": [
    "# Check number is in array"
   ]
  },
  {
   "cell_type": "code",
   "execution_count": 36,
   "id": "5a2d5bc1",
   "metadata": {},
   "outputs": [],
   "source": [
    "def checknumberinArrayBatter(a,n,si):\n",
    "    l = len(a)\n",
    "    if si == l:\n",
    "        return False\n",
    "    elif a[si] == n:\n",
    "        return True\n",
    "    else:\n",
    "        return checknumberinArrayBatter(a,n,si+1)"
   ]
  },
  {
   "cell_type": "code",
   "execution_count": 40,
   "id": "009a0b09",
   "metadata": {},
   "outputs": [
    {
     "name": "stdout",
     "output_type": "stream",
     "text": [
      "True\n"
     ]
    }
   ],
   "source": [
    "a = [1,2,3,4,5]\n",
    "x = 2\n",
    "ans = checknumberinArrayBatter(a,x,0)\n",
    "print(ans)"
   ]
  },
  {
   "cell_type": "markdown",
   "id": "fd6d8677",
   "metadata": {},
   "source": [
    "# First Index of Number - Question"
   ]
  },
  {
   "cell_type": "code",
   "execution_count": 41,
   "id": "e2c6e9e2",
   "metadata": {},
   "outputs": [],
   "source": [
    "def firstIndex(l,x,si):\n",
    "    a = len(l)\n",
    "    if si == a:\n",
    "        return -1\n",
    "    elif l[si] == x:\n",
    "        return si\n",
    "    else:\n",
    "        return firstIndex(l,x,si+1)"
   ]
  },
  {
   "cell_type": "code",
   "execution_count": 47,
   "id": "f5c43f16",
   "metadata": {},
   "outputs": [
    {
     "name": "stdout",
     "output_type": "stream",
     "text": [
      "3\n"
     ]
    }
   ],
   "source": [
    "a = [1,2,3,4,1,2,3,5,4,1,2]\n",
    "x = 4\n",
    "ans = firstIndex(a,x,0)\n",
    "print(ans)"
   ]
  },
  {
   "cell_type": "markdown",
   "id": "c406551d",
   "metadata": {},
   "source": [
    "# Last Index Of Number Question"
   ]
  },
  {
   "cell_type": "code",
   "execution_count": 97,
   "id": "a0af5b86",
   "metadata": {},
   "outputs": [],
   "source": [
    "def lastIndexQue(arr,x,si):\n",
    "    l = len(arr)\n",
    "    if si == l:\n",
    "        return -1\n",
    "    small = lastIndexQue(arr,x,si+1)\n",
    "    if small != -1:\n",
    "        print(\"small\",si)\n",
    "        return small\n",
    "    else:\n",
    "        if arr[si] == x:\n",
    "            return \"si\",si\n",
    "        else:\n",
    "            return -1\n",
    "    "
   ]
  },
  {
   "cell_type": "code",
   "execution_count": 98,
   "id": "418f1f08",
   "metadata": {},
   "outputs": [
    {
     "name": "stdout",
     "output_type": "stream",
     "text": [
      "small 3\n",
      "small 2\n",
      "small 1\n",
      "small 0\n",
      "('si', 4)\n"
     ]
    }
   ],
   "source": [
    "a = [1,2,3,4,1]\n",
    "x = 1\n",
    "ans = lastIndexQue(a,x,0)\n",
    "print(ans)"
   ]
  },
  {
   "cell_type": "markdown",
   "id": "f364c946",
   "metadata": {},
   "source": [
    "# Last Index Of Number Question using copy"
   ]
  },
  {
   "cell_type": "code",
   "execution_count": 93,
   "id": "c2d08049",
   "metadata": {},
   "outputs": [],
   "source": [
    "def last1(arr,x):\n",
    "    l = len(arr)\n",
    "    if l ==0:\n",
    "        return -1\n",
    "    small = arr[1:]\n",
    "    smallout = last1(small,x)\n",
    "    if smallout != -1:\n",
    "        return smallout + 1\n",
    "    else:\n",
    "        if arr[0] == x:\n",
    "            return 0\n",
    "        else:\n",
    "            return -1"
   ]
  },
  {
   "cell_type": "code",
   "execution_count": 94,
   "id": "0a73b703",
   "metadata": {},
   "outputs": [
    {
     "name": "stdout",
     "output_type": "stream",
     "text": [
      "4\n"
     ]
    }
   ],
   "source": [
    "a = [1,4,3,4,1]\n",
    "x = 1\n",
    "ans = last1(a,x)\n",
    "print(ans)"
   ]
  },
  {
   "cell_type": "code",
   "execution_count": 101,
   "id": "39cc72af",
   "metadata": {},
   "outputs": [],
   "source": [
    "def eleinl(li,x, si):\n",
    "    l = len(li)\n",
    "    if l == 0:\n",
    "        return False\n",
    "    if li[si] == x:\n",
    "        return si\n",
    "    else:\n",
    "        return eleinl(li,x,si+1)"
   ]
  },
  {
   "cell_type": "code",
   "execution_count": 102,
   "id": "1464fb3e",
   "metadata": {},
   "outputs": [
    {
     "name": "stdout",
     "output_type": "stream",
     "text": [
      "4\n"
     ]
    }
   ],
   "source": [
    "a = [1,2,3,4,5]\n",
    "x = 5\n",
    "print(eleinl(a,x,0))"
   ]
  },
  {
   "cell_type": "code",
   "execution_count": 106,
   "id": "37b174dc",
   "metadata": {},
   "outputs": [],
   "source": [
    "def fact01(x):\n",
    "    if x == 0:\n",
    "        return 1\n",
    "    return x * fact01(x-1)"
   ]
  },
  {
   "cell_type": "code",
   "execution_count": 107,
   "id": "ce8facbd",
   "metadata": {},
   "outputs": [
    {
     "name": "stdout",
     "output_type": "stream",
     "text": [
      "120\n"
     ]
    }
   ],
   "source": [
    "x = 5\n",
    "print(fact01(x))"
   ]
  },
  {
   "cell_type": "code",
   "execution_count": null,
   "id": "f9c5117f",
   "metadata": {},
   "outputs": [],
   "source": []
  }
 ],
 "metadata": {
  "kernelspec": {
   "display_name": "Python 3 (ipykernel)",
   "language": "python",
   "name": "python3"
  },
  "language_info": {
   "codemirror_mode": {
    "name": "ipython",
    "version": 3
   },
   "file_extension": ".py",
   "mimetype": "text/x-python",
   "name": "python",
   "nbconvert_exporter": "python",
   "pygments_lexer": "ipython3",
   "version": "3.8.1"
  }
 },
 "nbformat": 4,
 "nbformat_minor": 5
}
