{
 "cells": [
  {
   "cell_type": "code",
   "execution_count": 11,
   "id": "bed97447",
   "metadata": {},
   "outputs": [
    {
     "name": "stdout",
     "output_type": "stream",
     "text": [
      "14 10\n"
     ]
    }
   ],
   "source": [
    "a = [1, 2, 3, 4, 5]\n",
    "a.sort()\n",
    "small = a[0]\n",
    "large = a[len(a)-1]\n",
    "min = 0\n",
    "max = 0\n",
    "for i in a:\n",
    "    min = min + i\n",
    "    max = max + i\n",
    "print(min - small,max - large)"
   ]
  },
  {
   "cell_type": "code",
   "execution_count": 50,
   "id": "be2d41b9",
   "metadata": {},
   "outputs": [
    {
     "name": "stdout",
     "output_type": "stream",
     "text": [
      "19:05:45\n"
     ]
    }
   ],
   "source": [
    "t = \"07:05:45PM\"\n",
    "l = t.split(\":\")\n",
    "h = 12\n",
    "st = \"\"\n",
    "sli = t[2:]\n",
    "for i in l:\n",
    "    if \"PM\" in i:\n",
    "        h = h + int(l[0])        \n",
    "        st = st + str(h)\n",
    "\n",
    "ans = st + sli\n",
    "sl = ans[:8]\n",
    "print(sl)"
   ]
  },
  {
   "cell_type": "code",
   "execution_count": 81,
   "id": "0582c1d0",
   "metadata": {},
   "outputs": [
    {
     "name": "stdout",
     "output_type": "stream",
     "text": [
      "AM 00:45:54\n"
     ]
    }
   ],
   "source": [
    "# perfect 100%\n",
    "#!/bin/python3\n",
    "\n",
    "import math\n",
    "import os\n",
    "import random\n",
    "import re\n",
    "import sys\n",
    "\n",
    "#\n",
    "# Complete the 'timeConversion' function below.\n",
    "#\n",
    "# The function is expected to return a STRING.\n",
    "# The function accepts STRING s as parameter.\n",
    "#\n",
    "\n",
    "def timeConversion(t):\n",
    "    # Write your code here\n",
    "    l = t.split(\":\")\n",
    "    h = 12\n",
    "    sli = t[2:]\n",
    "    st = \"\"\n",
    "    for i in l:\n",
    "        if \"PM\" in i:\n",
    "            if l[0] == \"12\":\n",
    "                st = \"12\"\n",
    "            else:\n",
    "                h = h + int(l[0])        \n",
    "                st = st + str(h)\n",
    "        else:\n",
    "            pass\n",
    "    if \"PM\" in sli:\n",
    "        ans = st + sli\n",
    "        sl = ans[:8]\n",
    "        print(\"PM\",sl)\n",
    "    else:\n",
    "        if t[0] == \"1\" and t[1] == \"2\":\n",
    "            ans = \"00\" + sli\n",
    "            sl2 = ans[:8]\n",
    "            print(\"AM\",sl2)\n",
    "        else:\n",
    "            sl2 = t[:8]\n",
    "            print(\"am\",sl2)\n",
    "\n",
    "t = \"12:45:54AM\"\n",
    "timeConversion(t)"
   ]
  },
  {
   "cell_type": "code",
   "execution_count": 87,
   "id": "68bb382d",
   "metadata": {},
   "outputs": [
    {
     "name": "stdout",
     "output_type": "stream",
     "text": [
      "[1, 2, 3, 4, 6, 7, 8, 10]\n",
      "6\n"
     ]
    }
   ],
   "source": [
    "a = [2,1,7,6,3,10,4,8]\n",
    "a.sort()\n",
    "print(a)\n",
    "s = len(a) // 2\n",
    "print(a[s])"
   ]
  },
  {
   "cell_type": "code",
   "execution_count": 52,
   "id": "3f70b62f",
   "metadata": {},
   "outputs": [
    {
     "name": "stdout",
     "output_type": "stream",
     "text": [
      "2\n",
      "2\n"
     ]
    }
   ],
   "source": [
    "a = [0, 2, 3, 4, 1, 2 ]\n",
    "for i in a:\n",
    "    if a.count(i)==2:\n",
    "        print(i)\n"
   ]
  },
  {
   "cell_type": "code",
   "execution_count": 48,
   "id": "4cdcb650",
   "metadata": {},
   "outputs": [],
   "source": [
    "a = [[1, 2, 3],[4, 5, 6],[9, 8, 9]]\n",
    "for i in range(len(a)):\n",
    "    for j in range(len(a)):\n",
    "        if i != j:\n",
    "            continue\n",
    "        else:\n",
    "            pass\n",
    "#             print(a[i][j])\n",
    "for i in range(0,len(a)):\n",
    "    for j in range(0,len(a),-1):\n",
    "        print(a[i][j])\n",
    "        \n",
    "        "
   ]
  },
  {
   "cell_type": "code",
   "execution_count": 16,
   "id": "f78d6efb",
   "metadata": {},
   "outputs": [
    {
     "name": "stdout",
     "output_type": "stream",
     "text": [
      "3\n"
     ]
    }
   ],
   "source": [
    "a = -10 + -1 + -5 + 8 + 0\n",
    "b = -4 + 2 + -5 + -7 + 3\n",
    "c = a - b\n",
    "print(c)"
   ]
  },
  {
   "cell_type": "code",
   "execution_count": 79,
   "id": "fb86a06b",
   "metadata": {},
   "outputs": [
    {
     "name": "stdout",
     "output_type": "stream",
     "text": [
      "4\n",
      "30 20 53 14\n",
      "60\n"
     ]
    }
   ],
   "source": [
    "num=int(input())\n",
    "arr= list(map(int,input().split()))\n",
    "m=0\n",
    "arr.sort()\n",
    "# print(arr)\n",
    "for i in arr:\n",
    "#     print(i*num)\n",
    "    if m<i*num:\n",
    "#         print(i)\n",
    "        m=i*num\n",
    "#         print(i * num)\n",
    "    num=num-1\n",
    "print(m)"
   ]
  },
  {
   "cell_type": "code",
   "execution_count": 87,
   "id": "5e316cb7",
   "metadata": {},
   "outputs": [],
   "source": [
    "def prog1(arr,n):\n",
    "    g1 = []\n",
    "    g2 = []\n",
    "    for i in arr:\n",
    "        if i % 5 == 0:\n",
    "            g1.append(i)\n",
    "        elif i % 3 == 0 and i % 5 != 0:\n",
    "            g2.append(i)\n",
    "        else:\n",
    "            g1.append(i)\n",
    "    print(g1)\n",
    "    print(g2)\n",
    "        "
   ]
  },
  {
   "cell_type": "code",
   "execution_count": 89,
   "id": "e0ab30f4",
   "metadata": {},
   "outputs": [
    {
     "name": "stdout",
     "output_type": "stream",
     "text": [
      "1 4 3\n",
      "[1, 4]\n",
      "[3]\n",
      "false\n"
     ]
    }
   ],
   "source": [
    "if __name__ == \"__main__\":\n",
    "    \n",
    "    arr = [int(x) for x in input().split()]\n",
    "    n = len(arr)\n",
    "\n",
    "    if (prog1(arr, n)):\n",
    "        print(\"true\")\n",
    "    else:\n",
    "        print(\"false\")"
   ]
  },
  {
   "cell_type": "code",
   "execution_count": 94,
   "id": "5d6f5937",
   "metadata": {},
   "outputs": [
    {
     "name": "stdout",
     "output_type": "stream",
     "text": [
      "222"
     ]
    }
   ],
   "source": [
    "a = [2,1,2,2]\n",
    "b = [2,2,2,2]\n",
    "a.sort()\n",
    "b.sort()\n",
    "for i in a:\n",
    "    for j in b:\n",
    "        if i == j:\n",
    "            print(i,end=\"\")\n",
    "            break\n"
   ]
  },
  {
   "cell_type": "code",
   "execution_count": 107,
   "id": "304cdb0b",
   "metadata": {},
   "outputs": [
    {
     "name": "stdout",
     "output_type": "stream",
     "text": [
      "1\n",
      "0\n",
      "4\n",
      "1 2 3 4\n",
      "4\n"
     ]
    }
   ],
   "source": [
    "# define function to find intersection of two arrays\n",
    "def intersection(arr1, arr2):\n",
    "    # create a dictionary to store the frequency of each element in arr1\n",
    "    freq = {}\n",
    "    for elem in arr1:\n",
    "        if elem in freq:\n",
    "            freq[elem] += 1\n",
    "        else:\n",
    "            freq[elem] = 1\n",
    "    \n",
    "    # loop through elements in arr2\n",
    "    intersection_list = []\n",
    "    for elem in arr2:\n",
    "        # if the element is present in freq dictionary\n",
    "        if elem in freq and freq[elem] > 0:\n",
    "            # add element to intersection list\n",
    "            intersection_list.append(elem)\n",
    "            # decrement the frequency of the element in freq dictionary\n",
    "            freq[elem] -= 1\n",
    "    \n",
    "    # sort the intersection list and return it\n",
    "    return sorted(intersection_list)\n",
    "\n",
    "# read number of test cases\n",
    "t = int(input())\n",
    "\n",
    "# loop through each test case\n",
    "for i in range(t):\n",
    "    # read input array 1\n",
    "    n = int(input())\n",
    "    if n == 0:\n",
    "        pass\n",
    "    else:\n",
    "        arr1 = list(map(int, input().split()))\n",
    "    \n",
    "    # read input array 2\n",
    "    m = int(input())\n",
    "    if m == 0:\n",
    "        pass\n",
    "    else:\n",
    "        arr2 = list(map(int, input().split()))\n",
    "    \n",
    "    # find the intersection of arr1 and arr2\n",
    "    result = intersection(arr1, arr2)\n",
    "    \n",
    "    # print the intersection elements in a row, separated by a single space\n",
    "    print(*result)\n"
   ]
  },
  {
   "cell_type": "code",
   "execution_count": 123,
   "id": "ac0df3d4",
   "metadata": {},
   "outputs": [
    {
     "name": "stdout",
     "output_type": "stream",
     "text": [
      "112 42 \n",
      "56 125 \n"
     ]
    }
   ],
   "source": [
    "a =  [[112, 42, 83, 119], [56, 125, 56, 49],[15, 78, 101, 43], [62, 98, 114, 108]]\n",
    "for i in range(len(a)):\n",
    "    if i <=1:\n",
    "        for j in range(len(a)):\n",
    "            if j <=1:\n",
    "                print(a[i][j],end=\" \")\n",
    "        print()\n",
    "        "
   ]
  },
  {
   "cell_type": "code",
   "execution_count": 1,
   "id": "0d594718",
   "metadata": {},
   "outputs": [
    {
     "data": {
      "text/plain": [
       "2"
      ]
     },
     "execution_count": 1,
     "metadata": {},
     "output_type": "execute_result"
    }
   ],
   "source": [
    "4 // 2"
   ]
  },
  {
   "cell_type": "code",
   "execution_count": 44,
   "id": "a438a370",
   "metadata": {},
   "outputs": [
    {
     "name": "stdout",
     "output_type": "stream",
     "text": [
      "23 12\n"
     ]
    }
   ],
   "source": [
    "a = [6, 1, 6, 5, 3, 2, 5, 0, 5, 6, 0,1]\n",
    "mid = len(a)//2\n",
    "left = 0\n",
    "right = 0\n",
    "for i in range(len(a)):\n",
    "    if mid == i:\n",
    "        continue\n",
    "    elif i < mid:\n",
    "        left = left + a[i]\n",
    "    else:\n",
    "        right = right + a[i]\n",
    "\n",
    "print(left,right)\n",
    "    \n",
    "    "
   ]
  },
  {
   "cell_type": "code",
   "execution_count": 42,
   "id": "326a3d3d",
   "metadata": {},
   "outputs": [],
   "source": [
    "def Array_Equilibrium_Index(a):\n",
    "    l = len(a)\n",
    "    left_sum = 0\n",
    "    right_sum = sum(a)\n",
    "    print(right_sum)\n",
    "    \n",
    "    for i in range(l):\n",
    "        right_sum -= a[i]\n",
    "        print(\"in i right\",right_sum)\n",
    "        \n",
    "        if left_sum == right_sum:\n",
    "            return i\n",
    "        \n",
    "        left_sum += a[i]\n",
    "        print(\"in i left\",left_sum)\n",
    "        \n",
    "    return -1"
   ]
  },
  {
   "cell_type": "code",
   "execution_count": 46,
   "id": "ae80c08c",
   "metadata": {},
   "outputs": [
    {
     "name": "stdout",
     "output_type": "stream",
     "text": [
      "39\n",
      "in i right 33\n",
      "in i left 6\n",
      "in i right 32\n",
      "in i left 7\n",
      "in i right 26\n",
      "in i left 13\n",
      "in i right 21\n",
      "in i left 18\n",
      "in i right 18\n"
     ]
    },
    {
     "data": {
      "text/plain": [
       "4"
      ]
     },
     "execution_count": 46,
     "metadata": {},
     "output_type": "execute_result"
    }
   ],
   "source": [
    "a = [6, 1, 6, 5, 3, 2, 5, 0, 5, 6, 0]\n",
    "Array_Equilibrium_Index(a)"
   ]
  },
  {
   "cell_type": "code",
   "execution_count": 63,
   "id": "3d844d18",
   "metadata": {},
   "outputs": [],
   "source": [
    "def dupInArr(a):\n",
    "    seen = set()\n",
    "    dup = 0\n",
    "    \n",
    "    for i in a:\n",
    "        if i in seen:\n",
    "            dup = dup + i\n",
    "        else:\n",
    "            seen.add(i)\n",
    "    return dup"
   ]
  },
  {
   "cell_type": "code",
   "execution_count": 64,
   "id": "fafd908c",
   "metadata": {},
   "outputs": [
    {
     "data": {
      "text/plain": [
       "2"
      ]
     },
     "execution_count": 64,
     "metadata": {},
     "output_type": "execute_result"
    }
   ],
   "source": [
    "a = [0, 2, 3, 4, 1, 2 ]\n",
    "dupInArr(a)\n"
   ]
  },
  {
   "cell_type": "code",
   "execution_count": 74,
   "id": "7b0e32b9",
   "metadata": {},
   "outputs": [],
   "source": [
    "def parSum(a,tar):\n",
    "    com = set()\n",
    "    res = []\n",
    "    for i in a:\n",
    "        co = tar - i\n",
    "        if co in com:\n",
    "            res.append((i,co))\n",
    "        com.add(i)\n",
    "    return res"
   ]
  },
  {
   "cell_type": "code",
   "execution_count": 75,
   "id": "06cec2b6",
   "metadata": {},
   "outputs": [
    {
     "data": {
      "text/plain": [
       "[(6, 1), (5, 2), (4, 3), (3, 4), (2, 5), (4, 3)]"
      ]
     },
     "execution_count": 75,
     "metadata": {},
     "output_type": "execute_result"
    }
   ],
   "source": [
    "a = [1, 3, 6, 2, 5, 4, 3, 2, 4]\n",
    "b = 7\n",
    "parSum(a,b)"
   ]
  },
  {
   "cell_type": "code",
   "execution_count": 72,
   "id": "1bd292e6",
   "metadata": {},
   "outputs": [],
   "source": [
    "def pairs_with_sum(arr, num):\n",
    "    complements = set()\n",
    "    count = []\n",
    "    \n",
    "    for element in arr:\n",
    "        complement = num - element\n",
    "        if complement in complements:\n",
    "            count.append((i,complement))\n",
    "        complements.add(element)\n",
    "        \n",
    "    return count"
   ]
  },
  {
   "cell_type": "code",
   "execution_count": 73,
   "id": "7fe10fcb",
   "metadata": {},
   "outputs": [
    {
     "data": {
      "text/plain": [
       "[(2, 1), (2, 2), (2, 3), (2, 4), (2, 5), (2, 3)]"
      ]
     },
     "execution_count": 73,
     "metadata": {},
     "output_type": "execute_result"
    }
   ],
   "source": [
    "a = [1, 3, 6, 2, 5, 4, 3, 2, 4]\n",
    "b = 7\n",
    "pairs_with_sum(a,b)"
   ]
  },
  {
   "cell_type": "code",
   "execution_count": 78,
   "id": "c83b9d5d",
   "metadata": {},
   "outputs": [],
   "source": [
    "def find_pairs(arr, target_sum):\n",
    "    indices = {}\n",
    "    pairs = 0\n",
    "    \n",
    "    for i, num in enumerate(arr):\n",
    "        complement = target_sum - num\n",
    "        if complement in indices:\n",
    "            for j in indices[complement]:\n",
    "                pairs += 1\n",
    "        if num not in indices:\n",
    "            indices[num] = [i]\n",
    "        else:\n",
    "            indices[num].append(i)\n",
    "    \n",
    "    return pairs"
   ]
  },
  {
   "cell_type": "code",
   "execution_count": 79,
   "id": "583bd38a",
   "metadata": {},
   "outputs": [
    {
     "data": {
      "text/plain": [
       "7"
      ]
     },
     "execution_count": 79,
     "metadata": {},
     "output_type": "execute_result"
    }
   ],
   "source": [
    "a = [1, 3, 6, 2, 5, 4, 3, 2, 4]\n",
    "b = 7\n",
    "find_pairs(a,b)"
   ]
  },
  {
   "cell_type": "code",
   "execution_count": 80,
   "id": "a061437f",
   "metadata": {},
   "outputs": [],
   "source": [
    "def find_triplets(arr, target_sum):\n",
    "    # Sort the array\n",
    "    arr.sort()\n",
    "\n",
    "    triplets = []\n",
    "    n = len(arr)\n",
    "\n",
    "    # Fix the first element and use two pointers for the remaining two elements\n",
    "    for i in range(n - 2):\n",
    "        # To avoid duplicates, skip if the current element is the same as the previous one\n",
    "        if i > 0 and arr[i] == arr[i - 1]:\n",
    "            continue\n",
    "\n",
    "        left = i + 1\n",
    "        right = n - 1\n",
    "\n",
    "        while left < right:\n",
    "            curr_sum = arr[i] + arr[left] + arr[right]\n",
    "\n",
    "            if curr_sum == target_sum:\n",
    "                triplets.append([arr[i], arr[left], arr[right]])\n",
    "\n",
    "                # To avoid duplicates, skip if the next element is the same as the current one\n",
    "                while left < right and arr[left] == arr[left + 1]:\n",
    "                    left += 1\n",
    "                while left < right and arr[right] == arr[right - 1]:\n",
    "                    right -= 1\n",
    "\n",
    "                left += 1\n",
    "                right -= 1\n",
    "\n",
    "            elif curr_sum < target_sum:\n",
    "                left += 1\n",
    "\n",
    "            else:\n",
    "                right -= 1\n",
    "\n",
    "    return triplets\n"
   ]
  },
  {
   "cell_type": "code",
   "execution_count": 81,
   "id": "c27a274f",
   "metadata": {},
   "outputs": [
    {
     "name": "stdout",
     "output_type": "stream",
     "text": [
      "[[0, 0, 5], [0, 2, 3]]\n"
     ]
    }
   ],
   "source": [
    "a = [6, 1, 6, 5, 3, 2, 5, 0, 5, 6, 0]\n",
    "b = 5\n",
    "c = find_triplets(a,b)\n",
    "print(c)"
   ]
  },
  {
   "cell_type": "code",
   "execution_count": 82,
   "id": "8cb67a00",
   "metadata": {},
   "outputs": [],
   "source": [
    "def find_triplets(arr, target_sum):\n",
    "    arr.sort()\n",
    "    n = len(arr)\n",
    "    count = 0\n",
    "\n",
    "    for i in range(n - 2):\n",
    "        left = i + 1\n",
    "        right = n - 1\n",
    "\n",
    "        while left < right:\n",
    "            curr_sum = arr[i] + arr[left] + arr[right]\n",
    "\n",
    "            if curr_sum == target_sum:\n",
    "                count += 1\n",
    "\n",
    "                # Move the pointers to skip duplicates\n",
    "                while left < right and arr[left] == arr[left + 1]:\n",
    "                    left += 1\n",
    "                while left < right and arr[right] == arr[right - 1]:\n",
    "                    right -= 1\n",
    "\n",
    "                left += 1\n",
    "                right -= 1\n",
    "\n",
    "            elif curr_sum < target_sum:\n",
    "                left += 1\n",
    "\n",
    "            else:\n",
    "                right -= 1\n",
    "\n",
    "    return count"
   ]
  },
  {
   "cell_type": "code",
   "execution_count": 83,
   "id": "c9ac084e",
   "metadata": {},
   "outputs": [
    {
     "name": "stdout",
     "output_type": "stream",
     "text": [
      "3\n"
     ]
    }
   ],
   "source": [
    "a = [6, 1, 6, 5, 3, 2, 5, 0, 5, 6, 0]\n",
    "b = 5\n",
    "c = find_triplets(a,b)\n",
    "print(c)"
   ]
  },
  {
   "cell_type": "code",
   "execution_count": 84,
   "id": "8b1bf48a",
   "metadata": {},
   "outputs": [],
   "source": [
    "def find_triplet_sums(arr, target_sum):\n",
    "    arr.sort()\n",
    "    n = len(arr)\n",
    "    triplet_sums = set()\n",
    "\n",
    "    for i in range(n - 2):\n",
    "        left = i + 1\n",
    "        right = n - 1\n",
    "\n",
    "        while left < right:\n",
    "            curr_sum = arr[i] + arr[left] + arr[right]\n",
    "\n",
    "            if curr_sum == target_sum:\n",
    "                triplet_sums.add((arr[i], arr[left], arr[right]))\n",
    "\n",
    "                # Move the pointers to skip duplicates\n",
    "                while left < right and arr[left] == arr[left + 1]:\n",
    "                    left += 1\n",
    "                while left < right and arr[right] == arr[right - 1]:\n",
    "                    right -= 1\n",
    "\n",
    "                left += 1\n",
    "                right -= 1\n",
    "\n",
    "            elif curr_sum < target_sum:\n",
    "                left += 1\n",
    "\n",
    "            else:\n",
    "                right -= 1\n",
    "\n",
    "    return triplet_sums"
   ]
  },
  {
   "cell_type": "code",
   "execution_count": 88,
   "id": "22eca16d",
   "metadata": {},
   "outputs": [],
   "source": [
    "def count_triplet_sums(arr, target):\n",
    "    count = 0\n",
    "    n = len(arr)\n",
    "    for i in range(n - 2):\n",
    "        for j in range(i + 1, n - 1):\n",
    "            for k in range(j + 1, n):\n",
    "                if arr[i] + arr[j] + arr[k] == target:\n",
    "                    count += 1\n",
    "    return count"
   ]
  },
  {
   "cell_type": "code",
   "execution_count": 89,
   "id": "eda3bdae",
   "metadata": {},
   "outputs": [
    {
     "name": "stdout",
     "output_type": "stream",
     "text": [
      "5\n"
     ]
    }
   ],
   "source": [
    "a = [6, 1, 6, 5, 3, 2, 5, 0, 5, 6, 0]\n",
    "b = 5\n",
    "c = count_triplet_sums(a,b)\n",
    "print(c)"
   ]
  },
  {
   "cell_type": "code",
   "execution_count": null,
   "id": "48b93b67",
   "metadata": {},
   "outputs": [],
   "source": []
  }
 ],
 "metadata": {
  "kernelspec": {
   "display_name": "Python 3 (ipykernel)",
   "language": "python",
   "name": "python3"
  },
  "language_info": {
   "codemirror_mode": {
    "name": "ipython",
    "version": 3
   },
   "file_extension": ".py",
   "mimetype": "text/x-python",
   "name": "python",
   "nbconvert_exporter": "python",
   "pygments_lexer": "ipython3",
   "version": "3.8.1"
  }
 },
 "nbformat": 4,
 "nbformat_minor": 5
}
