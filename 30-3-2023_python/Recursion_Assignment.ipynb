{
 "cells": [
  {
   "cell_type": "markdown",
   "id": "18856cc0",
   "metadata": {},
   "source": [
    "# Geometric Sum"
   ]
  },
  {
   "cell_type": "code",
   "execution_count": 1,
   "id": "ddfa20ea",
   "metadata": {},
   "outputs": [],
   "source": [
    "def geometric_sum(n):\n",
    "    if n < 0:\n",
    "        return 0\n",
    "    return (1/pow(2,n)) + geometric_sum(n-1)"
   ]
  },
  {
   "cell_type": "code",
   "execution_count": 2,
   "id": "047084ec",
   "metadata": {},
   "outputs": [
    {
     "name": "stdout",
     "output_type": "stream",
     "text": [
      "3\n",
      "1.87500\n"
     ]
    }
   ],
   "source": [
    "n = int(input())\n",
    "re = geometric_sum(n)\n",
    "print(\"%.5f\"%re)"
   ]
  },
  {
   "cell_type": "markdown",
   "id": "2952bb1a",
   "metadata": {},
   "source": [
    "# Check is string is palindrum or not using recursion"
   ]
  },
  {
   "cell_type": "code",
   "execution_count": 3,
   "id": "4e69f7bd",
   "metadata": {},
   "outputs": [],
   "source": [
    "def is_palindrum(s,si,ei):\n",
    "    if len(s) == 0 or len(s) == 1:\n",
    "        return True\n",
    "    if si == ei:\n",
    "        return True\n",
    "    if s[si] != s[ei]:\n",
    "        return False\n",
    "    else:\n",
    "        return is_palindrum(s,si+1,ei-1)"
   ]
  },
  {
   "cell_type": "code",
   "execution_count": 4,
   "id": "f251d051",
   "metadata": {},
   "outputs": [
    {
     "data": {
      "text/plain": [
       "False"
      ]
     },
     "execution_count": 4,
     "metadata": {},
     "output_type": "execute_result"
    }
   ],
   "source": [
    "a = \"abcbad\"\n",
    "is_palindrum(a,0,len(a)-1)\n"
   ]
  },
  {
   "cell_type": "markdown",
   "id": "863c7cab",
   "metadata": {},
   "source": [
    "# Sum of digits"
   ]
  },
  {
   "cell_type": "code",
   "execution_count": 5,
   "id": "5ab8d41e",
   "metadata": {},
   "outputs": [],
   "source": [
    "def sum_of_di(n):\n",
    "    if n == 0:\n",
    "        return n\n",
    "    small =sum_of_di(n // 10)\n",
    "    return small + n%10"
   ]
  },
  {
   "cell_type": "code",
   "execution_count": 6,
   "id": "df318d28",
   "metadata": {},
   "outputs": [
    {
     "data": {
      "text/plain": [
       "15"
      ]
     },
     "execution_count": 6,
     "metadata": {},
     "output_type": "execute_result"
    }
   ],
   "source": [
    "n = 12345\n",
    "sum_of_di(n)"
   ]
  },
  {
   "cell_type": "markdown",
   "id": "5b8dc3d7",
   "metadata": {},
   "source": [
    "# Multiplication (Recursive)"
   ]
  },
  {
   "cell_type": "code",
   "execution_count": 7,
   "id": "b7c8457f",
   "metadata": {},
   "outputs": [],
   "source": [
    "def multi(n,m):\n",
    "    if m == 0 or n == 0:\n",
    "        return 0\n",
    "    if m > 0:\n",
    "        return n + multi(n,m-1)"
   ]
  },
  {
   "cell_type": "code",
   "execution_count": 8,
   "id": "837c3484",
   "metadata": {},
   "outputs": [
    {
     "name": "stdout",
     "output_type": "stream",
     "text": [
      "2\n",
      "2\n"
     ]
    },
    {
     "data": {
      "text/plain": [
       "4"
      ]
     },
     "execution_count": 8,
     "metadata": {},
     "output_type": "execute_result"
    }
   ],
   "source": [
    "n = int(input())\n",
    "m = int(input())\n",
    "multi(n,m)"
   ]
  },
  {
   "cell_type": "markdown",
   "id": "f4cb69ad",
   "metadata": {},
   "source": [
    "# Count Zeros in the given number"
   ]
  },
  {
   "cell_type": "code",
   "execution_count": 9,
   "id": "64cf7b6b",
   "metadata": {},
   "outputs": [],
   "source": [
    "c = 0\n",
    "def countZero(n):\n",
    "    global c\n",
    "    if n == 0:\n",
    "        return 1\n",
    "    \n",
    "    if n > 0:\n",
    "        if n % 10 == 0:\n",
    "            c = c + 1\n",
    "        countZero(n//10) \n",
    "        \n",
    "    return c\n",
    "        "
   ]
  },
  {
   "cell_type": "code",
   "execution_count": 10,
   "id": "521420e2",
   "metadata": {},
   "outputs": [
    {
     "data": {
      "text/plain": [
       "8"
      ]
     },
     "execution_count": 10,
     "metadata": {},
     "output_type": "execute_result"
    }
   ],
   "source": [
    "a = 10200023400213500\n",
    "countZero(a)"
   ]
  },
  {
   "cell_type": "markdown",
   "id": "8ac41e80",
   "metadata": {},
   "source": [
    "# Mearge sort"
   ]
  },
  {
   "cell_type": "code",
   "execution_count": 11,
   "id": "82dd8f5e",
   "metadata": {},
   "outputs": [],
   "source": [
    "def m_s(a):\n",
    "    if len(a) == 0 or len(a) == 1:\n",
    "        return a\n",
    "    \n",
    "    mid = len(a) // 2\n",
    "    a1 = a[0:mid]\n",
    "    a2 = a[mid:]\n",
    "    \n",
    "    m_s(a1)\n",
    "    m_s(a2)\n",
    "    \n",
    "    sos(a1,a2,a)"
   ]
  },
  {
   "cell_type": "code",
   "execution_count": 12,
   "id": "cb8e3c3c",
   "metadata": {},
   "outputs": [],
   "source": [
    "def sos(a1,a2,a):\n",
    "    i=0\n",
    "    j=0\n",
    "    k=0\n",
    "    while i < len(a1) and j < len(a2):\n",
    "        if a1[i] < a2[j]:\n",
    "            a[k] = a1[i]\n",
    "            k = k + 1\n",
    "            i = i + 1\n",
    "        else:\n",
    "            a[k] = a2[j]\n",
    "            k = k + 1\n",
    "            j = j + 1\n",
    "    while i < len(a1):\n",
    "        a[k] = a1[i]\n",
    "        k = k + 1\n",
    "        i = i + 1\n",
    "    while j < len(a2):\n",
    "        a[k] = a2[j]\n",
    "        k = k + 1\n",
    "        j = j + 1"
   ]
  },
  {
   "cell_type": "code",
   "execution_count": 13,
   "id": "e4810816",
   "metadata": {},
   "outputs": [
    {
     "data": {
      "text/plain": [
       "[1, 2, 3, 4, 6, 7, 8, 9]"
      ]
     },
     "execution_count": 13,
     "metadata": {},
     "output_type": "execute_result"
    }
   ],
   "source": [
    "a = [4,3,2,1,9,8,7,6]\n",
    "m_s(a)\n",
    "a"
   ]
  },
  {
   "cell_type": "code",
   "execution_count": 14,
   "id": "dedca6fc",
   "metadata": {},
   "outputs": [],
   "source": [
    "def flippingBits(n):\n",
    "    return ~n & 0xffffffff"
   ]
  },
  {
   "cell_type": "code",
   "execution_count": 15,
   "id": "23ffe16e",
   "metadata": {},
   "outputs": [
    {
     "name": "stdout",
     "output_type": "stream",
     "text": [
      "2\n",
      "2\n",
      "2\n",
      "4294967293\n",
      "4294967293\n"
     ]
    }
   ],
   "source": [
    "# Sample input\n",
    "n  = int(input())\n",
    "queries = []\n",
    "for i in range(n):\n",
    "    a = int(input())\n",
    "    queries.append(a)\n",
    "\n",
    "# Test the function with each query\n",
    "for i in range(n):\n",
    "    result = flippingBits(queries[i])\n",
    "    print(result)"
   ]
  },
  {
   "cell_type": "code",
   "execution_count": null,
   "id": "689f6c15",
   "metadata": {},
   "outputs": [],
   "source": []
  }
 ],
 "metadata": {
  "kernelspec": {
   "display_name": "Python 3 (ipykernel)",
   "language": "python",
   "name": "python3"
  },
  "language_info": {
   "codemirror_mode": {
    "name": "ipython",
    "version": 3
   },
   "file_extension": ".py",
   "mimetype": "text/x-python",
   "name": "python",
   "nbconvert_exporter": "python",
   "pygments_lexer": "ipython3",
   "version": "3.8.1"
  }
 },
 "nbformat": 4,
 "nbformat_minor": 5
}
