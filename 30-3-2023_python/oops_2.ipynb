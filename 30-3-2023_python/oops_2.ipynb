{
 "cells": [
  {
   "cell_type": "markdown",
   "id": "89343cf5",
   "metadata": {},
   "source": [
    "# basic example of inheritance"
   ]
  },
  {
   "cell_type": "code",
   "execution_count": null,
   "id": "30128167",
   "metadata": {},
   "outputs": [],
   "source": [
    "# Perent class \n",
    "class Vehical():\n",
    "    def __init__(self,model,fule,name):\n",
    "        self.model = model\n",
    "        self.fule = fule\n",
    "        self.name = name"
   ]
  },
  {
   "cell_type": "code",
   "execution_count": null,
   "id": "ff1ad001",
   "metadata": {},
   "outputs": [],
   "source": [
    "# child class \n",
    "class car(Vehical):\n",
    "    def __init__(self,model,fule,name,ac,sunroof):\n",
    "        # perent class attributes\n",
    "        Vehical.model=model\n",
    "        Vehical.fule = fule\n",
    "        Vehical.name = name\n",
    "        \n",
    "        # Child class attributes\n",
    "        self.ac = ac\n",
    "        self.sunroof = sunroof\n",
    "    \n",
    "    def to_Access_the_perent_attr(self):\n",
    "        print(Vehical.model,\" \", Vehical.fule,\" \", Vehical.name)"
   ]
  },
  {
   "cell_type": "code",
   "execution_count": null,
   "id": "3f8b8136",
   "metadata": {},
   "outputs": [],
   "source": [
    "obj1 = car(2022,\"electric\",\"tesla\",True,True)"
   ]
  },
  {
   "cell_type": "code",
   "execution_count": null,
   "id": "2c4d61aa",
   "metadata": {},
   "outputs": [],
   "source": [
    "obj1.__dict__"
   ]
  },
  {
   "cell_type": "code",
   "execution_count": null,
   "id": "31057f7f",
   "metadata": {},
   "outputs": [],
   "source": [
    "obj1.to_Access_the_perent_attr()"
   ]
  },
  {
   "cell_type": "code",
   "execution_count": null,
   "id": "7bb6793d",
   "metadata": {},
   "outputs": [],
   "source": [
    "obj1.name"
   ]
  },
  {
   "cell_type": "markdown",
   "id": "7caae22c",
   "metadata": {},
   "source": [
    "# Inheritance and Private Methods"
   ]
  },
  {
   "cell_type": "code",
   "execution_count": null,
   "id": "5cdbefaa",
   "metadata": {},
   "outputs": [],
   "source": [
    "# Perent class \n",
    "class Vehical1():\n",
    "    def __init__(self,model,fule,name):\n",
    "        self.model = model\n",
    "        self.__fule = fule\n",
    "        self.__name = name\n",
    "    \n",
    "    def __Private_method_perent(self):\n",
    "        print(\"This is the private\")"
   ]
  },
  {
   "cell_type": "code",
   "execution_count": null,
   "id": "a2bcae3f",
   "metadata": {},
   "outputs": [],
   "source": [
    "# child class \n",
    "class car1(Vehical1):\n",
    "    def __init__(self,model,fule,name,ac,sunroof):\n",
    "        # perent class attributes\n",
    "        Vehical.model=model\n",
    "        Vehical.__fule = fule\n",
    "        Vehical.__name = name\n",
    "        \n",
    "        # Child class attributes\n",
    "        self.ac = ac\n",
    "        self.sunroof = sunroof\n",
    "    \n",
    "    def to_Access_the_perent_attr(self):\n",
    "        print(Vehical.model,\" \", Vehical.__fule,\" \", Vehical.__name)\n",
    "        \n",
    "    def to_Access_the_Private_method_perent(self):\n",
    "        self._Vehical1__Private_method_perent()"
   ]
  },
  {
   "cell_type": "code",
   "execution_count": null,
   "id": "65839f82",
   "metadata": {},
   "outputs": [],
   "source": [
    "obj2 = car1(2020,\"petrol\",\"warna\",True,True)"
   ]
  },
  {
   "cell_type": "code",
   "execution_count": null,
   "id": "475d966d",
   "metadata": {},
   "outputs": [],
   "source": [
    "obj2.__dict__"
   ]
  },
  {
   "cell_type": "code",
   "execution_count": null,
   "id": "ffda7812",
   "metadata": {},
   "outputs": [],
   "source": [
    "obj2.to_Access_the_perent_attr()"
   ]
  },
  {
   "cell_type": "code",
   "execution_count": null,
   "id": "8f48a551",
   "metadata": {},
   "outputs": [],
   "source": [
    "obj2.fule # not accessable "
   ]
  },
  {
   "cell_type": "code",
   "execution_count": null,
   "id": "21ee97a3",
   "metadata": {},
   "outputs": [],
   "source": [
    "obj2.__fule # not accessable"
   ]
  },
  {
   "cell_type": "code",
   "execution_count": null,
   "id": "d3769223",
   "metadata": {},
   "outputs": [],
   "source": [
    "obj2.to_Access_the_Private_method_perent()"
   ]
  },
  {
   "cell_type": "markdown",
   "id": "5e3b6def",
   "metadata": {},
   "source": [
    "# Practice work in Inheritance"
   ]
  },
  {
   "cell_type": "code",
   "execution_count": null,
   "id": "0e7f17a9",
   "metadata": {},
   "outputs": [],
   "source": [
    "class Ve():\n",
    "    def __init__(self,name,model,color):\n",
    "        self.name=name\n",
    "        self.__model = model\n",
    "        self.__color = color\n",
    "        \n",
    "    def __pvt_met(self):\n",
    "        print(\"i am pvt\")"
   ]
  },
  {
   "cell_type": "code",
   "execution_count": null,
   "id": "da128b74",
   "metadata": {},
   "outputs": [],
   "source": [
    "class ca(Ve):\n",
    "    def __init__(self,name,model,color,ac,sunroof):\n",
    "        Ve.name=name\n",
    "        Ve.__model=model\n",
    "        Ve.__color = color\n",
    "        \n",
    "        self.ac = ac\n",
    "        self.sunroof = sunroof\n",
    "    \n",
    "    # private child class function\n",
    "    def __to_accrss_pvt_attr(self):\n",
    "        print(Ve.name,\" \",Ve.__model,\" \",Ve.__color)\n",
    "    \n",
    "    def __to_access_pvt_met(self):\n",
    "        self._Ve__pvt_met()"
   ]
  },
  {
   "cell_type": "code",
   "execution_count": null,
   "id": "a537e3ee",
   "metadata": {},
   "outputs": [],
   "source": [
    "ob1 = ca(\"tesla\",2023,\"met Black\",True,True)"
   ]
  },
  {
   "cell_type": "code",
   "execution_count": null,
   "id": "a11c60dc",
   "metadata": {},
   "outputs": [],
   "source": [
    "ob1.__dict__"
   ]
  },
  {
   "cell_type": "markdown",
   "id": "9631c0a9",
   "metadata": {},
   "source": [
    "if child class method who print perent class pvt attributes is now pvt it self"
   ]
  },
  {
   "cell_type": "code",
   "execution_count": null,
   "id": "cb941988",
   "metadata": {},
   "outputs": [],
   "source": [
    "ob1._ca__to_accrss_pvt_attr()"
   ]
  },
  {
   "cell_type": "code",
   "execution_count": null,
   "id": "2bf05e10",
   "metadata": {},
   "outputs": [],
   "source": [
    "ob1._ca__to_access_pvt_met()"
   ]
  },
  {
   "cell_type": "markdown",
   "id": "32d49f9c",
   "metadata": {},
   "source": [
    "# super function "
   ]
  },
  {
   "cell_type": "code",
   "execution_count": null,
   "id": "1b983d28",
   "metadata": {},
   "outputs": [],
   "source": [
    "class Vhk():\n",
    "    def __init__(self,name,model,fule):\n",
    "        self.name = name\n",
    "        self.__model = model\n",
    "        self.__fule = fule\n",
    "        \n",
    "    def __pvt_ff(self):\n",
    "        print(\"i am pvt\")"
   ]
  },
  {
   "cell_type": "code",
   "execution_count": null,
   "id": "4736512c",
   "metadata": {},
   "outputs": [],
   "source": [
    "class C23(Vhk):\n",
    "    def __init__(self,name,model,fule,ac,sunroof):\n",
    "        \n",
    "        super(C23,self).__init__(name,model,fule)\n",
    "        \n",
    "        self.ac = ac\n",
    "        self.sunroof = sunroof"
   ]
  },
  {
   "cell_type": "code",
   "execution_count": null,
   "id": "92889c01",
   "metadata": {},
   "outputs": [],
   "source": [
    "ob1 = C23(\"tesla\",2023,\"electric\",True,True)"
   ]
  },
  {
   "cell_type": "code",
   "execution_count": null,
   "id": "eccba62b",
   "metadata": {},
   "outputs": [],
   "source": [
    "ob1.__dict__"
   ]
  },
  {
   "cell_type": "code",
   "execution_count": null,
   "id": "1a046de9",
   "metadata": {},
   "outputs": [],
   "source": [
    "ob1._Vhk__pvt_ff()"
   ]
  },
  {
   "cell_type": "markdown",
   "id": "f476d2bd",
   "metadata": {},
   "source": [
    "# Polymorphism "
   ]
  },
  {
   "cell_type": "code",
   "execution_count": null,
   "id": "63e12565",
   "metadata": {},
   "outputs": [],
   "source": [
    "class myvehi():\n",
    "    current_year = 2021\n",
    "    base_price = 1000\n",
    "    def __init__(self,name,model,fule):\n",
    "        self.name = name\n",
    "        self.__model = model\n",
    "        self.__fule = fule\n",
    "    \n",
    "    def __pvt_mtd(self):\n",
    "        print(\"i am private\")\n",
    "    \n",
    "    # defoult function to value of car\n",
    "    def get_value(self):\n",
    "        age = myvehi.current_year - self.__model\n",
    "        print(\"This is deafult method of perent\")\n",
    "        return myvehi.base_price*(1/age)\n",
    "        "
   ]
  },
  {
   "cell_type": "code",
   "execution_count": null,
   "id": "357f6c66",
   "metadata": {},
   "outputs": [],
   "source": [
    "class rac(myvehi):\n",
    "    def __init__(self,name,model,fule,ac,sunroof):\n",
    "        super(rac,self).__init__(name,model,fule)\n",
    "        \n",
    "        self.ac=ac\n",
    "        self.sunroof=sunroof\n",
    "    \n",
    "    # Overriding Method - replase the perent defoult method\n",
    "    def get_value(self):\n",
    "        myvehi.base_price = 5000\n",
    "        age = myvehi.current_year - self._myvehi__model\n",
    "        print(\"This is the child override method\")\n",
    "        return myvehi.base_price*(1/age)"
   ]
  },
  {
   "cell_type": "code",
   "execution_count": null,
   "id": "0b3482e7",
   "metadata": {},
   "outputs": [],
   "source": [
    "obj1 = rac(\"lambo\",2019,\"superfule\",True,True)"
   ]
  },
  {
   "cell_type": "code",
   "execution_count": null,
   "id": "5e67030e",
   "metadata": {},
   "outputs": [],
   "source": [
    "obj1.__dict__"
   ]
  },
  {
   "cell_type": "code",
   "execution_count": null,
   "id": "26708df6",
   "metadata": {},
   "outputs": [],
   "source": [
    "obj1.get_value()"
   ]
  },
  {
   "cell_type": "code",
   "execution_count": null,
   "id": "6a3de9e2",
   "metadata": {},
   "outputs": [],
   "source": [
    "myPerentObj = myvehi(\"lambo\",2018,\"super\")"
   ]
  },
  {
   "cell_type": "code",
   "execution_count": null,
   "id": "715659d4",
   "metadata": {},
   "outputs": [],
   "source": [
    "myPerentObj.__dict__"
   ]
  },
  {
   "cell_type": "code",
   "execution_count": null,
   "id": "1066e003",
   "metadata": {},
   "outputs": [],
   "source": [
    "myPerentObj.get_value()"
   ]
  },
  {
   "cell_type": "markdown",
   "id": "becbce94",
   "metadata": {},
   "source": [
    "# Procted Members"
   ]
  },
  {
   "cell_type": "code",
   "execution_count": 111,
   "id": "a3cafb60",
   "metadata": {},
   "outputs": [],
   "source": [
    "class myvc():\n",
    "    curent_year = 2023\n",
    "    base_price = 1000\n",
    "    def __init__(self,name,model,fule):\n",
    "        self.name = name\n",
    "        \n",
    "        # Procted instance\n",
    "        self._model = model\n",
    "        self._fule = fule\n",
    "    \n",
    "    # defoult method of perent class\n",
    "    def _get_value(self):\n",
    "        age = myvc.curent_year - self._model\n",
    "        print(\"This is deafult method of perent\")\n",
    "        return myvc.base_price*(1/age)"
   ]
  },
  {
   "cell_type": "code",
   "execution_count": 112,
   "id": "d13f0a2c",
   "metadata": {},
   "outputs": [],
   "source": [
    "class c1(myvc):\n",
    "    def __init__(self,name,model,fule,ac,sunroof):\n",
    "        super(c1,self).__init__(name,model,fule)\n",
    "        \n",
    "        self.ac = ac\n",
    "        self.sunroof = sunroof\n",
    "    \n",
    "    # overriding method replase the defoult method of perent class\n",
    "    # procted class\n",
    "    def _get_value(self):\n",
    "        myvc.base_price = 5000\n",
    "        age = myvc.curent_year - self._model\n",
    "        print(\"This is the child override method\")\n",
    "        return myvc.base_price*(1/age)"
   ]
  },
  {
   "cell_type": "code",
   "execution_count": 113,
   "id": "f40c06a1",
   "metadata": {},
   "outputs": [],
   "source": [
    "obj = c1(\"maruti\",2015,\"hibride\",True,False)"
   ]
  },
  {
   "cell_type": "code",
   "execution_count": 114,
   "id": "0c3c5b15",
   "metadata": {},
   "outputs": [
    {
     "data": {
      "text/plain": [
       "{'name': 'maruti',\n",
       " '_model': 2015,\n",
       " '_fule': 'hibride',\n",
       " 'ac': True,\n",
       " 'sunroof': False}"
      ]
     },
     "execution_count": 114,
     "metadata": {},
     "output_type": "execute_result"
    }
   ],
   "source": [
    "obj.__dict__"
   ]
  },
  {
   "cell_type": "code",
   "execution_count": 115,
   "id": "aae79393",
   "metadata": {},
   "outputs": [
    {
     "name": "stdout",
     "output_type": "stream",
     "text": [
      "This is the child override method\n"
     ]
    },
    {
     "data": {
      "text/plain": [
       "625.0"
      ]
     },
     "execution_count": 115,
     "metadata": {},
     "output_type": "execute_result"
    }
   ],
   "source": [
    "obj._get_value()"
   ]
  },
  {
   "cell_type": "markdown",
   "id": "b4778e7b",
   "metadata": {},
   "source": [
    "# Multi level inheritance"
   ]
  },
  {
   "cell_type": "code",
   "execution_count": 119,
   "id": "ded8943b",
   "metadata": {},
   "outputs": [],
   "source": [
    "# grand perent class\n",
    "class myca:\n",
    "    def __init__(self,name,model,fule):\n",
    "        self.name = name\n",
    "        self.model = model\n",
    "        self.fule = fule\n",
    "\n",
    "# perent class\n",
    "class car(myca):\n",
    "    def __init__(self,name,model,fule,ac,sunroof):\n",
    "        super(car,self).__init__(name,model,fule)\n",
    "        \n",
    "        self.ac = ac\n",
    "        self.sunroof = sunroof\n",
    "\n",
    "# child class        \n",
    "class elect(car):\n",
    "    def __init__(self,name,model,fule,ac,sunroof,distance):\n",
    "        super(elect,self).__init__(name,model,fule,ac,sunroof)\n",
    "        \n",
    "        self.distance = distance"
   ]
  },
  {
   "cell_type": "code",
   "execution_count": 120,
   "id": "3aa4d795",
   "metadata": {},
   "outputs": [],
   "source": [
    "ob1 = elect(\"Tesla\",2019,\"Electric\",True,True,500)"
   ]
  },
  {
   "cell_type": "code",
   "execution_count": 121,
   "id": "83843ca2",
   "metadata": {},
   "outputs": [
    {
     "data": {
      "text/plain": [
       "{'name': 'Tesla',\n",
       " 'model': 2019,\n",
       " 'fule': 'Electric',\n",
       " 'ac': True,\n",
       " 'sunroof': True,\n",
       " 'distance': 500}"
      ]
     },
     "execution_count": 121,
     "metadata": {},
     "output_type": "execute_result"
    }
   ],
   "source": [
    "ob1.__dict__"
   ]
  },
  {
   "cell_type": "markdown",
   "id": "2902340d",
   "metadata": {},
   "source": [
    "# Multiple inheritance"
   ]
  },
  {
   "cell_type": "code",
   "execution_count": 135,
   "id": "bbd79f76",
   "metadata": {},
   "outputs": [],
   "source": [
    "class car:\n",
    "    def __init__(self,name,model,fule):\n",
    "        self.name = name\n",
    "        self.model = model\n",
    "        self.fule = fule\n",
    "    \n",
    "    def get_access(self):\n",
    "        print (\"The name of the car is\",self.name,\"from car class\")\n",
    "        \n",
    "class Elecar:\n",
    "    def __init__(self,name,model,fule):\n",
    "        self.name = name\n",
    "        self.model = model\n",
    "        self.fule = fule\n",
    "    \n",
    "    def get_access(self):\n",
    "        print (\"This name of the care is \",self.name,\"from Elecar class\")"
   ]
  },
  {
   "cell_type": "code",
   "execution_count": 145,
   "id": "cc64a7cf",
   "metadata": {},
   "outputs": [],
   "source": [
    "class texi(car,Elecar): # definr index is deside what is print in obj\n",
    "    def __init__(self,name,model,fule):\n",
    "        super().__init__(name,model,fule)"
   ]
  },
  {
   "cell_type": "code",
   "execution_count": 146,
   "id": "a57feaa0",
   "metadata": {},
   "outputs": [],
   "source": [
    "obj1 = texi(\"Tesla\",2023,\"Electric\")"
   ]
  },
  {
   "cell_type": "code",
   "execution_count": 147,
   "id": "009542f5",
   "metadata": {},
   "outputs": [
    {
     "name": "stdout",
     "output_type": "stream",
     "text": [
      "The name of the car is Tesla from car class\n"
     ]
    }
   ],
   "source": [
    "obj1.get_access()"
   ]
  },
  {
   "cell_type": "code",
   "execution_count": 148,
   "id": "c846ddac",
   "metadata": {},
   "outputs": [
    {
     "data": {
      "text/plain": [
       "(__main__.texi, __main__.car, __main__.Elecar, object)"
      ]
     },
     "execution_count": 148,
     "metadata": {},
     "output_type": "execute_result"
    }
   ],
   "source": [
    "texi.__mro__"
   ]
  },
  {
   "cell_type": "code",
   "execution_count": 149,
   "id": "c492a816",
   "metadata": {},
   "outputs": [
    {
     "data": {
      "text/plain": [
       "[__main__.texi, __main__.car, __main__.Elecar, object]"
      ]
     },
     "execution_count": 149,
     "metadata": {},
     "output_type": "execute_result"
    }
   ],
   "source": [
    "texi.mro()"
   ]
  },
  {
   "cell_type": "code",
   "execution_count": null,
   "id": "b7b9f96a",
   "metadata": {},
   "outputs": [],
   "source": []
  }
 ],
 "metadata": {
  "kernelspec": {
   "display_name": "Python 3 (ipykernel)",
   "language": "python",
   "name": "python3"
  },
  "language_info": {
   "codemirror_mode": {
    "name": "ipython",
    "version": 3
   },
   "file_extension": ".py",
   "mimetype": "text/x-python",
   "name": "python",
   "nbconvert_exporter": "python",
   "pygments_lexer": "ipython3",
   "version": "3.8.1"
  }
 },
 "nbformat": 4,
 "nbformat_minor": 5
}
