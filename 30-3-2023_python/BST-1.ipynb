{
 "cells": [
  {
   "cell_type": "code",
   "execution_count": null,
   "id": "4deb7051",
   "metadata": {},
   "outputs": [],
   "source": [
    "class BinaryTree():\n",
    "    def __init__(self,data):\n",
    "        self.data = data\n",
    "        self.left = None\n",
    "        self.right = None"
   ]
  },
  {
   "cell_type": "code",
   "execution_count": null,
   "id": "4240f6d1",
   "metadata": {},
   "outputs": [],
   "source": [
    "import queue\n",
    "\n",
    "def takeInputLvL():\n",
    "    q = queue.Queue()\n",
    "    print(\"Enter The Root\")\n",
    "    rootData = int(input())\n",
    "    if rootData == -1:\n",
    "        return None\n",
    "    root = BinaryTree(rootData)\n",
    "    q.put(root)\n",
    "    while (not (q.empty())):\n",
    "        current_node = q.get()\n",
    "        print(\"Enter left Child of \", current_node.data)\n",
    "        leftChildData = int(input())\n",
    "        if leftChildData != -1:\n",
    "            leftChild = BinaryTree(leftChildData)\n",
    "            current_node.left = leftChild\n",
    "            q.put(leftChild)\n",
    "        \n",
    "        print(\"Enter right Child of \", current_node.data)\n",
    "        rightChildData = int(input())\n",
    "        if rightChildData != -1:\n",
    "            rightChild = BinaryTree(rightChildData)\n",
    "            current_node.right = rightChild\n",
    "            q.put(rightChild)\n",
    "            \n",
    "    return root"
   ]
  },
  {
   "cell_type": "code",
   "execution_count": null,
   "id": "bcb27d01",
   "metadata": {},
   "outputs": [],
   "source": [
    "# print Tree level vise using queue\n",
    "import queue\n",
    "def PrintTreeLvl(root):\n",
    "    q = queue.Queue()\n",
    "    \n",
    "    if root == -1:\n",
    "        return None\n",
    "    q.put(root)\n",
    "    while (not(q.empty())):\n",
    "        current_node = q.get()\n",
    "        print(current_node.data,end=\":\")\n",
    "        \n",
    "        if current_node.left != None:\n",
    "            print(\"L\" + str(current_node.left.data),end=\",\")\n",
    "            q.put(current_node.left)\n",
    "        else:\n",
    "            print(\"L\" + \"-1\",end=\",\")\n",
    "        \n",
    "        if current_node.right != None:\n",
    "            print(\"R\" + str(current_node.right.data),end=\"\")\n",
    "            q.put(current_node.right)\n",
    "        else:\n",
    "            print(\"R\" + \"-1\",end=\"\")\n",
    "        print()\n",
    "    return"
   ]
  },
  {
   "cell_type": "markdown",
   "id": "66c27f8f",
   "metadata": {},
   "source": [
    "# BST -1"
   ]
  },
  {
   "cell_type": "code",
   "execution_count": null,
   "id": "410b22fa",
   "metadata": {},
   "outputs": [],
   "source": [
    "# search k in tree using Binary search aperoch\\\n",
    "def searchInBST(root, k):\n",
    "    if root == None:\n",
    "        return False\n",
    "    \n",
    "    if root.data == k:\n",
    "        return True\n",
    "    \n",
    "    if root.data > k:\n",
    "        return searchInBST(root.left,k)\n",
    "    else:\n",
    "        return searchInBST(root.right,k)\n",
    "       \n",
    "# input Binary search tree\n",
    "# 8 5 10 2 6 -1 -1 -1 -1 -1 7 -1 -1\n",
    "# 2"
   ]
  },
  {
   "cell_type": "code",
   "execution_count": null,
   "id": "7458c6da",
   "metadata": {},
   "outputs": [],
   "source": [
    "# Elements Between K1 and K2\n",
    "def elementsInRangeK1K2(root,k1,k2):\n",
    "    if root == None:\n",
    "        return None\n",
    "        \n",
    "    if k1 < root.data:\n",
    "        elementsInRangeK1K2(root.left,k1,k2)\n",
    "    if k1 <= root.data <= k2:\n",
    "        print(root.data,end=\" \")\n",
    "    if k2 > root.data:\n",
    "        elementsInRangeK1K2(root.right,k1,k2)\n",
    "        "
   ]
  },
  {
   "cell_type": "code",
   "execution_count": null,
   "id": "cf39ab1b",
   "metadata": {},
   "outputs": [],
   "source": [
    "# Convert Sorted array to the BST\n",
    "def convertArrayToBST(arr):\n",
    "    if not arr:\n",
    "        return None\n",
    "    mid = len(arr) // 2\n",
    "    root = BinaryTree(arr[mid])\n",
    "    \n",
    "    root.left = convertArrayToBST(arr[:mid])\n",
    "    root.right = convertArrayToBST(arr[mid + 1:])\n",
    "    \n",
    "    return root"
   ]
  },
  {
   "cell_type": "code",
   "execution_count": null,
   "id": "40e9483f",
   "metadata": {},
   "outputs": [],
   "source": [
    "def sortedArrayToBST(nums):\n",
    "    def constructBST(left, right):\n",
    "        if left > right:\n",
    "            return None\n",
    "\n",
    "        mid = (left + right) // 2\n",
    "        root = BinaryTree(nums[mid])\n",
    "        root.left = constructBST(left, mid - 1)\n",
    "        root.right = constructBST(mid + 1, right)\n",
    "        return root\n",
    "\n",
    "    return constructBST(0, len(nums) - 1)"
   ]
  },
  {
   "cell_type": "code",
   "execution_count": null,
   "id": "acaa8453",
   "metadata": {},
   "outputs": [],
   "source": [
    "# find if tree is BST or not\n",
    "def isBST2(root):\n",
    "    if root==None:\n",
    "        return 100000,-100000,True\n",
    "    leftMin,leftMax,isLeftBST=isBST2(root.left)\n",
    "    rightMin,rightMax,isRightBST=isBST2(root.right)\n",
    "    \n",
    "    minimum=min(leftMin,rightMin,root.data)\n",
    "    maximum=max(leftMax,rightMax,root.data)\n",
    "    isTreeBST=True\n",
    "    if root.data<=leftMax or root.data>rightMin:\n",
    "        isTreeBST=False\n",
    "    if not(isLeftBST) or not(isRightBST):\n",
    "        isTreeBST=False\n",
    "        \n",
    "    return minimum,maximum,isTreeBST"
   ]
  },
  {
   "cell_type": "code",
   "execution_count": 47,
   "id": "ed37e0be",
   "metadata": {},
   "outputs": [
    {
     "name": "stdout",
     "output_type": "stream",
     "text": [
      "Enter The Root\n",
      "4\n",
      "Enter left Child of  4\n",
      "2\n",
      "Enter right Child of  4\n",
      "6\n",
      "Enter left Child of  2\n",
      "1\n",
      "Enter right Child of  2\n",
      "30\n",
      "Enter left Child of  6\n",
      "5\n",
      "Enter right Child of  6\n",
      "7\n",
      "Enter left Child of  1\n",
      "-1\n",
      "Enter right Child of  1\n",
      "-1\n",
      "Enter left Child of  30\n",
      "-1\n",
      "Enter right Child of  30\n",
      "-1\n",
      "Enter left Child of  5\n",
      "-1\n",
      "Enter right Child of  5\n",
      "-1\n",
      "Enter left Child of  7\n",
      "-1\n",
      "Enter right Child of  7\n",
      "-1\n",
      "4:L2,R6\n",
      "2:L1,R30\n",
      "6:L5,R7\n",
      "1:L-1,R-1\n",
      "30:L-1,R-1\n",
      "5:L-1,R-1\n",
      "7:L-1,R-1\n"
     ]
    },
    {
     "data": {
      "text/plain": [
       "(1, 30, False)"
      ]
     },
     "execution_count": 47,
     "metadata": {},
     "output_type": "execute_result"
    }
   ],
   "source": [
    "root = takeInputLvL()\n",
    "PrintTreeLvl(root)\n",
    "isBST2(root)"
   ]
  },
  {
   "cell_type": "code",
   "execution_count": null,
   "id": "9cce2d15",
   "metadata": {},
   "outputs": [],
   "source": [
    "# arr = [1,2,3,4,5,6,7,8]\n",
    "# root = sortedArrayToBST(arr)\n",
    "# PrintTreeLvl(root)"
   ]
  },
  {
   "cell_type": "code",
   "execution_count": null,
   "id": "f66a4ecc",
   "metadata": {},
   "outputs": [],
   "source": []
  }
 ],
 "metadata": {
  "kernelspec": {
   "display_name": "Python 3 (ipykernel)",
   "language": "python",
   "name": "python3"
  },
  "language_info": {
   "codemirror_mode": {
    "name": "ipython",
    "version": 3
   },
   "file_extension": ".py",
   "mimetype": "text/x-python",
   "name": "python",
   "nbconvert_exporter": "python",
   "pygments_lexer": "ipython3",
   "version": "3.8.1"
  }
 },
 "nbformat": 4,
 "nbformat_minor": 5
}
