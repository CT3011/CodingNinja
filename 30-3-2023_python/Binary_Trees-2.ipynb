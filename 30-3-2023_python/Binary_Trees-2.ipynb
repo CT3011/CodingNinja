{
 "cells": [
  {
   "cell_type": "markdown",
   "id": "23af4aff",
   "metadata": {},
   "source": [
    "# Binary tree input and print"
   ]
  },
  {
   "cell_type": "code",
   "execution_count": 3,
   "id": "4b892b1e",
   "metadata": {},
   "outputs": [],
   "source": [
    "# Create The class of Binary tree\n",
    "class BinaryTree:\n",
    "    def __init__(self,data):\n",
    "        self.data = data\n",
    "        self.left = None\n",
    "        self.right = None\n",
    "        "
   ]
  },
  {
   "cell_type": "code",
   "execution_count": 4,
   "id": "7e5d81e1",
   "metadata": {},
   "outputs": [],
   "source": [
    "# take an input for binary tree\n",
    "def takeInput():\n",
    "    inputData = int(input())\n",
    "    \n",
    "    if inputData == -1:\n",
    "        return None\n",
    "    \n",
    "    root = BinaryTree(inputData)\n",
    "    \n",
    "    leftInput = takeInput()\n",
    "    rightInput = takeInput()\n",
    "    root.left = leftInput\n",
    "    root.right = rightInput\n",
    "    return root"
   ]
  },
  {
   "cell_type": "code",
   "execution_count": 5,
   "id": "4dec7424",
   "metadata": {},
   "outputs": [],
   "source": [
    "# Print The Detailed Binary Tree\n",
    "def PrintTree(root):\n",
    "    if root == None:\n",
    "        return\n",
    "    print(root.data,end=\":\")\n",
    "    if root.left != None:\n",
    "        print(\"L\", root.left.data,end=\",\")\n",
    "    if root.right != None:\n",
    "        print(\"R\", root.right.data,end=\"\")\n",
    "    print()\n",
    "    PrintTree(root.left)\n",
    "    PrintTree(root.right)"
   ]
  },
  {
   "cell_type": "markdown",
   "id": "705ca280",
   "metadata": {},
   "source": [
    "* remove Leaf node in binary tree"
   ]
  },
  {
   "cell_type": "code",
   "execution_count": 6,
   "id": "6f31e5ff",
   "metadata": {},
   "outputs": [],
   "source": [
    "# remove leaf node in tree\n",
    "def removeLeafNode(root):\n",
    "    if root == None:\n",
    "        return None\n",
    "    if root.left == None and root.right == None:\n",
    "        return None\n",
    "    root.left = removeLeafNode(root.left)\n",
    "    root.right = removeLeafNode(root.right)\n",
    "    return root"
   ]
  },
  {
   "cell_type": "code",
   "execution_count": 7,
   "id": "8614f9eb",
   "metadata": {},
   "outputs": [],
   "source": [
    "# merror Binary Tree\n",
    "def MerrorTree(root):\n",
    "    if root == None:\n",
    "        return \n",
    "    leftRoot = MerrorTree(root.right)\n",
    "    rightRoot = MerrorTree(root.left)\n",
    "    root.left = leftRoot\n",
    "    root.right = rightRoot\n",
    "    return root"
   ]
  },
  {
   "cell_type": "markdown",
   "id": "2b2abeb7",
   "metadata": {},
   "source": [
    "* Check is tree balanced or not"
   ]
  },
  {
   "cell_type": "code",
   "execution_count": 8,
   "id": "921d0078",
   "metadata": {},
   "outputs": [],
   "source": [
    "def hight(root):\n",
    "    if root == None:\n",
    "        return 0\n",
    "    return 1 + max(hight(root.left),hight(root.right))"
   ]
  },
  {
   "cell_type": "code",
   "execution_count": 9,
   "id": "cc887e90",
   "metadata": {},
   "outputs": [],
   "source": [
    "def CheckTreeBalanced(root):\n",
    "    if root == None:\n",
    "        return True\n",
    "    lh = hight(root.left)\n",
    "    rh = hight(root.right)\n",
    "    \n",
    "    if lh - rh > 1 or rh - lh > 1:\n",
    "        return False\n",
    "    \n",
    "    isLeftBalanced = CheckTreeBalanced(root.left)\n",
    "    isRightBalanced = CheckTreeBalanced(root.right)\n",
    "    \n",
    "    if isLeftBalanced and isRightBalanced:\n",
    "        return True\n",
    "    else:\n",
    "        return False"
   ]
  },
  {
   "cell_type": "code",
   "execution_count": 10,
   "id": "bce35522",
   "metadata": {},
   "outputs": [],
   "source": [
    "# make The batter Function which can call hite and balansed at the same time\n",
    "def HiteandBalance(root):\n",
    "    if root == None:\n",
    "        return 0,True\n",
    "    \n",
    "    h1,isBalansedLeft = HiteandBalance(root.left)\n",
    "    h2,isBalansedRight = HiteandBalance(root.right)\n",
    "    \n",
    "    hight = 1 + max(h1,h2)\n",
    "    \n",
    "    if h1 - h2 >1 or h2 - h1 > 1:\n",
    "        return hight,False\n",
    "    \n",
    "    if isBalansedLeft and isBalansedRight:\n",
    "        return hight, True\n",
    "    else:\n",
    "        return hight, False"
   ]
  },
  {
   "cell_type": "code",
   "execution_count": 20,
   "id": "8245dcba",
   "metadata": {},
   "outputs": [],
   "source": [
    "# Find Diamiter of Binary Tree\n",
    "def height_diameter(root):\n",
    "    # base case: empty tree has height 0 and diameter 0\n",
    "    if root is None:\n",
    "        return 0, 0\n",
    "    \n",
    "    # get the height and diameter of left and right sub-trees\n",
    "    lh, ld = height_diameter(root.left)\n",
    "    rh, rd = height_diameter(root.right)\n",
    "    \n",
    "    # calculate the height of current node\n",
    "    height = 1 + max(lh, rh)\n",
    "    \n",
    "    # calculate the diameter of current node\n",
    "    diameter = max(lh + rh + 1, ld, rd)\n",
    "    \n",
    "    # return the height and diameter of current node\n",
    "    return height, diameter\n",
    "\n",
    "def diameterOfBinaryTree(root):\n",
    "    height,diameter = height_diameter(root)\n",
    "    return diameter"
   ]
  },
  {
   "cell_type": "markdown",
   "id": "38d977dd",
   "metadata": {},
   "source": [
    "# take input level vise using iterative way."
   ]
  },
  {
   "cell_type": "code",
   "execution_count": 28,
   "id": "d29cf608",
   "metadata": {},
   "outputs": [],
   "source": [
    "import queue\n",
    "\n",
    "def takeInputLvL():\n",
    "    q = queue.Queue()\n",
    "    print(\"Enter The Root\")\n",
    "    rootData = int(input())\n",
    "    if rootData == -1:\n",
    "        return None\n",
    "    root = BinaryTree(rootData)\n",
    "    q.put(root)\n",
    "    while (not (q.empty())):\n",
    "        current_node = q.get()\n",
    "        print(\"Enter left Child of \", current_node.data)\n",
    "        leftChildData = int(input())\n",
    "        if leftChildData != -1:\n",
    "            leftChild = BinaryTree(leftChildData)\n",
    "            current_node.left = leftChild\n",
    "            q.put(leftChild)\n",
    "        \n",
    "        print(\"Enter right Child of \", current_node.data)\n",
    "        rightChildData = int(input())\n",
    "        if rightChildData != -1:\n",
    "            rightChild = BinaryTree(rightChildData)\n",
    "            current_node.right = rightChild\n",
    "            q.put(rightChild)\n",
    "            \n",
    "    return root\n",
    "    "
   ]
  },
  {
   "cell_type": "code",
   "execution_count": 48,
   "id": "176ea02c",
   "metadata": {},
   "outputs": [],
   "source": [
    "# print Tree level vise using queue\n",
    "import queue\n",
    "def PrintTreeLvl(root):\n",
    "    q = queue.Queue()\n",
    "    \n",
    "    if root == -1:\n",
    "        return None\n",
    "    q.put(root)\n",
    "    while (not(q.empty())):\n",
    "        current_node = q.get()\n",
    "        print(current_node.data,end=\":\")\n",
    "        \n",
    "        if current_node.left != None:\n",
    "            print(\"L\" + str(current_node.left.data),end=\",\")\n",
    "            q.put(current_node.left)\n",
    "        else:\n",
    "            print(\"L\" + \"-1\",end=\",\")\n",
    "        \n",
    "        if current_node.right != None:\n",
    "            print(\"R\" + str(current_node.right.data),end=\"\")\n",
    "            q.put(current_node.right)\n",
    "        else:\n",
    "            print(\"R\" + \"-1\",end=\"\")\n",
    "        print()\n",
    "    return\n",
    "            \n",
    "        "
   ]
  },
  {
   "cell_type": "code",
   "execution_count": 54,
   "id": "21c6392b",
   "metadata": {},
   "outputs": [],
   "source": [
    "# Create The tree using preorder and inorder\n",
    "def buildTree(preorder, inorder) :\n",
    "    #Your code goes here\n",
    "    index_map = {}\n",
    "    for i, val in enumerate(inorder):\n",
    "        index_map[val] = i\n",
    "    pre_iter = iter(preorder)\n",
    "    return constructTree(pre_iter, inorder, 0, len(inorder) - 1, index_map)\n",
    "\n",
    "def constructTree(pre_iter, inorder, in_start, in_end, index_map):\n",
    "    if in_start > in_end:\n",
    "        return None\n",
    "\n",
    "    root_val = next(pre_iter)\n",
    "    root = BinaryTree(root_val)\n",
    "\n",
    "    in_index = index_map[root_val]\n",
    "\n",
    "    root.left = constructTree(pre_iter, inorder, in_start, in_index - 1, index_map)\n",
    "    root.right = constructTree(pre_iter, inorder, in_index + 1, in_end, index_map)\n",
    "\n",
    "    return root"
   ]
  },
  {
   "cell_type": "code",
   "execution_count": 63,
   "id": "7c200f2d",
   "metadata": {},
   "outputs": [],
   "source": [
    "# Build The tree using postorder and inorder\n",
    "def buildTree2(postorder, inorder) :\n",
    "    #Your code goes here\n",
    "    index_map = {}\n",
    "    for i, val in enumerate(inorder):\n",
    "        index_map[val] = i\n",
    "    \n",
    "    # Define a helper function to recursively build the tree\n",
    "    def build_tree_helper(post_start, post_end, in_start, in_end):\n",
    "        if post_start > post_end or in_start > in_end:\n",
    "            return None\n",
    "        \n",
    "        # The last element of postorder is the root of the subtree\n",
    "        root_val = postorder[post_end]\n",
    "        root = BinaryTree(root_val)\n",
    "        \n",
    "        # Find the index of the root in inorder\n",
    "        root_index = index_map[root_val]\n",
    "        \n",
    "        # Recursively build the left and right subtrees\n",
    "        left_size = root_index - in_start\n",
    "        root.left = build_tree_helper(post_start, post_start + left_size - 1, in_start, root_index - 1)\n",
    "        root.right = build_tree_helper(post_start + left_size, post_end - 1, root_index + 1, in_end)\n",
    "        \n",
    "        return root\n",
    "    \n",
    "    # Call the helper function to build the tree\n",
    "    return build_tree_helper(0, len(postorder) - 1, 0, len(inorder) - 1)\n",
    "\n",
    "# input\n",
    "# post = [2, 9, 3, 6, 10, 5]\n",
    "# inoreder = [2, 6, 3, 9, 5, 10]"
   ]
  },
  {
   "cell_type": "code",
   "execution_count": 64,
   "id": "2369ea0f",
   "metadata": {},
   "outputs": [],
   "source": [
    "# Create & Insert Duplicate Node\n",
    "def insertDuplicateNode(root):\n",
    "    if root == None:\n",
    "        return None\n",
    "    \n",
    "    insertDuplicateNode(root.left)\n",
    "    insertDuplicateNode(root.right)\n",
    "    create_node = BinaryTree(root.data)\n",
    "    create_node.left = root.left\n",
    "    root.left = create_node"
   ]
  },
  {
   "cell_type": "code",
   "execution_count": 120,
   "id": "59deb675",
   "metadata": {},
   "outputs": [],
   "source": [
    "# Minimum and Maximum in the Binary Tree\n",
    "def find_min_max(root):\n",
    "    if root is None:\n",
    "        return float('inf'), float('-inf')\n",
    "    \n",
    "    left_min, left_max = find_min_max(root.left)\n",
    "    right_min, right_max = find_min_max(root.right)\n",
    "    \n",
    "    return min(root.data, left_min, right_min), max(root.data, left_max, right_max)"
   ]
  },
  {
   "cell_type": "code",
   "execution_count": 122,
   "id": "5bc7388b",
   "metadata": {},
   "outputs": [],
   "source": [
    "def find_min_max_pr(root):\n",
    "    min_val, max_val = find_min_max(root)\n",
    "    print(min_val, max_val)"
   ]
  },
  {
   "cell_type": "code",
   "execution_count": 123,
   "id": "c809ab9c",
   "metadata": {},
   "outputs": [
    {
     "name": "stdout",
     "output_type": "stream",
     "text": [
      "Enter The Root\n",
      "10\n",
      "Enter left Child of  10\n",
      "2\n",
      "Enter right Child of  10\n",
      "4\n",
      "Enter left Child of  2\n",
      "-1\n",
      "Enter right Child of  2\n",
      "-1\n",
      "Enter left Child of  4\n",
      "-1\n",
      "Enter right Child of  4\n",
      "-1\n",
      "10:L2,R4\n",
      "2:L-1,R-1\n",
      "4:L-1,R-1\n",
      "(2, 10)\n",
      "2 10\n"
     ]
    }
   ],
   "source": [
    "root = takeInputLvL()\n",
    "PrintTreeLvl(root)\n",
    "print(find_min_max(root))\n",
    "find_min_max_pr(root)"
   ]
  },
  {
   "cell_type": "code",
   "execution_count": null,
   "id": "e85899a4",
   "metadata": {},
   "outputs": [],
   "source": []
  }
 ],
 "metadata": {
  "kernelspec": {
   "display_name": "Python 3 (ipykernel)",
   "language": "python",
   "name": "python3"
  },
  "language_info": {
   "codemirror_mode": {
    "name": "ipython",
    "version": 3
   },
   "file_extension": ".py",
   "mimetype": "text/x-python",
   "name": "python",
   "nbconvert_exporter": "python",
   "pygments_lexer": "ipython3",
   "version": "3.8.1"
  }
 },
 "nbformat": 4,
 "nbformat_minor": 5
}
