{
 "cells": [
  {
   "cell_type": "markdown",
   "id": "8a21bd8e",
   "metadata": {},
   "source": [
    "# class example"
   ]
  },
  {
   "cell_type": "markdown",
   "id": "0ec35eb4",
   "metadata": {},
   "source": [
    "class is a blueprint which is defind ones and it's function called method \n",
    "when we call the class and and use the method we create a new object \n",
    "every object stores there one data\n",
    "so using class we can ceeat enfinite amount of object which is store there one data."
   ]
  },
  {
   "cell_type": "code",
   "execution_count": 14,
   "id": "71254435",
   "metadata": {},
   "outputs": [],
   "source": [
    "class expanceTracker:\n",
    "    \"\"\"\n",
    "    This ths class that can track the expances of all\n",
    "    \"\"\"\n",
    "    \n",
    "    def __init__(self):\n",
    "        pass"
   ]
  },
  {
   "cell_type": "code",
   "execution_count": 15,
   "id": "3cdc38c7",
   "metadata": {},
   "outputs": [],
   "source": [
    "obj1 = expanceTracker()"
   ]
  },
  {
   "cell_type": "code",
   "execution_count": 16,
   "id": "7f63bb57",
   "metadata": {},
   "outputs": [],
   "source": [
    "class expanceTracker:\n",
    "    \"\"\"\n",
    "    This ths class that can track the expances of all    \n",
    "    \"\"\"\n",
    "        \n",
    "    def __init__(self, date,description,types,amount):\n",
    "        self.date = date\n",
    "        self.description = description\n",
    "        self.types = types\n",
    "        self.amount = amount"
   ]
  },
  {
   "cell_type": "code",
   "execution_count": 17,
   "id": "8be5c73e",
   "metadata": {},
   "outputs": [],
   "source": [
    "obj2 = expanceTracker(\"12Apr\",\"buy trimer\",\"dabit\",\"650\")"
   ]
  },
  {
   "cell_type": "code",
   "execution_count": 18,
   "id": "0b91c4bb",
   "metadata": {},
   "outputs": [],
   "source": [
    "obj3 = expanceTracker(\"1Apr\",\"salary\",\"credit\",\"11600\")"
   ]
  },
  {
   "cell_type": "code",
   "execution_count": 19,
   "id": "7786802c",
   "metadata": {},
   "outputs": [
    {
     "data": {
      "text/plain": [
       "'dabit'"
      ]
     },
     "execution_count": 19,
     "metadata": {},
     "output_type": "execute_result"
    }
   ],
   "source": [
    "obj2.types"
   ]
  },
  {
   "cell_type": "code",
   "execution_count": 20,
   "id": "fb16612b",
   "metadata": {},
   "outputs": [
    {
     "data": {
      "text/plain": [
       "'11600'"
      ]
     },
     "execution_count": 20,
     "metadata": {},
     "output_type": "execute_result"
    }
   ],
   "source": [
    "obj3.amount"
   ]
  },
  {
   "cell_type": "code",
   "execution_count": 13,
   "id": "917b69a5",
   "metadata": {},
   "outputs": [
    {
     "data": {
      "text/plain": [
       "'650'"
      ]
     },
     "execution_count": 13,
     "metadata": {},
     "output_type": "execute_result"
    }
   ],
   "source": [
    "obj2.amount"
   ]
  },
  {
   "cell_type": "code",
   "execution_count": 26,
   "id": "5f4325c3",
   "metadata": {},
   "outputs": [
    {
     "name": "stdout",
     "output_type": "stream",
     "text": [
      "3\n",
      "\n",
      "*\n",
      "**\n",
      "***\n"
     ]
    }
   ],
   "source": [
    "a = int(input())\n",
    "for i in range(a+1):\n",
    "    for j in range(i):\n",
    "        print(\"*\",end=\"\")\n",
    "        \n",
    "    print()"
   ]
  },
  {
   "cell_type": "markdown",
   "id": "779c90ac",
   "metadata": {},
   "source": [
    "# defferance betwin class attribute and obj/instance attribute"
   ]
  },
  {
   "cell_type": "code",
   "execution_count": 2,
   "id": "756f6deb",
   "metadata": {},
   "outputs": [],
   "source": [
    "class exp_trac:\n",
    "    \"\"\"\n",
    "    It track the expance of all cind\n",
    "    \"\"\"\n",
    "    exp_trac_version = 0.1\n",
    "    \n",
    "    def __init__(self,name,opening,closing):\n",
    "        self.name = name\n",
    "        self.opening = opening\n",
    "        self.closing = closing"
   ]
  },
  {
   "cell_type": "code",
   "execution_count": 3,
   "id": "d1552f37",
   "metadata": {},
   "outputs": [],
   "source": [
    "object1 = exp_trac(\"Home_expance\",0,10000)\n",
    "object2 = exp_trac(\"office_expance\",2000,20000)"
   ]
  },
  {
   "cell_type": "markdown",
   "id": "5d1ac580",
   "metadata": {},
   "source": [
    "here you can see class attribut is not showing int the dict."
   ]
  },
  {
   "cell_type": "code",
   "execution_count": 4,
   "id": "3df33ecf",
   "metadata": {},
   "outputs": [
    {
     "data": {
      "text/plain": [
       "{'name': 'Home_expance', 'opening': 0, 'closing': 10000}"
      ]
     },
     "execution_count": 4,
     "metadata": {},
     "output_type": "execute_result"
    }
   ],
   "source": [
    "object1.__dict__"
   ]
  },
  {
   "cell_type": "markdown",
   "id": "8673e3da",
   "metadata": {},
   "source": [
    "but you can access the class atribute using the name of the class atribute"
   ]
  },
  {
   "cell_type": "code",
   "execution_count": 5,
   "id": "976b8501",
   "metadata": {},
   "outputs": [
    {
     "data": {
      "text/plain": [
       "0.1"
      ]
     },
     "execution_count": 5,
     "metadata": {},
     "output_type": "execute_result"
    }
   ],
   "source": [
    "object1.exp_trac_version"
   ]
  },
  {
   "cell_type": "markdown",
   "id": "44cae7dc",
   "metadata": {},
   "source": [
    "it is same for all atribute becouse it is class atribute"
   ]
  },
  {
   "cell_type": "code",
   "execution_count": 6,
   "id": "b3b4229c",
   "metadata": {},
   "outputs": [
    {
     "data": {
      "text/plain": [
       "0.1"
      ]
     },
     "execution_count": 6,
     "metadata": {},
     "output_type": "execute_result"
    }
   ],
   "source": [
    "object2.exp_trac_version"
   ]
  },
  {
   "cell_type": "markdown",
   "id": "507cfdab",
   "metadata": {},
   "source": [
    "we can change the class atribute value for the spacific object.\n",
    "\n",
    "but it is change for that object only it's value remaning same for other object."
   ]
  },
  {
   "cell_type": "code",
   "execution_count": 7,
   "id": "4fac08fc",
   "metadata": {},
   "outputs": [],
   "source": [
    "object1.exp_trac_version = 0.2"
   ]
  },
  {
   "cell_type": "code",
   "execution_count": 8,
   "id": "4ac1a68a",
   "metadata": {},
   "outputs": [
    {
     "data": {
      "text/plain": [
       "0.2"
      ]
     },
     "execution_count": 8,
     "metadata": {},
     "output_type": "execute_result"
    }
   ],
   "source": [
    "object1.exp_trac_version"
   ]
  },
  {
   "cell_type": "code",
   "execution_count": 9,
   "id": "21585067",
   "metadata": {},
   "outputs": [
    {
     "data": {
      "text/plain": [
       "0.1"
      ]
     },
     "execution_count": 9,
     "metadata": {},
     "output_type": "execute_result"
    }
   ],
   "source": [
    "object2.exp_trac_version"
   ]
  },
  {
   "cell_type": "markdown",
   "id": "28535fc3",
   "metadata": {},
   "source": [
    "# Static method and Instance Method"
   ]
  },
  {
   "cell_type": "code",
   "execution_count": 32,
   "id": "85dca26f",
   "metadata": {},
   "outputs": [],
   "source": [
    "class my_exp_tra:\n",
    "    \"\"\"\n",
    "    comment for class what is exactli do\n",
    "    \"\"\"\n",
    "    my_exp_tra_version = 0.1\n",
    "    \n",
    "    def __init__(self,track_category,org_balence,budget):\n",
    "        self.track_category = track_category\n",
    "        self.org_balence = org_balence\n",
    "        self.budget = budget\n",
    "        \n",
    "    #instance method\n",
    "    def get_orignal_belance(self):\n",
    "        return self.org_balence\n",
    "    \n",
    "    def check_bel(self, limit=1000):\n",
    "        if self.budget >= limit:\n",
    "            return True\n",
    "        return \"your budget is lase then limit\"\n",
    "    \n",
    "    @staticmethod\n",
    "    def convert_amount(amount):\n",
    "        return float(amount)"
   ]
  },
  {
   "cell_type": "code",
   "execution_count": 33,
   "id": "a5626f15",
   "metadata": {},
   "outputs": [],
   "source": [
    "obj1 = my_exp_tra(\"myexp\",25000,10000)\n",
    "obj2 = my_exp_tra(\"shoping\",3000,5000)"
   ]
  },
  {
   "cell_type": "code",
   "execution_count": 34,
   "id": "f2df2fc3",
   "metadata": {},
   "outputs": [
    {
     "data": {
      "text/plain": [
       "25000"
      ]
     },
     "execution_count": 34,
     "metadata": {},
     "output_type": "execute_result"
    }
   ],
   "source": [
    "obj1.get_orignal_belance()"
   ]
  },
  {
   "cell_type": "code",
   "execution_count": 35,
   "id": "bc104d29",
   "metadata": {},
   "outputs": [
    {
     "data": {
      "text/plain": [
       "3000"
      ]
     },
     "execution_count": 35,
     "metadata": {},
     "output_type": "execute_result"
    }
   ],
   "source": [
    "obj2.get_orignal_belance()"
   ]
  },
  {
   "cell_type": "code",
   "execution_count": 36,
   "id": "4381ee38",
   "metadata": {},
   "outputs": [
    {
     "data": {
      "text/plain": [
       "True"
      ]
     },
     "execution_count": 36,
     "metadata": {},
     "output_type": "execute_result"
    }
   ],
   "source": [
    "obj1.check_bel()"
   ]
  },
  {
   "cell_type": "code",
   "execution_count": 37,
   "id": "35d120ce",
   "metadata": {},
   "outputs": [
    {
     "data": {
      "text/plain": [
       "True"
      ]
     },
     "execution_count": 37,
     "metadata": {},
     "output_type": "execute_result"
    }
   ],
   "source": [
    "obj2.check_bel()"
   ]
  },
  {
   "cell_type": "code",
   "execution_count": 38,
   "id": "c9691837",
   "metadata": {},
   "outputs": [
    {
     "data": {
      "text/plain": [
       "'your budget is lase then limit'"
      ]
     },
     "execution_count": 38,
     "metadata": {},
     "output_type": "execute_result"
    }
   ],
   "source": [
    "obj2.check_bel(limit=100000)"
   ]
  },
  {
   "cell_type": "code",
   "execution_count": 40,
   "id": "c9d8b0c7",
   "metadata": {},
   "outputs": [
    {
     "data": {
      "text/plain": [
       "1000.0"
      ]
     },
     "execution_count": 40,
     "metadata": {},
     "output_type": "execute_result"
    }
   ],
   "source": [
    "obj1.convert_amount(1000)"
   ]
  },
  {
   "cell_type": "markdown",
   "id": "f9a1f13d",
   "metadata": {},
   "source": [
    "# Class Method in class"
   ]
  },
  {
   "cell_type": "code",
   "execution_count": 64,
   "id": "27d1d9b6",
   "metadata": {},
   "outputs": [],
   "source": [
    "class my_exp_tra_1:\n",
    "    \"\"\"\n",
    "    comment for class what is exactli do\n",
    "    \"\"\"\n",
    "    my_exp_tra_version = 0.1\n",
    "    \n",
    "    def __init__(self,track_category,org_balence,budget):\n",
    "        self.track_category = track_category\n",
    "        self.org_balence = org_balence\n",
    "        self.budget = budget\n",
    "        \n",
    "    #instance method\n",
    "    def get_orignal_belance(self):\n",
    "        return self.org_balence\n",
    "    \n",
    "    def check_bel(self, limit=1000):\n",
    "        if self.budget >= limit:\n",
    "            return True\n",
    "        return \"your budget is lase then limit\"\n",
    "    \n",
    "    # static method act like a function not use self data\n",
    "    @staticmethod\n",
    "    def convert_amount(amount):\n",
    "        return float(amount)\n",
    "    \n",
    "    #class methods/ or Factory method\n",
    "    @classmethod\n",
    "    def butyfy_the_input(cls,dir_entry:str):\n",
    "        track_category,org_balence,budget  = dir_entry.split(\" \")\n",
    "        \n",
    "        return my_exp_tra_1(track_category.capitalize(),\n",
    "                cls.convert_amount(org_balence),\n",
    "                cls.convert_amount(budget))"
   ]
  },
  {
   "cell_type": "code",
   "execution_count": 65,
   "id": "28b76d0d",
   "metadata": {},
   "outputs": [],
   "source": [
    "class_atribute = my_exp_tra_1.butyfy_the_input(\"business 10000 200000\")"
   ]
  },
  {
   "cell_type": "code",
   "execution_count": 66,
   "id": "5aeb7c59",
   "metadata": {},
   "outputs": [
    {
     "data": {
      "text/plain": [
       "{'track_category': 'Business', 'org_balence': 10000.0, 'budget': 200000.0}"
      ]
     },
     "execution_count": 66,
     "metadata": {},
     "output_type": "execute_result"
    }
   ],
   "source": [
    "class_atribute.__dict__"
   ]
  },
  {
   "cell_type": "code",
   "execution_count": null,
   "id": "6b369342",
   "metadata": {},
   "outputs": [],
   "source": []
  }
 ],
 "metadata": {
  "kernelspec": {
   "display_name": "Python 3 (ipykernel)",
   "language": "python",
   "name": "python3"
  },
  "language_info": {
   "codemirror_mode": {
    "name": "ipython",
    "version": 3
   },
   "file_extension": ".py",
   "mimetype": "text/x-python",
   "name": "python",
   "nbconvert_exporter": "python",
   "pygments_lexer": "ipython3",
   "version": "3.8.1"
  }
 },
 "nbformat": 4,
 "nbformat_minor": 5
}
