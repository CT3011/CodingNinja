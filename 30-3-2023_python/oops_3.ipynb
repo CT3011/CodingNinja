{
 "cells": [
  {
   "cell_type": "markdown",
   "id": "93a82eb4",
   "metadata": {},
   "source": [
    "# Abstract Class and example"
   ]
  },
  {
   "cell_type": "code",
   "execution_count": 3,
   "id": "280fc561",
   "metadata": {},
   "outputs": [],
   "source": [
    "from abc import ABC, abstractmethod\n",
    "\n",
    "# abstract class becouse it is inherit ABC \n",
    "class vehical(ABC):\n",
    "    \n",
    "    # abstract method \n",
    "    @abstractmethod\n",
    "    def get_value(slef):\n",
    "        pass\n",
    "\n",
    "class car(vehical):\n",
    "    def __init__(self, name,model,fare):\n",
    "        self.name=name\n",
    "        self.model=model\n",
    "        self.fare=fare\n",
    "        \n",
    "    # if we not define method get_value it throw error becouse not create get_value method in car class.\n",
    "    def get_value(self):\n",
    "        return 1000*self.fare"
   ]
  },
  {
   "cell_type": "code",
   "execution_count": 4,
   "id": "76bdfa5d",
   "metadata": {},
   "outputs": [],
   "source": [
    "obj1 = car(\"ford\",2022,80) "
   ]
  },
  {
   "cell_type": "code",
   "execution_count": 5,
   "id": "275d9a65",
   "metadata": {},
   "outputs": [
    {
     "data": {
      "text/plain": [
       "80000"
      ]
     },
     "execution_count": 5,
     "metadata": {},
     "output_type": "execute_result"
    }
   ],
   "source": [
    "obj1.get_value()"
   ]
  },
  {
   "cell_type": "code",
   "execution_count": 6,
   "id": "fb2b3171",
   "metadata": {},
   "outputs": [
    {
     "ename": "TypeError",
     "evalue": "Can't instantiate abstract class vehical with abstract methods get_value",
     "output_type": "error",
     "traceback": [
      "\u001b[1;31m---------------------------------------------------------------------------\u001b[0m",
      "\u001b[1;31mTypeError\u001b[0m                                 Traceback (most recent call last)",
      "\u001b[1;32m~\\AppData\\Local\\Temp/ipykernel_12164/3619311447.py\u001b[0m in \u001b[0;36m<module>\u001b[1;34m\u001b[0m\n\u001b[1;32m----> 1\u001b[1;33m \u001b[0mmy\u001b[0m\u001b[1;33m=\u001b[0m\u001b[0mvehical\u001b[0m\u001b[1;33m(\u001b[0m\u001b[1;33m)\u001b[0m\u001b[1;33m\u001b[0m\u001b[1;33m\u001b[0m\u001b[0m\n\u001b[0m",
      "\u001b[1;31mTypeError\u001b[0m: Can't instantiate abstract class vehical with abstract methods get_value"
     ]
    }
   ],
   "source": [
    "my=vehical()"
   ]
  },
  {
   "cell_type": "markdown",
   "id": "37798d20",
   "metadata": {},
   "source": [
    "# Abstract attributes and methods"
   ]
  },
  {
   "cell_type": "code",
   "execution_count": 1,
   "id": "31a5bd43",
   "metadata": {},
   "outputs": [],
   "source": [
    "from abc import ABC,abstractmethod\n",
    "\n",
    "class TextReaderAbstract(ABC):\n",
    "    # here the two attributes are an abstract class \n",
    "    def __init__(self,name,filepath):\n",
    "        self.name=name\n",
    "        self.filepath=filepath\n",
    "    \n",
    "    # this is an abstract method\n",
    "    def get_name(self):\n",
    "        pass\n",
    "    \n",
    "    def get_filePath(self):\n",
    "        pass\n",
    "        \n",
    "class TextReader(TextReaderAbstract):\n",
    "    def get_name(self):\n",
    "        return self.name\n",
    "\n",
    "    def get_filePath(self):\n",
    "        return self.filepath"
   ]
  },
  {
   "cell_type": "code",
   "execution_count": 3,
   "id": "ede15aec",
   "metadata": {},
   "outputs": [],
   "source": [
    "obj = TextReader(\"chirag.pdf\",\"windows_D/download\")"
   ]
  },
  {
   "cell_type": "code",
   "execution_count": 4,
   "id": "58d6022b",
   "metadata": {},
   "outputs": [
    {
     "data": {
      "text/plain": [
       "'windows_D/download'"
      ]
     },
     "execution_count": 4,
     "metadata": {},
     "output_type": "execute_result"
    }
   ],
   "source": [
    "obj.get_filePath()"
   ]
  },
  {
   "cell_type": "code",
   "execution_count": 6,
   "id": "482870eb",
   "metadata": {},
   "outputs": [
    {
     "data": {
      "text/plain": [
       "'chirag.pdf'"
      ]
     },
     "execution_count": 6,
     "metadata": {},
     "output_type": "execute_result"
    }
   ],
   "source": [
    "obj.get_name()"
   ]
  },
  {
   "cell_type": "markdown",
   "id": "a5da9f8e",
   "metadata": {},
   "source": [
    "# Try and except"
   ]
  },
  {
   "cell_type": "code",
   "execution_count": 43,
   "id": "840da53d",
   "metadata": {},
   "outputs": [],
   "source": [
    "class Vehicale:\n",
    "    def __init__(self,name,model,fule):\n",
    "        self.name=name\n",
    "        self.model=model\n",
    "        self.fule=fule\n",
    "        \n",
    "    def get_value(self):\n",
    "        try:\n",
    "            age = 2021 - self.model\n",
    "            return 1000*(1/age)\n",
    "        except TypeError:\n",
    "            age = 2021 - int(self.model)\n",
    "            return 1000*(1/age)\n",
    "        except ZeroDivisionError:\n",
    "            age = 2021 - int(self.model)\n",
    "            return 1000*(1)"
   ]
  },
  {
   "cell_type": "code",
   "execution_count": 44,
   "id": "37d45f1b",
   "metadata": {},
   "outputs": [],
   "source": [
    "obj = Vehicale(\"Tesla\", 2021,\"Electric\")"
   ]
  },
  {
   "cell_type": "code",
   "execution_count": 45,
   "id": "5ac32cbd",
   "metadata": {},
   "outputs": [
    {
     "data": {
      "text/plain": [
       "1000"
      ]
     },
     "execution_count": 45,
     "metadata": {},
     "output_type": "execute_result"
    }
   ],
   "source": [
    "obj.get_value()"
   ]
  },
  {
   "cell_type": "markdown",
   "id": "7d506422",
   "metadata": {},
   "source": [
    "# Hendel multipal error in nested try except formate"
   ]
  },
  {
   "cell_type": "code",
   "execution_count": 54,
   "id": "73de8675",
   "metadata": {},
   "outputs": [],
   "source": [
    "class Vehicale:\n",
    "    def __init__(self,name,model,fule):\n",
    "        self.name=name\n",
    "        self.model=model\n",
    "        self.fule=fule\n",
    "        \n",
    "    def get_value(self):\n",
    "        try:\n",
    "            age = 2021 - self.model\n",
    "            return 1000*(1/age)\n",
    "        except TypeError:\n",
    "            try:\n",
    "                age = 2021 - int(self.model)\n",
    "                return 1000*(1/age)\n",
    "            except ZeroDivisionError:\n",
    "                age = 2021 - int(self.model)\n",
    "                return 1000*(1) \n",
    "            except:\n",
    "                return \"You enter model in wrong formate please enter in year\""
   ]
  },
  {
   "cell_type": "code",
   "execution_count": 55,
   "id": "3e9a70ec",
   "metadata": {},
   "outputs": [],
   "source": [
    "obj1=Vehicale(\"hero\",\"ok\",\"pet\")"
   ]
  },
  {
   "cell_type": "code",
   "execution_count": 56,
   "id": "0def1916",
   "metadata": {},
   "outputs": [
    {
     "data": {
      "text/plain": [
       "'You enter model in wrong formate please enter in year'"
      ]
     },
     "execution_count": 56,
     "metadata": {},
     "output_type": "execute_result"
    }
   ],
   "source": [
    "obj1.get_value()"
   ]
  },
  {
   "cell_type": "markdown",
   "id": "59a245a7",
   "metadata": {},
   "source": [
    "# Make a custome exception"
   ]
  },
  {
   "cell_type": "code",
   "execution_count": 57,
   "id": "f8b54bf7",
   "metadata": {},
   "outputs": [],
   "source": [
    "class negativeCarVal(Exception): # Exception is use to create custome Exception\n",
    "    def __init__(self,value,message=\"car value can not be negative\"):\n",
    "        self.value=value\n",
    "        self.message = message\n",
    "        super().__init__(self.message)\n",
    "        \n",
    "    def __str__(self):\n",
    "        return f\"{self.message} --> {self.value}\""
   ]
  },
  {
   "cell_type": "code",
   "execution_count": 58,
   "id": "65f9bf31",
   "metadata": {},
   "outputs": [
    {
     "ename": "negativeCarVal",
     "evalue": "car value can not be negative --> -1",
     "output_type": "error",
     "traceback": [
      "\u001b[1;31m---------------------------------------------------------------------------\u001b[0m",
      "\u001b[1;31mnegativeCarVal\u001b[0m                            Traceback (most recent call last)",
      "\u001b[1;32m~\\AppData\\Local\\Temp/ipykernel_22012/1146049148.py\u001b[0m in \u001b[0;36m<module>\u001b[1;34m\u001b[0m\n\u001b[0;32m      1\u001b[0m \u001b[0ma\u001b[0m \u001b[1;33m=\u001b[0m \u001b[1;33m-\u001b[0m\u001b[1;36m1\u001b[0m\u001b[1;33m\u001b[0m\u001b[1;33m\u001b[0m\u001b[0m\n\u001b[0;32m      2\u001b[0m \u001b[1;32mif\u001b[0m \u001b[0ma\u001b[0m \u001b[1;33m<\u001b[0m \u001b[1;36m0\u001b[0m\u001b[1;33m:\u001b[0m\u001b[1;33m\u001b[0m\u001b[1;33m\u001b[0m\u001b[0m\n\u001b[1;32m----> 3\u001b[1;33m     \u001b[1;32mraise\u001b[0m \u001b[0mnegativeCarVal\u001b[0m\u001b[1;33m(\u001b[0m\u001b[0ma\u001b[0m\u001b[1;33m)\u001b[0m\u001b[1;33m\u001b[0m\u001b[1;33m\u001b[0m\u001b[0m\n\u001b[0m",
      "\u001b[1;31mnegativeCarVal\u001b[0m: car value can not be negative --> -1"
     ]
    }
   ],
   "source": [
    "a = -1\n",
    "if a < 0:\n",
    "    raise negativeCarVal(a) # raise keyword raise the exception"
   ]
  },
  {
   "cell_type": "code",
   "execution_count": 69,
   "id": "e5b590e1",
   "metadata": {},
   "outputs": [],
   "source": [
    "class car():\n",
    "    def __init__(self,name,model,fule):\n",
    "        self.name=name\n",
    "        self.model=model\n",
    "        self.fule=fule\n",
    "        self.cur_year = 2021\n",
    "        \n",
    "    def get_val(self):\n",
    "        age = self.cur_year - self.model\n",
    "        \n",
    "        if age < 0:\n",
    "            raise negativeCarVal(age)\n",
    "        \n",
    "        return 1000*(1/age)"
   ]
  },
  {
   "cell_type": "code",
   "execution_count": 72,
   "id": "dd3f1706",
   "metadata": {},
   "outputs": [],
   "source": [
    "ob1 = car(\"tesla\",2023,\"fule\")"
   ]
  },
  {
   "cell_type": "code",
   "execution_count": 73,
   "id": "0e2cd015",
   "metadata": {},
   "outputs": [
    {
     "ename": "negativeCarVal",
     "evalue": "car value can not be negative --> -2",
     "output_type": "error",
     "traceback": [
      "\u001b[1;31m---------------------------------------------------------------------------\u001b[0m",
      "\u001b[1;31mnegativeCarVal\u001b[0m                            Traceback (most recent call last)",
      "\u001b[1;32m~\\AppData\\Local\\Temp/ipykernel_22012/3689717982.py\u001b[0m in \u001b[0;36m<module>\u001b[1;34m\u001b[0m\n\u001b[1;32m----> 1\u001b[1;33m \u001b[0mob1\u001b[0m\u001b[1;33m.\u001b[0m\u001b[0mget_val\u001b[0m\u001b[1;33m(\u001b[0m\u001b[1;33m)\u001b[0m\u001b[1;33m\u001b[0m\u001b[1;33m\u001b[0m\u001b[0m\n\u001b[0m",
      "\u001b[1;32m~\\AppData\\Local\\Temp/ipykernel_22012/2679866373.py\u001b[0m in \u001b[0;36mget_val\u001b[1;34m(self)\u001b[0m\n\u001b[0;32m     10\u001b[0m \u001b[1;33m\u001b[0m\u001b[0m\n\u001b[0;32m     11\u001b[0m         \u001b[1;32mif\u001b[0m \u001b[0mage\u001b[0m \u001b[1;33m<\u001b[0m \u001b[1;36m0\u001b[0m\u001b[1;33m:\u001b[0m\u001b[1;33m\u001b[0m\u001b[1;33m\u001b[0m\u001b[0m\n\u001b[1;32m---> 12\u001b[1;33m             \u001b[1;32mraise\u001b[0m \u001b[0mnegativeCarVal\u001b[0m\u001b[1;33m(\u001b[0m\u001b[0mage\u001b[0m\u001b[1;33m)\u001b[0m\u001b[1;33m\u001b[0m\u001b[1;33m\u001b[0m\u001b[0m\n\u001b[0m\u001b[0;32m     13\u001b[0m \u001b[1;33m\u001b[0m\u001b[0m\n\u001b[0;32m     14\u001b[0m         \u001b[1;32mreturn\u001b[0m \u001b[1;36m1000\u001b[0m\u001b[1;33m*\u001b[0m\u001b[1;33m(\u001b[0m\u001b[1;36m1\u001b[0m\u001b[1;33m/\u001b[0m\u001b[0mage\u001b[0m\u001b[1;33m)\u001b[0m\u001b[1;33m\u001b[0m\u001b[1;33m\u001b[0m\u001b[0m\n",
      "\u001b[1;31mnegativeCarVal\u001b[0m: car value can not be negative --> -2"
     ]
    }
   ],
   "source": [
    "ob1.get_val()"
   ]
  },
  {
   "cell_type": "markdown",
   "id": "814d7abd",
   "metadata": {},
   "source": [
    "# show only error msg using try and except"
   ]
  },
  {
   "cell_type": "code",
   "execution_count": 80,
   "id": "e22a0a98",
   "metadata": {},
   "outputs": [],
   "source": [
    "class car():\n",
    "    def __init__(self,name,model,fule):\n",
    "        self.name=name\n",
    "        self.model=model\n",
    "        self.fule=fule\n",
    "        self.cur_year = 2021\n",
    "        \n",
    "    def get_val(self):\n",
    "        age = self.cur_year - self.model\n",
    "        \n",
    "        try:\n",
    "            if age < 0:\n",
    "                raise negativeCarVal(age)\n",
    "            return 1000*(1/age)\n",
    "        except negativeCarVal as e: # print only error message \n",
    "            print(\"error ****\",e)\n",
    "            "
   ]
  },
  {
   "cell_type": "code",
   "execution_count": 81,
   "id": "5a606247",
   "metadata": {},
   "outputs": [],
   "source": [
    "ob2=car(\"ford\",2029,\"fule\")"
   ]
  },
  {
   "cell_type": "code",
   "execution_count": 82,
   "id": "cb0df940",
   "metadata": {},
   "outputs": [
    {
     "name": "stdout",
     "output_type": "stream",
     "text": [
      "error **** car value can not be negative --> -8\n"
     ]
    }
   ],
   "source": [
    "ob2.get_val()"
   ]
  },
  {
   "cell_type": "code",
   "execution_count": null,
   "id": "6ad1637c",
   "metadata": {},
   "outputs": [],
   "source": []
  },
  {
   "cell_type": "code",
   "execution_count": null,
   "id": "0d5e4adc",
   "metadata": {},
   "outputs": [],
   "source": []
  },
  {
   "cell_type": "markdown",
   "id": "695096d9",
   "metadata": {},
   "source": [
    "# Else and finaly in try and except (MIMP)"
   ]
  },
  {
   "cell_type": "code",
   "execution_count": 96,
   "id": "eb559825",
   "metadata": {},
   "outputs": [],
   "source": [
    "# custome Exception class\n",
    "class modelYearNeg(Exception):\n",
    "    def __init__(self, value, message=\"model year is not greater then 2021\"):\n",
    "        self.value = value\n",
    "        self.message = message\n",
    "        super().__init__(self.message)\n",
    "        \n",
    "    def __str__(self):\n",
    "        return f\"{self.message} --> {self.value}\"\n",
    "    \n",
    "    \n",
    "# custome Exception class \n",
    "class modelYearStr(Exception):\n",
    "    def __init__(self, value, message = \" model year can not be in string\"):\n",
    "        self.value = value\n",
    "        self.message = message\n",
    "        super().__init__(self.message)\n",
    "        \n",
    "    def __str__(self):\n",
    "        return f\"{self.message} --> {self.value}\""
   ]
  },
  {
   "cell_type": "code",
   "execution_count": 171,
   "id": "c6f84362",
   "metadata": {},
   "outputs": [],
   "source": [
    "class car():\n",
    "    def __init__(self,name,model,fule):\n",
    "        self.name = name\n",
    "        self.model = model\n",
    "        self.fule = fule\n",
    "        self.curentYear = 2021\n",
    "        self.value = None\n",
    "        \n",
    "    def get_value(self):\n",
    "        try:\n",
    "            if type(self.model) == str:\n",
    "                status = \"custome\"\n",
    "                raise modelYearStr(self.model)\n",
    "            elif self.model >= self.curentYear:\n",
    "                status = \"custome\"\n",
    "                raise modelYearNeg(self.model)\n",
    "            else:\n",
    "                self.age = self.curentYear - self.model\n",
    "                self.value = 1000*(1/self.age)\n",
    "                status = \"sussess\"\n",
    "        except TypeError:\n",
    "            self.age = self.curentYear - int(self.model)\n",
    "            self.value = 1000*(1/self.age)\n",
    "            status = \"inbuilt\"\n",
    "        \n",
    "        else:\n",
    "            print(\"code run without any exceptions\")\n",
    "        \n",
    "        finally:\n",
    "            if status == \"custome\":\n",
    "                print(\"code has custome exceptions \")\n",
    "            elif status == \"inbuilt\":\n",
    "                print(\"code has inbuilt exceptions \")\n",
    "            else:\n",
    "                print(\"code has sussess status\",self.value)\n",
    "                "
   ]
  },
  {
   "cell_type": "code",
   "execution_count": 172,
   "id": "04039060",
   "metadata": {},
   "outputs": [],
   "source": [
    "ob1 = car(\"Tesla\",2023,\"fule\")"
   ]
  },
  {
   "cell_type": "code",
   "execution_count": 173,
   "id": "d13fd31b",
   "metadata": {},
   "outputs": [
    {
     "name": "stdout",
     "output_type": "stream",
     "text": [
      "code has custome exceptions \n"
     ]
    },
    {
     "ename": "modelYearNeg",
     "evalue": "model year is not greater then 2021 --> 2023",
     "output_type": "error",
     "traceback": [
      "\u001b[1;31m---------------------------------------------------------------------------\u001b[0m",
      "\u001b[1;31mmodelYearNeg\u001b[0m                              Traceback (most recent call last)",
      "\u001b[1;32m~\\AppData\\Local\\Temp/ipykernel_22012/989954204.py\u001b[0m in \u001b[0;36m<module>\u001b[1;34m\u001b[0m\n\u001b[1;32m----> 1\u001b[1;33m \u001b[0mob1\u001b[0m\u001b[1;33m.\u001b[0m\u001b[0mget_value\u001b[0m\u001b[1;33m(\u001b[0m\u001b[1;33m)\u001b[0m\u001b[1;33m\u001b[0m\u001b[1;33m\u001b[0m\u001b[0m\n\u001b[0m",
      "\u001b[1;32m~\\AppData\\Local\\Temp/ipykernel_22012/1670473503.py\u001b[0m in \u001b[0;36mget_value\u001b[1;34m(self)\u001b[0m\n\u001b[0;32m     14\u001b[0m             \u001b[1;32melif\u001b[0m \u001b[0mself\u001b[0m\u001b[1;33m.\u001b[0m\u001b[0mmodel\u001b[0m \u001b[1;33m>=\u001b[0m \u001b[0mself\u001b[0m\u001b[1;33m.\u001b[0m\u001b[0mcurentYear\u001b[0m\u001b[1;33m:\u001b[0m\u001b[1;33m\u001b[0m\u001b[1;33m\u001b[0m\u001b[0m\n\u001b[0;32m     15\u001b[0m                 \u001b[0mstatus\u001b[0m \u001b[1;33m=\u001b[0m \u001b[1;34m\"custome\"\u001b[0m\u001b[1;33m\u001b[0m\u001b[1;33m\u001b[0m\u001b[0m\n\u001b[1;32m---> 16\u001b[1;33m                 \u001b[1;32mraise\u001b[0m \u001b[0mmodelYearNeg\u001b[0m\u001b[1;33m(\u001b[0m\u001b[0mself\u001b[0m\u001b[1;33m.\u001b[0m\u001b[0mmodel\u001b[0m\u001b[1;33m)\u001b[0m\u001b[1;33m\u001b[0m\u001b[1;33m\u001b[0m\u001b[0m\n\u001b[0m\u001b[0;32m     17\u001b[0m             \u001b[1;32melse\u001b[0m\u001b[1;33m:\u001b[0m\u001b[1;33m\u001b[0m\u001b[1;33m\u001b[0m\u001b[0m\n\u001b[0;32m     18\u001b[0m                 \u001b[0mself\u001b[0m\u001b[1;33m.\u001b[0m\u001b[0mage\u001b[0m \u001b[1;33m=\u001b[0m \u001b[0mself\u001b[0m\u001b[1;33m.\u001b[0m\u001b[0mcurentYear\u001b[0m \u001b[1;33m-\u001b[0m \u001b[0mself\u001b[0m\u001b[1;33m.\u001b[0m\u001b[0mmodel\u001b[0m\u001b[1;33m\u001b[0m\u001b[1;33m\u001b[0m\u001b[0m\n",
      "\u001b[1;31mmodelYearNeg\u001b[0m: model year is not greater then 2021 --> 2023"
     ]
    }
   ],
   "source": [
    "ob1.get_value()"
   ]
  },
  {
   "cell_type": "markdown",
   "id": "2d29d12f",
   "metadata": {},
   "source": [
    "# Try and except practice"
   ]
  },
  {
   "cell_type": "code",
   "execution_count": 180,
   "id": "a01f8b43",
   "metadata": {},
   "outputs": [
    {
     "name": "stdout",
     "output_type": "stream",
     "text": [
      "Please enter a number: dsfa\n",
      "Oops! That was not a valid number. Try again... 12\n",
      "Please enter a number: 12\n",
      "You entered: 12\n"
     ]
    }
   ],
   "source": [
    "while True:\n",
    "    try:\n",
    "        x = int(input(\"Please enter a number: \"))\n",
    "        break\n",
    "    except ValueError:\n",
    "        print(\"Oops! That was not a valid number. Try again...\",x)\n",
    "\n",
    "print(\"You entered:\", x)"
   ]
  },
  {
   "cell_type": "code",
   "execution_count": 203,
   "id": "56ad9599",
   "metadata": {},
   "outputs": [],
   "source": [
    "# perent class\n",
    "class Animals():\n",
    "    def __init__(self,name):\n",
    "        self.name = name\n",
    "        \n",
    "    def speak(self):\n",
    "        raise NotImplementedError(\"Subclass must implement abstract method\")"
   ]
  },
  {
   "cell_type": "code",
   "execution_count": 204,
   "id": "9de7ea18",
   "metadata": {},
   "outputs": [],
   "source": [
    "class dog(Animals):\n",
    "    def speak(self):\n",
    "        return \"Woof!\"\n",
    "    \n",
    "class cat(Animals):\n",
    "    def speak(self):\n",
    "        return \"meow!\"\n",
    "    \n",
    "class perot(Animals):\n",
    "    def speak(Self):\n",
    "        return \"papy want's trite\"\n",
    "    \n",
    "class cow(Animals):\n",
    "    def speak(self):\n",
    "        return \"Moo\""
   ]
  },
  {
   "cell_type": "code",
   "execution_count": 205,
   "id": "f05d8178",
   "metadata": {},
   "outputs": [],
   "source": [
    "class Zoo:\n",
    "    def __init__(self,animals):\n",
    "        self.animals = animals\n",
    "        \n",
    "    def mak_sound(self):\n",
    "        for i in self.animals:\n",
    "            try:\n",
    "                print(i.name,\"say\",i.speak())\n",
    "            except NotImplementedError as e:\n",
    "                print(e)\n",
    "            "
   ]
  },
  {
   "cell_type": "code",
   "execution_count": 206,
   "id": "73891fbb",
   "metadata": {},
   "outputs": [],
   "source": [
    "dog1 = dog(\"jimi\")\n",
    "cat1 = cat(\"Tom\")\n",
    "cow1 = cow(\"basse\")\n",
    "perot = perot(\"metthu\")"
   ]
  },
  {
   "cell_type": "code",
   "execution_count": 207,
   "id": "65ee0b9b",
   "metadata": {},
   "outputs": [],
   "source": [
    "zoo1 = Zoo([dog1,cat1,cow1,perot])"
   ]
  },
  {
   "cell_type": "code",
   "execution_count": 208,
   "id": "f606a5c1",
   "metadata": {},
   "outputs": [
    {
     "name": "stdout",
     "output_type": "stream",
     "text": [
      "jimi say Woof!\n",
      "Tom say meow!\n",
      "basse say Moo\n",
      "metthu say papy want's trite\n"
     ]
    }
   ],
   "source": [
    "zoo1.mak_sound()"
   ]
  },
  {
   "cell_type": "code",
   "execution_count": null,
   "id": "18570478",
   "metadata": {},
   "outputs": [],
   "source": []
  }
 ],
 "metadata": {
  "kernelspec": {
   "display_name": "Python 3 (ipykernel)",
   "language": "python",
   "name": "python3"
  },
  "language_info": {
   "codemirror_mode": {
    "name": "ipython",
    "version": 3
   },
   "file_extension": ".py",
   "mimetype": "text/x-python",
   "name": "python",
   "nbconvert_exporter": "python",
   "pygments_lexer": "ipython3",
   "version": "3.8.1"
  }
 },
 "nbformat": 4,
 "nbformat_minor": 5
}
