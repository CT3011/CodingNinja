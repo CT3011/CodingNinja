{
 "cells": [
  {
   "cell_type": "code",
   "execution_count": 2,
   "id": "d08f9a0a",
   "metadata": {},
   "outputs": [
    {
     "name": "stdout",
     "output_type": "stream",
     "text": [
      "1\n",
      "4\n",
      "2\n",
      "6\n",
      "5\n",
      "2\n",
      "6\n",
      "2\n",
      "13\n",
      "1\n",
      "2\n",
      "invalid output!\n",
      "6\n"
     ]
    }
   ],
   "source": [
    "n = int(input())\n",
    "\n",
    "while(n != 6):\n",
    "    if n <= 5 and n >=1:\n",
    "        a = int(input())\n",
    "        b = int(input())\n",
    "    \n",
    "    if (n == 1):\n",
    "        print(a + b)\n",
    "    elif (n == 2):\n",
    "        print(a - b)\n",
    "    elif (n == 3):\n",
    "        print(a * b)\n",
    "    elif (n == 4):\n",
    "        print(a // b)\n",
    "    elif (n == 5):\n",
    "        print(a % b)\n",
    "    elif (n < 1 or n > 6):\n",
    "        print(\"Invalid Operation\")\n",
    "    n = int(input())"
   ]
  },
  {
   "cell_type": "code",
   "execution_count": 23,
   "id": "550d1610",
   "metadata": {},
   "outputs": [
    {
     "name": "stdout",
     "output_type": "stream",
     "text": [
      "6\n",
      "6 temp % 10\n",
      "0 temp // 10\n",
      "6 rev\n",
      "6\n"
     ]
    }
   ],
   "source": [
    "#Write Your Code Here\n",
    "n = int(input())\n",
    "temp = n\n",
    "rev = 0\n",
    "\n",
    "while temp > 0:\n",
    "    l = temp % 10\n",
    "    print(l,\"temp % 10\")\n",
    "    temp = temp // 10\n",
    "    print(temp,\"temp // 10\")\n",
    "    rev = rev * 10 + l\n",
    "    print(rev,\"rev\")\n",
    "\n",
    "print(rev)"
   ]
  },
  {
   "cell_type": "markdown",
   "id": "de337320",
   "metadata": {},
   "source": [
    "### palindrom numbers"
   ]
  },
  {
   "cell_type": "code",
   "execution_count": 20,
   "id": "b57149e7",
   "metadata": {},
   "outputs": [
    {
     "name": "stdout",
     "output_type": "stream",
     "text": [
      "121\n",
      "1\n",
      "12\n",
      "121\n",
      "true\n"
     ]
    }
   ],
   "source": [
    "n = int(input())\n",
    "temp = n\n",
    "rev = 0\n",
    "\n",
    "while temp != 0:\n",
    "    rev = (rev * 10) + (temp % 10)\n",
    "    temp = temp // 10\n",
    "\n",
    "if (n == rev):\n",
    "    print(\"true\")\n",
    "else:\n",
    "    print(\"false\")"
   ]
  },
  {
   "cell_type": "code",
   "execution_count": 25,
   "id": "d65de1f7",
   "metadata": {},
   "outputs": [
    {
     "name": "stdout",
     "output_type": "stream",
     "text": [
      "3\n",
      "*\n",
      "*\n",
      "*\n",
      "*\n",
      "*\n",
      "*\n",
      "*\n",
      "*\n",
      "*\n"
     ]
    }
   ],
   "source": [
    "# patterns \n",
    "n = int(input())\n",
    "\n",
    "while n != 0:\n",
    "    i = n\n",
    "    print('*')\n",
    "    while i != 0:\n",
    "        print('*')\n",
    "        i = i -1\n",
    "    n = n - 1"
   ]
  }
 ],
 "metadata": {
  "kernelspec": {
   "display_name": "Python 3 (ipykernel)",
   "language": "python",
   "name": "python3"
  },
  "language_info": {
   "codemirror_mode": {
    "name": "ipython",
    "version": 3
   },
   "file_extension": ".py",
   "mimetype": "text/x-python",
   "name": "python",
   "nbconvert_exporter": "python",
   "pygments_lexer": "ipython3",
   "version": "3.8.1"
  }
 },
 "nbformat": 4,
 "nbformat_minor": 5
}
