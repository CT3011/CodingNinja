{
 "cells": [
  {
   "cell_type": "markdown",
   "id": "4a5b2a76",
   "metadata": {},
   "source": [
    "# Change x string value to y in string"
   ]
  },
  {
   "cell_type": "code",
   "execution_count": 1,
   "id": "0ca3ad1d",
   "metadata": {},
   "outputs": [],
   "source": [
    "def changeString(s,a,b):\n",
    "    if len(s) == 0:\n",
    "        return s\n",
    "    small = changeString(s[1:],a,b)\n",
    "    \n",
    "    if s[0] == a:\n",
    "        return b + small\n",
    "    else:\n",
    "        return s[0] + small"
   ]
  },
  {
   "cell_type": "code",
   "execution_count": 7,
   "id": "c5ba0394",
   "metadata": {},
   "outputs": [
    {
     "name": "stdout",
     "output_type": "stream",
     "text": [
      "xbcxbcxbc\n"
     ]
    }
   ],
   "source": [
    "s = \"abcabcabc\"\n",
    "a = \"a\"\n",
    "b = \"x\"\n",
    "print(changeString(s,a,b))"
   ]
  },
  {
   "cell_type": "markdown",
   "id": "40c758f2",
   "metadata": {},
   "source": [
    "# Remove X"
   ]
  },
  {
   "cell_type": "code",
   "execution_count": 23,
   "id": "1b0f76c5",
   "metadata": {},
   "outputs": [],
   "source": [
    "def removeX(s,x):\n",
    "    if len(s) == 0:\n",
    "        return s\n",
    "    \n",
    "    small = removeX(s[1:],x)\n",
    "    if s[0] == x:\n",
    "        return small\n",
    "    else:\n",
    "        return s[0] + small"
   ]
  },
  {
   "cell_type": "code",
   "execution_count": 24,
   "id": "3262847d",
   "metadata": {},
   "outputs": [
    {
     "name": "stdout",
     "output_type": "stream",
     "text": [
      "yzyzyz\n"
     ]
    }
   ],
   "source": [
    "a = \"xyzxyzxyz\"\n",
    "b = \"x\"\n",
    "print(removeX(a,b))"
   ]
  },
  {
   "cell_type": "markdown",
   "id": "9e276f07",
   "metadata": {},
   "source": [
    "# Replase PI"
   ]
  },
  {
   "cell_type": "code",
   "execution_count": 25,
   "id": "1d938e7f",
   "metadata": {},
   "outputs": [],
   "source": [
    "def replasePi(s):\n",
    "    if len(s) == 0 or len(s) == 1:\n",
    "        return s\n",
    "    if s[0] == 'p' and s[1] == 'i':\n",
    "        small = replasePi(s[2:])\n",
    "        return \"3.14\" + small\n",
    "    else:\n",
    "        small = replasePi(s[1:])\n",
    "        return s[0] + small"
   ]
  },
  {
   "cell_type": "code",
   "execution_count": 26,
   "id": "3d7fb0ab",
   "metadata": {},
   "outputs": [
    {
     "name": "stdout",
     "output_type": "stream",
     "text": [
      "ab3.14cp3.14a3.14\n"
     ]
    }
   ],
   "source": [
    "s = \"abpicppiapi\"\n",
    "print(replasePi(s))"
   ]
  },
  {
   "cell_type": "markdown",
   "id": "9ef248eb",
   "metadata": {},
   "source": [
    "# Remove Duplicates Recursively"
   ]
  },
  {
   "cell_type": "code",
   "execution_count": 30,
   "id": "6880e42d",
   "metadata": {},
   "outputs": [],
   "source": [
    "def removeDuplicate(s):\n",
    "    if len(s) == 0 or len(s) == 1:\n",
    "        return s\n",
    "    small = removeDuplicate(s[1:])\n",
    "    if s[0] == s[0+1]:\n",
    "        return small\n",
    "    else:\n",
    "        return s[0] + small\n",
    "    "
   ]
  },
  {
   "cell_type": "code",
   "execution_count": 33,
   "id": "32e7440a",
   "metadata": {},
   "outputs": [
    {
     "name": "stdout",
     "output_type": "stream",
     "text": [
      "abcdefghasadasdh\n"
     ]
    }
   ],
   "source": [
    "a = \"aaabccdeefgghhhhhhhasadaasdh\"\n",
    "print(removeDuplicate(a))"
   ]
  },
  {
   "cell_type": "markdown",
   "id": "9b1d2b3e",
   "metadata": {},
   "source": [
    "# Binary search using recursion"
   ]
  },
  {
   "cell_type": "code",
   "execution_count": 34,
   "id": "7aac6043",
   "metadata": {},
   "outputs": [],
   "source": [
    "def binarySearch(a,x,si,ei):\n",
    "    if si > ei:\n",
    "        return -1\n",
    "    \n",
    "    mid = (si + ei)//2\n",
    "    if a[mid] == x:\n",
    "        return mid\n",
    "    elif a[mid] > x:\n",
    "        return binarySearch(a,x,si,mid-1)\n",
    "    else:\n",
    "        return binarySearch(a,x,mid +1, ei)\n",
    "        "
   ]
  },
  {
   "cell_type": "code",
   "execution_count": 35,
   "id": "599a5731",
   "metadata": {},
   "outputs": [
    {
     "name": "stdout",
     "output_type": "stream",
     "text": [
      "4\n"
     ]
    }
   ],
   "source": [
    "a = [1,3,5,6,7,9,12,14,16,20,23]\n",
    "l = len(a)\n",
    "print(binarySearch(a,7,0,l))"
   ]
  },
  {
   "cell_type": "markdown",
   "id": "eddaddd5",
   "metadata": {},
   "source": [
    "# Merge sort algoridhem recursion"
   ]
  },
  {
   "cell_type": "code",
   "execution_count": 89,
   "id": "7438b6ed",
   "metadata": {},
   "outputs": [],
   "source": [
    "def merge(a1,a2,a):\n",
    "    i = 0\n",
    "    j = 0\n",
    "    k = 0\n",
    "    while i < len(a1) and j < len(a2):\n",
    "        if a1[i] < a2[j]:\n",
    "            a[k] = a1[i]\n",
    "            k = k + 1\n",
    "            i = i + 1\n",
    "        else:\n",
    "            a[k] = a2[j]\n",
    "            k = k + 1\n",
    "            j = j + 1\n",
    "    while i < len(a1):\n",
    "        a[k] = a1[i]\n",
    "        k = k + 1\n",
    "        i = i + 1\n",
    "    while j < len(a2):\n",
    "        a[k] = a2[j]\n",
    "        k = k + 1\n",
    "        j = j + 1"
   ]
  },
  {
   "cell_type": "code",
   "execution_count": 90,
   "id": "8fc12f56",
   "metadata": {},
   "outputs": [],
   "source": [
    "def merg_Sort(a):\n",
    "    if len(a) == 0 or len(a) == 1:\n",
    "        return \n",
    "    \n",
    "    mid = len(a)//2\n",
    "    a1 = a[0:mid]\n",
    "    a2 = a[mid:]\n",
    "    \n",
    "    merg_Sort(a1)\n",
    "    merg_Sort(a2)\n",
    "    \n",
    "    merge(a1,a2,a)\n",
    "    \n",
    "    "
   ]
  },
  {
   "cell_type": "code",
   "execution_count": 91,
   "id": "b3683018",
   "metadata": {},
   "outputs": [
    {
     "data": {
      "text/plain": [
       "[1, 2, 3, 4, 5, 6, 9, 12, 14, 17, 29]"
      ]
     },
     "execution_count": 91,
     "metadata": {},
     "output_type": "execute_result"
    }
   ],
   "source": [
    "a = [3,2,1,5,4,9,6,29,12,17,14]\n",
    "merg_Sort(a)\n",
    "a"
   ]
  },
  {
   "cell_type": "markdown",
   "id": "14bec9bc",
   "metadata": {},
   "source": [
    "# Again for practice merge sort"
   ]
  },
  {
   "cell_type": "code",
   "execution_count": 8,
   "id": "b8345edd",
   "metadata": {},
   "outputs": [],
   "source": [
    "def ma(a1,a2,a):\n",
    "    i = 0\n",
    "    j = 0\n",
    "    k = 0\n",
    "    while i < len(a1) and j < len(a2):\n",
    "        if a1[i] < a2[j]:\n",
    "            a[k] = a1[i]\n",
    "            k = k + 1\n",
    "            i = i + 1\n",
    "        else:\n",
    "            a[k] = a2[j]\n",
    "            k = k + 1\n",
    "            j = j + 1\n",
    "    \n",
    "    while i < len(a1):\n",
    "        a[k] = a1[i]\n",
    "        k = k + 1\n",
    "        i = i + 1\n",
    "    while j < len(a2):\n",
    "        a[k] = a2[j]\n",
    "        k = k + 1\n",
    "        j = j + 1\n",
    "        "
   ]
  },
  {
   "cell_type": "code",
   "execution_count": 12,
   "id": "d065a067",
   "metadata": {},
   "outputs": [],
   "source": [
    "def mar(l):\n",
    "    if len(l) == 0 or len(l) == 1:\n",
    "        return\n",
    "    \n",
    "    mid = len(l)//2\n",
    "    \n",
    "    l1 = l[0:mid]\n",
    "    l2 = l[mid:]\n",
    "    \n",
    "    mar(l1)\n",
    "    mar(l2)\n",
    "    \n",
    "    ma(l1,l2,l)"
   ]
  },
  {
   "cell_type": "code",
   "execution_count": 14,
   "id": "4c6152dd",
   "metadata": {},
   "outputs": [
    {
     "data": {
      "text/plain": [
       "[1, 2, 3, 4, 5, 6, 7, 9]"
      ]
     },
     "execution_count": 14,
     "metadata": {},
     "output_type": "execute_result"
    }
   ],
   "source": [
    "a = [2,3,4,1,6,9,7,5]\n",
    "mar(a)\n",
    "a"
   ]
  },
  {
   "cell_type": "markdown",
   "id": "fc23e200",
   "metadata": {},
   "source": [
    "# Queck short algorithem"
   ]
  },
  {
   "cell_type": "code",
   "execution_count": 56,
   "id": "cce49f05",
   "metadata": {},
   "outputs": [],
   "source": [
    "def partation(a,si,ei):\n",
    "    pivit = a[si]\n",
    "    \n",
    "    # finde the number which is smaler then pivit\n",
    "    c = 0\n",
    "    for i in range(si,ei+1):\n",
    "        if a[i] < pivit:\n",
    "            c = c + 1\n",
    "    a[si + c], a[si] = a[si],a[si+c] \n",
    "    pivit_index = si + c\n",
    "    \n",
    "    \n",
    "    i = si\n",
    "    j = ei\n",
    "    \n",
    "    while i < j:\n",
    "        if a[i] < pivit:\n",
    "            i = i + 1\n",
    "        elif a[j] >= pivit:\n",
    "            j = j - 1\n",
    "        else:\n",
    "            a[i],a[j] = a[j],a[i]\n",
    "            i = i + 1\n",
    "            j = j - 1\n",
    "            \n",
    "    return pivit_index\n",
    "    "
   ]
  },
  {
   "cell_type": "code",
   "execution_count": 59,
   "id": "05f063ba",
   "metadata": {},
   "outputs": [],
   "source": [
    "def queck_sort(a,si,ei):\n",
    "    if si >= ei:\n",
    "        return\n",
    "    \n",
    "    pivit_index = partation(a,si,ei)\n",
    "    \n",
    "    queck_sort(a,si,pivit_index-1)\n",
    "    queck_sort(a,pivit_index+1, ei)\n",
    "    \n",
    "    \n",
    "    "
   ]
  },
  {
   "cell_type": "code",
   "execution_count": 61,
   "id": "dd527eb3",
   "metadata": {},
   "outputs": [
    {
     "data": {
      "text/plain": [
       "[1, 2, 3, 4, 5, 6, 7, 8, 9, 10]"
      ]
     },
     "execution_count": 61,
     "metadata": {},
     "output_type": "execute_result"
    }
   ],
   "source": [
    "a = [5,4,8,3,1,6,9,2,7,10]\n",
    "queck_sort(a,0,len(a)-1)\n",
    "a"
   ]
  },
  {
   "cell_type": "code",
   "execution_count": 70,
   "id": "6de92050",
   "metadata": {},
   "outputs": [],
   "source": [
    "def sol(a1,a2,a):\n",
    "    i = 0\n",
    "    j = 0\n",
    "    k = 0\n",
    "    while i < len(a1) and j < len(a2):\n",
    "        if a1[i] < a2[j]:\n",
    "            a[k] = a1[i]\n",
    "            k = k + 1\n",
    "            i = i + 1\n",
    "        else:\n",
    "            a[k] = a2[j]\n",
    "            k = k + 1\n",
    "            j = j + 1\n",
    "    while i < len(a1):\n",
    "        a[k] = a1[i]\n",
    "        k = k + 1\n",
    "        i = i + 1\n",
    "    while j < len(a2):\n",
    "        a[k] = a2[j]\n",
    "        k = k + 1\n",
    "        j = j + 1\n",
    "            "
   ]
  },
  {
   "cell_type": "code",
   "execution_count": 71,
   "id": "b0f308d4",
   "metadata": {},
   "outputs": [],
   "source": [
    "def so(l):\n",
    "    if len(l) == 0 or len(l) == 1:\n",
    "        return\n",
    "    \n",
    "    mid = len(l)//2\n",
    "    \n",
    "    l1 =l[0:mid]\n",
    "    l2 =l[mid:]\n",
    "    \n",
    "    so(l1)\n",
    "    so(l2)\n",
    "    \n",
    "    sol(l1,l2,l)"
   ]
  },
  {
   "cell_type": "code",
   "execution_count": 73,
   "id": "57ee3004",
   "metadata": {},
   "outputs": [
    {
     "data": {
      "text/plain": [
       "[1, 2, 3, 4, 5, 6, 7, 8, 9, 10]"
      ]
     },
     "execution_count": 73,
     "metadata": {},
     "output_type": "execute_result"
    }
   ],
   "source": [
    "a = [5,4,8,3,1,6,9,2,7,10]\n",
    "so(a)\n",
    "a"
   ]
  },
  {
   "cell_type": "code",
   "execution_count": 74,
   "id": "b250a73f",
   "metadata": {},
   "outputs": [],
   "source": [
    "def par(a,si,ei):\n",
    "    pivit = a[si]\n",
    "    \n",
    "    c = 0\n",
    "    for i in range(si,ei+1):\n",
    "        if a[si] < pivit:\n",
    "            c = c + 1\n",
    "    a[si + c], a[si] = a[si], a[si + c]\n",
    "    \n",
    "    pivit_index = si + c\n",
    "    \n",
    "    i = si\n",
    "    j = ei\n",
    "    while i < j:\n",
    "        if a[i] < pivit:\n",
    "            i = i + 1\n",
    "        elif a[j] > pivit:\n",
    "            j = j -1\n",
    "        else:\n",
    "            a[i],a[j] = a[j],a[i]\n",
    "    return pivit_index\n",
    "        "
   ]
  },
  {
   "cell_type": "code",
   "execution_count": 75,
   "id": "eece756c",
   "metadata": {},
   "outputs": [],
   "source": [
    "def que(a,si,ei):\n",
    "    if si >= ei:\n",
    "        return\n",
    "    \n",
    "    pivit_index = par(a,si,ei)\n",
    "    \n",
    "    que(a,si,pivit_index-1)\n",
    "    que(a,pivit_index+1,ei)\n",
    "    "
   ]
  },
  {
   "cell_type": "code",
   "execution_count": 77,
   "id": "e3c756bf",
   "metadata": {},
   "outputs": [
    {
     "data": {
      "text/plain": [
       "[1, 2, 3, 4, 5, 6, 7, 9]"
      ]
     },
     "execution_count": 77,
     "metadata": {},
     "output_type": "execute_result"
    }
   ],
   "source": [
    "a = [2,3,4,1,6,9,7,5]\n",
    "que(a,0,len(a)-1)\n",
    "a"
   ]
  },
  {
   "cell_type": "markdown",
   "id": "90b3b0a8",
   "metadata": {},
   "source": [
    "# Towet if hanoi"
   ]
  },
  {
   "cell_type": "code",
   "execution_count": 92,
   "id": "f18d22a1",
   "metadata": {},
   "outputs": [],
   "source": [
    "def tow_of_h(n,s,h,d):\n",
    "    if n == 1:\n",
    "        print(\"move \",n,\"disk to from \", s, \" to \",d)\n",
    "        return\n",
    "    tow_of_h(n-1,s,d,h)\n",
    "    print(\"move \",n,\" disk to from \",s,\" to \",d)\n",
    "    tow_of_h(n-1,h,s,d)"
   ]
  },
  {
   "cell_type": "code",
   "execution_count": 94,
   "id": "6b20b9fe",
   "metadata": {},
   "outputs": [
    {
     "name": "stdout",
     "output_type": "stream",
     "text": [
      "3\n",
      "move  1 disk to from  a  to  c\n",
      "move  2  disk to from  a  to  b\n",
      "move  1 disk to from  c  to  b\n",
      "move  3  disk to from  a  to  c\n",
      "move  1 disk to from  b  to  a\n",
      "move  2  disk to from  b  to  c\n",
      "move  1 disk to from  a  to  c\n"
     ]
    }
   ],
   "source": [
    "n = int(input())\n",
    "tow_of_h(n,\"a\",\"b\",\"c\")\n",
    "# print(ans)"
   ]
  },
  {
   "cell_type": "code",
   "execution_count": null,
   "id": "46307d14",
   "metadata": {},
   "outputs": [],
   "source": []
  }
 ],
 "metadata": {
  "kernelspec": {
   "display_name": "Python 3 (ipykernel)",
   "language": "python",
   "name": "python3"
  },
  "language_info": {
   "codemirror_mode": {
    "name": "ipython",
    "version": 3
   },
   "file_extension": ".py",
   "mimetype": "text/x-python",
   "name": "python",
   "nbconvert_exporter": "python",
   "pygments_lexer": "ipython3",
   "version": "3.8.1"
  }
 },
 "nbformat": 4,
 "nbformat_minor": 5
}
