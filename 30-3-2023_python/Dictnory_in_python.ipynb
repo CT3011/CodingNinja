{
 "cells": [
  {
   "cell_type": "markdown",
   "id": "b26e4b7a",
   "metadata": {},
   "source": [
    "# find k friquency string using dict"
   ]
  },
  {
   "cell_type": "code",
   "execution_count": 1,
   "id": "6f879260",
   "metadata": {},
   "outputs": [],
   "source": [
    "s = \"This is a word string having many many word\"\n",
    "k = 2\n"
   ]
  },
  {
   "cell_type": "code",
   "execution_count": 4,
   "id": "8fbcca3e",
   "metadata": {},
   "outputs": [
    {
     "data": {
      "text/plain": [
       "['This', 'is', 'a', 'word', 'string', 'having', 'many', 'many', 'word']"
      ]
     },
     "execution_count": 4,
     "metadata": {},
     "output_type": "execute_result"
    }
   ],
   "source": [
    "words =  s.split()\n",
    "words"
   ]
  },
  {
   "cell_type": "code",
   "execution_count": 11,
   "id": "4e5b2651",
   "metadata": {},
   "outputs": [
    {
     "name": "stdout",
     "output_type": "stream",
     "text": [
      "word\n",
      "many\n"
     ]
    }
   ],
   "source": [
    "d = {}\n",
    "for i in words:\n",
    "    d[i] = d.get(i, 0) + 1\n",
    "for i in d:\n",
    "    if d[i] == k:\n",
    "        print(i)"
   ]
  },
  {
   "cell_type": "markdown",
   "id": "173491c1",
   "metadata": {},
   "source": [
    "# Print 2D array"
   ]
  },
  {
   "cell_type": "code",
   "execution_count": 65,
   "id": "37b83308",
   "metadata": {},
   "outputs": [
    {
     "name": "stdout",
     "output_type": "stream",
     "text": [
      "[1, 2, 3][1, 2, 3][1, 2, 3]\n",
      "[4, 5, 6][4, 5, 6]\n",
      "[7, 8, 9]\n"
     ]
    }
   ],
   "source": [
    "ar = [[1,2,3],[4,5,6],[7,8,9]]\n",
    "d = 3\n",
    "n_rows = len(ar)\n",
    "for i in range(n_rows):\n",
    "    for j in range(n_rows - i):\n",
    "        print(ar[i],end=\"\")\n",
    "    print()"
   ]
  },
  {
   "cell_type": "code",
   "execution_count": 58,
   "id": "43597641",
   "metadata": {},
   "outputs": [
    {
     "name": "stdout",
     "output_type": "stream",
     "text": [
      "123\n",
      "456\n",
      "789\n"
     ]
    }
   ],
   "source": [
    "for i in ar:\n",
    "    for j in i:\n",
    "        print(j,end=\"\")\n",
    "    print()\n",
    "        "
   ]
  },
  {
   "cell_type": "code",
   "execution_count": 64,
   "id": "a622f758",
   "metadata": {},
   "outputs": [
    {
     "name": "stdout",
     "output_type": "stream",
     "text": [
      "3 3 \n",
      "1 2 3\n",
      "4 5 6\n",
      "7 8 9\n",
      "1 2 3 \n",
      "1 2 3 \n",
      "1 2 3 \n",
      "4 5 6 \n",
      "4 5 6 \n",
      "7 8 9 \n"
     ]
    }
   ],
   "source": [
    "# read number of rows and columns\n",
    "n, m = map(int, input().split())\n",
    "\n",
    "# read the matrix\n",
    "arr = []\n",
    "for i in range(n):\n",
    "    row = list(map(int, input().split()))\n",
    "    arr.append(row)\n",
    "\n",
    "# print the array in the described pattern\n",
    "for i in range(n):\n",
    "    for j in range(n - i):\n",
    "        print(*arr[i], end=' ')\n",
    "        print()"
   ]
  },
  {
   "cell_type": "code",
   "execution_count": 68,
   "id": "b506200c",
   "metadata": {},
   "outputs": [
    {
     "name": "stdout",
     "output_type": "stream",
     "text": [
      "1 2 3 \n",
      "1 2 3 \n",
      "1 2 3 \n",
      "4 5 6 \n",
      "4 5 6 \n",
      "7 8 9 \n"
     ]
    }
   ],
   "source": [
    "for i in range(len(ar)):\n",
    "    for j in range(len(arr) - i):\n",
    "        print(*ar[i],end=\" \")\n",
    "        print()"
   ]
  },
  {
   "cell_type": "markdown",
   "id": "e4d6fdcf",
   "metadata": {},
   "source": [
    "# Minimum Length Word"
   ]
  },
  {
   "cell_type": "code",
   "execution_count": 72,
   "id": "1c774deb",
   "metadata": {},
   "outputs": [
    {
     "name": "stdout",
     "output_type": "stream",
     "text": [
      "this is a min word check test 1 \n",
      "a\n"
     ]
    }
   ],
   "source": [
    "def minWord(s):\n",
    "    d = s.split()\n",
    "    res = min(d,key = len)\n",
    "    return res\n",
    "\n",
    "s = input()\n",
    "ans = minWord(s)\n",
    "print(ans)"
   ]
  }
 ],
 "metadata": {
  "kernelspec": {
   "display_name": "Python 3 (ipykernel)",
   "language": "python",
   "name": "python3"
  },
  "language_info": {
   "codemirror_mode": {
    "name": "ipython",
    "version": 3
   },
   "file_extension": ".py",
   "mimetype": "text/x-python",
   "name": "python",
   "nbconvert_exporter": "python",
   "pygments_lexer": "ipython3",
   "version": "3.8.1"
  }
 },
 "nbformat": 4,
 "nbformat_minor": 5
}
