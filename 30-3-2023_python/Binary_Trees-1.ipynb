{
 "cells": [
  {
   "cell_type": "markdown",
   "id": "849b8e3f",
   "metadata": {},
   "source": [
    "# create a basic Binary Trees example"
   ]
  },
  {
   "cell_type": "code",
   "execution_count": null,
   "id": "796b3be9",
   "metadata": {},
   "outputs": [],
   "source": [
    "# Binary Tree class\n",
    "class BinaryTree():\n",
    "    def __init__(self,data):\n",
    "        self.data = data\n",
    "        self.left = None\n",
    "        self.right = None"
   ]
  },
  {
   "cell_type": "code",
   "execution_count": null,
   "id": "d82d6f6b",
   "metadata": {},
   "outputs": [],
   "source": [
    "# Print The Binery Tree\n",
    "def PrintBinaryTree(root):\n",
    "    if root == None:\n",
    "        return \n",
    "    print(root.data,end=\" \")\n",
    "    PrintBinaryTree(root.left)\n",
    "    PrintBinaryTree(root.right)"
   ]
  },
  {
   "cell_type": "code",
   "execution_count": null,
   "id": "57e50ff9",
   "metadata": {},
   "outputs": [],
   "source": [
    "# Print The Binery Tree With detailed Node left and right\n",
    "def PrintBinaryTreeDetailed(root):\n",
    "    if root == None:\n",
    "        return\n",
    "    print(root.data,end=\":\")\n",
    "    if root.left != None:\n",
    "        print(\"L\",root.left.data,end=\",\")\n",
    "    if root.right != None:\n",
    "        print(\"R\", root.right.data,end=\"\")\n",
    "    print()\n",
    "    PrintBinaryTreeDetailed(root.left)\n",
    "    PrintBinaryTreeDetailed(root.right)"
   ]
  },
  {
   "cell_type": "code",
   "execution_count": null,
   "id": "78383693",
   "metadata": {},
   "outputs": [],
   "source": [
    "# Take An input From user\n",
    "def takeInput():\n",
    "    inputData = int(input())\n",
    "    if inputData == -1:\n",
    "        return None\n",
    "    root = BinaryTree(inputData)\n",
    "    leftRoot = takeInput()\n",
    "    rightRoot = takeInput()\n",
    "    root.left = leftRoot\n",
    "    root.right = rightRoot\n",
    "    return root"
   ]
  },
  {
   "cell_type": "code",
   "execution_count": null,
   "id": "b0107ec4",
   "metadata": {},
   "outputs": [],
   "source": [
    "# count The Number of Node\n",
    "def numNode(root):\n",
    "    if root == None:\n",
    "        return 0\n",
    "    leftNode = numNode(root.left)\n",
    "    rightNode = numNode(root.right)\n",
    "    return 1 + leftNode + rightNode"
   ]
  },
  {
   "cell_type": "code",
   "execution_count": null,
   "id": "a3a7db8c",
   "metadata": {},
   "outputs": [],
   "source": [
    "# sum of all Nodes\n",
    "def sumNode(root):\n",
    "    if root == None:\n",
    "        return 0\n",
    "    leftSum = sumNode(root.left)\n",
    "    rightSum = sumNode(root.right)\n",
    "    return root.data + leftSum + rightSum"
   ]
  },
  {
   "cell_type": "code",
   "execution_count": null,
   "id": "935559de",
   "metadata": {},
   "outputs": [],
   "source": [
    "# Find largesr Data in Node\n",
    "def findLargestNoad(root):\n",
    "    if root == None:\n",
    "        return -1\n",
    "    leftLargest = findLargestNoad(root.left)\n",
    "    rightLargest = findLargestNoad(root.right)\n",
    "    largest = max(leftLargest,rightLargest,root.data)\n",
    "    return largest"
   ]
  },
  {
   "cell_type": "code",
   "execution_count": null,
   "id": "d2c705cb",
   "metadata": {},
   "outputs": [],
   "source": [
    "# find greter then n in tree\n",
    "def greterThen(root,n):\n",
    "    if root == None:\n",
    "        return 0\n",
    "    count = 0\n",
    "    if root.data > n:\n",
    "        count += 1\n",
    "    count += greterThen(root.left,n)\n",
    "    count += greterThen(root.right,n)\n",
    "    return count"
   ]
  },
  {
   "cell_type": "code",
   "execution_count": null,
   "id": "63b8344a",
   "metadata": {},
   "outputs": [],
   "source": [
    "# calculate The Hight of The Tree\n",
    "def HightOfTree(root):\n",
    "    if root == None:\n",
    "        return 0\n",
    "    \n",
    "    Leftcount = HightOfTree(root.left)\n",
    "    Rightcount = HightOfTree(root.right)\n",
    "    return 1 + max(Leftcount,Rightcount)"
   ]
  },
  {
   "cell_type": "code",
   "execution_count": null,
   "id": "8e87b5f1",
   "metadata": {},
   "outputs": [],
   "source": [
    "# Number Of leaf Node in tree\n",
    "def numOfLeafNode(root):\n",
    "    if root == None:\n",
    "        return 0\n",
    "    if root.left == None and root.right == None:\n",
    "        return 1\n",
    "    leafNodeLeft = numOfLeafNode(root.left)\n",
    "    leafNodeRight = numOfLeafNode(root.right)\n",
    "    return leafNodeLeft + leafNodeRight"
   ]
  },
  {
   "cell_type": "code",
   "execution_count": null,
   "id": "5c7a6845",
   "metadata": {},
   "outputs": [],
   "source": [
    "# print The K depth in binary tree\n",
    "def PrintKdepth(root,k):\n",
    "    if root == None:\n",
    "        return \n",
    "    if k == 0:\n",
    "        print(root.data)\n",
    "        return\n",
    "    PrintKdepth(root.left, k - 1)\n",
    "    PrintKdepth(root.right, k -1)"
   ]
  },
  {
   "cell_type": "code",
   "execution_count": null,
   "id": "f1864928",
   "metadata": {},
   "outputs": [],
   "source": [
    "def PrintKdepthV2(root,k,d=0):\n",
    "    if root == None:\n",
    "        return\n",
    "    if k == d:\n",
    "        print(root.data)\n",
    "        return\n",
    "    PrintKdepthV2(root.left,k,d+1)\n",
    "    PrintKdepthV2(root.right,k,d+1)"
   ]
  },
  {
   "cell_type": "code",
   "execution_count": null,
   "id": "888fff16",
   "metadata": {},
   "outputs": [],
   "source": [
    "# Replase The Node with depth k\n",
    "def ReplaseKNodeDep(root,depth = 0):\n",
    "    if root == None:\n",
    "        return \n",
    "    ReplaseKNodeDep(root.left, depth + 1)\n",
    "    root.data = depth\n",
    "    ReplaseKNodeDep(root.right, depth + 1)"
   ]
  },
  {
   "cell_type": "code",
   "execution_count": 38,
   "id": "e7858f76",
   "metadata": {},
   "outputs": [],
   "source": [
    "# Check if Node is Present In The binery Tree\n",
    "def CheckNodePresent(root,x):\n",
    "    if root == None:\n",
    "        return False\n",
    "    if root.data == x:\n",
    "        return True\n",
    "    CheckNodePresent(root.left,x)\n",
    "    CheckNodePresent(root.right,x)"
   ]
  },
  {
   "cell_type": "code",
   "execution_count": 39,
   "id": "6899f9cf",
   "metadata": {},
   "outputs": [
    {
     "name": "stdout",
     "output_type": "stream",
     "text": [
      "8\n",
      "3\n",
      "10\n",
      "1\n",
      "6\n",
      "-1\n",
      "14\n",
      "-1\n",
      "-1\n",
      "4\n",
      "7\n",
      "13\n",
      "-1\n",
      "-1\n",
      "-1\n",
      "-1\n",
      "-1\n",
      "-1\n",
      "-1\n",
      "8:L 3,\n",
      "3:L 10,\n",
      "10:L 1,\n",
      "1:L 6,R 4\n",
      "6:R 14\n",
      "14:\n",
      "4:L 7,\n",
      "7:L 13,\n",
      "13:\n"
     ]
    }
   ],
   "source": [
    "root = takeInput()\n",
    "PrintBinaryTreeDetailed(root)\n",
    "CheckNodePresent(root,7)"
   ]
  },
  {
   "cell_type": "code",
   "execution_count": null,
   "id": "c48e0645",
   "metadata": {},
   "outputs": [],
   "source": []
  },
  {
   "cell_type": "code",
   "execution_count": null,
   "id": "e348d1fc",
   "metadata": {},
   "outputs": [],
   "source": []
  }
 ],
 "metadata": {
  "kernelspec": {
   "display_name": "Python 3 (ipykernel)",
   "language": "python",
   "name": "python3"
  },
  "language_info": {
   "codemirror_mode": {
    "name": "ipython",
    "version": 3
   },
   "file_extension": ".py",
   "mimetype": "text/x-python",
   "name": "python",
   "nbconvert_exporter": "python",
   "pygments_lexer": "ipython3",
   "version": "3.8.1"
  }
 },
 "nbformat": 4,
 "nbformat_minor": 5
}
