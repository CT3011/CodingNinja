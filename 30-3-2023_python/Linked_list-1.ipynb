{
 "cells": [
  {
   "cell_type": "markdown",
   "id": "fdebdfff",
   "metadata": {},
   "source": [
    "# linked List -1"
   ]
  },
  {
   "cell_type": "code",
   "execution_count": null,
   "id": "4ca27551",
   "metadata": {},
   "outputs": [],
   "source": [
    "class linked_list:\n",
    "    \n",
    "    def __init__(self,data):\n",
    "        self.data = data\n",
    "        self.next = next"
   ]
  },
  {
   "cell_type": "code",
   "execution_count": null,
   "id": "aaf0a4de",
   "metadata": {},
   "outputs": [],
   "source": [
    "a = linked_list(15)\n",
    "b = linked_list(20)\n",
    "a.next = b\n",
    "print(a.data)\n",
    "print(b.data)\n",
    "print(a.next.data)\n",
    "print(a)\n",
    "print(a.next)\n",
    "print(b)"
   ]
  },
  {
   "cell_type": "code",
   "execution_count": null,
   "id": "253d2329",
   "metadata": {},
   "outputs": [],
   "source": [
    "class Node:\n",
    "    def __init__(self, data):\n",
    "        self.data = data\n",
    "        self.next = None\n",
    "        \n",
    "def printLL(head):\n",
    "    while head is not None:\n",
    "        print(head.data,end=\" \")\n",
    "        head = head.next"
   ]
  },
  {
   "cell_type": "code",
   "execution_count": null,
   "id": "6cddafc9",
   "metadata": {},
   "outputs": [],
   "source": [
    "a = Node(10)\n",
    "b = Node(20)\n",
    "b.next = a\n",
    "printLL(b)"
   ]
  },
  {
   "cell_type": "code",
   "execution_count": null,
   "id": "d90d41b0",
   "metadata": {},
   "outputs": [],
   "source": [
    "class Node:\n",
    "    def __init__(self, data):\n",
    "        self.data = data\n",
    "        self.next = None\n",
    "        \n",
    "def printLL(head):\n",
    "    while head is not None:\n",
    "        print(head.data,end=\" \")\n",
    "        head = head.next"
   ]
  },
  {
   "cell_type": "code",
   "execution_count": null,
   "id": "74d92988",
   "metadata": {},
   "outputs": [],
   "source": [
    "node1 = Node(10)\n",
    "node2 = Node(20)\n",
    "node3 = Node(30)\n",
    "node4 = Node(40)\n",
    "node1.next = node2\n",
    "node2.next = node3\n",
    "node3.next = node4\n",
    "printLL(node2)"
   ]
  },
  {
   "cell_type": "markdown",
   "id": "122fc90e",
   "metadata": {},
   "source": [
    "# Take input for the linked list"
   ]
  },
  {
   "cell_type": "code",
   "execution_count": null,
   "id": "10e95876",
   "metadata": {},
   "outputs": [],
   "source": [
    "class noad:\n",
    "    def __init__(self,data):\n",
    "        self.data = data\n",
    "        self.next = None"
   ]
  },
  {
   "cell_type": "code",
   "execution_count": null,
   "id": "84ef736b",
   "metadata": {},
   "outputs": [],
   "source": [
    "def takeInput():\n",
    "    \n",
    "    inputList = [int(ele) for ele in input().split(\" \")]\n",
    "    head = None\n",
    "    \n",
    "    for currData in inputList:\n",
    "        if currData == -1:\n",
    "            break\n",
    "        \n",
    "        newNode = noad(currData)\n",
    "        \n",
    "        if head is None:\n",
    "            head = newNode\n",
    "        else:\n",
    "            curr = head\n",
    "            while curr.next is not None:\n",
    "                curr = curr.next\n",
    "            curr.next = newNode\n",
    "    return head\n",
    "\n",
    "h1 = takeInput()"
   ]
  },
  {
   "cell_type": "code",
   "execution_count": null,
   "id": "3c9d6351",
   "metadata": {},
   "outputs": [],
   "source": [
    "print(h1.next.data)"
   ]
  },
  {
   "cell_type": "code",
   "execution_count": null,
   "id": "742b213b",
   "metadata": {},
   "outputs": [],
   "source": [
    "def getInput():\n",
    "    \n",
    "    takeInput = [int(i) for i in input().split()]\n",
    "    head = None\n",
    "    \n",
    "    for crrdata in takeInput:\n",
    "        if crrdata == -1:\n",
    "            break\n",
    "        \n",
    "        newNod = noad(crrdata)\n",
    "        \n",
    "        if head is None:\n",
    "            head = newNod\n",
    "        else:\n",
    "            crr = head\n",
    "            while crr.next is not None:\n",
    "                crr = crr.next\n",
    "            crr.next = newNod\n",
    "    \n",
    "    return head\n",
    "\n",
    "h2 = getInput()"
   ]
  },
  {
   "cell_type": "code",
   "execution_count": null,
   "id": "d1654841",
   "metadata": {},
   "outputs": [],
   "source": [
    "def PrintLL(head):\n",
    "    while head is not None:\n",
    "        print(str(head.data)+\"-->\",end=\"\")\n",
    "        head = head.next\n",
    "    print(\"None\")\n",
    "    return"
   ]
  },
  {
   "cell_type": "code",
   "execution_count": null,
   "id": "4fcd5f8d",
   "metadata": {},
   "outputs": [],
   "source": [
    "PrintLL(h2)\n",
    "PrintLL(h2)"
   ]
  },
  {
   "cell_type": "code",
   "execution_count": 100,
   "id": "b309d5d2",
   "metadata": {},
   "outputs": [],
   "source": [
    "def length(head):\n",
    "    count = 0\n",
    "    while head is not None:\n",
    "        count = count + 1\n",
    "        head = head.next\n",
    "    return count"
   ]
  },
  {
   "cell_type": "code",
   "execution_count": 222,
   "id": "166851dc",
   "metadata": {},
   "outputs": [
    {
     "name": "stdout",
     "output_type": "stream",
     "text": [
      "18 21 9 4 10 15 -1\n"
     ]
    }
   ],
   "source": [
    "def takInp1():\n",
    "    \n",
    "    myInp = [int(i) for i in input().split(' ')]\n",
    "    head = None\n",
    "    tail = None\n",
    "    \n",
    "    for crData in myInp:\n",
    "        if crData == -1:\n",
    "            break\n",
    "        \n",
    "        newNoad = noad(crData)\n",
    "        \n",
    "        if head is None:\n",
    "            head = newNoad\n",
    "            tail = newNoad\n",
    "        else:\n",
    "            tail.next = newNoad\n",
    "            tail = newNoad\n",
    "    return head\n",
    "\n",
    "h3 = takInp1()"
   ]
  },
  {
   "cell_type": "code",
   "execution_count": 223,
   "id": "e6802a01",
   "metadata": {},
   "outputs": [
    {
     "name": "stdout",
     "output_type": "stream",
     "text": [
      "6\n"
     ]
    }
   ],
   "source": [
    "# print(PrintLL(h3))\n",
    "print(length(h3))"
   ]
  },
  {
   "cell_type": "code",
   "execution_count": 227,
   "id": "bb08cbd5",
   "metadata": {},
   "outputs": [],
   "source": [
    "def printIthNode1(head, i):\n",
    "    count = 0\n",
    "    curr = head\n",
    "    while (count < i) and (curr is not None):\n",
    "        curr = curr.next\n",
    "        count = count + 1\n",
    "        \n",
    "    if curr is not None:\n",
    "        return curr.data\n",
    "        "
   ]
  },
  {
   "cell_type": "code",
   "execution_count": 228,
   "id": "14aa9254",
   "metadata": {},
   "outputs": [
    {
     "data": {
      "text/plain": [
       "4"
      ]
     },
     "execution_count": 228,
     "metadata": {},
     "output_type": "execute_result"
    }
   ],
   "source": [
    "printIthNode1(h3,3)"
   ]
  },
  {
   "cell_type": "markdown",
   "id": "17183a11",
   "metadata": {},
   "source": [
    "# Linked list insert at ith position "
   ]
  },
  {
   "cell_type": "code",
   "execution_count": 7,
   "id": "03ba729a",
   "metadata": {},
   "outputs": [],
   "source": [
    "class node:\n",
    "    def __init__(self,data):\n",
    "        self.data = data\n",
    "        self.next = None\n",
    "        "
   ]
  },
  {
   "cell_type": "code",
   "execution_count": 8,
   "id": "5baa5954",
   "metadata": {},
   "outputs": [],
   "source": [
    "def takinput():\n",
    "    inp = [int(i) for i in input().split()]\n",
    "    head = None\n",
    "    tail = None\n",
    "    \n",
    "    for crdata in inp:\n",
    "        if crdata == -1:\n",
    "            break\n",
    "        \n",
    "        newNo = node(crdata)\n",
    "        \n",
    "        if head is None:\n",
    "            head = newNo\n",
    "            tail = newNo\n",
    "        else:\n",
    "            tail.next = newNo\n",
    "            tail = newNo\n",
    "    return head"
   ]
  },
  {
   "cell_type": "code",
   "execution_count": 9,
   "id": "a1ceb0bc",
   "metadata": {},
   "outputs": [
    {
     "name": "stdout",
     "output_type": "stream",
     "text": [
      "1 2 3 4 5 -1\n"
     ]
    }
   ],
   "source": [
    "h1 = takinput()"
   ]
  },
  {
   "cell_type": "code",
   "execution_count": 10,
   "id": "b8d2e990",
   "metadata": {},
   "outputs": [],
   "source": [
    "def priLL(head):\n",
    "    while head is not None:\n",
    "        print(str(head.data)+\"-> \",end=\"\")\n",
    "        head = head.next\n",
    "    print(\"None\")\n",
    "    return\n",
    "        "
   ]
  },
  {
   "cell_type": "code",
   "execution_count": 11,
   "id": "dbd42431",
   "metadata": {},
   "outputs": [
    {
     "name": "stdout",
     "output_type": "stream",
     "text": [
      "1-> 2-> 3-> 4-> 5-> None\n"
     ]
    }
   ],
   "source": [
    "priLL(h1)"
   ]
  },
  {
   "cell_type": "markdown",
   "id": "78fb168f",
   "metadata": {},
   "source": [
    "* insert at i th element"
   ]
  },
  {
   "cell_type": "code",
   "execution_count": 270,
   "id": "d3e758f6",
   "metadata": {},
   "outputs": [],
   "source": [
    "def lenth(head):\n",
    "    count = 0\n",
    "    while head is not None:\n",
    "        count += 1\n",
    "        head = head.next\n",
    "    return count\n",
    "\n",
    "def insertIth(head,i,no):\n",
    "    \n",
    "    if i < 0 or i > lenth(head):\n",
    "        return head\n",
    "    \n",
    "    count = 0\n",
    "    curr = head\n",
    "    prev = None\n",
    "    while count < i:\n",
    "        \n",
    "        prev = curr\n",
    "        curr = curr.next\n",
    "        count = count + 1\n",
    "        \n",
    "    \n",
    "    newNode = node(no)\n",
    "    if prev is not None:\n",
    "        prev.next = newNode\n",
    "    else:\n",
    "        head = newNode\n",
    "    newNode.next = curr\n",
    "    \n",
    "    return head\n",
    "    \n",
    "    "
   ]
  },
  {
   "cell_type": "code",
   "execution_count": 271,
   "id": "d5b84272",
   "metadata": {},
   "outputs": [
    {
     "name": "stdout",
     "output_type": "stream",
     "text": [
      "1-> 2-> 3-> 4-> 5-> None\n",
      "1-> 2-> 3-> 6-> 4-> 5-> None\n",
      "7-> 1-> 2-> 3-> 6-> 4-> 5-> None\n"
     ]
    }
   ],
   "source": [
    "priLL(h1)\n",
    "h1 = insertIth(h1,3,6)\n",
    "priLL(h1)\n",
    "h1 = insertIth(h1,0,7)\n",
    "priLL(h1)\n",
    "h1 = insertIth(h1,8,8)"
   ]
  },
  {
   "cell_type": "code",
   "execution_count": 272,
   "id": "4f658267",
   "metadata": {},
   "outputs": [],
   "source": [
    "def lan(head):\n",
    "    count = 0\n",
    "    while head is not None:\n",
    "        count = count + 1\n",
    "        head = head.next\n",
    "    return count\n",
    "\n",
    "def Insertmid(head,i,no):\n",
    "    if i < 0 or i > lan(head):\n",
    "        return head\n",
    "    \n",
    "    count = 0\n",
    "    curr = head\n",
    "    prev = None\n",
    "    while count < i:\n",
    "        prev = curr\n",
    "        curr = curr.next\n",
    "        count = count + 1\n",
    "        \n",
    "    newNode = node(no)\n",
    "    if prev is not None:\n",
    "        prev.next = newNode\n",
    "    else:\n",
    "        head = newNode\n",
    "    newNode.next = curr\n",
    "    \n",
    "    return head"
   ]
  },
  {
   "cell_type": "code",
   "execution_count": 273,
   "id": "d56fc18c",
   "metadata": {},
   "outputs": [
    {
     "name": "stdout",
     "output_type": "stream",
     "text": [
      "7-> 1-> 2-> 3-> 6-> 4-> 5-> None\n",
      "7-> 1-> 2-> 6-> 3-> 6-> 4-> 5-> None\n",
      "7-> 7-> 1-> 2-> 6-> 3-> 6-> 4-> 5-> None\n"
     ]
    }
   ],
   "source": [
    "priLL(h1)\n",
    "h1 = Insertmid(h1,3,6)\n",
    "priLL(h1)\n",
    "h1 = Insertmid(h1,0,7)\n",
    "priLL(h1)\n",
    "h1 = Insertmid(h1,8,8)"
   ]
  },
  {
   "cell_type": "markdown",
   "id": "7b05657b",
   "metadata": {},
   "source": [
    "* delete i th noad in to the linked list"
   ]
  },
  {
   "cell_type": "code",
   "execution_count": 294,
   "id": "af32b24c",
   "metadata": {},
   "outputs": [],
   "source": [
    "def lenth(head):\n",
    "    count =  0\n",
    "    while head is not None:\n",
    "        count = count + 1\n",
    "        head =  head.next\n",
    "    return count\n",
    "\n",
    "def deleteIthNoad(head,i):\n",
    "    if i < 0 or i > lenth(head):\n",
    "        return head\n",
    "    \n",
    "    count = 0\n",
    "    curr = head\n",
    "    prev = None\n",
    "    while count < i:\n",
    "        prev = curr\n",
    "        curr = curr.next\n",
    "        count = count + 1\n",
    "    \n",
    "    if curr is None:\n",
    "        pass\n",
    "    else:\n",
    "        newNode = curr.next\n",
    "        if prev is not None:\n",
    "            prev.next = newNode\n",
    "        else:\n",
    "            head = newNode\n",
    "    \n",
    "    return head"
   ]
  },
  {
   "cell_type": "code",
   "execution_count": 17,
   "id": "c5db7d5c",
   "metadata": {},
   "outputs": [
    {
     "name": "stdout",
     "output_type": "stream",
     "text": [
      "1 2 3 4 5 -1\n"
     ]
    }
   ],
   "source": [
    "h1 = takinput()"
   ]
  },
  {
   "cell_type": "code",
   "execution_count": 296,
   "id": "f6bfc7a3",
   "metadata": {},
   "outputs": [
    {
     "name": "stdout",
     "output_type": "stream",
     "text": [
      "1-> 2-> 3-> 4-> 5-> None\n",
      "1-> 2-> 3-> 5-> None\n"
     ]
    }
   ],
   "source": [
    "priLL(h1)\n",
    "h1 = deleteIthNoad(h1,3)\n",
    "priLL(h1)\n"
   ]
  },
  {
   "cell_type": "markdown",
   "id": "3346059b",
   "metadata": {},
   "source": [
    "* Insert node at i th position using recursion"
   ]
  },
  {
   "cell_type": "code",
   "execution_count": 14,
   "id": "173bea7c",
   "metadata": {},
   "outputs": [],
   "source": [
    "def insertAtIthRecur(head,i,no):\n",
    "    if i < 0:\n",
    "        return head\n",
    "    \n",
    "    if i == 0:\n",
    "        newNoad = node(no)\n",
    "        newNoad.next = head\n",
    "        return newNoad\n",
    "    \n",
    "    if head is None:\n",
    "        return None\n",
    "    \n",
    "    smallHead = insertAtIthRecur(head.next,i-1,no)\n",
    "    head.next = smallHead\n",
    "    return head"
   ]
  },
  {
   "cell_type": "code",
   "execution_count": 18,
   "id": "e5f35b53",
   "metadata": {},
   "outputs": [
    {
     "name": "stdout",
     "output_type": "stream",
     "text": [
      "1-> 2-> 3-> 4-> 5-> None\n",
      "1-> 2-> 3-> 6-> 4-> 5-> None\n",
      "7-> 1-> 2-> 3-> 6-> 4-> 5-> None\n",
      "7-> 1-> 2-> 3-> 6-> 4-> 5-> None\n"
     ]
    }
   ],
   "source": [
    "priLL(h1)\n",
    "h1 = insertAtIthRecur(h1,3,6)\n",
    "priLL(h1)\n",
    "h1 = insertAtIthRecur(h1,0,7)\n",
    "priLL(h1)\n",
    "h1 = insertAtIthRecur(h1,8,8)\n",
    "priLL(h1)"
   ]
  },
  {
   "cell_type": "markdown",
   "id": "82c161c6",
   "metadata": {},
   "source": [
    "* Delete node at i th position using recursion"
   ]
  },
  {
   "cell_type": "code",
   "execution_count": 32,
   "id": "37b5039c",
   "metadata": {},
   "outputs": [],
   "source": [
    "def deleteNodeRec(head, pos) :\n",
    "    if pos < 0:\n",
    "        return head\n",
    "    \n",
    "    if pos == 0:\n",
    "        newNoad = head.next\n",
    "        return newNoad\n",
    "    \n",
    "    if head is None:\n",
    "        return None\n",
    "    \n",
    "    smallHead = deleteNodeRec(head.next,pos-1)\n",
    "    head.next = smallHead\n",
    "    return head"
   ]
  },
  {
   "cell_type": "code",
   "execution_count": 33,
   "id": "18c2dfee",
   "metadata": {},
   "outputs": [
    {
     "name": "stdout",
     "output_type": "stream",
     "text": [
      "1 2 3 4 5 -1\n"
     ]
    }
   ],
   "source": [
    "h1 = takinput()"
   ]
  },
  {
   "cell_type": "code",
   "execution_count": 34,
   "id": "d11f51f1",
   "metadata": {},
   "outputs": [
    {
     "name": "stdout",
     "output_type": "stream",
     "text": [
      "1-> 2-> 3-> 4-> 5-> None\n",
      "1-> 2-> 3-> 5-> None\n"
     ]
    }
   ],
   "source": [
    "priLL(h1)\n",
    "h1 = deleteNodeRec(h1,3)\n",
    "priLL(h1)"
   ]
  },
  {
   "cell_type": "markdown",
   "id": "091811c6",
   "metadata": {},
   "source": [
    "* AppendLastNToFirst"
   ]
  },
  {
   "cell_type": "code",
   "execution_count": 373,
   "id": "6122502e",
   "metadata": {},
   "outputs": [],
   "source": [
    "def appendLastNToFirst(head,n):\n",
    "    if n == 0 or head is None:\n",
    "        return head\n",
    "    \n",
    "    fast = head\n",
    "    slow = head\n",
    "    initialHead = head\n",
    "    \n",
    "    for i in range(n):\n",
    "        fast = fast.next\n",
    "    \n",
    "    while fast.next is not None:\n",
    "        slow = slow.next\n",
    "        fast = fast.next\n",
    "        \n",
    "    temp = slow.next\n",
    "    slow.next = None\n",
    "    fast.next = initialHead\n",
    "    head = temp\n",
    "    \n",
    "    return head"
   ]
  },
  {
   "cell_type": "code",
   "execution_count": 374,
   "id": "537c00ee",
   "metadata": {},
   "outputs": [
    {
     "name": "stdout",
     "output_type": "stream",
     "text": [
      "1 2 3 4 5 -1\n"
     ]
    }
   ],
   "source": [
    "h1 = takinput()"
   ]
  },
  {
   "cell_type": "code",
   "execution_count": 375,
   "id": "da539dca",
   "metadata": {
    "scrolled": false
   },
   "outputs": [
    {
     "name": "stdout",
     "output_type": "stream",
     "text": [
      "1-> 2-> 3-> 4-> 5-> None\n",
      "3-> 4-> 5-> 1-> 2-> None\n"
     ]
    }
   ],
   "source": [
    "priLL(h1)\n",
    "h1 = appendLastNToFirst(h1,3)\n",
    "priLL(h1)"
   ]
  },
  {
   "cell_type": "markdown",
   "id": "332791d0",
   "metadata": {},
   "source": [
    "* remove duplicate in the linked list"
   ]
  },
  {
   "cell_type": "code",
   "execution_count": 430,
   "id": "2bbd5c39",
   "metadata": {},
   "outputs": [],
   "source": [
    "def removeDupt(head):\n",
    "    if head is None:\n",
    "        return head\n",
    "\n",
    "    currHead = head\n",
    "    while currHead.next is not None:\n",
    "        if currHead.data == currHead.next.data:\n",
    "            currHead.next = currHead.next.next\n",
    "\n",
    "        else:\n",
    "            currHead = currHead.next\n",
    "\n",
    "    return head"
   ]
  },
  {
   "cell_type": "code",
   "execution_count": 431,
   "id": "b113c3de",
   "metadata": {},
   "outputs": [
    {
     "name": "stdout",
     "output_type": "stream",
     "text": [
      "1 2 2 3 3 4 4 5 5 5 6 7 -1\n"
     ]
    }
   ],
   "source": [
    "h1 = takinput()"
   ]
  },
  {
   "cell_type": "code",
   "execution_count": 432,
   "id": "b3b799da",
   "metadata": {},
   "outputs": [
    {
     "name": "stdout",
     "output_type": "stream",
     "text": [
      "1-> 2-> 2-> 3-> 3-> 4-> 4-> 5-> 5-> 5-> 6-> 7-> None\n",
      "1-> 2-> 3-> 4-> 5-> 6-> 7-> None\n"
     ]
    }
   ],
   "source": [
    "priLL(h1)\n",
    "h1 = removeDupt(h1)\n",
    "priLL(h1)"
   ]
  },
  {
   "cell_type": "markdown",
   "id": "a41bc4f3",
   "metadata": {},
   "source": [
    "* linked List is pelendrum or note"
   ]
  },
  {
   "cell_type": "code",
   "execution_count": 433,
   "id": "1725a123",
   "metadata": {},
   "outputs": [],
   "source": [
    "def reverceLinkedlist(head):\n",
    "    curr = head\n",
    "    prev = None\n",
    "    fwd = None\n",
    "    \n",
    "    while curr is not None:\n",
    "        fwd = curr.next\n",
    "        curr.next = prev\n",
    "        prev = curr\n",
    "        curr = fwd\n",
    "    return prev\n",
    "\n",
    "def isPalindrome(head):\n",
    "    if head is None or head.next is None:\n",
    "        return True\n",
    "    \n",
    "    fast = head\n",
    "    slow = head\n",
    "    \n",
    "    while fast.next is not None and fast.next.next is not None:\n",
    "        fast = fast.next.next\n",
    "        slow = slow.next\n",
    "        \n",
    "    secondHead = slow.next\n",
    "    slow.next = None\n",
    "    secondHead = reverceLinkedlist(secondHead)\n",
    "    \n",
    "    firsubList = secondHead\n",
    "    secondsubList = head\n",
    "    \n",
    "    while firsubList is not None:\n",
    "        if firsubList.data != secondsubList.data:\n",
    "            return False\n",
    "        \n",
    "        firsubList = firsubList.next\n",
    "        secondsubList = secondsubList.next\n",
    "        \n",
    "    firsubList = head\n",
    "    secondsubList = reverceLinkedlist(secondHead)\n",
    "    \n",
    "    while firsubList.next is not None:\n",
    "        firsubList = firsubList.next\n",
    "    \n",
    "    firsubList.next = secondsubList\n",
    "    \n",
    "    return True"
   ]
  },
  {
   "cell_type": "code",
   "execution_count": 434,
   "id": "f35d7939",
   "metadata": {},
   "outputs": [
    {
     "name": "stdout",
     "output_type": "stream",
     "text": [
      "1 2 3 3 2 1 -1\n"
     ]
    }
   ],
   "source": [
    "h1 = takinput()"
   ]
  },
  {
   "cell_type": "code",
   "execution_count": 436,
   "id": "90e13dc6",
   "metadata": {},
   "outputs": [
    {
     "data": {
      "text/plain": [
       "True"
      ]
     },
     "execution_count": 436,
     "metadata": {},
     "output_type": "execute_result"
    }
   ],
   "source": [
    "isPalendrum(h1)"
   ]
  },
  {
   "cell_type": "markdown",
   "id": "6664245f",
   "metadata": {},
   "source": [
    "* Reverce The linked list"
   ]
  },
  {
   "cell_type": "code",
   "execution_count": 449,
   "id": "70893858",
   "metadata": {},
   "outputs": [],
   "source": [
    "def revercrLiL(head):\n",
    "    if head is None or head.next is None:\n",
    "        return head\n",
    "    \n",
    "    smallHead = revercrLiL(head.next)\n",
    "    curr = smallHead\n",
    "    while curr.next is not None:\n",
    "        curr = curr.next\n",
    "    curr.next = head\n",
    "    head.next = None\n",
    "    return smallHead"
   ]
  },
  {
   "cell_type": "code",
   "execution_count": 450,
   "id": "87c643d6",
   "metadata": {},
   "outputs": [
    {
     "name": "stdout",
     "output_type": "stream",
     "text": [
      "1 2 3 4 5 -1\n"
     ]
    }
   ],
   "source": [
    "h1 = takinput()"
   ]
  },
  {
   "cell_type": "code",
   "execution_count": 451,
   "id": "7efaddb1",
   "metadata": {},
   "outputs": [
    {
     "name": "stdout",
     "output_type": "stream",
     "text": [
      "1-> 2-> 3-> 4-> 5-> None\n",
      "5-> 4-> 3-> 2-> 1-> None\n"
     ]
    }
   ],
   "source": [
    "priLL(h1)\n",
    "h1 = revercrLiL(h1)\n",
    "priLL(h1)"
   ]
  },
  {
   "cell_type": "code",
   "execution_count": null,
   "id": "578b9ed7",
   "metadata": {},
   "outputs": [],
   "source": []
  }
 ],
 "metadata": {
  "kernelspec": {
   "display_name": "Python 3 (ipykernel)",
   "language": "python",
   "name": "python3"
  },
  "language_info": {
   "codemirror_mode": {
    "name": "ipython",
    "version": 3
   },
   "file_extension": ".py",
   "mimetype": "text/x-python",
   "name": "python",
   "nbconvert_exporter": "python",
   "pygments_lexer": "ipython3",
   "version": "3.8.1"
  }
 },
 "nbformat": 4,
 "nbformat_minor": 5
}
