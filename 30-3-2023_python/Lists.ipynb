{
 "cells": [
  {
   "cell_type": "code",
   "execution_count": 1,
   "id": "ace37fc4",
   "metadata": {},
   "outputs": [
    {
     "data": {
      "text/plain": [
       "list"
      ]
     },
     "execution_count": 1,
     "metadata": {},
     "output_type": "execute_result"
    }
   ],
   "source": [
    "x = []\n",
    "type(x)"
   ]
  },
  {
   "cell_type": "code",
   "execution_count": 16,
   "id": "626bbad4",
   "metadata": {},
   "outputs": [
    {
     "name": "stdout",
     "output_type": "stream",
     "text": [
      "[1, 2, 3, 4, 5, 6]\n",
      "[1, 2, 3, 'chirag', 5, 6]\n",
      "['chirag', 5]\n",
      "[2, 3, 'chirag', 5, 6]\n",
      "[1, 2, 3, 'chirag']\n",
      "[1, 2, 3, 'chirag', 5, 6]\n"
     ]
    }
   ],
   "source": [
    "x = [1,2,3,4,5,6]\n",
    "print(x)\n",
    "# access the list thrugh indexing\n",
    "x[3]\n",
    "#change the element usinx indexing\n",
    "x[3] = \"chirag\"\n",
    "print(x)\n",
    "# slice the list using indexing\n",
    "print(x[3:5])\n",
    "print(x[1:])\n",
    "print(x[:4])\n",
    "print(x[:])"
   ]
  },
  {
   "cell_type": "code",
   "execution_count": 21,
   "id": "e4802125",
   "metadata": {},
   "outputs": [
    {
     "name": "stdout",
     "output_type": "stream",
     "text": [
      "[1, 2, 10, 10, 10, 3, 'chirag', 5, 6, 'hitesh', 'hitesh', 'hitesh', 7, 13, 'parikh', 7, 13, 'parikh']\n",
      "[1, 2, 10, 10, 10, 10, 3, 'chirag', 5, 6, 'hitesh', 'hitesh', 'hitesh', 7, 13, 'parikh', 7, 13, 'parikh']\n",
      "[1, 2, 10, 10, 10, 10, 3, 'chirag', 5, 6, 'hitesh', 'hitesh', 'hitesh', 7, 13, 'parikh', 7, 13, 'parikh', 7, 13, 'parikh']\n"
     ]
    }
   ],
   "source": [
    "# append function\n",
    "x.append(\"hitesh\")\n",
    "print(x)\n",
    "# insert data an medal of list \n",
    "x.insert(2,10)\n",
    "print(x)\n",
    "# insert multipal element in list without create list of list\n",
    "x.extend([7,13,\"parikh\"])\n",
    "print(x)"
   ]
  },
  {
   "cell_type": "code",
   "execution_count": 24,
   "id": "640995fd",
   "metadata": {},
   "outputs": [
    {
     "name": "stdout",
     "output_type": "stream",
     "text": [
      "[1, 2, 10, 3, 'chirag', 5, 6, 'hitesh', 'hitesh', 'hitesh', 7, 13, 'parikh', 7, 13, 'parikh', 7, 13, 'parikh']\n"
     ]
    }
   ],
   "source": [
    "# remove element\n",
    "# if multipal same element the it is remove which index is come first\n",
    "x.remove(10)\n",
    "print(x)"
   ]
  },
  {
   "cell_type": "code",
   "execution_count": 30,
   "id": "43e8c0b8",
   "metadata": {},
   "outputs": [
    {
     "name": "stdout",
     "output_type": "stream",
     "text": [
      "[1, 2, 10, 3, 'chirag', 5, 6, 'hitesh', 'hitesh', 'hitesh', 7, 13, 'parikh']\n"
     ]
    }
   ],
   "source": [
    "# if index is not provide the pop remove last index\n",
    "x.pop()\n",
    "print(x)"
   ]
  },
  {
   "cell_type": "code",
   "execution_count": 32,
   "id": "8976a53e",
   "metadata": {},
   "outputs": [
    {
     "name": "stdout",
     "output_type": "stream",
     "text": [
      "[1, 2, 10, 3, 'chirag', 5, 6, 'hitesh', 7, 13, 'parikh']\n"
     ]
    }
   ],
   "source": [
    "# if index is provide then it remove that index only \n",
    "x.pop(7)\n",
    "print(x)"
   ]
  },
  {
   "cell_type": "markdown",
   "id": "4212959d",
   "metadata": {},
   "source": [
    "### loop in list"
   ]
  },
  {
   "cell_type": "code",
   "execution_count": 38,
   "id": "787d1a91",
   "metadata": {},
   "outputs": [
    {
     "name": "stdout",
     "output_type": "stream",
     "text": [
      "2\n",
      "3\n",
      "7\n",
      "10\n",
      "12\n"
     ]
    }
   ],
   "source": [
    "x = [2,3,7,10,12]\n",
    "for i in range(len(x)):\n",
    "    print(x[i])"
   ]
  },
  {
   "cell_type": "code",
   "execution_count": 43,
   "id": "b07eb928",
   "metadata": {},
   "outputs": [
    {
     "name": "stdout",
     "output_type": "stream",
     "text": [
      "7\n",
      "10\n",
      "12\n"
     ]
    }
   ],
   "source": [
    "for i in range(2,len(x)):\n",
    "    print(x[i])"
   ]
  },
  {
   "cell_type": "code",
   "execution_count": 40,
   "id": "f463dd63",
   "metadata": {},
   "outputs": [
    {
     "name": "stdout",
     "output_type": "stream",
     "text": [
      "2\n",
      "3\n",
      "7\n",
      "10\n",
      "12\n"
     ]
    }
   ],
   "source": [
    "for i in x:\n",
    "    print(i)"
   ]
  },
  {
   "cell_type": "code",
   "execution_count": 42,
   "id": "7167f935",
   "metadata": {},
   "outputs": [
    {
     "name": "stdout",
     "output_type": "stream",
     "text": [
      "3\n",
      "7\n",
      "10\n"
     ]
    }
   ],
   "source": [
    "for i in x[1:4]:\n",
    "    print(i)"
   ]
  },
  {
   "cell_type": "markdown",
   "id": "5eab552a",
   "metadata": {},
   "source": [
    "###  negative indexing in list"
   ]
  },
  {
   "cell_type": "code",
   "execution_count": 45,
   "id": "e7438122",
   "metadata": {},
   "outputs": [
    {
     "data": {
      "text/plain": [
       "12"
      ]
     },
     "execution_count": 45,
     "metadata": {},
     "output_type": "execute_result"
    }
   ],
   "source": [
    "x[-1]"
   ]
  },
  {
   "cell_type": "code",
   "execution_count": 46,
   "id": "85080204",
   "metadata": {},
   "outputs": [
    {
     "data": {
      "text/plain": [
       "[3, 2]"
      ]
     },
     "execution_count": 46,
     "metadata": {},
     "output_type": "execute_result"
    }
   ],
   "source": [
    "x[1::-1]"
   ]
  },
  {
   "cell_type": "code",
   "execution_count": 47,
   "id": "345569f3",
   "metadata": {},
   "outputs": [
    {
     "data": {
      "text/plain": [
       "[2, 3, 7, 10, 12]"
      ]
     },
     "execution_count": 47,
     "metadata": {},
     "output_type": "execute_result"
    }
   ],
   "source": [
    "x"
   ]
  },
  {
   "cell_type": "code",
   "execution_count": 49,
   "id": "07460bda",
   "metadata": {},
   "outputs": [
    {
     "data": {
      "text/plain": [
       "[3, 7]"
      ]
     },
     "execution_count": 49,
     "metadata": {},
     "output_type": "execute_result"
    }
   ],
   "source": [
    "x[1:-2:1]"
   ]
  },
  {
   "cell_type": "code",
   "execution_count": 51,
   "id": "c05ff839",
   "metadata": {},
   "outputs": [
    {
     "data": {
      "text/plain": [
       "[12, 10, 7, 3, 2]"
      ]
     },
     "execution_count": 51,
     "metadata": {},
     "output_type": "execute_result"
    }
   ],
   "source": [
    "x[::-1]"
   ]
  },
  {
   "cell_type": "markdown",
   "id": "b82f5c8f",
   "metadata": {},
   "source": [
    "# Line seperated input"
   ]
  },
  {
   "cell_type": "code",
   "execution_count": 52,
   "id": "bdc8f041",
   "metadata": {},
   "outputs": [
    {
     "name": "stdout",
     "output_type": "stream",
     "text": [
      "4\n",
      "3\n",
      "6\n",
      "12\n",
      "43\n",
      "[3, 6, 12, 43]\n"
     ]
    }
   ],
   "source": [
    "n = int(input())\n",
    "l = []\n",
    "for i in range(1,n+1):\n",
    "    x = int(input())\n",
    "    l.append(x)\n",
    "print(l)"
   ]
  },
  {
   "cell_type": "markdown",
   "id": "4706a2d0",
   "metadata": {},
   "source": [
    "# Linear search"
   ]
  },
  {
   "cell_type": "code",
   "execution_count": 13,
   "id": "d908e679",
   "metadata": {},
   "outputs": [
    {
     "name": "stdout",
     "output_type": "stream",
     "text": [
      "how many ele4\n",
      "10 20 30 40\n",
      "50\n",
      "-1\n"
     ]
    }
   ],
   "source": [
    "n = int(input(\"how many ele\"))\n",
    "l = [int(x) for x in input().split()]\n",
    "se = int(input())\n",
    "for i in range(len(l)):\n",
    "    if l[i] == se:\n",
    "        print(i)\n",
    "        break\n",
    "else:\n",
    "    print(-1)"
   ]
  },
  {
   "cell_type": "markdown",
   "id": "cf168ea8",
   "metadata": {},
   "source": [
    "# Linear search through function"
   ]
  },
  {
   "cell_type": "code",
   "execution_count": 15,
   "id": "24e90147",
   "metadata": {},
   "outputs": [
    {
     "name": "stdout",
     "output_type": "stream",
     "text": [
      "21 22 23\n",
      "30\n",
      "-1\n"
     ]
    }
   ],
   "source": [
    "def linear_Search(li,ele):\n",
    "    for i in range(len(li)):\n",
    "        if li[i] == ele:\n",
    "            return i\n",
    "    return -1\n",
    "\n",
    "l = [int(x) for x in input().split()]\n",
    "s = int(input())\n",
    "ans = linear_Search(l,s)\n",
    "print(ans)"
   ]
  },
  {
   "cell_type": "markdown",
   "id": "deb5a501",
   "metadata": {},
   "source": [
    "# reverce the list"
   ]
  },
  {
   "cell_type": "code",
   "execution_count": 21,
   "id": "0a935a86",
   "metadata": {},
   "outputs": [
    {
     "name": "stdout",
     "output_type": "stream",
     "text": [
      "1 2 3 4 5 6\n",
      "[6, 5, 4, 3, 2, 1]\n"
     ]
    }
   ],
   "source": [
    "def reverce_list(li):\n",
    "    for i in range(len(li)//2):\n",
    "        li[i],li[-i-1] = li[-i-1],li[i]\n",
    "        \n",
    "l = [int(x) for x in input().split()]\n",
    "reverce_list(l)\n",
    "print(l)"
   ]
  },
  {
   "cell_type": "code",
   "execution_count": 22,
   "id": "769684f3",
   "metadata": {},
   "outputs": [
    {
     "data": {
      "text/plain": [
       "[6, 5, 4, 3, 2, 1]"
      ]
     },
     "execution_count": 22,
     "metadata": {},
     "output_type": "execute_result"
    }
   ],
   "source": [
    "l"
   ]
  },
  {
   "cell_type": "code",
   "execution_count": 23,
   "id": "0c963cbd",
   "metadata": {},
   "outputs": [
    {
     "data": {
      "text/plain": [
       "[1, 2, 3, 4, 5, 6]"
      ]
     },
     "execution_count": 23,
     "metadata": {},
     "output_type": "execute_result"
    }
   ],
   "source": [
    "l[::-1]"
   ]
  },
  {
   "cell_type": "markdown",
   "id": "f3a67001",
   "metadata": {},
   "source": [
    "# find the unique in the list"
   ]
  },
  {
   "cell_type": "code",
   "execution_count": 41,
   "id": "3aa7eb64",
   "metadata": {},
   "outputs": [
    {
     "name": "stdout",
     "output_type": "stream",
     "text": [
      "1 1 1 2 1 1 1\n",
      "2\n"
     ]
    }
   ],
   "source": [
    "def find_unique(li):\n",
    "    \n",
    "    \n",
    "        \n",
    "l = [int(x) for x in input().split()]\n",
    "ans = find_unique(l)\n",
    "print(ans)"
   ]
  },
  {
   "cell_type": "markdown",
   "id": "37ea5bc1",
   "metadata": {},
   "source": [
    "# find the duplicate"
   ]
  },
  {
   "cell_type": "code",
   "execution_count": 46,
   "id": "e34014de",
   "metadata": {},
   "outputs": [
    {
     "name": "stdout",
     "output_type": "stream",
     "text": [
      "1 2 1 1 3 4\n",
      "1\n"
     ]
    }
   ],
   "source": [
    "def find_unique(li):\n",
    "    for i in li:\n",
    "        if li.count(i)>=2:\n",
    "            return i\n",
    "        \n",
    "l = [int(x) for x in input().split()]\n",
    "ans = find_unique(l)\n",
    "print(ans)"
   ]
  },
  {
   "cell_type": "markdown",
   "id": "2ef5ec72",
   "metadata": {},
   "source": [
    "# Interaction of two array"
   ]
  },
  {
   "cell_type": "code",
   "execution_count": 54,
   "id": "54a0c061",
   "metadata": {},
   "outputs": [
    {
     "name": "stdout",
     "output_type": "stream",
     "text": [
      "1 2 3 4 5\n",
      "1 2 6 7 8\n",
      "[1, 2]\n"
     ]
    }
   ],
   "source": [
    "def interaction(li1, li2):\n",
    "    li3 = []\n",
    "    for x in li1:\n",
    "        if x in li2:\n",
    "            li3.append(x)\n",
    "    return li3\n",
    "l1 = [int(x) for x in input().split()]\n",
    "l2 = [int(x) for x in input().split()]\n",
    "ans = interaction(l1,l2)\n",
    "print(ans)"
   ]
  }
 ],
 "metadata": {
  "kernelspec": {
   "display_name": "Python 3 (ipykernel)",
   "language": "python",
   "name": "python3"
  },
  "language_info": {
   "codemirror_mode": {
    "name": "ipython",
    "version": 3
   },
   "file_extension": ".py",
   "mimetype": "text/x-python",
   "name": "python",
   "nbconvert_exporter": "python",
   "pygments_lexer": "ipython3",
   "version": "3.8.1"
  }
 },
 "nbformat": 4,
 "nbformat_minor": 5
}
