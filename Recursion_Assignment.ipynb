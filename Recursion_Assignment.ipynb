{
 "cells": [
  {
   "cell_type": "markdown",
   "id": "18856cc0",
   "metadata": {},
   "source": [
    "# Geometric Sum"
   ]
  },
  {
   "cell_type": "code",
   "execution_count": 9,
   "id": "ddfa20ea",
   "metadata": {},
   "outputs": [],
   "source": [
    "def geometric_sum(n):\n",
    "    if n < 0:\n",
    "        return 0\n",
    "    return (1/pow(2,n)) + geometric_sum(n-1)"
   ]
  },
  {
   "cell_type": "code",
   "execution_count": 10,
   "id": "047084ec",
   "metadata": {},
   "outputs": [
    {
     "name": "stdout",
     "output_type": "stream",
     "text": [
      "4\n",
      "1.93750\n"
     ]
    }
   ],
   "source": [
    "n = int(input())\n",
    "re = geometric_sum(n)\n",
    "print(\"%.5f\"%re)"
   ]
  },
  {
   "cell_type": "markdown",
   "id": "2952bb1a",
   "metadata": {},
   "source": [
    "# Check is string is palindrum or not using recursion"
   ]
  },
  {
   "cell_type": "code",
   "execution_count": 16,
   "id": "4e69f7bd",
   "metadata": {},
   "outputs": [],
   "source": [
    "def is_palindrum(s,si,ei):\n",
    "    if len(s) == 0 or len(s) == 1:\n",
    "        return True\n",
    "    if si == ei:\n",
    "        return True\n",
    "    if s[si] != s[ei]:\n",
    "        return False\n",
    "    else:\n",
    "        return is_palindrum(s,si+1,ei-1)"
   ]
  },
  {
   "cell_type": "code",
   "execution_count": 19,
   "id": "f251d051",
   "metadata": {},
   "outputs": [
    {
     "data": {
      "text/plain": [
       "False"
      ]
     },
     "execution_count": 19,
     "metadata": {},
     "output_type": "execute_result"
    }
   ],
   "source": [
    "a = \"abcbad\"\n",
    "is_palindrum(a,0,len(a)-1)\n"
   ]
  },
  {
   "cell_type": "markdown",
   "id": "863c7cab",
   "metadata": {},
   "source": [
    "# Sum of digits"
   ]
  },
  {
   "cell_type": "code",
   "execution_count": 23,
   "id": "5ab8d41e",
   "metadata": {},
   "outputs": [],
   "source": [
    "def sum_of_di(n):\n",
    "    if n == 0:\n",
    "        return n\n",
    "    small =sum_of_di(n // 10)\n",
    "    return small + n%10"
   ]
  },
  {
   "cell_type": "code",
   "execution_count": 24,
   "id": "df318d28",
   "metadata": {},
   "outputs": [
    {
     "data": {
      "text/plain": [
       "15"
      ]
     },
     "execution_count": 24,
     "metadata": {},
     "output_type": "execute_result"
    }
   ],
   "source": [
    "n = 12345\n",
    "sum_of_di(n)"
   ]
  },
  {
   "cell_type": "markdown",
   "id": "5b8dc3d7",
   "metadata": {},
   "source": [
    "# Multiplication (Recursive)"
   ]
  },
  {
   "cell_type": "code",
   "execution_count": 36,
   "id": "b7c8457f",
   "metadata": {},
   "outputs": [],
   "source": [
    "def multi(n,m):\n",
    "    if m == 0 or n == 0:\n",
    "        return 0\n",
    "    if m > 0:\n",
    "        return n + multi(n,m-1)"
   ]
  },
  {
   "cell_type": "code",
   "execution_count": 39,
   "id": "837c3484",
   "metadata": {},
   "outputs": [
    {
     "name": "stdout",
     "output_type": "stream",
     "text": [
      "5\n",
      "3\n"
     ]
    },
    {
     "data": {
      "text/plain": [
       "15"
      ]
     },
     "execution_count": 39,
     "metadata": {},
     "output_type": "execute_result"
    }
   ],
   "source": [
    "n = int(input())\n",
    "m = int(input())\n",
    "multi(n,m)"
   ]
  },
  {
   "cell_type": "code",
   "execution_count": null,
   "id": "bf988861",
   "metadata": {},
   "outputs": [],
   "source": []
  }
 ],
 "metadata": {
  "kernelspec": {
   "display_name": "Python 3 (ipykernel)",
   "language": "python",
   "name": "python3"
  },
  "language_info": {
   "codemirror_mode": {
    "name": "ipython",
    "version": 3
   },
   "file_extension": ".py",
   "mimetype": "text/x-python",
   "name": "python",
   "nbconvert_exporter": "python",
   "pygments_lexer": "ipython3",
   "version": "3.8.1"
  }
 },
 "nbformat": 4,
 "nbformat_minor": 5
}
