{
 "cells": [
  {
   "cell_type": "code",
   "execution_count": 6,
   "id": "cbd30dbb",
   "metadata": {},
   "outputs": [
    {
     "name": "stdout",
     "output_type": "stream",
     "text": [
      "how many array element5\n",
      "1 2 3 4 5\n",
      "how many element:-2\n",
      "search for:-1\n",
      "('element is', 0)\n",
      "search for:-5\n",
      "('element is', 4)\n"
     ]
    }
   ],
   "source": [
    "\n",
    "from sys import stdin\n",
    "\n",
    "\n",
    "def binarySearch(arr, n, x) :\n",
    "    #Your code goes here\n",
    "    lower = 0\n",
    "    upper = len(arr) - 1\n",
    "    while lower <= upper:\n",
    "        mid = (lower+upper)//2\n",
    "        if x == arr[mid]:\n",
    "            return 'element is', mid\n",
    "        elif x < arr[mid]:\n",
    "            upper = mid - 1\n",
    "        else:\n",
    "            lower = mid + 1\n",
    "    return -1\n",
    "\n",
    "#Taking Input Using Fast I/O\n",
    "def takeInput() :\n",
    "    n = int(input(\"how many array element\"))\n",
    "    \n",
    "    if n == 0 :\n",
    "        return list(), 0\n",
    "\n",
    "    arr = [int(x) for x in input().split()]\n",
    "    return arr, n\n",
    "\n",
    "\n",
    "#main\n",
    "arr, n = takeInput()\n",
    "t = int(input('how many element:-'))\n",
    "\n",
    "while t > 0 :\n",
    "    \n",
    "    x = int(input('search for:-').strip())    \n",
    "    print(binarySearch(arr, n, x))\n",
    "\n",
    "    t -= 1"
   ]
  },
  {
   "cell_type": "code",
   "execution_count": null,
   "id": "f745249f",
   "metadata": {},
   "outputs": [],
   "source": []
  }
 ],
 "metadata": {
  "kernelspec": {
   "display_name": "Python 3 (ipykernel)",
   "language": "python",
   "name": "python3"
  },
  "language_info": {
   "codemirror_mode": {
    "name": "ipython",
    "version": 3
   },
   "file_extension": ".py",
   "mimetype": "text/x-python",
   "name": "python",
   "nbconvert_exporter": "python",
   "pygments_lexer": "ipython3",
   "version": "3.8.1"
  }
 },
 "nbformat": 4,
 "nbformat_minor": 5
}
