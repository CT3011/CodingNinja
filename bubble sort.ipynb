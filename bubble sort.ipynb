{
 "cells": [
  {
   "cell_type": "markdown",
   "id": "59280921",
   "metadata": {},
   "source": [
    "# Bubble Sort normal"
   ]
  },
  {
   "cell_type": "code",
   "execution_count": 5,
   "id": "a1206b59",
   "metadata": {},
   "outputs": [
    {
     "name": "stdout",
     "output_type": "stream",
     "text": [
      "how many arrays:-1\n",
      "how many element in array:-5\n",
      "21 31 20 14 65\n",
      "14 20 21 31 65 \n"
     ]
    }
   ],
   "source": [
    "# def bubbleSoer(a):\n",
    "#     for i in range(len(a)):\n",
    "#         for j in range(len(a)-1):\n",
    "#             if a[j] > a[j +1]:\n",
    "#                 a[j],a[j +1] = a[j+1], a[j]\n",
    "#     return a \n",
    "\n",
    "\n",
    "# print(bubbleSoer([21,2,31,3,22,1,1]))\n",
    "\n",
    "from sys import stdin\n",
    "\n",
    "def bubbleSort(arr, n) :\n",
    "    for i in range(len(arr)):\n",
    "        for j in range(len(arr)-1):\n",
    "            if arr[j] > arr[j + 1]:\n",
    "                arr[j], arr[j +1] = arr[j +1],arr[j]\n",
    "    return arr\n",
    "\n",
    "#Taking Input Using Fast I/O\n",
    "def takeInput() :\n",
    "    n = int(input('how many element in array:-'))\n",
    "    if n == 0 :\n",
    "        return list(), 0\n",
    "\n",
    "    arr = [int(x) for x in input().split(' ')]\n",
    "    return arr, n\n",
    "\n",
    "\n",
    "#to print the array/list\n",
    "def printList(arr, n) : \n",
    "    for i in range(n) :\n",
    "        print(arr[i], end = \" \")\n",
    "    print()\n",
    "\n",
    "\n",
    "#main\n",
    "t = int(input('how many arrays:-'))\n",
    "\n",
    "while t > 0 :\n",
    "    \n",
    "    arr, n = takeInput()\n",
    "    bubbleSort(arr, n)\n",
    "    printList(arr, n)\n",
    "\n",
    "    t-= 1"
   ]
  },
  {
   "cell_type": "markdown",
   "id": "dee7fa21",
   "metadata": {},
   "source": [
    "# bubble sort (N-1) len of array -1"
   ]
  },
  {
   "cell_type": "code",
   "execution_count": 7,
   "id": "9e912eea",
   "metadata": {},
   "outputs": [
    {
     "name": "stdout",
     "output_type": "stream",
     "text": [
      "how many arrays:-1\n",
      "how many element in array:-5\n",
      "21 23 24 25 21\n",
      "21 21 23 24 25 \n"
     ]
    }
   ],
   "source": [
    "# def bubbleSoer(a):\n",
    "#     for i in range(len(a)):\n",
    "#         for j in range(len(a)-1):\n",
    "#             if a[j] > a[j +1]:\n",
    "#                 a[j],a[j +1] = a[j+1], a[j]\n",
    "#     return a \n",
    "\n",
    "\n",
    "# print(bubbleSoer([21,2,31,3,22,1,1]))\n",
    "\n",
    "from sys import stdin\n",
    "\n",
    "def bubbleSort(arr, n) :\n",
    "    # lenth of array -1 is here\n",
    "    for i in range(len(arr)-1):\n",
    "        # after -1 in i loop len of array -1 -i\n",
    "        for j in range(len(arr)-1-i):\n",
    "            if arr[j] > arr[j + 1]:\n",
    "                arr[j], arr[j +1] = arr[j +1],arr[j]\n",
    "    return arr\n",
    "\n",
    "#Taking Input Using Fast I/O\n",
    "def takeInput() :\n",
    "    n = int(input('how many element in array:-'))\n",
    "    if n == 0 :\n",
    "        return list(), 0\n",
    "\n",
    "    arr = [int(x) for x in input().split(' ')]\n",
    "    return arr, n\n",
    "\n",
    "\n",
    "#to print the array/list\n",
    "def printList(arr, n) : \n",
    "    for i in range(n) :\n",
    "        print(arr[i], end = \" \")\n",
    "    print()\n",
    "\n",
    "\n",
    "#main\n",
    "t = int(input('how many arrays:-'))\n",
    "\n",
    "while t > 0 :\n",
    "    \n",
    "    arr, n = takeInput()\n",
    "    bubbleSort(arr, n)\n",
    "    printList(arr, n)\n",
    "\n",
    "    t-= 1"
   ]
  },
  {
   "cell_type": "code",
   "execution_count": null,
   "id": "230ab6c2",
   "metadata": {},
   "outputs": [],
   "source": []
  }
 ],
 "metadata": {
  "kernelspec": {
   "display_name": "Python 3 (ipykernel)",
   "language": "python",
   "name": "python3"
  },
  "language_info": {
   "codemirror_mode": {
    "name": "ipython",
    "version": 3
   },
   "file_extension": ".py",
   "mimetype": "text/x-python",
   "name": "python",
   "nbconvert_exporter": "python",
   "pygments_lexer": "ipython3",
   "version": "3.8.1"
  }
 },
 "nbformat": 4,
 "nbformat_minor": 5
}
