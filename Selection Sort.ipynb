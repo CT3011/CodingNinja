{
 "cells": [
  {
   "cell_type": "code",
   "execution_count": 7,
   "id": "5cd86075",
   "metadata": {},
   "outputs": [
    {
     "name": "stdout",
     "output_type": "stream",
     "text": [
      "hoe manay array to add:-2\n",
      "how many elements in array:-5\n",
      "1 2 4 1 2\n",
      "1 1 2 2 4 \n",
      "how many elements in array:-4\n",
      "21 10 31 2\n",
      "2 10 21 31 \n"
     ]
    }
   ],
   "source": [
    "# def selectionSort(a):\n",
    "#     for i in range(len(a)):\n",
    "#         mainindex = i\n",
    "#         for j in range(i+1, len(a)):\n",
    "#             if a[j] < a[mainindex]:\n",
    "#                 mainindex = j \n",
    "            \n",
    "#         a[i],a[mainindex] = a[mainindex],a[i]\n",
    "#     return a \n",
    "    \n",
    "# print(selectionSort([15,5,24,1,3,39,20,12]))\n",
    "\n",
    "\n",
    "from sys import stdin\n",
    "\n",
    "def selectionSort(arr, n) :\n",
    "    #Your code goes here\n",
    "    for i in range(len(arr)):\n",
    "        n = i \n",
    "        for j in range(i+1,len(arr)):\n",
    "            if arr[j] < arr[n]:\n",
    "                n = j\n",
    "        arr[i],arr[n] = arr[n],arr[i]\n",
    "    return arr\n",
    "\n",
    "\n",
    "#Taking Input Using Fast I/O\n",
    "def takeInput() :\n",
    "    n = int(input('how many elements in array:-'))\n",
    "    if n == 0 :\n",
    "        return list(), 0\n",
    "\n",
    "    arr = [int(x) for x in input().split(' ')]\n",
    "    return arr, n\n",
    "\n",
    "\n",
    "#to print the array/list\n",
    "def printList(arr, n) : \n",
    "    for i in range(n) :\n",
    "        print(arr[i], end = \" \")\n",
    "    print()\n",
    "\n",
    "\n",
    "#main\n",
    "t = int(input(\"hoe manay array to add:-\"))\n",
    "\n",
    "while t > 0 :\n",
    "    \n",
    "    arr, n = takeInput()\n",
    "    selectionSort(arr, n)\n",
    "    printList(arr, n)\n",
    "\n",
    "    t-= 1"
   ]
  },
  {
   "cell_type": "code",
   "execution_count": null,
   "id": "f42d3efe",
   "metadata": {},
   "outputs": [],
   "source": []
  }
 ],
 "metadata": {
  "kernelspec": {
   "display_name": "Python 3 (ipykernel)",
   "language": "python",
   "name": "python3"
  },
  "language_info": {
   "codemirror_mode": {
    "name": "ipython",
    "version": 3
   },
   "file_extension": ".py",
   "mimetype": "text/x-python",
   "name": "python",
   "nbconvert_exporter": "python",
   "pygments_lexer": "ipython3",
   "version": "3.8.1"
  }
 },
 "nbformat": 4,
 "nbformat_minor": 5
}
