{
 "cells": [
  {
   "cell_type": "code",
   "execution_count": 1,
   "id": "04a18e2a",
   "metadata": {},
   "outputs": [],
   "source": [
    "a = 1,2,3,4"
   ]
  },
  {
   "cell_type": "code",
   "execution_count": 2,
   "id": "652d9dbe",
   "metadata": {},
   "outputs": [
    {
     "data": {
      "text/plain": [
       "tuple"
      ]
     },
     "execution_count": 2,
     "metadata": {},
     "output_type": "execute_result"
    }
   ],
   "source": [
    "type(a)"
   ]
  },
  {
   "cell_type": "code",
   "execution_count": 7,
   "id": "5b01446c",
   "metadata": {},
   "outputs": [
    {
     "name": "stdout",
     "output_type": "stream",
     "text": [
      "(1, 2, 3, 4, 5)\n",
      "<class 'tuple'>\n"
     ]
    }
   ],
   "source": [
    "a = (1,2,3,4,5)\n",
    "print(a)\n",
    "print(type(a))"
   ]
  },
  {
   "cell_type": "code",
   "execution_count": 10,
   "id": "9beca13f",
   "metadata": {},
   "outputs": [
    {
     "data": {
      "text/plain": [
       "(1, 2, 3, 4, 5, 6, 7, 8)"
      ]
     },
     "execution_count": 10,
     "metadata": {},
     "output_type": "execute_result"
    }
   ],
   "source": [
    "# tuple is inmutable but you can concate it in new variable\n",
    "\n",
    "a = 1,2,3,4\n",
    "b = 5,6,7,8\n",
    "c = a + b\n",
    "c"
   ]
  },
  {
   "cell_type": "code",
   "execution_count": 20,
   "id": "17722ad8",
   "metadata": {},
   "outputs": [],
   "source": [
    "# if you have no idea about input you can use *more function it convert more inpur data in to a tuple\n",
    "def tuple_sum(a,b,*more):\n",
    "    print(a)\n",
    "    print(b)\n",
    "    print(more)\n",
    "    ans = a+b\n",
    "    for i in more:\n",
    "        ans = ans + i\n",
    "    return ans\n"
   ]
  },
  {
   "cell_type": "code",
   "execution_count": 21,
   "id": "b2c2aed6",
   "metadata": {},
   "outputs": [
    {
     "name": "stdout",
     "output_type": "stream",
     "text": [
      "4\n",
      "5\n",
      "()\n",
      "9\n"
     ]
    }
   ],
   "source": [
    "sum = tuple_sum(4,5)\n",
    "print(sum)"
   ]
  },
  {
   "cell_type": "code",
   "execution_count": 22,
   "id": "8ab9ee1c",
   "metadata": {},
   "outputs": [
    {
     "name": "stdout",
     "output_type": "stream",
     "text": [
      "3\n",
      "4\n",
      "(5, 6, 7, 8)\n",
      "33\n"
     ]
    }
   ],
   "source": [
    "sum = tuple_sum(3,4,5,6,7,8)\n",
    "print(sum)"
   ]
  },
  {
   "cell_type": "code",
   "execution_count": 23,
   "id": "8e79c557",
   "metadata": {},
   "outputs": [],
   "source": [
    "def sum2(a,b):\n",
    "    return a+b,a-b,a*b,a/b,a**b,a//b"
   ]
  },
  {
   "cell_type": "code",
   "execution_count": 27,
   "id": "252fb3c8",
   "metadata": {},
   "outputs": [
    {
     "name": "stdout",
     "output_type": "stream",
     "text": [
      "7 -1 12 0.75 81 0\n",
      "(7, -1, 12, 0.75, 81, 0)\n"
     ]
    }
   ],
   "source": [
    "ans,a,b,c,d,e = sum2(3,4)\n",
    "print(ans,a,b,c,d,e)\n",
    "ans2 = sum2(3,4)\n",
    "print(ans2)"
   ]
  },
  {
   "cell_type": "markdown",
   "id": "8133a4fa",
   "metadata": {},
   "source": [
    "# Dictionary"
   ]
  },
  {
   "cell_type": "code",
   "execution_count": 29,
   "id": "580b3414",
   "metadata": {},
   "outputs": [
    {
     "data": {
      "text/plain": [
       "{'the': 21, 'a': 33, 100: 'str'}"
      ]
     },
     "execution_count": 29,
     "metadata": {},
     "output_type": "execute_result"
    }
   ],
   "source": [
    "a = {\"the\": 21, \"a\": 33, 100:\"str\" }\n",
    "a"
   ]
  },
  {
   "cell_type": "code",
   "execution_count": 30,
   "id": "02feced1",
   "metadata": {},
   "outputs": [
    {
     "data": {
      "text/plain": [
       "3"
      ]
     },
     "execution_count": 30,
     "metadata": {},
     "output_type": "execute_result"
    }
   ],
   "source": [
    "len(a)"
   ]
  },
  {
   "cell_type": "code",
   "execution_count": 31,
   "id": "56c44680",
   "metadata": {},
   "outputs": [
    {
     "data": {
      "text/plain": [
       "{'the': 21, 'a': 33, 100: 'str'}"
      ]
     },
     "execution_count": 31,
     "metadata": {},
     "output_type": "execute_result"
    }
   ],
   "source": [
    "b = a.copy()\n",
    "b"
   ]
  },
  {
   "cell_type": "code",
   "execution_count": 32,
   "id": "abed8615",
   "metadata": {},
   "outputs": [
    {
     "data": {
      "text/plain": [
       "{'the': None, 'a': None, 'abc': None}"
      ]
     },
     "execution_count": 32,
     "metadata": {},
     "output_type": "execute_result"
    }
   ],
   "source": [
    "c = a.fromkeys([\"the\",\"a\",\"abc\"])\n",
    "c"
   ]
  },
  {
   "cell_type": "code",
   "execution_count": 34,
   "id": "be9b799b",
   "metadata": {},
   "outputs": [
    {
     "data": {
      "text/plain": [
       "{'the': 10, 'a': 10, 'abc': 10}"
      ]
     },
     "execution_count": 34,
     "metadata": {},
     "output_type": "execute_result"
    }
   ],
   "source": [
    "c = a.fromkeys([\"the\",\"a\",\"abc\"],10)\n",
    "c"
   ]
  },
  {
   "cell_type": "code",
   "execution_count": 35,
   "id": "4d7b4f70",
   "metadata": {},
   "outputs": [
    {
     "data": {
      "text/plain": [
       "{'the': 33, 'a': 21, 100: 'str'}"
      ]
     },
     "execution_count": 35,
     "metadata": {},
     "output_type": "execute_result"
    }
   ],
   "source": [
    "d = dict([(\"the\",33),(\"a\",21),(100,\"str\")])\n",
    "d"
   ]
  },
  {
   "cell_type": "markdown",
   "id": "ad694b03",
   "metadata": {},
   "source": [
    "# find k friquency string using dict"
   ]
  },
  {
   "cell_type": "code",
   "execution_count": 7,
   "id": "ab5f831c",
   "metadata": {},
   "outputs": [],
   "source": [
    "s = \"This is the word string having many many word\"\n",
    "k = 2"
   ]
  },
  {
   "cell_type": "code",
   "execution_count": 8,
   "id": "b9d62f85",
   "metadata": {},
   "outputs": [
    {
     "data": {
      "text/plain": [
       "'This is the word string having many many word'"
      ]
     },
     "execution_count": 8,
     "metadata": {},
     "output_type": "execute_result"
    }
   ],
   "source": [
    "s.split()\n",
    "s"
   ]
  },
  {
   "cell_type": "code",
   "execution_count": null,
   "id": "4bf3ac7e",
   "metadata": {},
   "outputs": [],
   "source": []
  }
 ],
 "metadata": {
  "kernelspec": {
   "display_name": "Python 3 (ipykernel)",
   "language": "python",
   "name": "python3"
  },
  "language_info": {
   "codemirror_mode": {
    "name": "ipython",
    "version": 3
   },
   "file_extension": ".py",
   "mimetype": "text/x-python",
   "name": "python",
   "nbconvert_exporter": "python",
   "pygments_lexer": "ipython3",
   "version": "3.8.1"
  }
 },
 "nbformat": 4,
 "nbformat_minor": 5
}
