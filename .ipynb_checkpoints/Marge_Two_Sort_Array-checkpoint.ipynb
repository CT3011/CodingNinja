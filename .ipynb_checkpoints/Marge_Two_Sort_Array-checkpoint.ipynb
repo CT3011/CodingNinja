{
 "cells": [
  {
   "cell_type": "markdown",
   "id": "89a50c3e",
   "metadata": {},
   "source": [
    "# Marge tow sorted arrays"
   ]
  },
  {
   "cell_type": "code",
   "execution_count": 1,
   "id": "0d6e3bd7",
   "metadata": {},
   "outputs": [
    {
     "name": "stdout",
     "output_type": "stream",
     "text": [
      "[1, 2, 2, 3, 3, 4, 5, 5, 6, 6, 7, 7, 8, 9]\n"
     ]
    }
   ],
   "source": [
    "def meargTwo(a1,a2):\n",
    "    i,j =0,0\n",
    "    len1,len2 = len(a1),len(a2)\n",
    "    new_arr=[]\n",
    "    \n",
    "    while i < len1 and j < len2:\n",
    "        if a1[i] < a2[j]:\n",
    "            new_arr.append(a1[i])\n",
    "            i = i +1 \n",
    "        else:\n",
    "            new_arr.append(a2[j])\n",
    "            j = j + 1 \n",
    "    while i < len1:\n",
    "        new_arr.append(a1[i])\n",
    "        i = i+1\n",
    "    while j < len2:\n",
    "        new_arr.append(a2[j])\n",
    "        j = j + 1\n",
    "    return new_arr\n",
    "    \n",
    "a1 = [1,2,3,4,5,6,7]\n",
    "a2 = [2,3,5,6,7,8,9]\n",
    "print(meargTwo(a1,a2))"
   ]
  },
  {
   "cell_type": "code",
   "execution_count": 4,
   "id": "c43e71ac",
   "metadata": {},
   "outputs": [
    {
     "name": "stdout",
     "output_type": "stream",
     "text": [
      "how many arrays:-1\n",
      "How many element of array:-4\n",
      "1 2 3 4\n",
      "How many element of array:-2\n",
      "2 5\n",
      "1 2 2 3 4 5 \n"
     ]
    }
   ],
   "source": [
    "\n",
    "\n",
    "from sys import stdin\n",
    "\n",
    "def merge(arr1, n, arr2, m) : \n",
    "    n,m =0,0\n",
    "    len1,len2 = len(arr1),len(arr2)\n",
    "    new_arr=[]\n",
    "    \n",
    "    while n < len1 and m < len2:\n",
    "        if arr1[n] < arr2[m]:\n",
    "            new_arr.append(arr1[n])\n",
    "            n = n + 1 \n",
    "        else:\n",
    "            new_arr.append(arr2[m])\n",
    "            m = m + 1 \n",
    "    while n < len1:\n",
    "        new_arr.append(arr1[n])\n",
    "        n = n + 1 \n",
    "    while m < len2:\n",
    "        new_arr.append(arr2[m])\n",
    "        m = m + 1 \n",
    "        \n",
    "    return new_arr\n",
    "\n",
    "\n",
    "\n",
    "#Taking Input Using Fast I/O\n",
    "def takeInput() :\n",
    "    n = int(input('How many element of array:-'))\n",
    "    if n != 0:\n",
    "        arr = [int(x) for x in input().split(' ')]\n",
    "        return arr, n\n",
    "\n",
    "    return list(), 0\n",
    "\n",
    "\n",
    "#to print the array/list\n",
    "def printList(arr, n) : \n",
    "    for i in range(n) :\n",
    "        print(arr[i], end = \" \")\n",
    "        \n",
    "    print()\n",
    "\n",
    "\n",
    "#main\n",
    "t = int(input(\"how many arrays:-\"))\n",
    "\n",
    "while t > 0 :\n",
    "\n",
    "    arr1, n = takeInput()\n",
    "    arr2, m = takeInput()\n",
    "\n",
    "    ans = merge(arr1, n, arr2, m)\n",
    "    printList(ans, (n + m))\n",
    "\n",
    "    t -= 1"
   ]
  },
  {
   "cell_type": "code",
   "execution_count": null,
   "id": "5de90a1d",
   "metadata": {},
   "outputs": [],
   "source": []
  },
  {
   "cell_type": "code",
   "execution_count": null,
   "id": "72f88aeb",
   "metadata": {},
   "outputs": [],
   "source": []
  }
 ],
 "metadata": {
  "kernelspec": {
   "display_name": "Python 3 (ipykernel)",
   "language": "python",
   "name": "python3"
  },
  "language_info": {
   "codemirror_mode": {
    "name": "ipython",
    "version": 3
   },
   "file_extension": ".py",
   "mimetype": "text/x-python",
   "name": "python",
   "nbconvert_exporter": "python",
   "pygments_lexer": "ipython3",
   "version": "3.8.1"
  }
 },
 "nbformat": 4,
 "nbformat_minor": 5
}
