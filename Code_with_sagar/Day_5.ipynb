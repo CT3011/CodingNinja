{
 "cells": [
  {
   "cell_type": "markdown",
   "id": "b935ddbf",
   "metadata": {},
   "source": [
    "Q.1 7 Up or Down Game\n",
    "\n",
    "\n",
    "You are tasked with creating a \"7 Up or Down\" game where the user has to guess \n",
    "\n",
    "whether a randomly generated number is above, below, or equal to 7. \n",
    "\n",
    "Your program should use the random module to generate a random number \n",
    "\n",
    "between 1 and 13 (inclusive). The user should then be prompted to make \n",
    "\n",
    "their guess. If the user's guess matches the random number, they win!\n",
    "\n",
    "Otherwise, they lose.\n",
    "\n",
    "\n",
    "Here are the specific requirements for your program:\n",
    "\n",
    "\n",
    "1. Your program should generate a random number between 1 and 13 (inclusive)\n",
    "\n",
    "using the random module.\n",
    "\n",
    "\n",
    "2. Your program should prompt the user to enter their guess (above, below,\n",
    "\n",
    "or equal to 7) and store it in a variable.\n",
    "\n",
    "\n",
    "3. Your program should compare the user's guess to the random number and\n",
    "\n",
    "print \"You win!\" if they guessed correctly, or \"Sorry, you lose.\" if they guessed incorrectly.\n",
    "\n",
    "\n",
    "4. Your program should handle invalid user input (e.g. if the user enters \n",
    "\n",
    "\"between\" instead of \"above\" or \"below\")."
   ]
  },
  {
   "cell_type": "code",
   "execution_count": 33,
   "id": "8e1f6bfb",
   "metadata": {},
   "outputs": [
    {
     "name": "stdout",
     "output_type": "stream",
     "text": [
      "enter the number above, below, or equal to 7? -asdasd\n",
      "Invalid syntax\n"
     ]
    }
   ],
   "source": [
    "import random\n",
    "com = random.randint(1,13)\n",
    "user_ans = input(\"enter the number above, below, or equal to 7? -\")\n",
    "if user_ans.lower() == \"above\" and com > 7:\n",
    "    print(\"You win! computer number is \",com)\n",
    "elif user_ans.lower() == \"below\" and com < 7:\n",
    "    print(\"You win! computer number is \",com)\n",
    "elif user_ans.lower() == \"equal\" and com == 7:\n",
    "    print(\"You win! computer number is \",com)\n",
    "elif user_ans.lower() != \"above\" and user_ans.lower() != \"below\" and user_ans.lower() != \"equal\":\n",
    "    print(\"Invalid syntax\")\n",
    "else:\n",
    "    print(\"Sorry, you lose! computer number is \",com)\n",
    "    "
   ]
  },
  {
   "cell_type": "code",
   "execution_count": null,
   "id": "f2301555",
   "metadata": {},
   "outputs": [],
   "source": []
  },
  {
   "cell_type": "code",
   "execution_count": null,
   "id": "22ea3b13",
   "metadata": {},
   "outputs": [],
   "source": []
  }
 ],
 "metadata": {
  "kernelspec": {
   "display_name": "Python 3 (ipykernel)",
   "language": "python",
   "name": "python3"
  },
  "language_info": {
   "codemirror_mode": {
    "name": "ipython",
    "version": 3
   },
   "file_extension": ".py",
   "mimetype": "text/x-python",
   "name": "python",
   "nbconvert_exporter": "python",
   "pygments_lexer": "ipython3",
   "version": "3.8.1"
  }
 },
 "nbformat": 4,
 "nbformat_minor": 5
}
