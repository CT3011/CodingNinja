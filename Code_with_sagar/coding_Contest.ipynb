{
 "cells": [
  {
   "cell_type": "markdown",
   "id": "4d37e9ff",
   "metadata": {},
   "source": [
    "Q.2 Ask a number from user. Print 'Yes' if the number is divisible by\n",
    "\n",
    "2,3 but not 8. Otherwise print 'No'"
   ]
  },
  {
   "cell_type": "code",
   "execution_count": 3,
   "id": "614ec857",
   "metadata": {},
   "outputs": [
    {
     "name": "stdout",
     "output_type": "stream",
     "text": [
      "Enter the number - 234\n",
      "Yes\n"
     ]
    }
   ],
   "source": [
    "# user input stored in user_number variable\n",
    "user_number = int(input(\"Enter the number - \"))\n",
    "\n",
    "# check if number is devesible by 2,3 but not 8\n",
    "if user_number % 2 == 0 and user_number % 3 == 0 and user_number % 8 != 0:\n",
    "    print(\"Yes\")\n",
    "else:\n",
    "    print(\"No\")"
   ]
  },
  {
   "cell_type": "markdown",
   "id": "98b6ce93",
   "metadata": {},
   "source": [
    "Q.3 Implement Rent Calculator in Python"
   ]
  },
  {
   "cell_type": "code",
   "execution_count": 4,
   "id": "d4ae22ed",
   "metadata": {},
   "outputs": [
    {
     "name": "stdout",
     "output_type": "stream",
     "text": [
      "How many days you will stay? 12\n",
      "Enter the rent amount - 1000\n",
      "The totle rent is:- 12000.0\n"
     ]
    }
   ],
   "source": [
    "# first input is int becouse day is a number\n",
    "numberOfDays = int(input(\"How many days you will stay? \"))\n",
    "# second input is in float becouse rent can be a floating number\n",
    "rentAmount = float(input(\"Enter the rent amount per day - \"))\n",
    "\n",
    "totle_rent = numberOfDays * rentAmount # calculate the totel of rent\n",
    "\n",
    "print(f\"The totle rent is:- {totle_rent}\")\n",
    "\n"
   ]
  },
  {
   "cell_type": "markdown",
   "id": "1d256998",
   "metadata": {},
   "source": [
    "Q.4 What have you learned since the start of this class till now, write the\n",
    "\n",
    "names of the topics and how was your overall experience in the class."
   ]
  },
  {
   "cell_type": "code",
   "execution_count": 5,
   "id": "8edaf77c",
   "metadata": {},
   "outputs": [
    {
     "name": "stdout",
     "output_type": "stream",
     "text": [
      "0\n"
     ]
    }
   ],
   "source": [
    "x = 3 \n",
    "if (x > 2):\n",
    "    x = x * 2;\n",
    "if (x > 4):\n",
    "    x = 0; \n",
    "print(x)\n"
   ]
  },
  {
   "cell_type": "code",
   "execution_count": 6,
   "id": "99ad453b",
   "metadata": {},
   "outputs": [
    {
     "name": "stdout",
     "output_type": "stream",
     "text": [
      "False\n"
     ]
    }
   ],
   "source": [
    "a = 3 \n",
    "\n",
    "b = (a != 3) \n",
    "\n",
    "print(b)"
   ]
  },
  {
   "cell_type": "markdown",
   "id": "2f4aadc7",
   "metadata": {},
   "source": [
    "Q.7 An extra day is added to the calendar almost every four years as\n",
    "\n",
    "February 29, and the day is called a leap day. A leap year contains a leap day."
   ]
  },
  {
   "cell_type": "code",
   "execution_count": 7,
   "id": "c096f8f1",
   "metadata": {},
   "outputs": [
    {
     "name": "stdout",
     "output_type": "stream",
     "text": [
      "enter the year: 2000\n",
      "2000 year is leap year\n"
     ]
    }
   ],
   "source": [
    "input_year = int(input(\"enter the year: \"))\n",
    "\n",
    "if (input_year % 4 == 0 and input_year % 100 != 0) or (input_year % 400 == 0):\n",
    "    print(f\"{input_year} year is leap year\")\n",
    "else:\n",
    "    print(f\"{input_year} year is not a leap year\")"
   ]
  },
  {
   "cell_type": "markdown",
   "id": "f5788764",
   "metadata": {},
   "source": [
    "Q.8 You are tasked with creating a program for a CWS contest results \n",
    "\n",
    "calculation system. The program should take in the following inputs from the user:\n",
    "\n",
    "Each question is of 5 marks."
   ]
  },
  {
   "cell_type": "code",
   "execution_count": 11,
   "id": "2d4231f5",
   "metadata": {},
   "outputs": [
    {
     "name": "stdout",
     "output_type": "stream",
     "text": [
      "How many number of questions in the contest? 10\n",
      "How many Number of correct answers given by contestant? 9\n",
      "Total marks earned: 45\n",
      "Percentage of total marks earned: 90.0 %\n",
      "Final grade: B\n"
     ]
    }
   ],
   "source": [
    "num_of_que = (int(input(\"How many number of questions in the contest? \")))\n",
    "num_of_ans = (int(input(\"How many Number of correct answers given by contestant? \")))\n",
    "\n",
    "# calculate The totel marks earned\n",
    "totle_marks = num_of_ans * 5\n",
    "\n",
    "# calculate the percentage of totel mark earned\n",
    "percentage = (totle_marks / (num_of_que * 5)) * 100\n",
    "\n",
    "# based on percentage define grade\n",
    "\n",
    "if percentage >= 91:\n",
    "    final_grade = \"A\"\n",
    "elif percentage >= 81:\n",
    "    final_grade = \"B\"\n",
    "elif percentage >= 71:\n",
    "    final_grade = \"C\"\n",
    "elif percentage >= 61:\n",
    "    final_grade = \"D\"\n",
    "else:\n",
    "    final_grade = \"F\"\n",
    "\n",
    "# display the results\n",
    "print(\"Total marks earned:\", totle_marks)\n",
    "print(\"Percentage of total marks earned:\", percentage, \"%\")\n",
    "print(\"Final grade:\", final_grade)"
   ]
  },
  {
   "cell_type": "code",
   "execution_count": null,
   "id": "e1d0e1f2",
   "metadata": {},
   "outputs": [],
   "source": []
  }
 ],
 "metadata": {
  "kernelspec": {
   "display_name": "Python 3 (ipykernel)",
   "language": "python",
   "name": "python3"
  },
  "language_info": {
   "codemirror_mode": {
    "name": "ipython",
    "version": 3
   },
   "file_extension": ".py",
   "mimetype": "text/x-python",
   "name": "python",
   "nbconvert_exporter": "python",
   "pygments_lexer": "ipython3",
   "version": "3.8.1"
  }
 },
 "nbformat": 4,
 "nbformat_minor": 5
}
