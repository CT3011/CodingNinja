{
 "cells": [
  {
   "cell_type": "markdown",
   "id": "ec7e50d6",
   "metadata": {},
   "source": [
    "Q.1 Write a program that asks the user for their favorite color and prints out a message \n",
    "\n",
    "depending on the color they choose. For example: \"Red is a bold color!\" or \"Blue is a\n",
    "\n",
    "calm color!\". Use at least 3 different colors in your program."
   ]
  },
  {
   "cell_type": "code",
   "execution_count": 4,
   "id": "16960f38",
   "metadata": {},
   "outputs": [
    {
     "name": "stdout",
     "output_type": "stream",
     "text": [
      "what is your faverate color-yellow\n",
      "Yelloe is a hot color!\n"
     ]
    }
   ],
   "source": [
    "a = input(\"what is your faverate color-\")\n",
    "a.lower()\n",
    "if a ==\"red\":\n",
    "    print(\"Red is a bold color!\")\n",
    "if a == \"blue\":\n",
    "    print(\"Blue is a calm color!\")\n",
    "if a == \"yellow\":\n",
    "    print(\"Yelloe is a hot color!\")"
   ]
  },
  {
   "cell_type": "markdown",
   "id": "0bdc846c",
   "metadata": {},
   "source": [
    "Q.2 Write a program that asks the user for a number and prints out whether the\n",
    "\n",
    "number is positive, negative, or zero."
   ]
  },
  {
   "cell_type": "code",
   "execution_count": 7,
   "id": "978a717a",
   "metadata": {},
   "outputs": [
    {
     "name": "stdout",
     "output_type": "stream",
     "text": [
      "0\n",
      "zero\n"
     ]
    }
   ],
   "source": [
    "num = int(input())\n",
    "if num > 0:\n",
    "    print(\"positive\")\n",
    "elif num < 0:\n",
    "    print(\"negative\")\n",
    "else:\n",
    "    print(\"zero\")"
   ]
  },
  {
   "cell_type": "markdown",
   "id": "7d343fa0",
   "metadata": {},
   "source": [
    "Q.3 Write a program that asks the user for a letter grade (A, B, C, D, or F) and prints \n",
    "\n",
    "out the corresponding GPA. For example, an A should print out as 4.0, a B as\n",
    "\n",
    "3.0, and so on."
   ]
  },
  {
   "cell_type": "code",
   "execution_count": null,
   "id": "1cbdf939",
   "metadata": {},
   "outputs": [],
   "source": []
  },
  {
   "cell_type": "markdown",
   "id": "1a63cbf6",
   "metadata": {},
   "source": [
    "Q.4 Ask 4 ages from user (age1, age2, age3, age4). Print out which age is\n",
    "\n",
    "the youngest."
   ]
  },
  {
   "cell_type": "code",
   "execution_count": 12,
   "id": "84a1fa2d",
   "metadata": {},
   "outputs": [
    {
     "name": "stdout",
     "output_type": "stream",
     "text": [
      "12\n",
      "22\n",
      "34\n",
      "6\n",
      "6 is youngest\n"
     ]
    }
   ],
   "source": [
    "age1 = int(input())\n",
    "age2 = int(input())\n",
    "age3 = int(input())\n",
    "age4 = int(input())\n",
    "if age1 <= age2 and age1 <= age3 and age1 <= age4:\n",
    "    print(f\"{age1} is youngest\")\n",
    "elif age2 <= age1 and age2 <= age3 and age2 <= age4:\n",
    "    print(f\"{age2} is youngest\")\n",
    "elif age3 <= age1 and age3 <= age2 and age3 <= age4:\n",
    "    print(f\"{age3} is youngest\")\n",
    "else:\n",
    "    print(f\"{age4} is youngest\")"
   ]
  },
  {
   "cell_type": "markdown",
   "id": "6673e35a",
   "metadata": {},
   "source": [
    "Q.5 Python Program to Generate a Random Number (take help of google)"
   ]
  },
  {
   "cell_type": "code",
   "execution_count": 30,
   "id": "b2a81bb5",
   "metadata": {},
   "outputs": [
    {
     "name": "stdout",
     "output_type": "stream",
     "text": [
      "Random number between 1 and 100: 53\n"
     ]
    }
   ],
   "source": [
    "import random\n",
    "random_number = random.randint(1, 100)\n",
    "\n",
    "print(\"Random number between 1 and 100:\", random_number)\n"
   ]
  },
  {
   "cell_type": "code",
   "execution_count": null,
   "id": "6bdc0302",
   "metadata": {},
   "outputs": [],
   "source": []
  }
 ],
 "metadata": {
  "kernelspec": {
   "display_name": "Python 3 (ipykernel)",
   "language": "python",
   "name": "python3"
  },
  "language_info": {
   "codemirror_mode": {
    "name": "ipython",
    "version": 3
   },
   "file_extension": ".py",
   "mimetype": "text/x-python",
   "name": "python",
   "nbconvert_exporter": "python",
   "pygments_lexer": "ipython3",
   "version": "3.8.1"
  }
 },
 "nbformat": 4,
 "nbformat_minor": 5
}
