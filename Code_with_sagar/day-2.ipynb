{
 "cells": [
  {
   "cell_type": "markdown",
   "id": "99f510e2",
   "metadata": {},
   "source": [
    "Q.1 Write a program to print your name with your surname."
   ]
  },
  {
   "cell_type": "code",
   "execution_count": 2,
   "id": "f8dd5529",
   "metadata": {},
   "outputs": [
    {
     "name": "stdout",
     "output_type": "stream",
     "text": [
      "Chirag Thengadi\n"
     ]
    }
   ],
   "source": [
    "name = \"Chirag\"\n",
    "surname = \"Thengadi\"\n",
    "print(name, surname)"
   ]
  },
  {
   "cell_type": "markdown",
   "id": "f32cd7c0",
   "metadata": {},
   "source": [
    "Q.2 Create three variables and print about you. (Name, age, and mobile number)"
   ]
  },
  {
   "cell_type": "code",
   "execution_count": 4,
   "id": "7f9a6f29",
   "metadata": {},
   "outputs": [
    {
     "name": "stdout",
     "output_type": "stream",
     "text": [
      "my name is Chirag \n",
      " I am  24 year old \n",
      " my mobile number is 3216549870\n"
     ]
    }
   ],
   "source": [
    "name = \"Chirag\"\n",
    "age = 24\n",
    "mobile = \"3216549870\"\n",
    "print(\"my name is\",name,\"\\n\",\"I am \", age, \"year old \\n my mobile number is\", mobile)"
   ]
  },
  {
   "cell_type": "markdown",
   "id": "8cd36a3b",
   "metadata": {},
   "source": [
    "Q.3 Write a python program to add two integers."
   ]
  },
  {
   "cell_type": "code",
   "execution_count": 7,
   "id": "07dea99d",
   "metadata": {},
   "outputs": [
    {
     "name": "stdout",
     "output_type": "stream",
     "text": [
      "22\n"
     ]
    }
   ],
   "source": [
    "a = 10\n",
    "b = 12\n",
    "c = a + b\n",
    "print(c)"
   ]
  },
  {
   "cell_type": "markdown",
   "id": "50950fdb",
   "metadata": {},
   "source": [
    "Q.4 Write a python program to change the type of data type.\n",
    "For example, age = 10, which means 10 is an integer, convert it into 10.0\n",
    " means(float) using type() function"
   ]
  },
  {
   "cell_type": "code",
   "execution_count": 8,
   "id": "516cf9d1",
   "metadata": {},
   "outputs": [
    {
     "name": "stdout",
     "output_type": "stream",
     "text": [
      "<class 'int'>\n",
      "<class 'float'>\n"
     ]
    }
   ],
   "source": [
    "print(type(age))\n",
    "age = float(age)\n",
    "print(type(age))"
   ]
  },
  {
   "cell_type": "markdown",
   "id": "96da6486",
   "metadata": {},
   "source": [
    "Q.5 Write a python program to create a list data type and store at least 3\n",
    "\n",
    "values, like name, age and number."
   ]
  },
  {
   "cell_type": "code",
   "execution_count": 9,
   "id": "3b824462",
   "metadata": {},
   "outputs": [
    {
     "name": "stdout",
     "output_type": "stream",
     "text": [
      "['Chirag', 24, 3216549870]\n"
     ]
    }
   ],
   "source": [
    "li = [\"Chirag\",24,3216549870]\n",
    "print(li)"
   ]
  }
 ],
 "metadata": {
  "kernelspec": {
   "display_name": "Python 3 (ipykernel)",
   "language": "python",
   "name": "python3"
  },
  "language_info": {
   "codemirror_mode": {
    "name": "ipython",
    "version": 3
   },
   "file_extension": ".py",
   "mimetype": "text/x-python",
   "name": "python",
   "nbconvert_exporter": "python",
   "pygments_lexer": "ipython3",
   "version": "3.8.1"
  }
 },
 "nbformat": 4,
 "nbformat_minor": 5
}
