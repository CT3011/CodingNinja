{
 "cells": [
  {
   "cell_type": "code",
   "execution_count": 1,
   "id": "06f6e7e3",
   "metadata": {},
   "outputs": [
    {
     "name": "stdout",
     "output_type": "stream",
     "text": [
      "-5\n"
     ]
    }
   ],
   "source": [
    " print(-18 // 4)\n",
    "    "
   ]
  },
  {
   "cell_type": "code",
   "execution_count": 2,
   "id": "30047234",
   "metadata": {},
   "outputs": [
    {
     "name": "stdout",
     "output_type": "stream",
     "text": [
      "216\n"
     ]
    }
   ],
   "source": [
    " print(2 * 3 ** 3 * 4)"
   ]
  },
  {
   "cell_type": "code",
   "execution_count": 3,
   "id": "a80c648c",
   "metadata": {},
   "outputs": [
    {
     "name": "stdout",
     "output_type": "stream",
     "text": [
      "2\n"
     ]
    }
   ],
   "source": [
    " print(10 - 4 * 2)"
   ]
  },
  {
   "cell_type": "code",
   "execution_count": 4,
   "id": "e2fcdbfa",
   "metadata": {},
   "outputs": [
    {
     "name": "stdout",
     "output_type": "stream",
     "text": [
      "True\n"
     ]
    }
   ],
   "source": [
    "a = 6\n",
    "\n",
    "b = 10\n",
    "\n",
    "print( a == 6 )"
   ]
  },
  {
   "cell_type": "code",
   "execution_count": 5,
   "id": "1f6a902c",
   "metadata": {},
   "outputs": [
    {
     "name": "stdout",
     "output_type": "stream",
     "text": [
      "True\n"
     ]
    }
   ],
   "source": [
    "a = 6\n",
    "\n",
    "b = 10\n",
    "\n",
    "print( not ( b == 6 ) )"
   ]
  },
  {
   "cell_type": "code",
   "execution_count": 6,
   "id": "4405da6c",
   "metadata": {},
   "outputs": [
    {
     "name": "stdout",
     "output_type": "stream",
     "text": [
      "True\n"
     ]
    }
   ],
   "source": [
    "a = 6\n",
    "\n",
    "b = 10\n",
    "\n",
    "print( a == 10 or b == 10 )"
   ]
  },
  {
   "cell_type": "code",
   "execution_count": 7,
   "id": "b47c1e0d",
   "metadata": {},
   "outputs": [
    {
     "name": "stdout",
     "output_type": "stream",
     "text": [
      "10\n"
     ]
    }
   ],
   "source": [
    "a = 6\n",
    "\n",
    "b = 10\n",
    "\n",
    "print( a == 6 and 10 )"
   ]
  },
  {
   "cell_type": "code",
   "execution_count": 8,
   "id": "fe86c4c2",
   "metadata": {},
   "outputs": [
    {
     "name": "stdout",
     "output_type": "stream",
     "text": [
      "True\n"
     ]
    }
   ],
   "source": [
    "a = 6\n",
    "\n",
    "b = 10\n",
    "\n",
    "print( not a == 10 and b == 10 )"
   ]
  },
  {
   "cell_type": "code",
   "execution_count": 9,
   "id": "b513fc75",
   "metadata": {},
   "outputs": [
    {
     "name": "stdout",
     "output_type": "stream",
     "text": [
      "False\n"
     ]
    }
   ],
   "source": [
    "a = 6\n",
    "\n",
    "b = 10\n",
    "\n",
    "print( a == 10 or not b == 10 )"
   ]
  },
  {
   "cell_type": "code",
   "execution_count": 10,
   "id": "124c58d9",
   "metadata": {},
   "outputs": [
    {
     "name": "stdout",
     "output_type": "stream",
     "text": [
      "True\n"
     ]
    }
   ],
   "source": [
    "a = 6\n",
    "\n",
    "b = 10\n",
    "\n",
    "print( a == 6 and (not a == 10) )"
   ]
  },
  {
   "cell_type": "markdown",
   "id": "87181f89",
   "metadata": {},
   "source": [
    "Q.5 Write a python program to find minimum of two numbers. Ask numbers from user."
   ]
  },
  {
   "cell_type": "code",
   "execution_count": 12,
   "id": "96542459",
   "metadata": {},
   "outputs": [
    {
     "name": "stdout",
     "output_type": "stream",
     "text": [
      "5 \n",
      "4\n",
      "4 is the minimum number\n"
     ]
    }
   ],
   "source": [
    "a = int(input())\n",
    "b = int(input())\n",
    "if a < b:\n",
    "    print(f\"{a} is the minimum number\")\n",
    "elif b < a:\n",
    "    print(f\"{b} is the minimum number\")\n",
    "else:\n",
    "    print(f\"{a} and {b} Both are equel\")"
   ]
  },
  {
   "cell_type": "markdown",
   "id": "e9f987b2",
   "metadata": {},
   "source": [
    "Q.6 Write a python program to convert temperature from Celsius to Fahrenheit. \n",
    "\n",
    "Ask Celsius from User."
   ]
  },
  {
   "cell_type": "code",
   "execution_count": 15,
   "id": "bdfb3c48",
   "metadata": {},
   "outputs": [
    {
     "name": "stdout",
     "output_type": "stream",
     "text": [
      "type a celsius -32\n",
      "32Celsius to Fahrenheit is 89.6\n"
     ]
    }
   ],
   "source": [
    "cel = int(input(\"type a celsius -\"))\n",
    "fah = ( cel * 9/5 ) + 32\n",
    "print(f\"{cel} Celsius to Fahrenheit is {fah}\")"
   ]
  },
  {
   "cell_type": "markdown",
   "id": "1177dcd2",
   "metadata": {},
   "source": [
    "Q.7 Ask 3 numbers from User and Calculate the Average."
   ]
  },
  {
   "cell_type": "code",
   "execution_count": 17,
   "id": "62f41088",
   "metadata": {},
   "outputs": [
    {
     "name": "stdout",
     "output_type": "stream",
     "text": [
      "num 1 is - 10\n",
      "num 2 is - 20\n",
      "num 3 is - 30\n",
      "20.0\n"
     ]
    }
   ],
   "source": [
    "a = int(input(\"num 1 is - \"))\n",
    "b = int(input(\"num 2 is - \"))\n",
    "c = int(input(\"num 3 is - \"))\n",
    "ans = (a+b+c)/3\n",
    "print(ans)"
   ]
  },
  {
   "cell_type": "markdown",
   "id": "a2cd0084",
   "metadata": {},
   "source": [
    "Q.8 Ask number of games played in a tournament. Ask the user number of\n",
    "\n",
    "games won and number of games loss. Calculate number of tie and total\n",
    "\n",
    "Points. (1 win= 4 points, 1 tie =2 points)"
   ]
  },
  {
   "cell_type": "code",
   "execution_count": 22,
   "id": "faba3000",
   "metadata": {},
   "outputs": [
    {
     "name": "stdout",
     "output_type": "stream",
     "text": [
      "how many games you played in a tournament? - 10\n",
      "how many number of games you won? - 10\n",
      "how many number of games you loss? - 0\n",
      "your point is 40\n",
      "totel points is 40\n"
     ]
    }
   ],
   "source": [
    "game_played = int(input(\"how many games you played in a tournament? - \"))\n",
    "game_won_number = int(input(\"how many number of games you won? - \"))\n",
    "game_loss_number = int(input(\"how many number of games you loss? - \"))\n",
    "game_tie = game_played - game_won_number - game_loss_number\n",
    "point = 0\n",
    "point2 = 0\n",
    "totel = 0\n",
    "if game_won_number != 0:\n",
    "    point = game_won_number * 4\n",
    "    print(f\"your point is {point}\")\n",
    "if game_tie != 0:\n",
    "    point2 = game_tie * 2\n",
    "    print(f\"your point is {point2}\")\n",
    "totel = point + point2\n",
    "print(f\"totel points is {totel}\")\n",
    "        \n"
   ]
  },
  {
   "cell_type": "code",
   "execution_count": null,
   "id": "e37056a4",
   "metadata": {},
   "outputs": [],
   "source": []
  }
 ],
 "metadata": {
  "kernelspec": {
   "display_name": "Python 3 (ipykernel)",
   "language": "python",
   "name": "python3"
  },
  "language_info": {
   "codemirror_mode": {
    "name": "ipython",
    "version": 3
   },
   "file_extension": ".py",
   "mimetype": "text/x-python",
   "name": "python",
   "nbconvert_exporter": "python",
   "pygments_lexer": "ipython3",
   "version": "3.8.1"
  }
 },
 "nbformat": 4,
 "nbformat_minor": 5
}
