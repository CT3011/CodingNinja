{
 "cells": [
  {
   "cell_type": "markdown",
   "id": "46931e34",
   "metadata": {},
   "source": [
    "# Iterative way Factroial"
   ]
  },
  {
   "cell_type": "code",
   "execution_count": 5,
   "id": "a3e31d7b",
   "metadata": {},
   "outputs": [
    {
     "name": "stdout",
     "output_type": "stream",
     "text": [
      "5\n",
      "120\n"
     ]
    }
   ],
   "source": [
    "n = int(input())\n",
    "j=1\n",
    "for i in range(1, n+1):\n",
    "    j = j * i\n",
    "print(j)"
   ]
  },
  {
   "cell_type": "markdown",
   "id": "6c0efbd2",
   "metadata": {},
   "source": [
    "# Recursivw way to solver it"
   ]
  },
  {
   "cell_type": "code",
   "execution_count": 7,
   "id": "86973193",
   "metadata": {},
   "outputs": [],
   "source": [
    "def fac(n):\n",
    "    if n == 0:\n",
    "        return 1\n",
    "    return n * fac(n-1)"
   ]
  },
  {
   "cell_type": "code",
   "execution_count": 8,
   "id": "c43510e9",
   "metadata": {},
   "outputs": [
    {
     "name": "stdout",
     "output_type": "stream",
     "text": [
      "5\n"
     ]
    },
    {
     "data": {
      "text/plain": [
       "120"
      ]
     },
     "execution_count": 8,
     "metadata": {},
     "output_type": "execute_result"
    }
   ],
   "source": [
    "n = int(input())\n",
    "fac(n)"
   ]
  },
  {
   "cell_type": "markdown",
   "id": "8bb4f6a2",
   "metadata": {},
   "source": [
    "# sum of n natural num Iterative way"
   ]
  },
  {
   "cell_type": "code",
   "execution_count": 11,
   "id": "1806c810",
   "metadata": {},
   "outputs": [
    {
     "name": "stdout",
     "output_type": "stream",
     "text": [
      "5\n",
      "15\n"
     ]
    }
   ],
   "source": [
    "n = int(input())\n",
    "j = 0\n",
    "for i in range(1 ,n +1):\n",
    "    j = j + i\n",
    "print(j)"
   ]
  },
  {
   "cell_type": "markdown",
   "id": "138ba528",
   "metadata": {},
   "source": [
    "# sum of n natural num Recursive way"
   ]
  },
  {
   "cell_type": "code",
   "execution_count": 12,
   "id": "7009a22b",
   "metadata": {},
   "outputs": [],
   "source": [
    "def se(n):\n",
    "    if n == 0:\n",
    "        return 0\n",
    "    return n + se(n-1)\n"
   ]
  },
  {
   "cell_type": "code",
   "execution_count": 13,
   "id": "00c221b2",
   "metadata": {},
   "outputs": [
    {
     "name": "stdout",
     "output_type": "stream",
     "text": [
      "5\n"
     ]
    },
    {
     "data": {
      "text/plain": [
       "15"
      ]
     },
     "execution_count": 13,
     "metadata": {},
     "output_type": "execute_result"
    }
   ],
   "source": [
    "n = int(input())\n",
    "se(n)"
   ]
  },
  {
   "cell_type": "markdown",
   "id": "6c7815b0",
   "metadata": {},
   "source": [
    "# RECURSION 02_09"
   ]
  },
  {
   "cell_type": "markdown",
   "id": "834af91b",
   "metadata": {},
   "source": [
    "# Print first n natural numbers Iterative"
   ]
  },
  {
   "cell_type": "code",
   "execution_count": 2,
   "id": "cb54c47c",
   "metadata": {},
   "outputs": [
    {
     "name": "stdout",
     "output_type": "stream",
     "text": [
      "5\n",
      "1\n",
      "2\n",
      "3\n",
      "4\n",
      "5\n"
     ]
    }
   ],
   "source": [
    "n = int(input())\n",
    "\n",
    "for i in range(1,n+1):\n",
    "    print(i)"
   ]
  },
  {
   "cell_type": "markdown",
   "id": "b9e66656",
   "metadata": {},
   "source": [
    "# Recursive way"
   ]
  },
  {
   "cell_type": "code",
   "execution_count": 16,
   "id": "449cf79f",
   "metadata": {},
   "outputs": [],
   "source": [
    "def num(n):\n",
    "    if n == 0:\n",
    "        return\n",
    "    num(n -1)\n",
    "    print(n)\n",
    "    return "
   ]
  },
  {
   "cell_type": "code",
   "execution_count": 17,
   "id": "17f28e00",
   "metadata": {},
   "outputs": [],
   "source": [
    "def rev(n):\n",
    "    if n==0:\n",
    "        return \n",
    "    print(n)\n",
    "    rev(n-1)"
   ]
  },
  {
   "cell_type": "code",
   "execution_count": 18,
   "id": "143dda30",
   "metadata": {},
   "outputs": [
    {
     "name": "stdout",
     "output_type": "stream",
     "text": [
      "5\n",
      "1\n",
      "2\n",
      "3\n",
      "4\n",
      "5\n",
      "None\n",
      "5\n",
      "4\n",
      "3\n",
      "2\n",
      "1\n",
      "None\n"
     ]
    }
   ],
   "source": [
    "n = int(input())\n",
    "print(num(n))\n",
    "print(rev(n))"
   ]
  },
  {
   "cell_type": "markdown",
   "id": "b468fb5f",
   "metadata": {},
   "source": [
    "# RECURSION 5_09"
   ]
  },
  {
   "cell_type": "markdown",
   "id": "ab15e24c",
   "metadata": {},
   "source": [
    "# n factorial practic"
   ]
  },
  {
   "cell_type": "code",
   "execution_count": 32,
   "id": "e5046502",
   "metadata": {},
   "outputs": [],
   "source": [
    "def fac(n):\n",
    "    if n == 0:\n",
    "        return 1\n",
    "    return n * fac(n-1)"
   ]
  },
  {
   "cell_type": "code",
   "execution_count": 33,
   "id": "1f7f409c",
   "metadata": {},
   "outputs": [
    {
     "name": "stdout",
     "output_type": "stream",
     "text": [
      "5\n"
     ]
    },
    {
     "data": {
      "text/plain": [
       "120"
      ]
     },
     "execution_count": 33,
     "metadata": {},
     "output_type": "execute_result"
    }
   ],
   "source": [
    "n = int(input())\n",
    "fac(n)"
   ]
  },
  {
   "cell_type": "code",
   "execution_count": null,
   "id": "1a603ff6",
   "metadata": {},
   "outputs": [],
   "source": [
    "j = 1\n",
    "for i in range(1,n+1):\n",
    "    "
   ]
  },
  {
   "cell_type": "code",
   "execution_count": 54,
   "id": "48e0592b",
   "metadata": {},
   "outputs": [],
   "source": [
    "# power of n to m iterative anf recursive\n",
    "\n",
    "# j = 1\n",
    "# for i in range(b):\n",
    "#     j *= a\n",
    "# print(j)\n",
    "def mac(n,m):\n",
    "    if m == 0:\n",
    "        return 1\n",
    "    ge = n*mac(n,m-1)\n",
    "    return ge\n",
    "\n"
   ]
  },
  {
   "cell_type": "code",
   "execution_count": 55,
   "id": "49f2d090",
   "metadata": {},
   "outputs": [
    {
     "name": "stdout",
     "output_type": "stream",
     "text": [
      "5\n",
      "3\n"
     ]
    },
    {
     "data": {
      "text/plain": [
       "125"
      ]
     },
     "execution_count": 55,
     "metadata": {},
     "output_type": "execute_result"
    }
   ],
   "source": [
    "a = int(input())\n",
    "b = int(input())\n",
    "mac(a,b)"
   ]
  },
  {
   "cell_type": "code",
   "execution_count": 59,
   "id": "dbd9ce05",
   "metadata": {},
   "outputs": [
    {
     "name": "stdout",
     "output_type": "stream",
     "text": [
      "5\n",
      "1\n",
      "1\n",
      "2\n",
      "3\n",
      "5\n"
     ]
    }
   ],
   "source": [
    "# finonacci number for n iterative and recursive\n",
    "n = int(input())\n",
    "a = 0\n",
    "b = 1\n",
    "c = 1\n",
    "for i in range(n):\n",
    "    c = a + b\n",
    "    b = a\n",
    "    a = c\n",
    "    print(c)"
   ]
  },
  {
   "cell_type": "code",
   "execution_count": 70,
   "id": "4d7b8491",
   "metadata": {},
   "outputs": [],
   "source": [
    "def fibo(n):\n",
    "    if n == 1 or n == 2:\n",
    "        return 1\n",
    "    \n",
    "    return fibo(n-1) + fibo(n-2)"
   ]
  },
  {
   "cell_type": "code",
   "execution_count": 71,
   "id": "508485ec",
   "metadata": {},
   "outputs": [
    {
     "name": "stdout",
     "output_type": "stream",
     "text": [
      "4\n"
     ]
    },
    {
     "data": {
      "text/plain": [
       "3"
      ]
     },
     "execution_count": 71,
     "metadata": {},
     "output_type": "execute_result"
    }
   ],
   "source": [
    "n =int(input())\n",
    "fibo(n)"
   ]
  },
  {
   "cell_type": "markdown",
   "id": "34da3334",
   "metadata": {},
   "source": [
    "# 07_09  Chack list is Shorted or Not"
   ]
  },
  {
   "cell_type": "code",
   "execution_count": 4,
   "id": "42a6029c",
   "metadata": {},
   "outputs": [],
   "source": [
    "def li(a):\n",
    "    l = len(a)\n",
    "    if l ==0 or l ==1:\n",
    "        return True\n",
    "    \n",
    "    if a[0] > a[1]:\n",
    "        return False\n",
    "    \n",
    "    small = a[1:]\n",
    "    isSmaller = li(small)\n",
    "    return isSmaller"
   ]
  },
  {
   "cell_type": "code",
   "execution_count": 6,
   "id": "00b8f1ec",
   "metadata": {},
   "outputs": [
    {
     "data": {
      "text/plain": [
       "False"
      ]
     },
     "execution_count": 6,
     "metadata": {},
     "output_type": "execute_result"
    }
   ],
   "source": [
    "a = [1,2,3,40,5,6,7,8]\n",
    "li(a)"
   ]
  },
  {
   "cell_type": "markdown",
   "id": "927db0d2",
   "metadata": {},
   "source": [
    "# Sum of List Recursion "
   ]
  },
  {
   "cell_type": "code",
   "execution_count": 11,
   "id": "f554eb96",
   "metadata": {},
   "outputs": [],
   "source": [
    "def su(arr):\n",
    "    l = len(arr)\n",
    "    if l == 0 or l == 1:\n",
    "        return arr[0]\n",
    "    isSmall = arr[0] + su(arr[1:])\n",
    "    return isSmall"
   ]
  },
  {
   "cell_type": "code",
   "execution_count": 12,
   "id": "b7ab4492",
   "metadata": {},
   "outputs": [
    {
     "data": {
      "text/plain": [
       "72"
      ]
     },
     "execution_count": 12,
     "metadata": {},
     "output_type": "execute_result"
    }
   ],
   "source": [
    "a = [1,2,3,40,5,6,7,8]\n",
    "su(a)"
   ]
  },
  {
   "cell_type": "markdown",
   "id": "39c7b70c",
   "metadata": {},
   "source": [
    "# Chack Num in ARRAY"
   ]
  },
  {
   "cell_type": "code",
   "execution_count": 14,
   "id": "676f717b",
   "metadata": {},
   "outputs": [
    {
     "name": "stdout",
     "output_type": "stream",
     "text": [
      "10\n",
      "21 22 46 12 61 21 33 16 99 96\n",
      "25\n",
      "[22, 46, 12, 61, 21, 33, 16, 99, 96]\n",
      "[46, 12, 61, 21, 33, 16, 99, 96]\n",
      "[12, 61, 21, 33, 16, 99, 96]\n",
      "[61, 21, 33, 16, 99, 96]\n",
      "[21, 33, 16, 99, 96]\n",
      "[33, 16, 99, 96]\n",
      "[16, 99, 96]\n",
      "[99, 96]\n",
      "[96]\n",
      "[]\n",
      "false\n"
     ]
    }
   ],
   "source": [
    "def checkNumber(arr, x):\n",
    "    # Please add your code here\n",
    "    l = len(arr)\n",
    "    if l == 0:\n",
    "        return False\n",
    "    if arr[0] == x:\n",
    "        return True\n",
    "    print(arr[1:])\n",
    "    small = checkNumber(arr[1:], x)\n",
    "    return small\n",
    "    \n",
    "    \n",
    "\n",
    "# Main\n",
    "from sys import setrecursionlimit\n",
    "setrecursionlimit(11000)\n",
    "n=int(input())\n",
    "arr=list(int(i) for i in input().strip().split(' '))\n",
    "x=int(input())\n",
    "if checkNumber(arr, x):\n",
    "    print('true')\n",
    "else:\n",
    "    print('false')\n"
   ]
  },
  {
   "cell_type": "code",
   "execution_count": null,
   "id": "d92a3a0b",
   "metadata": {},
   "outputs": [],
   "source": []
  }
 ],
 "metadata": {
  "kernelspec": {
   "display_name": "Python 3 (ipykernel)",
   "language": "python",
   "name": "python3"
  },
  "language_info": {
   "codemirror_mode": {
    "name": "ipython",
    "version": 3
   },
   "file_extension": ".py",
   "mimetype": "text/x-python",
   "name": "python",
   "nbconvert_exporter": "python",
   "pygments_lexer": "ipython3",
   "version": "3.8.1"
  }
 },
 "nbformat": 4,
 "nbformat_minor": 5
}
