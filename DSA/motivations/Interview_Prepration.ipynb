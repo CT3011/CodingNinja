{
 "cells": [
  {
   "cell_type": "code",
   "execution_count": 14,
   "id": "235968a4",
   "metadata": {},
   "outputs": [
    {
     "name": "stdout",
     "output_type": "stream",
     "text": [
      "5\n",
      "4\n",
      "5\n"
     ]
    }
   ],
   "source": [
    "# max in two numbers\n",
    "a =int(input())\n",
    "b =int(input())\n",
    "\n",
    "if a > b:\n",
    "    print(a)\n",
    "else:\n",
    "    print(b)"
   ]
  },
  {
   "cell_type": "code",
   "execution_count": 4,
   "id": "bb05c7eb",
   "metadata": {},
   "outputs": [
    {
     "name": "stdout",
     "output_type": "stream",
     "text": [
      "5\n",
      "120\n"
     ]
    }
   ],
   "source": [
    "# factrioal\n",
    "a =int(input())\n",
    "j = 1\n",
    "for i in range(1,a+1):\n",
    "    j = j * i\n",
    "print(j)"
   ]
  },
  {
   "cell_type": "code",
   "execution_count": 5,
   "id": "0540ceb6",
   "metadata": {},
   "outputs": [
    {
     "name": "stdout",
     "output_type": "stream",
     "text": [
      "5\n"
     ]
    },
    {
     "data": {
      "text/plain": [
       "120"
      ]
     },
     "execution_count": 5,
     "metadata": {},
     "output_type": "execute_result"
    }
   ],
   "source": [
    "def fac(a):\n",
    "    if a == 0:\n",
    "        return 1\n",
    "    return a * fac(a-1)\n",
    "a = int(input())\n",
    "fac(a)"
   ]
  },
  {
   "cell_type": "code",
   "execution_count": 6,
   "id": "dba0470c",
   "metadata": {},
   "outputs": [
    {
     "name": "stdout",
     "output_type": "stream",
     "text": [
      "price10000\n",
      "time5\n",
      "rate5\n",
      "2500.0\n"
     ]
    }
   ],
   "source": [
    "# We need to find simple interest on Rs. 10,000 at the rate of 5% for 5 units of time.\n",
    "p = int(input('price'))\n",
    "t = int(input(\"time\"))\n",
    "r = int(input('rate'))\n",
    "c = (p*t*r)/100\n",
    "print(c)"
   ]
  },
  {
   "cell_type": "code",
   "execution_count": 8,
   "id": "4a471726",
   "metadata": {},
   "outputs": [
    {
     "name": "stdout",
     "output_type": "stream",
     "text": [
      "133.0992000000001\n"
     ]
    }
   ],
   "source": [
    "\n",
    "# Python code\n",
    "# To find compound interest\n",
    " \n",
    "# inputs\n",
    "p= 1200   # principle amount\n",
    "t= 2      # time\n",
    "r= 5.4    # rate\n",
    "# calculates the compound interest\n",
    "a=p*(1+(r/100))**t  # formula for calculating amount\n",
    "ci=a-p  # compound interest = amount - principal amount\n",
    "# printing compound interest value\n",
    "print(ci)"
   ]
  },
  {
   "cell_type": "code",
   "execution_count": 10,
   "id": "a6174b0f",
   "metadata": {},
   "outputs": [
    {
     "name": "stdout",
     "output_type": "stream",
     "text": [
      "153\n",
      "yes\n"
     ]
    }
   ],
   "source": [
    "# armestrong\n",
    "n = int(input())\n",
    "s = n\n",
    "d = len(str(n))\n",
    "sum = 0\n",
    "while n != 0:\n",
    "    r = n % 10\n",
    "    sum = sum + (r**d)\n",
    "    n = n//10\n",
    "if s == sum:\n",
    "    print('yes')\n",
    "else:\n",
    "    print('no')\n",
    "    "
   ]
  },
  {
   "cell_type": "code",
   "execution_count": 14,
   "id": "2436c5b1",
   "metadata": {},
   "outputs": [
    {
     "name": "stdout",
     "output_type": "stream",
     "text": [
      "5\n",
      "prime\n"
     ]
    }
   ],
   "source": [
    "# print prime \n",
    "a = int(input())\n",
    "for i in range(2,a):\n",
    "    if a % i == 0:\n",
    "        print('no')\n",
    "        break\n",
    "else:\n",
    "    print('prime')"
   ]
  },
  {
   "cell_type": "code",
   "execution_count": 30,
   "id": "2f4ff1ff",
   "metadata": {},
   "outputs": [
    {
     "name": "stdout",
     "output_type": "stream",
     "text": [
      "50\n",
      "2 3 5 7 11 13 17 19 23 29 31 37 41 43 47 "
     ]
    }
   ],
   "source": [
    "a =int(input())\n",
    "for i in range(2,a):\n",
    "    k = 0\n",
    "    for j in range(2, i//2+1):\n",
    "        if (i % j ==0):\n",
    "            k = k + 1\n",
    "    if (k<=0):\n",
    "        print(i, end=' ')"
   ]
  },
  {
   "cell_type": "code",
   "execution_count": 34,
   "id": "7e379d3c",
   "metadata": {},
   "outputs": [
    {
     "name": "stdout",
     "output_type": "stream",
     "text": [
      "10\n",
      "1 2 3 5 8 13 21 34 55 89 "
     ]
    }
   ],
   "source": [
    "n = int(input())\n",
    "a = 0 \n",
    "b = 1\n",
    "c = 0\n",
    "for i in range(n):\n",
    "    c = a + b \n",
    "    a = b \n",
    "    b = c \n",
    "    print(c, end=\" \")"
   ]
  },
  {
   "cell_type": "code",
   "execution_count": 43,
   "id": "9699debd",
   "metadata": {},
   "outputs": [
    {
     "name": "stdout",
     "output_type": "stream",
     "text": [
      "5\n"
     ]
    },
    {
     "data": {
      "text/plain": [
       "5"
      ]
     },
     "execution_count": 43,
     "metadata": {},
     "output_type": "execute_result"
    }
   ],
   "source": [
    "def fibo(n):\n",
    "    if n == 1 or n == 2:\n",
    "        return 1\n",
    "    return fibo(n-1) + fibo(n-2)\n",
    "a = int(input())\n",
    "fibo(a)"
   ]
  },
  {
   "cell_type": "code",
   "execution_count": 52,
   "id": "5023e792",
   "metadata": {},
   "outputs": [
    {
     "name": "stdout",
     "output_type": "stream",
     "text": [
      "50\n",
      "377\n",
      "True\n"
     ]
    }
   ],
   "source": [
    "# chack no is fibo or not\n",
    "n = int(input())\n",
    "a = 0 \n",
    "b = 1\n",
    "c = 0\n",
    "l = []\n",
    "no = int(input())\n",
    "for i in range(n):\n",
    "    c = a + b \n",
    "    a = b \n",
    "    b = c \n",
    "    l.append(c)\n",
    "if no in l:\n",
    "    print(True)\n",
    "else:\n",
    "    print(False)"
   ]
  },
  {
   "cell_type": "code",
   "execution_count": 63,
   "id": "0f01d4ad",
   "metadata": {},
   "outputs": [
    {
     "name": "stdout",
     "output_type": "stream",
     "text": [
      "sabas\n",
      "True\n"
     ]
    }
   ],
   "source": [
    "n = input()\n",
    "a = n[::-1]\n",
    "if n == a:\n",
    "    print(True)\n",
    "else:\n",
    "    print(False)\n"
   ]
  },
  {
   "cell_type": "code",
   "execution_count": 70,
   "id": "a7f8c959",
   "metadata": {},
   "outputs": [
    {
     "name": "stdout",
     "output_type": "stream",
     "text": [
      "4\n",
      "30\n"
     ]
    }
   ],
   "source": [
    "a = int(input())\n",
    "sum = 0\n",
    "total =0 \n",
    "for i in range(1,a+1):\n",
    "    sum = i**2\n",
    "    total = total + sum\n",
    "print(total)"
   ]
  },
  {
   "cell_type": "code",
   "execution_count": 71,
   "id": "294e2310",
   "metadata": {},
   "outputs": [
    {
     "name": "stdout",
     "output_type": "stream",
     "text": [
      "10 20\n",
      "20 10\n"
     ]
    }
   ],
   "source": [
    "a = 10\n",
    "b = 20\n",
    "print(a,b)\n",
    "a,b = b,a\n",
    "print(a,b)"
   ]
  },
  {
   "cell_type": "markdown",
   "id": "ba2ac451",
   "metadata": {},
   "source": [
    "# array Programes"
   ]
  },
  {
   "cell_type": "code",
   "execution_count": 78,
   "id": "d13e3d86",
   "metadata": {},
   "outputs": [
    {
     "name": "stdout",
     "output_type": "stream",
     "text": [
      "1 2 3 4 5 6 7 8 9 10\n",
      "55\n"
     ]
    }
   ],
   "source": [
    "# sum of array\n",
    "a = list(int(x) for x in input().split(\" \"))\n",
    "sum=0\n",
    "for i in a:\n",
    "    sum = sum+i\n",
    "print(sum)"
   ]
  },
  {
   "cell_type": "code",
   "execution_count": 80,
   "id": "a77e3477",
   "metadata": {},
   "outputs": [
    {
     "name": "stdout",
     "output_type": "stream",
     "text": [
      "1 2 3 45 6 7 8 9\n",
      "45 is lar\n"
     ]
    }
   ],
   "source": [
    "# find large num in array\n",
    "a = list(int(x) for x in input().split(\" \"))\n",
    "b = a[0]\n",
    "for i in range(1,len(a)):\n",
    "    if b >a[i]:\n",
    "        print(b,\"is lar\")\n",
    "    b = a[i]\n"
   ]
  },
  {
   "cell_type": "code",
   "execution_count": 86,
   "id": "c3af3adf",
   "metadata": {},
   "outputs": [
    {
     "name": "stdout",
     "output_type": "stream",
     "text": [
      "1 2 3 4 5\n",
      "[5, 1, [2, 3, 4]]\n"
     ]
    }
   ],
   "source": [
    "# swap first and last value in list\n",
    "a = list(int(x) for x in input().split(\" \"))\n",
    "ne = a[0],a[-1] = a[-1],a[0]\n",
    "ne = list(ne)\n",
    "ne.append(a[1:-1])\n",
    "print(ne)"
   ]
  },
  {
   "cell_type": "code",
   "execution_count": 87,
   "id": "6262790e",
   "metadata": {},
   "outputs": [
    {
     "name": "stdout",
     "output_type": "stream",
     "text": [
      "1 2 3 4 5 6\n",
      "6\n"
     ]
    }
   ],
   "source": [
    "a = list(int(x) for x in input().split(\" \"))\n",
    "c= len(a)\n",
    "print(c)\n"
   ]
  },
  {
   "cell_type": "code",
   "execution_count": 91,
   "id": "d0173302",
   "metadata": {},
   "outputs": [
    {
     "name": "stdout",
     "output_type": "stream",
     "text": [
      "1 2 3 4 5 6\n",
      "10\n",
      "no\n"
     ]
    }
   ],
   "source": [
    "a = list(int(x) for x in input().split(\" \"))\n",
    "x= int(input())\n",
    "for i in a:\n",
    "    if x == i:\n",
    "        print(i)\n",
    "        break\n",
    "else:\n",
    "    print('no')"
   ]
  },
  {
   "cell_type": "code",
   "execution_count": 92,
   "id": "7d96eaff",
   "metadata": {},
   "outputs": [
    {
     "name": "stdout",
     "output_type": "stream",
     "text": [
      "1 2 3 4 5 6\n",
      "[]\n"
     ]
    }
   ],
   "source": [
    "a = list(int(x) for x in input().split(\" \"))\n",
    "a.clear()\n",
    "print(a)"
   ]
  },
  {
   "cell_type": "code",
   "execution_count": 93,
   "id": "15aa24da",
   "metadata": {},
   "outputs": [
    {
     "name": "stdout",
     "output_type": "stream",
     "text": [
      "1 2 3 4 5 6\n",
      "[6, 5, 4, 3, 2, 1]\n"
     ]
    }
   ],
   "source": [
    "a = list(int(x) for x in input().split(\" \"))\n",
    "b = a[::-1]\n",
    "print(b)"
   ]
  },
  {
   "cell_type": "code",
   "execution_count": 95,
   "id": "e570121e",
   "metadata": {},
   "outputs": [
    {
     "name": "stdout",
     "output_type": "stream",
     "text": [
      "12 15 3 10\n",
      "40\n"
     ]
    }
   ],
   "source": [
    "# 7 sum of list\n",
    "a = list(int(x) for x in input().split(\" \"))\n",
    "sum = 0\n",
    "for i in a:\n",
    "    sum = sum + i\n",
    "print(sum)"
   ]
  },
  {
   "cell_type": "code",
   "execution_count": 96,
   "id": "f5760aaa",
   "metadata": {},
   "outputs": [
    {
     "name": "stdout",
     "output_type": "stream",
     "text": [
      "1 2 3\n",
      "6\n"
     ]
    }
   ],
   "source": [
    "# 8 multiply\n",
    "a = list(int(x) for x in input().split(\" \"))\n",
    "mul = 1\n",
    "for i in a:\n",
    "    mul =mul * i\n",
    "print(mul)"
   ]
  },
  {
   "cell_type": "code",
   "execution_count": 107,
   "id": "6c68cd0a",
   "metadata": {},
   "outputs": [
    {
     "name": "stdout",
     "output_type": "stream",
     "text": [
      "5 3 2 1 69 8 7\n",
      "1\n"
     ]
    }
   ],
   "source": [
    "# 9 small num in list\n",
    "a = list(int(x) for x in input().split(\" \"))\n",
    "a.sort()\n",
    "print(a[0])"
   ]
  },
  {
   "cell_type": "code",
   "execution_count": 108,
   "id": "4c72c589",
   "metadata": {},
   "outputs": [
    {
     "name": "stdout",
     "output_type": "stream",
     "text": [
      "1 2 3 6 5 4 78 96 3 2 21 5 6 5 41 2 1 1\n",
      "96\n"
     ]
    }
   ],
   "source": [
    "# 10 large num in list\n",
    "a = list(int(x) for x in input().split(\" \"))\n",
    "a.sort()\n",
    "print(a[-1])"
   ]
  },
  {
   "cell_type": "code",
   "execution_count": 109,
   "id": "091e1fb4",
   "metadata": {},
   "outputs": [
    {
     "name": "stdout",
     "output_type": "stream",
     "text": [
      "1 2 3 65 4 7 9\n",
      "9\n"
     ]
    }
   ],
   "source": [
    "# 11 second large num in list\n",
    "a = list(int(x) for x in input().split(\" \"))\n",
    "a.sort()\n",
    "print(a[-2])"
   ]
  },
  {
   "cell_type": "code",
   "execution_count": 110,
   "id": "26f0e95b",
   "metadata": {},
   "outputs": [
    {
     "name": "stdout",
     "output_type": "stream",
     "text": [
      "12 65 23 8 4 632 15 68 218 965 2 12 13\n",
      "3\n",
      "[218, 632, 965]\n"
     ]
    }
   ],
   "source": [
    "# 12 N large num in list\n",
    "a = list(int(x) for x in input().split(\" \"))\n",
    "a.sort()\n",
    "n = int(input())\n",
    "print(a[-n:])"
   ]
  },
  {
   "cell_type": "code",
   "execution_count": 119,
   "id": "47413596",
   "metadata": {},
   "outputs": [
    {
     "name": "stdout",
     "output_type": "stream",
     "text": [
      "12 3 6 5 6 98 7 4 56 6 2 3 6 45\n",
      "[12, 6, 6, 98, 4, 56, 6, 2, 6]\n"
     ]
    }
   ],
   "source": [
    "# 13 Python program to print even numbers in a list\n",
    "n  = list(int(x) for x in input().split(\" \"))\n",
    "a = []\n",
    "for i in n:\n",
    "    if i % 2 == 0:\n",
    "        a.append(i)\n",
    "print(a)\n",
    "        \n",
    "    "
   ]
  },
  {
   "cell_type": "code",
   "execution_count": 121,
   "id": "48575128",
   "metadata": {},
   "outputs": [
    {
     "name": "stdout",
     "output_type": "stream",
     "text": [
      "1 2 3 6 5 4 7 8 9\n",
      "[1, 3, 5, 7, 9]\n"
     ]
    }
   ],
   "source": [
    "# 14 Python program to print Odd numbers in a list\n",
    "n  = list(int(x) for x in input().split(\" \"))\n",
    "a = []\n",
    "for i in n:\n",
    "    if i % 2 == 0:\n",
    "        pass\n",
    "    else:\n",
    "        a.append(i)\n",
    "print(a)\n",
    "        \n",
    "    "
   ]
  },
  {
   "cell_type": "code",
   "execution_count": 130,
   "id": "a390fb90",
   "metadata": {},
   "outputs": [
    {
     "name": "stdout",
     "output_type": "stream",
     "text": [
      "4\n",
      "20\n",
      "4\n",
      "6\n",
      "8\n",
      "10\n",
      "12\n",
      "14\n",
      "16\n",
      "18\n"
     ]
    }
   ],
   "source": [
    "# 15 Python program to print all even numbers in a range\n",
    "n = int(input())\n",
    "m = int(input())\n",
    "for i in range(n,m,2):\n",
    "    print(i)\n",
    "    "
   ]
  },
  {
   "cell_type": "code",
   "execution_count": 132,
   "id": "dabb0d99",
   "metadata": {},
   "outputs": [
    {
     "name": "stdout",
     "output_type": "stream",
     "text": [
      "5\n",
      "20\n",
      "5\n",
      "7\n",
      "9\n",
      "11\n",
      "13\n",
      "15\n",
      "17\n",
      "19\n"
     ]
    }
   ],
   "source": [
    "# 16 Python program to print all odd numbers in a range\n",
    "n = int(input())\n",
    "m = int(input())\n",
    "for i in range(n,m):\n",
    "    if i % 2 == 0:\n",
    "        pass\n",
    "    else:\n",
    "        print(i)"
   ]
  },
  {
   "cell_type": "code",
   "execution_count": 135,
   "id": "5c693ca8",
   "metadata": {},
   "outputs": [
    {
     "name": "stdout",
     "output_type": "stream",
     "text": [
      "1 -8 6 -9 6 3 -5 -4 2 3\n",
      "1 6 6 3 2 3 "
     ]
    }
   ],
   "source": [
    "# 17 Python program to print positive numbers in a list\n",
    "a = list(int(x) for x in input().split(\" \"))\n",
    "for i in a:\n",
    "    if i > 0:\n",
    "        print(i, end=\" \")\n"
   ]
  },
  {
   "cell_type": "code",
   "execution_count": 136,
   "id": "03ad1f98",
   "metadata": {},
   "outputs": [
    {
     "name": "stdout",
     "output_type": "stream",
     "text": [
      "1 -8 6 -9 6 3 -5 -4 2 3\n",
      "-8 -9 -5 -4 "
     ]
    }
   ],
   "source": [
    "# 18 Python program to print negative numbers in a list\n",
    "a = list(int(x) for x in input().split(\" \"))\n",
    "for i in a:\n",
    "    if i > 0:\n",
    "        pass\n",
    "    else:\n",
    "        print(i, end=\" \")"
   ]
  },
  {
   "cell_type": "code",
   "execution_count": 139,
   "id": "7b6636bb",
   "metadata": {},
   "outputs": [
    {
     "name": "stdout",
     "output_type": "stream",
     "text": [
      "-5\n",
      "10\n",
      "0 1 2 3 4 5 6 7 8 9 10 "
     ]
    }
   ],
   "source": [
    "# 19 Python program to print all positive numbers in a range\n",
    "n = int(input())\n",
    "m = int(input())\n",
    "for i in range(n,m+1):\n",
    "    if i >= 0:\n",
    "        print(i, end=\" \")\n"
   ]
  },
  {
   "cell_type": "code",
   "execution_count": 141,
   "id": "0dcef2d3",
   "metadata": {},
   "outputs": [
    {
     "name": "stdout",
     "output_type": "stream",
     "text": [
      "-5\n",
      "10\n",
      "-5 -4 -3 -2 -1 "
     ]
    }
   ],
   "source": [
    "# 20 Python program to print all negative numbers in a range\n",
    "n = int(input())\n",
    "m = int(input())\n",
    "for i in range(n,m+1):\n",
    "    if i < 0:\n",
    "        print(i, end=\" \")"
   ]
  },
  {
   "cell_type": "markdown",
   "id": "1eaa02bf",
   "metadata": {},
   "source": [
    "# Mearg Sort"
   ]
  },
  {
   "cell_type": "code",
   "execution_count": 24,
   "id": "b02ededf",
   "metadata": {},
   "outputs": [],
   "source": [
    "def merg(a1,a2,a):\n",
    "    i = 0\n",
    "    j = 0\n",
    "    k = 0 \n",
    "    if i < len(a1) and j < len(a2):\n",
    "        if a1[i] < a2[j]:\n",
    "            a[k] = a1[i]\n",
    "            k = k + 1\n",
    "            i = i + 1\n",
    "        else:\n",
    "            a[k] = a2[j]\n",
    "            k = k + 1\n",
    "            j = j + 1\n",
    "    while i <len(a1):\n",
    "        a[k] = a1[i]\n",
    "        k = k + 1\n",
    "        i = i + 1\n",
    "    while j < len(a2):\n",
    "        a[k] = a2[j]\n",
    "        k = k + 1\n",
    "        j = j + 1\n",
    "        "
   ]
  },
  {
   "cell_type": "code",
   "execution_count": 25,
   "id": "a60b6262",
   "metadata": {},
   "outputs": [],
   "source": [
    "def my_mer(a):\n",
    "    if len(a) == 0 or len(a) == 1:\n",
    "        return\n",
    "    mid = len(a) // 2\n",
    "    a1 = a[0:mid]\n",
    "    a2 = a[mid:]\n",
    "    \n",
    "    my_mer(a1)\n",
    "    my_mer(a2)\n",
    "    merg(a1,a2,a)"
   ]
  },
  {
   "cell_type": "code",
   "execution_count": 26,
   "id": "6d250088",
   "metadata": {},
   "outputs": [
    {
     "name": "stdout",
     "output_type": "stream",
     "text": [
      "[0, 1, 1, 2, 3, 4, 4, 5, 6, 7, 8, 8]\n"
     ]
    }
   ],
   "source": [
    "a = [6,4,1,8,0,1,2,5,7,8,4,3]\n",
    "merg_so(a)\n",
    "print(a)"
   ]
  },
  {
   "cell_type": "code",
   "execution_count": 29,
   "id": "1bb703f6",
   "metadata": {},
   "outputs": [
    {
     "name": "stdout",
     "output_type": "stream",
     "text": [
      " mornig!\n"
     ]
    }
   ],
   "source": [
    "a = \"good mornig!\"\n",
    "\n",
    "\n",
    "print(a[4:])"
   ]
  },
  {
   "cell_type": "code",
   "execution_count": 34,
   "id": "ecfdf183",
   "metadata": {},
   "outputs": [],
   "source": [
    "class Employee:\n",
    "    def __init__(myself, id, name):\n",
    "        myself.id = id \n",
    "        myself.name = name\n",
    "    def get_emp(self):\n",
    "        print(\"employee id is\", self.id, \"and employee name is \", self.name)"
   ]
  },
  {
   "cell_type": "code",
   "execution_count": 35,
   "id": "ea6715ad",
   "metadata": {},
   "outputs": [
    {
     "name": "stdout",
     "output_type": "stream",
     "text": [
      "employee id is 1 and employee name is  Chirag\n"
     ]
    }
   ],
   "source": [
    "a = Employee(1, \"Chirag\")\n",
    "a.get_emp()"
   ]
  },
  {
   "cell_type": "code",
   "execution_count": null,
   "id": "37db8c61",
   "metadata": {},
   "outputs": [],
   "source": []
  }
 ],
 "metadata": {
  "kernelspec": {
   "display_name": "Python 3 (ipykernel)",
   "language": "python",
   "name": "python3"
  },
  "language_info": {
   "codemirror_mode": {
    "name": "ipython",
    "version": 3
   },
   "file_extension": ".py",
   "mimetype": "text/x-python",
   "name": "python",
   "nbconvert_exporter": "python",
   "pygments_lexer": "ipython3",
   "version": "3.8.1"
  }
 },
 "nbformat": 4,
 "nbformat_minor": 5
}
