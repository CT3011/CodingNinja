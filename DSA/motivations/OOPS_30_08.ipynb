{
 "cells": [
  {
   "cell_type": "markdown",
   "id": "9ced1c51",
   "metadata": {},
   "source": [
    "# Recursion factorial"
   ]
  },
  {
   "cell_type": "code",
   "execution_count": 37,
   "id": "b8416448",
   "metadata": {},
   "outputs": [],
   "source": [
    "# \"\"\"\n",
    "# n = 5\n",
    "# first condition is false n == 0 but 5 not equal to 0,\n",
    "# only call fac(n-1) which is 5 then 4 then , 3, 2, 1, 0,\n",
    "# here n == 0 so return 1,\n",
    "# n * 1 = 1\n",
    "# 1 * 2 = 2\n",
    "# 2 * 3 = 6\n",
    "# 6 * 4 = 24\n",
    "# 24 * 5 = 120\n",
    "# \"\"\""
   ]
  },
  {
   "cell_type": "code",
   "execution_count": 38,
   "id": "181f2388",
   "metadata": {},
   "outputs": [],
   "source": [
    "def fac(n):\n",
    "    if n == 0:\n",
    "        return 1\n",
    "    return n * fac(n-1)"
   ]
  },
  {
   "cell_type": "code",
   "execution_count": 39,
   "id": "0e5bee73",
   "metadata": {},
   "outputs": [
    {
     "name": "stdout",
     "output_type": "stream",
     "text": [
      "5\n"
     ]
    },
    {
     "data": {
      "text/plain": [
       "120"
      ]
     },
     "execution_count": 39,
     "metadata": {},
     "output_type": "execute_result"
    }
   ],
   "source": [
    "n = int(input())\n",
    "fac(n)"
   ]
  },
  {
   "cell_type": "markdown",
   "id": "fd899206",
   "metadata": {},
   "source": [
    "# Iterative way to ritch factorial"
   ]
  },
  {
   "cell_type": "code",
   "execution_count": 40,
   "id": "0ccd5dda",
   "metadata": {},
   "outputs": [
    {
     "name": "stdout",
     "output_type": "stream",
     "text": [
      "5\n",
      "120\n"
     ]
    }
   ],
   "source": [
    "n = int(input())\n",
    "fac = 1\n",
    "for i in range(1, n+1):\n",
    "    fac = fac * i\n",
    "print(fac)"
   ]
  },
  {
   "cell_type": "code",
   "execution_count": null,
   "id": "1415cf41",
   "metadata": {},
   "outputs": [],
   "source": []
  }
 ],
 "metadata": {
  "kernelspec": {
   "display_name": "Python 3 (ipykernel)",
   "language": "python",
   "name": "python3"
  },
  "language_info": {
   "codemirror_mode": {
    "name": "ipython",
    "version": 3
   },
   "file_extension": ".py",
   "mimetype": "text/x-python",
   "name": "python",
   "nbconvert_exporter": "python",
   "pygments_lexer": "ipython3",
   "version": "3.8.1"
  }
 },
 "nbformat": 4,
 "nbformat_minor": 5
}
