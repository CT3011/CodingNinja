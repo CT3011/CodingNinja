{
 "cells": [
  {
   "cell_type": "markdown",
   "id": "42adbfec",
   "metadata": {},
   "source": [
    "# factorial recursion "
   ]
  },
  {
   "cell_type": "code",
   "execution_count": 1,
   "id": "5f1a36af",
   "metadata": {},
   "outputs": [],
   "source": [
    "def fact(n):\n",
    "    if n == 0:\n",
    "        return 1\n",
    "    else:\n",
    "        return n * fact(n-1)"
   ]
  },
  {
   "cell_type": "code",
   "execution_count": 2,
   "id": "6fa13034",
   "metadata": {},
   "outputs": [
    {
     "name": "stdout",
     "output_type": "stream",
     "text": [
      "5\n",
      "120\n"
     ]
    }
   ],
   "source": [
    "n = int(input())\n",
    "print(fact(n))"
   ]
  },
  {
   "cell_type": "markdown",
   "id": "c212cf0e",
   "metadata": {},
   "source": [
    "# Sum of n numbers"
   ]
  },
  {
   "cell_type": "code",
   "execution_count": 3,
   "id": "0f34b32d",
   "metadata": {},
   "outputs": [],
   "source": [
    "def sumof(n):\n",
    "    if n ==0:\n",
    "        return 0\n",
    "    return n + sumof(n-1)\n"
   ]
  },
  {
   "cell_type": "code",
   "execution_count": 4,
   "id": "b69a866d",
   "metadata": {},
   "outputs": [
    {
     "name": "stdout",
     "output_type": "stream",
     "text": [
      "5\n",
      "15\n"
     ]
    }
   ],
   "source": [
    "n = int(input())\n",
    "print(sumof(n))"
   ]
  },
  {
   "cell_type": "markdown",
   "id": "cb5ae910",
   "metadata": {},
   "source": [
    "# n * power of m (n**m)"
   ]
  },
  {
   "cell_type": "code",
   "execution_count": 5,
   "id": "eef86ee2",
   "metadata": {},
   "outputs": [],
   "source": [
    "def power(n,m):\n",
    "    if m == 0:\n",
    "        return 1\n",
    "    return n * power(n,m-1)"
   ]
  },
  {
   "cell_type": "code",
   "execution_count": 6,
   "id": "b50f6263",
   "metadata": {},
   "outputs": [
    {
     "name": "stdout",
     "output_type": "stream",
     "text": [
      "5\n",
      "4\n"
     ]
    },
    {
     "data": {
      "text/plain": [
       "625"
      ]
     },
     "execution_count": 6,
     "metadata": {},
     "output_type": "execute_result"
    }
   ],
   "source": [
    "n = int(input())\n",
    "m = int(input())\n",
    "power(n,m)"
   ]
  },
  {
   "cell_type": "markdown",
   "id": "ba382e69",
   "metadata": {},
   "source": [
    "# print 1 to n numbers"
   ]
  },
  {
   "cell_type": "code",
   "execution_count": 8,
   "id": "c8807b97",
   "metadata": {},
   "outputs": [],
   "source": [
    "def num(n):\n",
    "    if n == 0:\n",
    "        return\n",
    "    num(n-1)\n",
    "    print(n)\n",
    "    return"
   ]
  },
  {
   "cell_type": "code",
   "execution_count": 9,
   "id": "5c5b17b9",
   "metadata": {},
   "outputs": [
    {
     "name": "stdout",
     "output_type": "stream",
     "text": [
      "6\n",
      "1\n",
      "2\n",
      "3\n",
      "4\n",
      "5\n",
      "6\n"
     ]
    }
   ],
   "source": [
    "n = int(input())\n",
    "num(n)"
   ]
  },
  {
   "cell_type": "markdown",
   "id": "0b1e46f2",
   "metadata": {},
   "source": [
    "# print n to 1 (reverse)"
   ]
  },
  {
   "cell_type": "code",
   "execution_count": 10,
   "id": "706204dd",
   "metadata": {},
   "outputs": [],
   "source": [
    "def numre(n):\n",
    "    if n ==0:\n",
    "        return\n",
    "    print(n)\n",
    "    numre(n-1)"
   ]
  },
  {
   "cell_type": "code",
   "execution_count": 11,
   "id": "a9f2ec9e",
   "metadata": {},
   "outputs": [
    {
     "name": "stdout",
     "output_type": "stream",
     "text": [
      "7\n",
      "7\n",
      "6\n",
      "5\n",
      "4\n",
      "3\n",
      "2\n",
      "1\n"
     ]
    }
   ],
   "source": [
    "n = int(input())\n",
    "numre(n)"
   ]
  },
  {
   "cell_type": "markdown",
   "id": "095d375a",
   "metadata": {},
   "source": [
    "# fibonacci Recursion "
   ]
  },
  {
   "cell_type": "code",
   "execution_count": null,
   "id": "5c6314c3",
   "metadata": {},
   "outputs": [],
   "source": [
    "def fibo(n):\n",
    "    if n ==1 or n ==2:\n",
    "        return 1\n",
    "    return fibo(n -1) + fibo(n -2)"
   ]
  },
  {
   "cell_type": "code",
   "execution_count": 4,
   "id": "73a23faa",
   "metadata": {},
   "outputs": [
    {
     "name": "stdout",
     "output_type": "stream",
     "text": [
      "5\n"
     ]
    },
    {
     "data": {
      "text/plain": [
       "5"
      ]
     },
     "execution_count": 4,
     "metadata": {},
     "output_type": "execute_result"
    }
   ],
   "source": [
    "n = int(input())\n",
    "fibo(n)"
   ]
  },
  {
   "cell_type": "markdown",
   "id": "49670fd6",
   "metadata": {},
   "source": [
    "# Chack array is sorted or not"
   ]
  },
  {
   "cell_type": "code",
   "execution_count": 9,
   "id": "cff7a8b3",
   "metadata": {},
   "outputs": [],
   "source": [
    "def arrSort(n):\n",
    "    l = len(n)\n",
    "    if l == 0 or l ==1:\n",
    "        return True\n",
    "    \n",
    "    if n[0] > n[1]:\n",
    "        return False\n",
    "    \n",
    "    small = n[1:]\n",
    "    output = arrSort(small)\n",
    "    return output"
   ]
  },
  {
   "cell_type": "code",
   "execution_count": 12,
   "id": "b9334c38",
   "metadata": {},
   "outputs": [
    {
     "data": {
      "text/plain": [
       "True"
      ]
     },
     "execution_count": 12,
     "metadata": {},
     "output_type": "execute_result"
    }
   ],
   "source": [
    "n = [1,2,3,4,5,6,7,8,9]\n",
    "arrSort(n)"
   ]
  },
  {
   "cell_type": "markdown",
   "id": "7626aa2a",
   "metadata": {},
   "source": [
    "# Sum of Array"
   ]
  },
  {
   "cell_type": "code",
   "execution_count": 20,
   "id": "a239c005",
   "metadata": {},
   "outputs": [],
   "source": [
    "def sumArr(n):\n",
    "    l = len(n)\n",
    "    if l == 0:\n",
    "        return 0\n",
    "    if l == 1:\n",
    "        return n[0]\n",
    "    \n",
    "    return n[0] + sumArr(n[1:])\n",
    "    "
   ]
  },
  {
   "cell_type": "code",
   "execution_count": 21,
   "id": "931181cd",
   "metadata": {},
   "outputs": [
    {
     "data": {
      "text/plain": [
       "16"
      ]
     },
     "execution_count": 21,
     "metadata": {},
     "output_type": "execute_result"
    }
   ],
   "source": [
    "n=[2,2,5,7]\n",
    "sumArr(n)"
   ]
  },
  {
   "cell_type": "markdown",
   "id": "396d6a78",
   "metadata": {},
   "source": [
    "# num x in array"
   ]
  },
  {
   "cell_type": "code",
   "execution_count": 22,
   "id": "b8fd5876",
   "metadata": {},
   "outputs": [],
   "source": [
    "def chackSum(n,x):\n",
    "    l = len(n)\n",
    "    if l ==0:\n",
    "        return False\n",
    "    if n[0] == x:\n",
    "        return True\n",
    "    return chackSum(n[1:], x)"
   ]
  },
  {
   "cell_type": "code",
   "execution_count": 24,
   "id": "71c5d249",
   "metadata": {},
   "outputs": [
    {
     "data": {
      "text/plain": [
       "False"
      ]
     },
     "execution_count": 24,
     "metadata": {},
     "output_type": "execute_result"
    }
   ],
   "source": [
    "n=[2,2,5,7]\n",
    "x=10\n",
    "chackSum(n,x)"
   ]
  },
  {
   "cell_type": "markdown",
   "id": "b3b87772",
   "metadata": {},
   "source": [
    "# Batter way to Chack array is sorted or not"
   ]
  },
  {
   "cell_type": "code",
   "execution_count": 25,
   "id": "7b53bcd9",
   "metadata": {},
   "outputs": [],
   "source": [
    "def batter(n,si):\n",
    "    l = len(n)\n",
    "    if si == l -1 or si== l:\n",
    "        return True\n",
    "    if n[si] > n[si +1]:\n",
    "        return False\n",
    "    output = batter(n,si+1)\n",
    "    return output"
   ]
  },
  {
   "cell_type": "code",
   "execution_count": 27,
   "id": "f190c1af",
   "metadata": {},
   "outputs": [
    {
     "data": {
      "text/plain": [
       "False"
      ]
     },
     "execution_count": 27,
     "metadata": {},
     "output_type": "execute_result"
    }
   ],
   "source": [
    "n = [1,20,3,4,5,6,7,8,9]\n",
    "batter(n,0)"
   ]
  },
  {
   "cell_type": "markdown",
   "id": "d7a3b37c",
   "metadata": {},
   "source": [
    "# first index of x in array (Wethout copy array )"
   ]
  },
  {
   "cell_type": "code",
   "execution_count": 49,
   "id": "0888dcea",
   "metadata": {},
   "outputs": [],
   "source": [
    "def first(n,x,si):\n",
    "    l = len(n)\n",
    "    if si == l or x not in n:\n",
    "        return -1\n",
    "    if n[si] == x:\n",
    "        return si\n",
    "    output = first(n,x,si +1)\n",
    "    return output"
   ]
  },
  {
   "cell_type": "code",
   "execution_count": 51,
   "id": "e624a6db",
   "metadata": {},
   "outputs": [
    {
     "data": {
      "text/plain": [
       "1"
      ]
     },
     "execution_count": 51,
     "metadata": {},
     "output_type": "execute_result"
    }
   ],
   "source": [
    "n = [1,2,3,4,5,6,7,8,9]\n",
    "x = 2\n",
    "first(n,x,0)"
   ]
  },
  {
   "cell_type": "markdown",
   "id": "f5c4b3fd",
   "metadata": {},
   "source": [
    "# first index of x in array (copy array)"
   ]
  },
  {
   "cell_type": "code",
   "execution_count": 44,
   "id": "9d13ca10",
   "metadata": {},
   "outputs": [],
   "source": [
    "def secondf(n,x):\n",
    "    l = len(n)\n",
    "    if l == 0 or x not in n:\n",
    "        return -1\n",
    "    if n[0] == x:\n",
    "        return 0\n",
    "    small = n[1:]\n",
    "    output = secondf(small,x)\n",
    "    if output == -1:\n",
    "        return -1\n",
    "    else:\n",
    "        return output +1"
   ]
  },
  {
   "cell_type": "code",
   "execution_count": 53,
   "id": "fcb214b8",
   "metadata": {},
   "outputs": [
    {
     "data": {
      "text/plain": [
       "3"
      ]
     },
     "execution_count": 53,
     "metadata": {},
     "output_type": "execute_result"
    }
   ],
   "source": [
    "n = [1,2,3,4,5,4,7,8,9]\n",
    "x = 4\n",
    "secondf(n,x)"
   ]
  },
  {
   "cell_type": "markdown",
   "id": "385786b4",
   "metadata": {},
   "source": [
    "# last index x in array (copy array) "
   ]
  },
  {
   "cell_type": "code",
   "execution_count": 58,
   "id": "d9d7da37",
   "metadata": {},
   "outputs": [],
   "source": [
    "def last(n,x):\n",
    "    l = len(n)\n",
    "    if l == 0:\n",
    "        return -1\n",
    "    small = n[1:]\n",
    "    output = last(small,x)\n",
    "    if output != -1:\n",
    "        return output+1\n",
    "    else:\n",
    "        if n[0] ==x:\n",
    "            return 0\n",
    "        else:\n",
    "            return -1\n"
   ]
  },
  {
   "cell_type": "code",
   "execution_count": 59,
   "id": "ba84a5ec",
   "metadata": {},
   "outputs": [
    {
     "data": {
      "text/plain": [
       "5"
      ]
     },
     "execution_count": 59,
     "metadata": {},
     "output_type": "execute_result"
    }
   ],
   "source": [
    "n = [1,2,3,4,5,4,7,8,9]\n",
    "x = 4\n",
    "last(n,x)"
   ]
  },
  {
   "cell_type": "markdown",
   "id": "b4698b82",
   "metadata": {},
   "source": [
    "# last index of x in array (Wethout copy array )"
   ]
  },
  {
   "cell_type": "code",
   "execution_count": 69,
   "id": "c8376ed3",
   "metadata": {},
   "outputs": [],
   "source": [
    "def lastind(n,x,si):\n",
    "    l = len(n)\n",
    "    if si == l:\n",
    "        return -1\n",
    "    \n",
    "    output = lastind(n,x,si+1)\n",
    "    \n",
    "    if output != -1:\n",
    "        return output\n",
    "    else:\n",
    "        if n[si] == x:\n",
    "            return si\n",
    "        else:\n",
    "            return -1"
   ]
  },
  {
   "cell_type": "code",
   "execution_count": 71,
   "id": "780b9772",
   "metadata": {},
   "outputs": [
    {
     "data": {
      "text/plain": [
       "5"
      ]
     },
     "execution_count": 71,
     "metadata": {},
     "output_type": "execute_result"
    }
   ],
   "source": [
    "n = [1,2,3,4,5,4,7,8,9]\n",
    "x = 4\n",
    "lastind(n,x,0)"
   ]
  },
  {
   "cell_type": "code",
   "execution_count": null,
   "id": "e34d106b",
   "metadata": {},
   "outputs": [],
   "source": []
  }
 ],
 "metadata": {
  "kernelspec": {
   "display_name": "Python 3 (ipykernel)",
   "language": "python",
   "name": "python3"
  },
  "language_info": {
   "codemirror_mode": {
    "name": "ipython",
    "version": 3
   },
   "file_extension": ".py",
   "mimetype": "text/x-python",
   "name": "python",
   "nbconvert_exporter": "python",
   "pygments_lexer": "ipython3",
   "version": "3.8.1"
  }
 },
 "nbformat": 4,
 "nbformat_minor": 5
}
