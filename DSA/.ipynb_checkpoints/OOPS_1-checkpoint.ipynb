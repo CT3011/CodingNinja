{
 "cells": [
  {
   "cell_type": "code",
   "execution_count": 1,
   "id": "a6edde09",
   "metadata": {},
   "outputs": [],
   "source": [
    "class ExpanceTraker:\n",
    "    \"\"\" This is a class to do expance traking \"\"\"\n",
    "    def __init__(self):\n",
    "        pass\n",
    "    "
   ]
  },
  {
   "cell_type": "code",
   "execution_count": 2,
   "id": "26a8ff5b",
   "metadata": {},
   "outputs": [],
   "source": [
    "obj1 = ExpanceTraker()"
   ]
  },
  {
   "cell_type": "code",
   "execution_count": 4,
   "id": "498615a7",
   "metadata": {},
   "outputs": [],
   "source": [
    "class ExpanceTraker:\n",
    "    def __init__(self, date, description, tarnsaction_type, amount):\n",
    "        self.date = date\n",
    "        self.description = description\n",
    "        self.tarnsaction_type = tarnsaction_type\n",
    "        self.amount = amount"
   ]
  },
  {
   "cell_type": "code",
   "execution_count": 9,
   "id": "a6806b50",
   "metadata": {},
   "outputs": [],
   "source": [
    "obj2 = ExpanceTraker('12jan', 'lunch with friends', 'debit', '500')"
   ]
  },
  {
   "cell_type": "code",
   "execution_count": 12,
   "id": "158d1e03",
   "metadata": {},
   "outputs": [
    {
     "data": {
      "text/plain": [
       "'500'"
      ]
     },
     "execution_count": 12,
     "metadata": {},
     "output_type": "execute_result"
    }
   ],
   "source": [
    "obj2.amount"
   ]
  },
  {
   "cell_type": "code",
   "execution_count": 10,
   "id": "bbd8e373",
   "metadata": {},
   "outputs": [],
   "source": [
    "obj3 = ExpanceTraker('1jan', 'selary income', 'cradit', '30000')"
   ]
  },
  {
   "cell_type": "code",
   "execution_count": 13,
   "id": "22de5053",
   "metadata": {},
   "outputs": [
    {
     "data": {
      "text/plain": [
       "'30000'"
      ]
     },
     "execution_count": 13,
     "metadata": {},
     "output_type": "execute_result"
    }
   ],
   "source": [
    "obj3.amount"
   ]
  },
  {
   "cell_type": "markdown",
   "id": "a0636649",
   "metadata": {},
   "source": [
    "# viedeo Attributes"
   ]
  },
  {
   "cell_type": "code",
   "execution_count": 14,
   "id": "141b3414",
   "metadata": {},
   "outputs": [],
   "source": [
    "class ExpanceTraker:\n",
    "    def __init__(self, tracker_category, opening_balence, budget):\n",
    "        self.tracker_category = tracker_category\n",
    "        self.opening_balence = opening_balence\n",
    "        self.budget = budget"
   ]
  },
  {
   "cell_type": "code",
   "execution_count": 15,
   "id": "7ac1437f",
   "metadata": {},
   "outputs": [],
   "source": [
    "home_traker = ExpanceTraker('home_traker', 1000, 5000)"
   ]
  },
  {
   "cell_type": "code",
   "execution_count": 16,
   "id": "7c2d1a5e",
   "metadata": {},
   "outputs": [
    {
     "data": {
      "text/plain": [
       "1000"
      ]
     },
     "execution_count": 16,
     "metadata": {},
     "output_type": "execute_result"
    }
   ],
   "source": [
    "getattr(home_traker,'opening_balence')"
   ]
  },
  {
   "cell_type": "code",
   "execution_count": 18,
   "id": "f262c5aa",
   "metadata": {},
   "outputs": [
    {
     "data": {
      "text/plain": [
       "False"
      ]
     },
     "execution_count": 18,
     "metadata": {},
     "output_type": "execute_result"
    }
   ],
   "source": [
    "hasattr(home_traker,'opening_ba')"
   ]
  },
  {
   "cell_type": "code",
   "execution_count": 19,
   "id": "db7b22fd",
   "metadata": {},
   "outputs": [
    {
     "data": {
      "text/plain": [
       "{'tracker_category': 'home_traker', 'opening_balence': 1000, 'budget': 5000}"
      ]
     },
     "execution_count": 19,
     "metadata": {},
     "output_type": "execute_result"
    }
   ],
   "source": [
    "home_traker.__dict__"
   ]
  },
  {
   "cell_type": "code",
   "execution_count": 20,
   "id": "27c38ee6",
   "metadata": {},
   "outputs": [],
   "source": [
    "delattr(home_traker,'opening_balence')"
   ]
  },
  {
   "cell_type": "code",
   "execution_count": 21,
   "id": "8364e247",
   "metadata": {},
   "outputs": [
    {
     "data": {
      "text/plain": [
       "{'tracker_category': 'home_traker', 'budget': 5000}"
      ]
     },
     "execution_count": 21,
     "metadata": {},
     "output_type": "execute_result"
    }
   ],
   "source": [
    "home_traker.__dict__"
   ]
  },
  {
   "cell_type": "markdown",
   "id": "1b02f625",
   "metadata": {},
   "source": [
    "# Types of Attributes"
   ]
  },
  {
   "cell_type": "code",
   "execution_count": 23,
   "id": "69475c9a",
   "metadata": {},
   "outputs": [],
   "source": [
    "class ExpanceTraker:\n",
    "    # class attribute \n",
    "    version = 0.1\n",
    "    def __init__(self,tracker_category, opening_balence, budget):\n",
    "        # Instence of object attributes\n",
    "        self.tracker_category = tracker_category\n",
    "        self.opening_balence = opening_balence\n",
    "        self.budget = budget"
   ]
  },
  {
   "cell_type": "code",
   "execution_count": 24,
   "id": "0b080dde",
   "metadata": {},
   "outputs": [],
   "source": [
    "home_tracker = ExpanceTraker('home',0,10000)\n",
    "shopping_tracker = ExpanceTraker('shopping',1000,5000)"
   ]
  },
  {
   "cell_type": "code",
   "execution_count": 25,
   "id": "65f0120a",
   "metadata": {},
   "outputs": [
    {
     "data": {
      "text/plain": [
       "'home'"
      ]
     },
     "execution_count": 25,
     "metadata": {},
     "output_type": "execute_result"
    }
   ],
   "source": [
    "home_tracker.tracker_category"
   ]
  },
  {
   "cell_type": "code",
   "execution_count": 26,
   "id": "4daadb8b",
   "metadata": {},
   "outputs": [
    {
     "data": {
      "text/plain": [
       "'home'"
      ]
     },
     "execution_count": 26,
     "metadata": {},
     "output_type": "execute_result"
    }
   ],
   "source": [
    "getattr(home_tracker,'tracker_category')"
   ]
  },
  {
   "cell_type": "code",
   "execution_count": 28,
   "id": "ed5d5cf8",
   "metadata": {},
   "outputs": [
    {
     "data": {
      "text/plain": [
       "{'tracker_category': 'home', 'opening_balence': 0, 'budget': 10000}"
      ]
     },
     "execution_count": 28,
     "metadata": {},
     "output_type": "execute_result"
    }
   ],
   "source": [
    "home_tracker.__dict__"
   ]
  },
  {
   "cell_type": "code",
   "execution_count": 29,
   "id": "e62d6aa6",
   "metadata": {},
   "outputs": [
    {
     "data": {
      "text/plain": [
       "0.1"
      ]
     },
     "execution_count": 29,
     "metadata": {},
     "output_type": "execute_result"
    }
   ],
   "source": [
    "home_tracker.version"
   ]
  },
  {
   "cell_type": "code",
   "execution_count": 30,
   "id": "1785dc7b",
   "metadata": {},
   "outputs": [
    {
     "data": {
      "text/plain": [
       "0.1"
      ]
     },
     "execution_count": 30,
     "metadata": {},
     "output_type": "execute_result"
    }
   ],
   "source": [
    "shopping_tracker.version"
   ]
  },
  {
   "cell_type": "code",
   "execution_count": 31,
   "id": "7a382d2f",
   "metadata": {},
   "outputs": [],
   "source": [
    "home_tracker.version = 0.2"
   ]
  },
  {
   "cell_type": "code",
   "execution_count": 32,
   "id": "0d792640",
   "metadata": {},
   "outputs": [
    {
     "data": {
      "text/plain": [
       "0.2"
      ]
     },
     "execution_count": 32,
     "metadata": {},
     "output_type": "execute_result"
    }
   ],
   "source": [
    "home_tracker.version"
   ]
  },
  {
   "cell_type": "code",
   "execution_count": 33,
   "id": "5a0a2800",
   "metadata": {},
   "outputs": [
    {
     "data": {
      "text/plain": [
       "0.1"
      ]
     },
     "execution_count": 33,
     "metadata": {},
     "output_type": "execute_result"
    }
   ],
   "source": [
    "shopping_tracker.version"
   ]
  },
  {
   "cell_type": "markdown",
   "id": "80cc947f",
   "metadata": {},
   "source": [
    "# static Method"
   ]
  },
  {
   "cell_type": "code",
   "execution_count": 15,
   "id": "7a45a681",
   "metadata": {},
   "outputs": [],
   "source": [
    "class ExpanceTraker:\n",
    "    # class attribute \n",
    "    version = 0.1\n",
    "    def __init__(self,tracker_category, opening_balence, budget):\n",
    "        # Instence of object attributes\n",
    "        self.tracker_category = tracker_category\n",
    "        self.opening_balence = opening_balence\n",
    "        self.tracker_budget = budget\n",
    "        \n",
    "    # instance method\n",
    "    def get_orignol_balance(self):\n",
    "        return self.opening_balence\n",
    "    \n",
    "    # instence method\n",
    "    def chack_budget(self, limit = 1000):\n",
    "        if self.tracker_budget >= limit:\n",
    "            return True\n",
    "        else:\n",
    "            return \"lase then your limit\"\n",
    "    \n",
    "    @staticmethod\n",
    "    def conv_amou(amount):\n",
    "        return float(amount)"
   ]
  },
  {
   "cell_type": "code",
   "execution_count": 16,
   "id": "ca76eaad",
   "metadata": {},
   "outputs": [],
   "source": [
    "obj = ExpanceTraker('home', 1000, 10000)"
   ]
  },
  {
   "cell_type": "code",
   "execution_count": 5,
   "id": "ac47986d",
   "metadata": {},
   "outputs": [
    {
     "data": {
      "text/plain": [
       "1000"
      ]
     },
     "execution_count": 5,
     "metadata": {},
     "output_type": "execute_result"
    }
   ],
   "source": [
    "obj.get_orignol_balance()"
   ]
  },
  {
   "cell_type": "code",
   "execution_count": 14,
   "id": "61036045",
   "metadata": {},
   "outputs": [
    {
     "data": {
      "text/plain": [
       "'lase then your limit'"
      ]
     },
     "execution_count": 14,
     "metadata": {},
     "output_type": "execute_result"
    }
   ],
   "source": [
    "obj.chack_budget(limit = 100000)"
   ]
  },
  {
   "cell_type": "code",
   "execution_count": 17,
   "id": "d2af60ad",
   "metadata": {},
   "outputs": [
    {
     "data": {
      "text/plain": [
       "1000.0"
      ]
     },
     "execution_count": 17,
     "metadata": {},
     "output_type": "execute_result"
    }
   ],
   "source": [
    "obj.conv_amou(1000)"
   ]
  },
  {
   "cell_type": "markdown",
   "id": "007d6e96",
   "metadata": {},
   "source": [
    "# INHARITANCE (MIMP)"
   ]
  },
  {
   "cell_type": "code",
   "execution_count": 25,
   "id": "aba4f82c",
   "metadata": {},
   "outputs": [],
   "source": [
    "class vehicle():\n",
    "    def __init__(self, make, model, fuel):\n",
    "        self.make = make\n",
    "        self.model = model\n",
    "        self.fuel = fuel"
   ]
  },
  {
   "cell_type": "code",
   "execution_count": 26,
   "id": "46030938",
   "metadata": {},
   "outputs": [],
   "source": [
    "class Car(vehicle):\n",
    "    def __init__(self, make, model, fuel, ac, sunroof):\n",
    "        vehicle.make = make\n",
    "        vehicle.model = model\n",
    "        vehicle.fuel = fuel\n",
    "        \n",
    "        self.ac = ac\n",
    "        self.sunroof = sunroof\n",
    "    \n",
    "    def show_all(self):\n",
    "        print(vehicle.make, \" \", vehicle.model, \" \", vehicle.fuel)"
   ]
  },
  {
   "cell_type": "code",
   "execution_count": 27,
   "id": "63664035",
   "metadata": {},
   "outputs": [],
   "source": [
    "obj = Car('maruti', 2020, 'petrol', True,False)"
   ]
  },
  {
   "cell_type": "code",
   "execution_count": 28,
   "id": "e4d839bd",
   "metadata": {},
   "outputs": [
    {
     "data": {
      "text/plain": [
       "{'ac': True, 'sunroof': False}"
      ]
     },
     "execution_count": 28,
     "metadata": {},
     "output_type": "execute_result"
    }
   ],
   "source": [
    "obj.__dict__"
   ]
  },
  {
   "cell_type": "code",
   "execution_count": 29,
   "id": "cc3aac59",
   "metadata": {},
   "outputs": [
    {
     "name": "stdout",
     "output_type": "stream",
     "text": [
      "maruti   2020   petrol\n"
     ]
    }
   ],
   "source": [
    "obj.show_all()"
   ]
  },
  {
   "cell_type": "markdown",
   "id": "b19b728a",
   "metadata": {},
   "source": [
    "# Inheritance And Private Members"
   ]
  },
  {
   "cell_type": "code",
   "execution_count": 66,
   "id": "715a92bb",
   "metadata": {},
   "outputs": [],
   "source": [
    "# parent class\n",
    "class vehicle1():\n",
    "    def __init__(self, make, model, fuel):\n",
    "        self.make = make\n",
    "        #private\n",
    "        self.__model = model\n",
    "        self.__fuel = fuel\n",
    "        \n",
    "    def __private_method_parent(self):\n",
    "        print('This is Provate')"
   ]
  },
  {
   "cell_type": "code",
   "execution_count": 67,
   "id": "0b0c5208",
   "metadata": {},
   "outputs": [],
   "source": [
    "# child calss\n",
    "class Car1(vehicle1):\n",
    "    def __init__(self, make, model, fuel, ac, sunroof):\n",
    "        vehicle1.make = make\n",
    "        vehicle1.__model = model\n",
    "        vehicle1.__fuel = fuel\n",
    "        \n",
    "        self.ac = ac\n",
    "        self.sunroof = sunroof\n",
    "    \n",
    "    def show_all(self):\n",
    "        print(vehicle1.make, \" \", vehicle1.__model, \" \", vehicle1.__fuel)\n",
    "        \n",
    "    def show_pricate_method_of_parent(self):\n",
    "        self._vehicle1__private_method_parent()"
   ]
  },
  {
   "cell_type": "code",
   "execution_count": 68,
   "id": "b2940a0f",
   "metadata": {},
   "outputs": [],
   "source": [
    "obj1 = Car1('maruti', 2020, 'petrol', True,False)"
   ]
  },
  {
   "cell_type": "code",
   "execution_count": 69,
   "id": "24331f9a",
   "metadata": {},
   "outputs": [
    {
     "data": {
      "text/plain": [
       "{'ac': True, 'sunroof': False}"
      ]
     },
     "execution_count": 69,
     "metadata": {},
     "output_type": "execute_result"
    }
   ],
   "source": [
    "obj1.__dict__"
   ]
  },
  {
   "cell_type": "code",
   "execution_count": 70,
   "id": "275d411d",
   "metadata": {},
   "outputs": [
    {
     "name": "stdout",
     "output_type": "stream",
     "text": [
      "maruti   2020   petrol\n"
     ]
    }
   ],
   "source": [
    "obj1.show_all()"
   ]
  },
  {
   "cell_type": "code",
   "execution_count": 71,
   "id": "e7bbd15b",
   "metadata": {},
   "outputs": [
    {
     "ename": "AttributeError",
     "evalue": "'Car1' object has no attribute 'fuel'",
     "output_type": "error",
     "traceback": [
      "\u001b[1;31m---------------------------------------------------------------------------\u001b[0m",
      "\u001b[1;31mAttributeError\u001b[0m                            Traceback (most recent call last)",
      "\u001b[1;32m~\\AppData\\Local\\Temp/ipykernel_16784/2691580152.py\u001b[0m in \u001b[0;36m<module>\u001b[1;34m\u001b[0m\n\u001b[1;32m----> 1\u001b[1;33m \u001b[0mobj1\u001b[0m\u001b[1;33m.\u001b[0m\u001b[0mfuel\u001b[0m\u001b[1;33m\u001b[0m\u001b[1;33m\u001b[0m\u001b[0m\n\u001b[0m",
      "\u001b[1;31mAttributeError\u001b[0m: 'Car1' object has no attribute 'fuel'"
     ]
    }
   ],
   "source": [
    "obj1.fuel"
   ]
  },
  {
   "cell_type": "code",
   "execution_count": 72,
   "id": "82ad5e62",
   "metadata": {},
   "outputs": [
    {
     "name": "stdout",
     "output_type": "stream",
     "text": [
      "This is Provate\n"
     ]
    }
   ],
   "source": [
    "obj1.show_pricate_method_of_parent()"
   ]
  },
  {
   "cell_type": "markdown",
   "id": "ee0d920b",
   "metadata": {},
   "source": [
    "# Inheritance - Continue Super() method"
   ]
  },
  {
   "cell_type": "code",
   "execution_count": 80,
   "id": "3c01bfd7",
   "metadata": {},
   "outputs": [],
   "source": [
    "# parent class\n",
    "class vehicles():\n",
    "    def __init__(self, make, model, fuel):\n",
    "        self.make = make\n",
    "        #private\n",
    "        self.__model = model\n",
    "        self.__fuel = fuel\n",
    "        \n",
    "    def __private_method_parent(self):\n",
    "        print('This is Provate')"
   ]
  },
  {
   "cell_type": "code",
   "execution_count": 81,
   "id": "ff2dc29a",
   "metadata": {},
   "outputs": [],
   "source": [
    "# child calss\n",
    "class Cars(vehicles):\n",
    "    def __init__(self, make, model, fuel, ac, sunroof):\n",
    "        \n",
    "        super(Cars, self).__init__(make, model, fuel)\n",
    "        \n",
    "        self.ac = ac\n",
    "        self.sunroof = sunroof"
   ]
  },
  {
   "cell_type": "code",
   "execution_count": 82,
   "id": "a8ca6a59",
   "metadata": {},
   "outputs": [],
   "source": [
    "a = Cars(\"Tesla\",2022, 'Electric', True, True)"
   ]
  },
  {
   "cell_type": "code",
   "execution_count": 83,
   "id": "2e64f5f3",
   "metadata": {},
   "outputs": [
    {
     "data": {
      "text/plain": [
       "{'make': 'Tesla',\n",
       " '_vehicles__model': 2022,\n",
       " '_vehicles__fuel': 'Electric',\n",
       " 'ac': True,\n",
       " 'sunroof': True}"
      ]
     },
     "execution_count": 83,
     "metadata": {},
     "output_type": "execute_result"
    }
   ],
   "source": [
    "a.__dict__"
   ]
  },
  {
   "cell_type": "code",
   "execution_count": 84,
   "id": "7f4bdd14",
   "metadata": {},
   "outputs": [
    {
     "data": {
      "text/plain": [
       "'Tesla'"
      ]
     },
     "execution_count": 84,
     "metadata": {},
     "output_type": "execute_result"
    }
   ],
   "source": [
    "a.make"
   ]
  },
  {
   "cell_type": "code",
   "execution_count": 86,
   "id": "0bdbc35d",
   "metadata": {},
   "outputs": [
    {
     "name": "stdout",
     "output_type": "stream",
     "text": [
      "This is Provate\n"
     ]
    }
   ],
   "source": [
    "a._vehicles__private_method_parent()"
   ]
  },
  {
   "cell_type": "markdown",
   "id": "9be03908",
   "metadata": {},
   "source": [
    "# Polymorphism"
   ]
  },
  {
   "cell_type": "code",
   "execution_count": 114,
   "id": "9102bdee",
   "metadata": {},
   "outputs": [],
   "source": [
    "# parent class\n",
    "class veh():\n",
    "    \n",
    "    current_year=2022\n",
    "    base_price = 1000\n",
    "    \n",
    "    def __init__(self, make, model, fuel):\n",
    "        self.make = make\n",
    "        #private\n",
    "        self.__model = model\n",
    "        self.__fuel = fuel\n",
    "        \n",
    "    def __private_method_parent(self):\n",
    "        print('This is Provate')\n",
    "      \n",
    "    # defoult function to get value of car\n",
    "    def get_value(self):\n",
    "        age = veh.current_year - self._veh__model\n",
    "        print('this is parent class method')\n",
    "        return veh.base_price*(1/age)\n",
    "        "
   ]
  },
  {
   "cell_type": "code",
   "execution_count": 115,
   "id": "4933ae5c",
   "metadata": {},
   "outputs": [],
   "source": [
    "# child calss\n",
    "class ca(veh):\n",
    "    def __init__(self, make, model, fuel, ac, sunroof):\n",
    "        \n",
    "        super(ca, self).__init__(make, model, fuel)\n",
    "        \n",
    "        self.ac = ac\n",
    "        self.sunroof = sunroof\n",
    "    \n",
    "#     this is over over riding method that replase the parent defoult method\n",
    "    def get_value(self):\n",
    "        veh.base_price = 5000\n",
    "        age = veh.current_year - self._veh__model\n",
    "        print('this is child class overriding method')\n",
    "        return veh.base_price*(1/age)"
   ]
  },
  {
   "cell_type": "code",
   "execution_count": 116,
   "id": "75f05581",
   "metadata": {},
   "outputs": [],
   "source": [
    "b = ca(\"Tesla\",2019, 'Electric', True, True)"
   ]
  },
  {
   "cell_type": "code",
   "execution_count": 117,
   "id": "087c91be",
   "metadata": {},
   "outputs": [
    {
     "data": {
      "text/plain": [
       "{'make': 'Tesla',\n",
       " '_veh__model': 2019,\n",
       " '_veh__fuel': 'Electric',\n",
       " 'ac': True,\n",
       " 'sunroof': True}"
      ]
     },
     "execution_count": 117,
     "metadata": {},
     "output_type": "execute_result"
    }
   ],
   "source": [
    "b.__dict__"
   ]
  },
  {
   "cell_type": "code",
   "execution_count": 118,
   "id": "c8c3905b",
   "metadata": {},
   "outputs": [
    {
     "name": "stdout",
     "output_type": "stream",
     "text": [
      "this is child class overriding method\n"
     ]
    },
    {
     "data": {
      "text/plain": [
       "1666.6666666666665"
      ]
     },
     "execution_count": 118,
     "metadata": {},
     "output_type": "execute_result"
    }
   ],
   "source": [
    "b.get_value()"
   ]
  },
  {
   "cell_type": "code",
   "execution_count": 123,
   "id": "ad87a413",
   "metadata": {},
   "outputs": [],
   "source": [
    "mypo = veh('ford', 2018, 'petrol')"
   ]
  },
  {
   "cell_type": "code",
   "execution_count": 120,
   "id": "a2f3321b",
   "metadata": {},
   "outputs": [
    {
     "name": "stdout",
     "output_type": "stream",
     "text": [
      "this is parent class method\n"
     ]
    },
    {
     "data": {
      "text/plain": [
       "1250.0"
      ]
     },
     "execution_count": 120,
     "metadata": {},
     "output_type": "execute_result"
    }
   ],
   "source": [
    "mypo.get_value()"
   ]
  },
  {
   "cell_type": "markdown",
   "id": "661fd33b",
   "metadata": {},
   "source": [
    "# Multilevel Inheritance"
   ]
  },
  {
   "cell_type": "code",
   "execution_count": 3,
   "id": "4c90c2ba",
   "metadata": {},
   "outputs": [],
   "source": [
    "class gadi:\n",
    "    def __init__(self, make, model, fuel):\n",
    "        self.make = make\n",
    "        self.model = model\n",
    "        self.fuel = fuel\n",
    "        \n",
    "class myc(gadi):\n",
    "    def __init__(self, make, model, fuel, ac, sunroof):\n",
    "        super(myc, self).__init__( make, model, fuel)\n",
    "        \n",
    "        self.ac = ac\n",
    "        self.sunroof = sunroof\n",
    "        \n",
    "class ecar(myc):\n",
    "    def __init__(self, make, model, fuel, ac, sunroof, dist):\n",
    "        super(ecar, self).__init__( make, model, fuel, ac, sunroof)\n",
    "        \n",
    "        self.dist = dist"
   ]
  },
  {
   "cell_type": "code",
   "execution_count": 4,
   "id": "33a0c613",
   "metadata": {},
   "outputs": [],
   "source": [
    "ob = ecar('tesla', 2019,'electric',True,True,500)"
   ]
  },
  {
   "cell_type": "code",
   "execution_count": 9,
   "id": "9398a04d",
   "metadata": {},
   "outputs": [
    {
     "data": {
      "text/plain": [
       "{'make': 'tesla',\n",
       " 'model': 2019,\n",
       " 'fuel': 'electric',\n",
       " 'ac': True,\n",
       " 'sunroof': True,\n",
       " 'dist': 500}"
      ]
     },
     "execution_count": 9,
     "metadata": {},
     "output_type": "execute_result"
    }
   ],
   "source": [
    "ob.__dict__"
   ]
  },
  {
   "cell_type": "markdown",
   "id": "fdb9986f",
   "metadata": {},
   "source": [
    "# Operator Overloading"
   ]
  },
  {
   "cell_type": "code",
   "execution_count": 22,
   "id": "c4c72fdf",
   "metadata": {},
   "outputs": [],
   "source": [
    "class Magi:\n",
    "    def __init__(self, masala, time):\n",
    "        self.masala = masala\n",
    "        self.time = time\n",
    "    \n",
    "    def __str__(self):\n",
    "        return \"The {} nudel is good and it's take {} time to make\".format(self.masala, self.time)\n",
    "    \n",
    "    def __add__(Self, other):\n",
    "        return Self.time + other.time"
   ]
  },
  {
   "cell_type": "code",
   "execution_count": 23,
   "id": "97a977e4",
   "metadata": {},
   "outputs": [],
   "source": [
    "ma = Magi(\"magi\", 2)\n",
    "ma2 = Magi('roman', 10)"
   ]
  },
  {
   "cell_type": "code",
   "execution_count": 24,
   "id": "9d8d0fcc",
   "metadata": {},
   "outputs": [
    {
     "name": "stdout",
     "output_type": "stream",
     "text": [
      "The roman nudel is good and it's take 10 time to make\n"
     ]
    }
   ],
   "source": [
    "print(ma2)"
   ]
  },
  {
   "cell_type": "code",
   "execution_count": 25,
   "id": "9ebebc6e",
   "metadata": {},
   "outputs": [
    {
     "data": {
      "text/plain": [
       "12"
      ]
     },
     "execution_count": 25,
     "metadata": {},
     "output_type": "execute_result"
    }
   ],
   "source": [
    "ma + ma2"
   ]
  },
  {
   "cell_type": "markdown",
   "id": "a9bc1bc3",
   "metadata": {},
   "source": [
    "# Abstract Classes - Code"
   ]
  },
  {
   "cell_type": "code",
   "execution_count": 9,
   "id": "e7638708",
   "metadata": {},
   "outputs": [],
   "source": [
    "from abc import ABC, abstractmethod"
   ]
  },
  {
   "cell_type": "code",
   "execution_count": 12,
   "id": "4508491e",
   "metadata": {},
   "outputs": [],
   "source": [
    "class Vehicle(ABC):\n",
    "    @abstractmethod\n",
    "    def get_value(self):\n",
    "        pass\n",
    "    \n",
    "class Car(Vehicle):\n",
    "    def __init__(self, model, make, fare):\n",
    "        self.model = model\n",
    "        self.make = make\n",
    "        self.fare = fare\n",
    "        \n",
    "    def get_value(self):\n",
    "        return 1000 * self.fare"
   ]
  },
  {
   "cell_type": "code",
   "execution_count": 13,
   "id": "58a1907e",
   "metadata": {},
   "outputs": [],
   "source": [
    "myobj = Car(2019, \"tesla\", 40)"
   ]
  },
  {
   "cell_type": "code",
   "execution_count": 14,
   "id": "a691fafa",
   "metadata": {},
   "outputs": [
    {
     "data": {
      "text/plain": [
       "40000"
      ]
     },
     "execution_count": 14,
     "metadata": {},
     "output_type": "execute_result"
    }
   ],
   "source": [
    "myobj.get_value()"
   ]
  },
  {
   "cell_type": "code",
   "execution_count": 15,
   "id": "c3e1ef33",
   "metadata": {},
   "outputs": [
    {
     "ename": "TypeError",
     "evalue": "Can't instantiate abstract class Vehicle with abstract methods get_value",
     "output_type": "error",
     "traceback": [
      "\u001b[1;31m---------------------------------------------------------------------------\u001b[0m",
      "\u001b[1;31mTypeError\u001b[0m                                 Traceback (most recent call last)",
      "\u001b[1;32m~\\AppData\\Local\\Temp/ipykernel_6408/2070772396.py\u001b[0m in \u001b[0;36m<module>\u001b[1;34m\u001b[0m\n\u001b[1;32m----> 1\u001b[1;33m \u001b[0mmyobjec\u001b[0m \u001b[1;33m=\u001b[0m \u001b[0mVehicle\u001b[0m\u001b[1;33m(\u001b[0m\u001b[1;33m)\u001b[0m\u001b[1;33m\u001b[0m\u001b[1;33m\u001b[0m\u001b[0m\n\u001b[0m",
      "\u001b[1;31mTypeError\u001b[0m: Can't instantiate abstract class Vehicle with abstract methods get_value"
     ]
    }
   ],
   "source": [
    "myobjec = Vehicle()"
   ]
  },
  {
   "cell_type": "markdown",
   "id": "88b106c8",
   "metadata": {},
   "source": [
    "# Abstract Classes - Continue"
   ]
  },
  {
   "cell_type": "code",
   "execution_count": 19,
   "id": "95cd4393",
   "metadata": {},
   "outputs": [],
   "source": [
    "from abc import ABC, abstractmethod"
   ]
  },
  {
   "cell_type": "code",
   "execution_count": 20,
   "id": "3ad2635b",
   "metadata": {},
   "outputs": [],
   "source": [
    "class TextReaderAbs(ABC):\n",
    "    def __init__(self, path, name):\n",
    "        self.path = path\n",
    "        self.name = name\n",
    "    \n",
    "    @abstractmethod  #this is just an instance or rule\n",
    "    def get_path(self):\n",
    "        pass\n",
    "    \n",
    "    @abstractmethod\n",
    "    def get_name(self):\n",
    "        pass"
   ]
  },
  {
   "cell_type": "code",
   "execution_count": 21,
   "id": "0dda45ea",
   "metadata": {},
   "outputs": [],
   "source": [
    "class textReader(TextReaderAbs):\n",
    "    \n",
    "    def get_path(self):\n",
    "        return self.path\n",
    "    \n",
    "    def get_name(self):\n",
    "        return self.name"
   ]
  },
  {
   "cell_type": "code",
   "execution_count": 22,
   "id": "f1c0689d",
   "metadata": {},
   "outputs": [
    {
     "ename": "TypeError",
     "evalue": "__init__() missing 2 required positional arguments: 'path' and 'name'",
     "output_type": "error",
     "traceback": [
      "\u001b[1;31m---------------------------------------------------------------------------\u001b[0m",
      "\u001b[1;31mTypeError\u001b[0m                                 Traceback (most recent call last)",
      "\u001b[1;32m~\\AppData\\Local\\Temp/ipykernel_6408/1188082629.py\u001b[0m in \u001b[0;36m<module>\u001b[1;34m\u001b[0m\n\u001b[1;32m----> 1\u001b[1;33m \u001b[0mmu\u001b[0m \u001b[1;33m=\u001b[0m \u001b[0mtextReader\u001b[0m\u001b[1;33m(\u001b[0m\u001b[1;33m)\u001b[0m\u001b[1;33m\u001b[0m\u001b[1;33m\u001b[0m\u001b[0m\n\u001b[0m",
      "\u001b[1;31mTypeError\u001b[0m: __init__() missing 2 required positional arguments: 'path' and 'name'"
     ]
    }
   ],
   "source": [
    "mu = textReader()"
   ]
  },
  {
   "cell_type": "code",
   "execution_count": 23,
   "id": "340c601b",
   "metadata": {},
   "outputs": [],
   "source": [
    "mu = textReader('user/download', 'game.py')"
   ]
  },
  {
   "cell_type": "code",
   "execution_count": 24,
   "id": "6d80b209",
   "metadata": {},
   "outputs": [
    {
     "data": {
      "text/plain": [
       "'user/download'"
      ]
     },
     "execution_count": 24,
     "metadata": {},
     "output_type": "execute_result"
    }
   ],
   "source": [
    "mu.get_path()"
   ]
  },
  {
   "cell_type": "markdown",
   "id": "a9f10483",
   "metadata": {},
   "source": [
    "# example"
   ]
  },
  {
   "cell_type": "code",
   "execution_count": 25,
   "id": "5df21325",
   "metadata": {},
   "outputs": [],
   "source": [
    "class Bank(ABC):\n",
    "    @abstractmethod\n",
    "    def get_ins(self):\n",
    "        pass"
   ]
  },
  {
   "cell_type": "code",
   "execution_count": 26,
   "id": "a779bfbf",
   "metadata": {},
   "outputs": [],
   "source": [
    "class HDFC(Bank):\n",
    "    def get_ins(self):\n",
    "        return 8.9"
   ]
  },
  {
   "cell_type": "code",
   "execution_count": 27,
   "id": "b86dc84c",
   "metadata": {},
   "outputs": [],
   "source": [
    "bc = HDFC()"
   ]
  },
  {
   "cell_type": "code",
   "execution_count": 28,
   "id": "a4a2a70b",
   "metadata": {},
   "outputs": [
    {
     "data": {
      "text/plain": [
       "8.9"
      ]
     },
     "execution_count": 28,
     "metadata": {},
     "output_type": "execute_result"
    }
   ],
   "source": [
    "bc.get_ins()"
   ]
  },
  {
   "cell_type": "code",
   "execution_count": null,
   "id": "529db10a",
   "metadata": {},
   "outputs": [],
   "source": []
  }
 ],
 "metadata": {
  "kernelspec": {
   "display_name": "Python 3 (ipykernel)",
   "language": "python",
   "name": "python3"
  },
  "language_info": {
   "codemirror_mode": {
    "name": "ipython",
    "version": 3
   },
   "file_extension": ".py",
   "mimetype": "text/x-python",
   "name": "python",
   "nbconvert_exporter": "python",
   "pygments_lexer": "ipython3",
   "version": "3.8.1"
  }
 },
 "nbformat": 4,
 "nbformat_minor": 5
}
