{
 "cells": [
  {
   "cell_type": "markdown",
   "id": "e0c97862",
   "metadata": {},
   "source": [
    "# Recursion Function"
   ]
  },
  {
   "cell_type": "markdown",
   "id": "2bce9792",
   "metadata": {},
   "source": [
    "# Factorial num"
   ]
  },
  {
   "cell_type": "code",
   "execution_count": 2,
   "id": "4b8df0a3",
   "metadata": {},
   "outputs": [],
   "source": [
    "def fact(n):\n",
    "    if n ==0:\n",
    "        return 1\n",
    "    return n * fact(n -1)"
   ]
  },
  {
   "cell_type": "code",
   "execution_count": 9,
   "id": "83d4bbb1",
   "metadata": {},
   "outputs": [],
   "source": [
    "def fact1(n):\n",
    "    if n == 0:\n",
    "        return 1\n",
    "    store = fact1(n -1)\n",
    "    return n * store"
   ]
  },
  {
   "cell_type": "code",
   "execution_count": 6,
   "id": "b7c274c2",
   "metadata": {},
   "outputs": [
    {
     "name": "stdout",
     "output_type": "stream",
     "text": [
      "5\n"
     ]
    },
    {
     "data": {
      "text/plain": [
       "120"
      ]
     },
     "execution_count": 6,
     "metadata": {},
     "output_type": "execute_result"
    }
   ],
   "source": [
    "n = int(input())\n",
    "fact(n)"
   ]
  },
  {
   "cell_type": "code",
   "execution_count": 10,
   "id": "373b5e03",
   "metadata": {},
   "outputs": [
    {
     "name": "stdout",
     "output_type": "stream",
     "text": [
      "5\n"
     ]
    },
    {
     "data": {
      "text/plain": [
       "120"
      ]
     },
     "execution_count": 10,
     "metadata": {},
     "output_type": "execute_result"
    }
   ],
   "source": [
    "n = int(input())\n",
    "fact1(n)"
   ]
  },
  {
   "cell_type": "markdown",
   "id": "9ef58aac",
   "metadata": {},
   "source": [
    "# iterative way"
   ]
  },
  {
   "cell_type": "code",
   "execution_count": 23,
   "id": "044143b8",
   "metadata": {},
   "outputs": [
    {
     "name": "stdout",
     "output_type": "stream",
     "text": [
      "5\n",
      "120\n"
     ]
    }
   ],
   "source": [
    "n = int(input())\n",
    "fac = 1\n",
    "for i in range(1,n+1):\n",
    "    fac = fac * i\n",
    "print(fac)\n"
   ]
  },
  {
   "cell_type": "markdown",
   "id": "5b5187c1",
   "metadata": {},
   "source": [
    "# sum of n netural numbers"
   ]
  },
  {
   "cell_type": "code",
   "execution_count": 28,
   "id": "6314d827",
   "metadata": {},
   "outputs": [],
   "source": [
    "def sum_n(n):\n",
    "    if n ==0:\n",
    "        return 0\n",
    "    store = sum_n(n -1)\n",
    "    out = store + n\n",
    "    return out"
   ]
  },
  {
   "cell_type": "code",
   "execution_count": 29,
   "id": "5faef4e2",
   "metadata": {},
   "outputs": [
    {
     "name": "stdout",
     "output_type": "stream",
     "text": [
      "5\n"
     ]
    },
    {
     "data": {
      "text/plain": [
       "15"
      ]
     },
     "execution_count": 29,
     "metadata": {},
     "output_type": "execute_result"
    }
   ],
   "source": [
    "n = int(input())\n",
    "sum_n(n)"
   ]
  },
  {
   "cell_type": "markdown",
   "id": "38ae2209",
   "metadata": {},
   "source": [
    "# power of n num for m time"
   ]
  },
  {
   "cell_type": "code",
   "execution_count": 30,
   "id": "1a79ffa6",
   "metadata": {},
   "outputs": [],
   "source": [
    "def pow(n,m):\n",
    "    if m == 0:\n",
    "        return 1\n",
    "    store = pow(n,m-1)\n",
    "    return n * store"
   ]
  },
  {
   "cell_type": "code",
   "execution_count": 32,
   "id": "11955f47",
   "metadata": {},
   "outputs": [
    {
     "name": "stdout",
     "output_type": "stream",
     "text": [
      "3 3\n",
      "27\n"
     ]
    }
   ],
   "source": [
    "a, b = input().split()\n",
    "a = int(a)\n",
    "b = int(b)\n",
    "print(pow(a,b))"
   ]
  },
  {
   "cell_type": "markdown",
   "id": "389252f4",
   "metadata": {},
   "source": [
    "# print n time netural numbers"
   ]
  },
  {
   "cell_type": "code",
   "execution_count": 33,
   "id": "c2fad442",
   "metadata": {},
   "outputs": [],
   "source": [
    "# 1 to n\n",
    "def nat(n):\n",
    "    if n == 0:\n",
    "        return\n",
    "    nat(n-1)\n",
    "    print(n)\n",
    "    return"
   ]
  },
  {
   "cell_type": "code",
   "execution_count": 45,
   "id": "04613357",
   "metadata": {},
   "outputs": [
    {
     "name": "stdout",
     "output_type": "stream",
     "text": [
      "5\n",
      "1\n",
      "2\n",
      "3\n",
      "4\n",
      "5\n"
     ]
    }
   ],
   "source": [
    "n = int(input())\n",
    "nat(n)"
   ]
  },
  {
   "cell_type": "code",
   "execution_count": 42,
   "id": "28f8d457",
   "metadata": {},
   "outputs": [],
   "source": [
    "# n to 1 reverse\n",
    "def nat1(n):\n",
    "    if n == 0:\n",
    "        return\n",
    "    print(n)\n",
    "    nat1(n-1)"
   ]
  },
  {
   "cell_type": "code",
   "execution_count": 46,
   "id": "f90dad69",
   "metadata": {},
   "outputs": [
    {
     "name": "stdout",
     "output_type": "stream",
     "text": [
      "10\n",
      "10\n",
      "9\n",
      "8\n",
      "7\n",
      "6\n",
      "5\n",
      "4\n",
      "3\n",
      "2\n",
      "1\n"
     ]
    }
   ],
   "source": [
    "n = int(input())\n",
    "nat1(n)"
   ]
  },
  {
   "cell_type": "markdown",
   "id": "23ca3a19",
   "metadata": {},
   "source": [
    "# fibo using recursion"
   ]
  },
  {
   "cell_type": "code",
   "execution_count": 17,
   "id": "57ab1d67",
   "metadata": {},
   "outputs": [],
   "source": [
    "def fib(n):\n",
    "    if n ==1 or n == 2:\n",
    "        return 1\n",
    "    fib_n_1 = fib(n - 1)\n",
    "    fib_n_2 = fib(n - 2)\n",
    "    out = fib_n_1 + fib_n_2\n",
    "#     print(out)\n",
    "    return out"
   ]
  },
  {
   "cell_type": "code",
   "execution_count": 18,
   "id": "133c578a",
   "metadata": {},
   "outputs": [
    {
     "name": "stdout",
     "output_type": "stream",
     "text": [
      "5\n"
     ]
    },
    {
     "data": {
      "text/plain": [
       "5"
      ]
     },
     "execution_count": 18,
     "metadata": {},
     "output_type": "execute_result"
    }
   ],
   "source": [
    "n = int(input())\n",
    "fib(n)"
   ]
  },
  {
   "cell_type": "markdown",
   "id": "13c3f6a0",
   "metadata": {},
   "source": [
    "# fibo siries using recursiom"
   ]
  },
  {
   "cell_type": "code",
   "execution_count": 24,
   "id": "f155a270",
   "metadata": {},
   "outputs": [],
   "source": [
    "def fibo(n):\n",
    "    if n <=1:\n",
    "        return n\n",
    "    else:\n",
    "        fibo_n_1 = fibo(n - 1)\n",
    "        fibo_n_2 = fibo(n - 2)\n",
    "        out=(fibo_n_1 + fibo_n_2)\n",
    "        return out\n",
    "    "
   ]
  },
  {
   "cell_type": "code",
   "execution_count": 25,
   "id": "35a3610b",
   "metadata": {},
   "outputs": [
    {
     "name": "stdout",
     "output_type": "stream",
     "text": [
      "5\n",
      "0\n",
      "1\n",
      "1\n",
      "2\n",
      "3\n"
     ]
    }
   ],
   "source": [
    "n=int(input())\n",
    "if n <=0:\n",
    "    print(\"enter positive int\")\n",
    "else:\n",
    "    for i in range(n):\n",
    "        print(fibo(i))"
   ]
  },
  {
   "cell_type": "markdown",
   "id": "39babf43",
   "metadata": {},
   "source": [
    "# chack array is sorted or not using copy of array"
   ]
  },
  {
   "cell_type": "code",
   "execution_count": 31,
   "id": "b34bf691",
   "metadata": {},
   "outputs": [],
   "source": [
    "def sor(arr):\n",
    "    if len(arr) == 0 or len(arr)==1:\n",
    "        return True\n",
    "    if arr[0] > arr[1]:\n",
    "        return False\n",
    "    sortList = arr[1:]\n",
    "    issortedlist = sor(sortList)\n",
    "    return issortedlist\n",
    "    "
   ]
  },
  {
   "cell_type": "code",
   "execution_count": 32,
   "id": "1a7cf824",
   "metadata": {},
   "outputs": [
    {
     "data": {
      "text/plain": [
       "False"
      ]
     },
     "execution_count": 32,
     "metadata": {},
     "output_type": "execute_result"
    }
   ],
   "source": [
    "arr = [1,2,3,40,5,6,7]\n",
    "sor(arr)"
   ]
  },
  {
   "cell_type": "markdown",
   "id": "762ef820",
   "metadata": {},
   "source": [
    "# Chack num in list"
   ]
  },
  {
   "cell_type": "code",
   "execution_count": 33,
   "id": "ca7962cc",
   "metadata": {},
   "outputs": [],
   "source": [
    "def numb(arr,x):\n",
    "    if len(arr)==0:\n",
    "        return False\n",
    "    if arr[0]==x:\n",
    "        return True\n",
    "    return numb(arr[1:],x)"
   ]
  },
  {
   "cell_type": "code",
   "execution_count": 35,
   "id": "d38cf0a2",
   "metadata": {},
   "outputs": [
    {
     "data": {
      "text/plain": [
       "False"
      ]
     },
     "execution_count": 35,
     "metadata": {},
     "output_type": "execute_result"
    }
   ],
   "source": [
    "n = [12,23,34,56,78]\n",
    "x=24\n",
    "numb(n,x)"
   ]
  },
  {
   "cell_type": "markdown",
   "id": "a2fb7b2a",
   "metadata": {},
   "source": [
    "# sum of array"
   ]
  },
  {
   "cell_type": "code",
   "execution_count": 36,
   "id": "ef20627b",
   "metadata": {},
   "outputs": [],
   "source": [
    "def sumArray(arr):\n",
    "    # Please add your code here\n",
    "    if len(arr) == 1:\n",
    "        return arr[0]\n",
    "    return arr[0]+ sumArray(arr[1:])"
   ]
  },
  {
   "cell_type": "code",
   "execution_count": 37,
   "id": "d131958e",
   "metadata": {},
   "outputs": [
    {
     "data": {
      "text/plain": [
       "20"
      ]
     },
     "execution_count": 37,
     "metadata": {},
     "output_type": "execute_result"
    }
   ],
   "source": [
    "n = [2,3,4,5,6]\n",
    "sumArray(n)"
   ]
  },
  {
   "cell_type": "markdown",
   "id": "2a5d6f57",
   "metadata": {},
   "source": [
    "# Chack is list is sorted or not Using same array index"
   ]
  },
  {
   "cell_type": "code",
   "execution_count": 1,
   "id": "75c8e5a8",
   "metadata": {},
   "outputs": [],
   "source": [
    "def chackSoort(n,si):\n",
    "    s = len(n)\n",
    "    if si == s -1 or si == s:\n",
    "        return True\n",
    "    if n[si] > n[si+1]:\n",
    "        return False\n",
    "    sortorNot = chackSoort(n,si +1)\n",
    "    return sortorNot"
   ]
  },
  {
   "cell_type": "code",
   "execution_count": 9,
   "id": "dd6140fb",
   "metadata": {},
   "outputs": [
    {
     "data": {
      "text/plain": [
       "True"
      ]
     },
     "execution_count": 9,
     "metadata": {},
     "output_type": "execute_result"
    }
   ],
   "source": [
    "n = [1,2,3,4,5,6,7]\n",
    "chackSoort(n,0)"
   ]
  },
  {
   "cell_type": "markdown",
   "id": "d4a8897e",
   "metadata": {},
   "source": [
    "# First Index on Number ( array copy way )"
   ]
  },
  {
   "cell_type": "code",
   "execution_count": 10,
   "id": "dc4840c1",
   "metadata": {},
   "outputs": [],
   "source": [
    "def arrayind(arr, x):\n",
    "    l = len(arr)\n",
    "    if l == 0:\n",
    "        return -1\n",
    "    if x == arr[0]:\n",
    "        return 0\n",
    "    \n",
    "    arrcopy = arr[1:]\n",
    "    small = arrayind(arrcopy,x)\n",
    "    if small == -1:\n",
    "        return -1\n",
    "    else:\n",
    "        return small +1"
   ]
  },
  {
   "cell_type": "code",
   "execution_count": 11,
   "id": "5a80bd0e",
   "metadata": {},
   "outputs": [
    {
     "data": {
      "text/plain": [
       "4"
      ]
     },
     "execution_count": 11,
     "metadata": {},
     "output_type": "execute_result"
    }
   ],
   "source": [
    "a = [1,2,3,4,5,6,7]\n",
    "x=5\n",
    "arrayind(a,x)"
   ]
  },
  {
   "cell_type": "markdown",
   "id": "a1c5e2ab",
   "metadata": {},
   "source": [
    "# First index on Number (same array index)"
   ]
  },
  {
   "cell_type": "code",
   "execution_count": 12,
   "id": "d66b5ccf",
   "metadata": {},
   "outputs": [],
   "source": [
    "def samArr(arr, x, si):\n",
    "    l = len(arr)\n",
    "    if l == 1 or x not in arr:\n",
    "        return -1\n",
    "    if arr[si] == x:\n",
    "        return si\n",
    "    small = samArr(arr, x,si +1)\n",
    "    return small"
   ]
  },
  {
   "cell_type": "code",
   "execution_count": 15,
   "id": "7f3dbeb3",
   "metadata": {},
   "outputs": [
    {
     "data": {
      "text/plain": [
       "4"
      ]
     },
     "execution_count": 15,
     "metadata": {},
     "output_type": "execute_result"
    }
   ],
   "source": [
    "a = [1,2,3,4,5,6,7]\n",
    "x=5\n",
    "samArr(a,x,0)"
   ]
  },
  {
   "cell_type": "code",
   "execution_count": null,
   "id": "e79b3a6f",
   "metadata": {},
   "outputs": [],
   "source": []
  }
 ],
 "metadata": {
  "kernelspec": {
   "display_name": "Python 3 (ipykernel)",
   "language": "python",
   "name": "python3"
  },
  "language_info": {
   "codemirror_mode": {
    "name": "ipython",
    "version": 3
   },
   "file_extension": ".py",
   "mimetype": "text/x-python",
   "name": "python",
   "nbconvert_exporter": "python",
   "pygments_lexer": "ipython3",
   "version": "3.8.1"
  }
 },
 "nbformat": 4,
 "nbformat_minor": 5
}
