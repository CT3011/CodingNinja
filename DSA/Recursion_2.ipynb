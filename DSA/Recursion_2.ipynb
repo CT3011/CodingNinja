{
 "cells": [
  {
   "cell_type": "markdown",
   "id": "057b3aab",
   "metadata": {},
   "source": [
    "# replace a carector with b in string"
   ]
  },
  {
   "cell_type": "code",
   "execution_count": 3,
   "id": "fdabd4fa",
   "metadata": {},
   "outputs": [],
   "source": [
    "def replace(a,b,c):\n",
    "    if len(a) == 0:\n",
    "        return a\n",
    "    \n",
    "    small = replace(a[1:], b,c)\n",
    "    if a[0] == b:\n",
    "        return c + small\n",
    "    else:\n",
    "        return a[0] + small"
   ]
  },
  {
   "cell_type": "code",
   "execution_count": 6,
   "id": "2cb9d064",
   "metadata": {},
   "outputs": [
    {
     "data": {
      "text/plain": [
       "'abxxdxsxdaxdfsx'"
      ]
     },
     "execution_count": 6,
     "metadata": {},
     "output_type": "execute_result"
    }
   ],
   "source": [
    "a = \"abccdcscdacdfsc\"\n",
    "replace(a,'c','x')"
   ]
  },
  {
   "cell_type": "markdown",
   "id": "3a631403",
   "metadata": {},
   "source": [
    "# remove x from The string"
   ]
  },
  {
   "cell_type": "code",
   "execution_count": 8,
   "id": "1ddea8f2",
   "metadata": {},
   "outputs": [],
   "source": [
    "def removes(a,x):\n",
    "    if len(a) == 0:\n",
    "        return a\n",
    "    \n",
    "    small = removes(a[1:],x)\n",
    "    if a[0] == x:\n",
    "        return small\n",
    "    else:\n",
    "        return a[0] + small"
   ]
  },
  {
   "cell_type": "code",
   "execution_count": 16,
   "id": "0655b1d8",
   "metadata": {},
   "outputs": [
    {
     "data": {
      "text/plain": [
       "'asdadsdasas'"
      ]
     },
     "execution_count": 16,
     "metadata": {},
     "output_type": "execute_result"
    }
   ],
   "source": [
    "a = \"asdxxxaxxdsdxxxasxxasx\"\n",
    "x= 'x'\n",
    "removes(a,x)"
   ]
  },
  {
   "cell_type": "markdown",
   "id": "dea4de68",
   "metadata": {},
   "source": [
    "# Replace pi to 3.14 "
   ]
  },
  {
   "cell_type": "code",
   "execution_count": 8,
   "id": "6122dade",
   "metadata": {},
   "outputs": [],
   "source": [
    "def replacepi(s):\n",
    "    if len(s) == 0 or len(s) == 1:\n",
    "        return s\n",
    "    \n",
    "    if s[0] == 'p' and s[1] == 'i':\n",
    "        small = replacepi(s[2:])\n",
    "        return ' 3.14 ' + small\n",
    "    else:\n",
    "        small = replacepi(s[1:])\n",
    "        return s[0] + small"
   ]
  },
  {
   "cell_type": "code",
   "execution_count": 9,
   "id": "5f5c9fc4",
   "metadata": {},
   "outputs": [
    {
     "data": {
      "text/plain": [
       "' 3.14 asd 3.14 asd 3.14 ad 3.14 acac'"
      ]
     },
     "execution_count": 9,
     "metadata": {},
     "output_type": "execute_result"
    }
   ],
   "source": [
    "a = 'piasdpiasdpiadpiacac'\n",
    "replacepi(a)"
   ]
  },
  {
   "cell_type": "markdown",
   "id": "34b7ce44",
   "metadata": {},
   "source": [
    "# Remove duplicate in to the string"
   ]
  },
  {
   "cell_type": "code",
   "execution_count": 20,
   "id": "10a60673",
   "metadata": {},
   "outputs": [],
   "source": [
    "def removedup(s):\n",
    "    if len(s) ==0 or len(s)==1:\n",
    "        return s\n",
    "    \n",
    "    small = removedup(s[1:])\n",
    "    if s[0] == s[1]:\n",
    "        return small\n",
    "    else:\n",
    "        return s[0] + small"
   ]
  },
  {
   "cell_type": "code",
   "execution_count": 21,
   "id": "69444e07",
   "metadata": {},
   "outputs": [
    {
     "data": {
      "text/plain": [
       "'abcdefgh'"
      ]
     },
     "execution_count": 21,
     "metadata": {},
     "output_type": "execute_result"
    }
   ],
   "source": [
    "a = 'aabccdeefggh'\n",
    "removedup(a)"
   ]
  },
  {
   "cell_type": "markdown",
   "id": "60d5f1d3",
   "metadata": {},
   "source": [
    "# binery search"
   ]
  },
  {
   "cell_type": "code",
   "execution_count": 14,
   "id": "fd2d7b60",
   "metadata": {},
   "outputs": [],
   "source": [
    "def bis(a,x,si,ei):\n",
    "    if si > ei:\n",
    "        return -1\n",
    "    \n",
    "    mid = (si + ei) //2\n",
    "    \n",
    "    if a[mid] == x:\n",
    "        return mid\n",
    "    elif a[mid] > x:\n",
    "        return bis(a,x,si,mid -1)\n",
    "    else:\n",
    "        return bis(a,x,mid + 1, ei)"
   ]
  },
  {
   "cell_type": "code",
   "execution_count": 15,
   "id": "f9349d51",
   "metadata": {},
   "outputs": [
    {
     "data": {
      "text/plain": [
       "3"
      ]
     },
     "execution_count": 15,
     "metadata": {},
     "output_type": "execute_result"
    }
   ],
   "source": [
    "a = [1,2,3,4,5,6,7,8,9,10]\n",
    "x = 4\n",
    "bis(a,x,0,9)"
   ]
  },
  {
   "cell_type": "markdown",
   "id": "a16ade27",
   "metadata": {},
   "source": [
    "# Mearg sort on list"
   ]
  },
  {
   "cell_type": "code",
   "execution_count": 35,
   "id": "e1509bd2",
   "metadata": {},
   "outputs": [],
   "source": [
    "def ms(a1,a2,a):\n",
    "    i = 0\n",
    "    j = 0\n",
    "    k = 0\n",
    "    while i < len(a1) and j < len(a2):\n",
    "        if a1[i] < a2[j]:\n",
    "            a[k] = a1[i]\n",
    "            k = k + 1\n",
    "            i = i + 1\n",
    "        else:\n",
    "            a[k] = a2[j]\n",
    "            k = k + 1\n",
    "            j = j + 1\n",
    "    while i < len(a1):\n",
    "        a[k] = a1[i]\n",
    "        k = k + 1\n",
    "        i = i + 1\n",
    "    while j < len(a2):\n",
    "        a[k] = a2[j]\n",
    "        k = k + 1\n",
    "        j = j + 1"
   ]
  },
  {
   "cell_type": "code",
   "execution_count": 36,
   "id": "b54dca7d",
   "metadata": {},
   "outputs": [],
   "source": [
    "def sort(a):\n",
    "    if len(a) == 0 or len(a) == 1:\n",
    "        return \n",
    "    \n",
    "    mid = len(a) // 2\n",
    "    \n",
    "    a1 = a[0 : mid]\n",
    "    a2 = a[mid:]\n",
    "    \n",
    "    sort(a1)\n",
    "    sort(a2)\n",
    "    \n",
    "    ms(a1,a2,a)"
   ]
  },
  {
   "cell_type": "code",
   "execution_count": 37,
   "id": "a99d1e2b",
   "metadata": {},
   "outputs": [
    {
     "data": {
      "text/plain": [
       "[0, 1, 2, 2, 2, 4, 4, 5, 7, 7, 8]"
      ]
     },
     "execution_count": 37,
     "metadata": {},
     "output_type": "execute_result"
    }
   ],
   "source": [
    "a = [2,5,1,4,2,8,2,0,7,4,7]\n",
    "sort(a)\n",
    "a"
   ]
  },
  {
   "cell_type": "code",
   "execution_count": null,
   "id": "6e858b7b",
   "metadata": {},
   "outputs": [],
   "source": []
  }
 ],
 "metadata": {
  "kernelspec": {
   "display_name": "Python 3 (ipykernel)",
   "language": "python",
   "name": "python3"
  },
  "language_info": {
   "codemirror_mode": {
    "name": "ipython",
    "version": 3
   },
   "file_extension": ".py",
   "mimetype": "text/x-python",
   "name": "python",
   "nbconvert_exporter": "python",
   "pygments_lexer": "ipython3",
   "version": "3.8.1"
  }
 },
 "nbformat": 4,
 "nbformat_minor": 5
}
