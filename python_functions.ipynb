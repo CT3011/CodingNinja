{
 "cells": [
  {
   "cell_type": "markdown",
   "id": "e056b358",
   "metadata": {},
   "source": [
    "### FuncTions"
   ]
  },
  {
   "cell_type": "code",
   "execution_count": 8,
   "id": "53f56e89-3c21-4ea5-a532-5f5435d97ec0",
   "metadata": {},
   "outputs": [
    {
     "name": "stdout",
     "output_type": "stream",
     "text": [
      "7\n"
     ]
    },
    {
     "data": {
      "text/plain": [
       "True"
      ]
     },
     "execution_count": 8,
     "metadata": {},
     "output_type": "execute_result"
    }
   ],
   "source": [
    "def isPrime(n):\n",
    "    for i in range(2,n):\n",
    "        if n % i == 0:\n",
    "            break\n",
    "        else:\n",
    "            return True\n",
    "    return False"
   ]
  },
  {
   "cell_type": "code",
   "execution_count": 12,
   "id": "ab215386",
   "metadata": {},
   "outputs": [
    {
     "name": "stdout",
     "output_type": "stream",
     "text": [
      "20\n",
      "3\n",
      "5\n",
      "7\n",
      "9\n",
      "11\n",
      "13\n",
      "15\n",
      "17\n",
      "19\n"
     ]
    }
   ],
   "source": [
    "def printFrom_2_To_n(n):\n",
    "    for i in range(2,n+1):\n",
    "        is_i_prime = isPrime(i)\n",
    "        if is_i_prime:\n",
    "            print(i)\n",
    "n = int(input())\n",
    "printFrom_2_To_n(n)"
   ]
  },
  {
   "cell_type": "code",
   "execution_count": null,
   "id": "d724f0e9",
   "metadata": {},
   "outputs": [],
   "source": []
  }
 ],
 "metadata": {
  "kernelspec": {
   "display_name": "Python 3 (ipykernel)",
   "language": "python",
   "name": "python3"
  },
  "language_info": {
   "codemirror_mode": {
    "name": "ipython",
    "version": 3
   },
   "file_extension": ".py",
   "mimetype": "text/x-python",
   "name": "python",
   "nbconvert_exporter": "python",
   "pygments_lexer": "ipython3",
   "version": "3.8.1"
  }
 },
 "nbformat": 4,
 "nbformat_minor": 5
}
